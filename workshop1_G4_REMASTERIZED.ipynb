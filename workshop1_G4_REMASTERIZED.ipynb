{
 "cells": [
  {
   "cell_type": "markdown",
   "id": "79b228f9",
   "metadata": {},
   "source": [
    "workshop 1: grupo 4\n",
    "\n",
    "-----------\n"
   ]
  },
  {
   "cell_type": "code",
   "execution_count": 1,
   "id": "4bd93fe8",
   "metadata": {},
   "outputs": [],
   "source": [
    "import numpy as np\n",
    "import pandas as pd\n",
    "import re\n",
    "import matplotlib.pyplot as plt\n",
    "import seaborn as sns"
   ]
  },
  {
   "cell_type": "code",
   "execution_count": null,
   "id": "a19238d9",
   "metadata": {},
   "outputs": [],
   "source": []
  },
  {
   "cell_type": "code",
   "execution_count": 2,
   "id": "4b916c72",
   "metadata": {},
   "outputs": [
    {
     "data": {
      "text/html": [
       "<div>\n",
       "<style scoped>\n",
       "    .dataframe tbody tr th:only-of-type {\n",
       "        vertical-align: middle;\n",
       "    }\n",
       "\n",
       "    .dataframe tbody tr th {\n",
       "        vertical-align: top;\n",
       "    }\n",
       "\n",
       "    .dataframe thead th {\n",
       "        text-align: right;\n",
       "    }\n",
       "</style>\n",
       "<table border=\"1\" class=\"dataframe\">\n",
       "  <thead>\n",
       "    <tr style=\"text-align: right;\">\n",
       "      <th></th>\n",
       "      <th>Unnamed: 0</th>\n",
       "      <th>operation</th>\n",
       "      <th>property_type</th>\n",
       "      <th>place_name</th>\n",
       "      <th>place_with_parent_names</th>\n",
       "      <th>country_name</th>\n",
       "      <th>state_name</th>\n",
       "      <th>geonames_id</th>\n",
       "      <th>lat-lon</th>\n",
       "      <th>lat</th>\n",
       "      <th>...</th>\n",
       "      <th>surface_covered_in_m2</th>\n",
       "      <th>price_usd_per_m2</th>\n",
       "      <th>price_per_m2</th>\n",
       "      <th>floor</th>\n",
       "      <th>rooms</th>\n",
       "      <th>expenses</th>\n",
       "      <th>properati_url</th>\n",
       "      <th>description</th>\n",
       "      <th>title</th>\n",
       "      <th>image_thumbnail</th>\n",
       "    </tr>\n",
       "  </thead>\n",
       "  <tbody>\n",
       "    <tr>\n",
       "      <th>0</th>\n",
       "      <td>0</td>\n",
       "      <td>sell</td>\n",
       "      <td>PH</td>\n",
       "      <td>Mataderos</td>\n",
       "      <td>|Argentina|Capital Federal|Mataderos|</td>\n",
       "      <td>Argentina</td>\n",
       "      <td>Capital Federal</td>\n",
       "      <td>3430787.0</td>\n",
       "      <td>-34.6618237,-58.5088387</td>\n",
       "      <td>-34.661824</td>\n",
       "      <td>...</td>\n",
       "      <td>40.0</td>\n",
       "      <td>1127.272727</td>\n",
       "      <td>1550.0</td>\n",
       "      <td>NaN</td>\n",
       "      <td>NaN</td>\n",
       "      <td>NaN</td>\n",
       "      <td>http://www.properati.com.ar/15bo8_venta_ph_mat...</td>\n",
       "      <td>2 AMBIENTES TIPO CASA PLANTA BAJA POR PASILLO,...</td>\n",
       "      <td>2 AMB TIPO CASA SIN EXPENSAS EN PB</td>\n",
       "      <td>https://thumbs4.properati.com/8/BluUYiHJLhgIIK...</td>\n",
       "    </tr>\n",
       "    <tr>\n",
       "      <th>1</th>\n",
       "      <td>1</td>\n",
       "      <td>sell</td>\n",
       "      <td>apartment</td>\n",
       "      <td>La Plata</td>\n",
       "      <td>|Argentina|Bs.As. G.B.A. Zona Sur|La Plata|</td>\n",
       "      <td>Argentina</td>\n",
       "      <td>Bs.As. G.B.A. Zona Sur</td>\n",
       "      <td>3432039.0</td>\n",
       "      <td>-34.9038831,-57.9643295</td>\n",
       "      <td>-34.903883</td>\n",
       "      <td>...</td>\n",
       "      <td>NaN</td>\n",
       "      <td>NaN</td>\n",
       "      <td>NaN</td>\n",
       "      <td>NaN</td>\n",
       "      <td>NaN</td>\n",
       "      <td>NaN</td>\n",
       "      <td>http://www.properati.com.ar/15bob_venta_depart...</td>\n",
       "      <td>Venta de departamento en décimo piso al frente...</td>\n",
       "      <td>VENTA Depto 2 dorm. a estrenar 7 e/ 36 y 37   ...</td>\n",
       "      <td>https://thumbs4.properati.com/7/ikpVBu2ztHA7jv...</td>\n",
       "    </tr>\n",
       "  </tbody>\n",
       "</table>\n",
       "<p>2 rows × 26 columns</p>\n",
       "</div>"
      ],
      "text/plain": [
       "   Unnamed: 0 operation property_type place_name  \\\n",
       "0           0      sell            PH  Mataderos   \n",
       "1           1      sell     apartment   La Plata   \n",
       "\n",
       "                       place_with_parent_names country_name  \\\n",
       "0        |Argentina|Capital Federal|Mataderos|    Argentina   \n",
       "1  |Argentina|Bs.As. G.B.A. Zona Sur|La Plata|    Argentina   \n",
       "\n",
       "               state_name  geonames_id                  lat-lon        lat  \\\n",
       "0         Capital Federal    3430787.0  -34.6618237,-58.5088387 -34.661824   \n",
       "1  Bs.As. G.B.A. Zona Sur    3432039.0  -34.9038831,-57.9643295 -34.903883   \n",
       "\n",
       "   ...  surface_covered_in_m2  price_usd_per_m2 price_per_m2  floor  rooms  \\\n",
       "0  ...                   40.0       1127.272727       1550.0    NaN    NaN   \n",
       "1  ...                    NaN               NaN          NaN    NaN    NaN   \n",
       "\n",
       "   expenses                                      properati_url  \\\n",
       "0       NaN  http://www.properati.com.ar/15bo8_venta_ph_mat...   \n",
       "1       NaN  http://www.properati.com.ar/15bob_venta_depart...   \n",
       "\n",
       "                                         description  \\\n",
       "0  2 AMBIENTES TIPO CASA PLANTA BAJA POR PASILLO,...   \n",
       "1  Venta de departamento en décimo piso al frente...   \n",
       "\n",
       "                                               title  \\\n",
       "0                 2 AMB TIPO CASA SIN EXPENSAS EN PB   \n",
       "1  VENTA Depto 2 dorm. a estrenar 7 e/ 36 y 37   ...   \n",
       "\n",
       "                                     image_thumbnail  \n",
       "0  https://thumbs4.properati.com/8/BluUYiHJLhgIIK...  \n",
       "1  https://thumbs4.properati.com/7/ikpVBu2ztHA7jv...  \n",
       "\n",
       "[2 rows x 26 columns]"
      ]
     },
     "execution_count": 2,
     "metadata": {},
     "output_type": "execute_result"
    }
   ],
   "source": [
    "df_raw = pd.read_csv(\"properatti.csv\")\n",
    "data = df_raw.copy()\n",
    "data.head(2)"
   ]
  },
  {
   "cell_type": "code",
   "execution_count": 3,
   "id": "c74f8950",
   "metadata": {},
   "outputs": [],
   "source": [
    "def nulos(data=data):\n",
    "    result = data.isnull().sum().sort_values(ascending=False)\n",
    "    return result\n",
    "\n",
    "\n",
    "def nuloss(data=data):\n",
    "    print(\">> DATOS NULOS:\\n\")\n",
    "    display(data.isnull().sum().sort_values(ascending=False))\n",
    "    return\n",
    "\n",
    "\n",
    "def porcentaje_nulos(data=data):\n",
    "    result = data.isnull().sum().sort_values(ascending=False) / data.shape[0] * 100\n",
    "    return result\n",
    "\n",
    "\n",
    "def porcentaje_nuloss(data=data):\n",
    "    print(\">> PORCENTAJE DE DATOS NULOS:\\n\")\n",
    "    display(\n",
    "        round(data.isnull().sum().sort_values(ascending=False) / data.shape[0] * 100, 2)\n",
    "    )\n",
    "    return"
   ]
  },
  {
   "cell_type": "code",
   "execution_count": 4,
   "id": "2d1a3bec",
   "metadata": {},
   "outputs": [
    {
     "name": "stdout",
     "output_type": "stream",
     "text": [
      "data\n",
      ">> PORCENTAJE DE DATOS NULOS:\n",
      "\n"
     ]
    },
    {
     "data": {
      "text/plain": [
       "floor                         93.48\n",
       "expenses                      88.23\n",
       "rooms                         60.91\n",
       "price_usd_per_m2              43.39\n",
       "lon                           42.53\n",
       "lat-lon                       42.53\n",
       "lat                           42.53\n",
       "surface_total_in_m2           32.44\n",
       "price_per_m2                  27.69\n",
       "currency                      16.84\n",
       "price_aprox_usd               16.84\n",
       "price_aprox_local_currency    16.84\n",
       "price                         16.84\n",
       "surface_covered_in_m2         16.42\n",
       "geonames_id                   15.44\n",
       "image_thumbnail                2.57\n",
       "place_name                     0.02\n",
       "description                    0.00\n",
       "title                          0.00\n",
       "properati_url                  0.00\n",
       "state_name                     0.00\n",
       "country_name                   0.00\n",
       "place_with_parent_names        0.00\n",
       "property_type                  0.00\n",
       "operation                      0.00\n",
       "Unnamed: 0                     0.00\n",
       "dtype: float64"
      ]
     },
     "metadata": {},
     "output_type": "display_data"
    }
   ],
   "source": [
    "print(\"data\")\n",
    "porcentaje_nuloss()"
   ]
  },
  {
   "cell_type": "markdown",
   "id": "9ca46d15",
   "metadata": {},
   "source": [
    "# 1. LIMPIEZA PRELIMINAR DEL DATASET"
   ]
  },
  {
   "cell_type": "code",
   "execution_count": 5,
   "id": "31225fd8",
   "metadata": {},
   "outputs": [
    {
     "name": "stdout",
     "output_type": "stream",
     "text": [
      "Tipos de operacion:\n",
      "sell    121220\n",
      "Name: operation, dtype: int64 \n",
      "\n",
      "Pais de ubicacion del inmueble:\n",
      "Argentina    121220\n",
      "Name: country_name, dtype: int64\n"
     ]
    }
   ],
   "source": [
    "print(\n",
    "    \"Tipos de operacion:\\n{}\".format(data.operation.value_counts()),\n",
    "    \"\\n\\nPais de ubicacion del inmueble:\\n{}\".format(data.country_name.value_counts()),\n",
    ")"
   ]
  },
  {
   "cell_type": "code",
   "execution_count": 6,
   "id": "adf5ce78",
   "metadata": {},
   "outputs": [
    {
     "data": {
      "text/html": [
       "<div>\n",
       "<style scoped>\n",
       "    .dataframe tbody tr th:only-of-type {\n",
       "        vertical-align: middle;\n",
       "    }\n",
       "\n",
       "    .dataframe tbody tr th {\n",
       "        vertical-align: top;\n",
       "    }\n",
       "\n",
       "    .dataframe thead th {\n",
       "        text-align: right;\n",
       "    }\n",
       "</style>\n",
       "<table border=\"1\" class=\"dataframe\">\n",
       "  <thead>\n",
       "    <tr style=\"text-align: right;\">\n",
       "      <th></th>\n",
       "      <th>property_type</th>\n",
       "      <th>place_name</th>\n",
       "      <th>place_with_parent_names</th>\n",
       "      <th>state_name</th>\n",
       "      <th>lat-lon</th>\n",
       "      <th>lat</th>\n",
       "      <th>lon</th>\n",
       "      <th>price</th>\n",
       "      <th>currency</th>\n",
       "      <th>price_aprox_local_currency</th>\n",
       "      <th>...</th>\n",
       "      <th>surface_covered_in_m2</th>\n",
       "      <th>price_usd_per_m2</th>\n",
       "      <th>price_per_m2</th>\n",
       "      <th>floor</th>\n",
       "      <th>rooms</th>\n",
       "      <th>expenses</th>\n",
       "      <th>properati_url</th>\n",
       "      <th>description</th>\n",
       "      <th>title</th>\n",
       "      <th>image_thumbnail</th>\n",
       "    </tr>\n",
       "  </thead>\n",
       "  <tbody>\n",
       "    <tr>\n",
       "      <th>121218</th>\n",
       "      <td>apartment</td>\n",
       "      <td>Plaza Colón</td>\n",
       "      <td>|Argentina|Buenos Aires Costa Atlántica|Mar de...</td>\n",
       "      <td>Buenos Aires Costa Atlántica</td>\n",
       "      <td>NaN</td>\n",
       "      <td>NaN</td>\n",
       "      <td>NaN</td>\n",
       "      <td>95900.0</td>\n",
       "      <td>USD</td>\n",
       "      <td>1692107.55</td>\n",
       "      <td>...</td>\n",
       "      <td>48.0</td>\n",
       "      <td>1997.916667</td>\n",
       "      <td>1997.916667</td>\n",
       "      <td>NaN</td>\n",
       "      <td>NaN</td>\n",
       "      <td>NaN</td>\n",
       "      <td>http://www.properati.com.ar/1cja8_venta_depart...</td>\n",
       "      <td>2 Amb al contrafrente,  luminoso. El departame...</td>\n",
       "      <td>2 amb. C/ dep. de servicio al contrafrente| Re...</td>\n",
       "      <td>https://thumbs4.properati.com/8/Q12PTvU6BQJ0ib...</td>\n",
       "    </tr>\n",
       "    <tr>\n",
       "      <th>121219</th>\n",
       "      <td>apartment</td>\n",
       "      <td>Capital Federal</td>\n",
       "      <td>|Argentina|Capital Federal|</td>\n",
       "      <td>Capital Federal</td>\n",
       "      <td>NaN</td>\n",
       "      <td>NaN</td>\n",
       "      <td>NaN</td>\n",
       "      <td>129000.0</td>\n",
       "      <td>USD</td>\n",
       "      <td>2276140.50</td>\n",
       "      <td>...</td>\n",
       "      <td>77.0</td>\n",
       "      <td>1675.324675</td>\n",
       "      <td>1675.324675</td>\n",
       "      <td>NaN</td>\n",
       "      <td>NaN</td>\n",
       "      <td>3500.0</td>\n",
       "      <td>http://www.properati.com.ar/1cjaa_venta_depart...</td>\n",
       "      <td>Departamento de 77 m2 apto profesional. Edific...</td>\n",
       "      <td>Departamento apto profesional en el Centro</td>\n",
       "      <td>https://thumbs4.properati.com/8/mNEsnQWqB7joBF...</td>\n",
       "    </tr>\n",
       "  </tbody>\n",
       "</table>\n",
       "<p>2 rows × 22 columns</p>\n",
       "</div>"
      ],
      "text/plain": [
       "       property_type       place_name  \\\n",
       "121218     apartment      Plaza Colón   \n",
       "121219     apartment  Capital Federal   \n",
       "\n",
       "                                  place_with_parent_names  \\\n",
       "121218  |Argentina|Buenos Aires Costa Atlántica|Mar de...   \n",
       "121219                        |Argentina|Capital Federal|   \n",
       "\n",
       "                          state_name lat-lon  lat  lon     price currency  \\\n",
       "121218  Buenos Aires Costa Atlántica     NaN  NaN  NaN   95900.0      USD   \n",
       "121219               Capital Federal     NaN  NaN  NaN  129000.0      USD   \n",
       "\n",
       "        price_aprox_local_currency  ...  surface_covered_in_m2  \\\n",
       "121218                  1692107.55  ...                   48.0   \n",
       "121219                  2276140.50  ...                   77.0   \n",
       "\n",
       "        price_usd_per_m2  price_per_m2  floor  rooms  expenses  \\\n",
       "121218       1997.916667   1997.916667    NaN    NaN       NaN   \n",
       "121219       1675.324675   1675.324675    NaN    NaN    3500.0   \n",
       "\n",
       "                                            properati_url  \\\n",
       "121218  http://www.properati.com.ar/1cja8_venta_depart...   \n",
       "121219  http://www.properati.com.ar/1cjaa_venta_depart...   \n",
       "\n",
       "                                              description  \\\n",
       "121218  2 Amb al contrafrente,  luminoso. El departame...   \n",
       "121219  Departamento de 77 m2 apto profesional. Edific...   \n",
       "\n",
       "                                                    title  \\\n",
       "121218  2 amb. C/ dep. de servicio al contrafrente| Re...   \n",
       "121219         Departamento apto profesional en el Centro   \n",
       "\n",
       "                                          image_thumbnail  \n",
       "121218  https://thumbs4.properati.com/8/Q12PTvU6BQJ0ib...  \n",
       "121219  https://thumbs4.properati.com/8/mNEsnQWqB7joBF...  \n",
       "\n",
       "[2 rows x 22 columns]"
      ]
     },
     "execution_count": 6,
     "metadata": {},
     "output_type": "execute_result"
    }
   ],
   "source": [
    "# LIMPIEZA POR COLUMNAS INNECESARIAS\n",
    "\n",
    "# Columnas: Unnamed y geonames_id: no aportan al analisis\n",
    "data.drop([data.columns[0], \"geonames_id\"], axis=1, inplace=True)\n",
    "\n",
    "# Columnas: operation y country_name: son redundantes porque poseen un valor unico\n",
    "data.drop([\"operation\", \"country_name\"], axis=1, inplace=True)\n",
    "\n",
    "data.tail(2)"
   ]
  },
  {
   "cell_type": "code",
   "execution_count": 7,
   "id": "42d53d9a",
   "metadata": {},
   "outputs": [
    {
     "name": "stdout",
     "output_type": "stream",
     "text": [
      "Cantidad de columnas nulas por entradas:\n",
      "0       665\n",
      "1      2056\n",
      "2     22109\n",
      "3     15483\n",
      "4     10233\n",
      "5     12042\n",
      "6     19355\n",
      "7      6381\n",
      "8     12556\n",
      "9      3910\n",
      "10     5511\n",
      "11     2655\n",
      "12     4514\n",
      "13     2524\n",
      "14     1048\n",
      "15      178\n",
      "dtype: int64\n",
      "\n",
      "Cantidad de entradas que tienen 9 o más de 9 variables nulas: 20340\n",
      "Porcentaje de entradas con exceso de variables nulas 16.78%\n",
      "Dimension del nuevo dataframe: 100880\n"
     ]
    }
   ],
   "source": [
    "# LIMPIEZA SEGUN CANTIDAD DE COLUMNAS NULAS POR ENTRADA\n",
    "rows_null_values = data.isna().sum(axis=1)\n",
    "print(\n",
    "    \"Cantidad de columnas nulas por entradas:\\n{}\".format(\n",
    "        rows_null_values.value_counts(sort=False)\n",
    "    )\n",
    ")\n",
    "\n",
    "mask_rows_null_values = rows_null_values < 9\n",
    "print(\n",
    "    \"\\nCantidad de entradas que tienen 9 o más de 9 variables nulas: {}\".format(\n",
    "        data.shape[0] - mask_rows_null_values.sum()\n",
    "    )\n",
    ")\n",
    "print(\n",
    "    \"Porcentaje de entradas con exceso de variables nulas {}%\".format(\n",
    "        round((data.shape[0] - mask_rows_null_values.sum()) / data.shape[0] * 100, 2)\n",
    "    )\n",
    ")\n",
    "print(\"Dimension del nuevo dataframe: {}\".format(data[mask_rows_null_values].shape[0]))"
   ]
  },
  {
   "cell_type": "code",
   "execution_count": 8,
   "id": "ff67f417",
   "metadata": {},
   "outputs": [
    {
     "name": "stdout",
     "output_type": "stream",
     "text": [
      "PORCENTAJE DE DATOS NULOS:\n",
      " property_type                  0.00\n",
      "place_name                     0.02\n",
      "place_with_parent_names        0.00\n",
      "state_name                     0.00\n",
      "lat-lon                       37.85\n",
      "lat                           37.85\n",
      "lon                           37.85\n",
      "price                          4.11\n",
      "currency                       4.11\n",
      "price_aprox_local_currency     4.11\n",
      "price_aprox_usd                4.11\n",
      "surface_total_in_m2           28.03\n",
      "surface_covered_in_m2          9.54\n",
      "price_usd_per_m2              32.20\n",
      "price_per_m2                  13.59\n",
      "floor                         92.71\n",
      "rooms                         57.03\n",
      "expenses                      86.86\n",
      "properati_url                  0.00\n",
      "description                    0.00\n",
      "title                          0.00\n",
      "image_thumbnail                1.16\n",
      "dtype: float64\n"
     ]
    }
   ],
   "source": [
    "data = data[mask_rows_null_values]\n",
    "print(\"PORCENTAJE DE DATOS NULOS:\\n\", round(data.isna().sum() / data.shape[0] * 100, 2))"
   ]
  },
  {
   "cell_type": "markdown",
   "id": "cc6ac91c",
   "metadata": {},
   "source": [
    "-----------------\n",
    "**Analisis de place_name**\n",
    "\n",
    "-------------"
   ]
  },
  {
   "cell_type": "code",
   "execution_count": 9,
   "id": "c372c74c",
   "metadata": {},
   "outputs": [
    {
     "name": "stdout",
     "output_type": "stream",
     "text": [
      "Conteo de valores: data.place_with_parent_name / mascara: data.place_name.isna()\n",
      "|Argentina|Bs.As. G.B.A. Zona Norte|Tigre||    23\n",
      "Observacion:\n",
      "* Podemos observar que las 23 entradas faltantes corresponden a la localidad de \"Tigre\"\n"
     ]
    }
   ],
   "source": [
    "## PRIMER ANALISIS VER DE RESCATAR LOS 23 NANS DE PLACE_NAME\n",
    "print(\n",
    "    \"Conteo de valores: data.place_with_parent_name / mascara: data.place_name.isna()\"\n",
    ")\n",
    "print(data[data.place_name.isna()].place_with_parent_names.value_counts().to_string())\n",
    "print(\n",
    "    'Observacion:\\n* Podemos observar que las 23 entradas faltantes corresponden a la localidad de \"Tigre\"'\n",
    ")"
   ]
  },
  {
   "cell_type": "code",
   "execution_count": 10,
   "id": "4656b68e",
   "metadata": {},
   "outputs": [
    {
     "name": "stderr",
     "output_type": "stream",
     "text": [
      "C:\\Users\\dh\\anaconda3\\envs\\dhdsblend2021\\lib\\site-packages\\pandas\\core\\indexing.py:1763: SettingWithCopyWarning: \n",
      "A value is trying to be set on a copy of a slice from a DataFrame.\n",
      "Try using .loc[row_indexer,col_indexer] = value instead\n",
      "\n",
      "See the caveats in the documentation: https://pandas.pydata.org/pandas-docs/stable/user_guide/indexing.html#returning-a-view-versus-a-copy\n",
      "  isetter(loc, value)\n"
     ]
    }
   ],
   "source": [
    "data.loc[data.place_name.isna(), \"place_name\"] = \"Tigre\""
   ]
  },
  {
   "cell_type": "code",
   "execution_count": 11,
   "id": "fd871289",
   "metadata": {},
   "outputs": [
    {
     "name": "stdout",
     "output_type": "stream",
     "text": [
      "CONTEO DE VALORES NULOS EN LAS PRIMERAS COLUMNAS:\n",
      "property_type              0\n",
      "place_name                 0\n",
      "place_with_parent_names    0\n",
      "state_name                 0\n",
      "Observacion:\n",
      "* 23 valores recuperados en la columna place_name:\n"
     ]
    }
   ],
   "source": [
    "print(\"CONTEO DE VALORES NULOS EN LAS PRIMERAS COLUMNAS:\")\n",
    "print(data.iloc[:, :4].isna().sum().to_string())\n",
    "print(\"Observacion:\\n* 23 valores recuperados en la columna place_name:\")"
   ]
  },
  {
   "cell_type": "markdown",
   "id": "0ebd465f",
   "metadata": {},
   "source": [
    "### CONCLUSION 1:\n",
    "\n",
    "A partir del analisis de columnas, logramos reducir nuestro dataset. El criterio utilizado fue el de eliminar aquellas entradas que representen valores faltantes en exceso. \n",
    "\n",
    "El resumen obtenido en la reduccion de datos nulos es:\n",
    "\n",
    "    - lat-lon, lat, lon = 4,68%    \n",
    "    - price, currency, price_aprox's = 12,73%   \n",
    "    - surface_total_in_m2 = 4,41%   \n",
    "    - surface_covered_in_m2 = 6,88%   \n",
    "    - price_usd_per_m2 = 11,19%   \n",
    "    - price_per_m2 = 14,1%   \n",
    "    - floor = 0,77%   \n",
    "    - rooms = 3,88%   \n",
    "    - expenses = 1,37%   \n",
    "\n"
   ]
  },
  {
   "cell_type": "code",
   "execution_count": 12,
   "id": "10f5bb23",
   "metadata": {},
   "outputs": [
    {
     "name": "stdout",
     "output_type": "stream",
     "text": [
      "Nuevo tamaño del dataframe data: 100880\n"
     ]
    }
   ],
   "source": [
    "print(f\"Nuevo tamaño del dataframe data: {data.shape[0]}\")"
   ]
  },
  {
   "cell_type": "code",
   "execution_count": 13,
   "id": "bcf4beaa",
   "metadata": {},
   "outputs": [
    {
     "name": "stdout",
     "output_type": "stream",
     "text": [
      "Cantidad de propiedades publicadas según su provincia/localidad\n"
     ]
    },
    {
     "data": {
      "image/png": "[encoded data removed]",
      "text/plain": [
       "<Figure size 432x288 with 1 Axes>"
      ]
     },
     "metadata": {},
     "output_type": "display_data"
    }
   ],
   "source": [
    "serie_aux = data.state_name.value_counts()\n",
    "valores = serie_aux[:8].values.tolist()\n",
    "valores.append(serie_aux[8:].sum())\n",
    "valores\n",
    "\n",
    "labels = serie_aux[:8].index.tolist()\n",
    "labels.append(\"Otros\")\n",
    "labels\n",
    "\n",
    "print(\"Cantidad de propiedades publicadas según su provincia/localidad\")\n",
    "plt.pie(valores, labels=labels)\n",
    "plt.show()"
   ]
  },
  {
   "cell_type": "markdown",
   "id": "262643a5",
   "metadata": {},
   "source": [
    "# 2. ANALISIS POR COTIZACION: DIVISAS E INMUEBLES"
   ]
  },
  {
   "cell_type": "markdown",
   "id": "12b4632f",
   "metadata": {},
   "source": [
    "**CELDA DE ACLARACIONES PERTINENTES:**\n",
    "\n",
    "- VARIABLES TIPO DATAFRAME CREADAS:\n",
    "    - data_price\n",
    "    - mayor_sup | frame.shape(100880,2) : es un auxiliar para crear la columna \"surface_total_in_m2_mod\" en data_price\n",
    "    - data_check: dataframe auxiliar\n",
    "    \n",
    "    \n",
    "- VARIABLES TIPO MASCARAS CREADAS:\n",
    "    - mascara_superficie_notnull\n",
    "    - mascara_covered_notna_total_isna\n",
    "    - mascara_mayor_sup | mask.shape(67246,)  * potencial de tirar 1031 entradas ilogicas: haciendo drop de: mascara_mayor_sup[mascara_mayor_sup==False]\n",
    "    - mascara_logica_usd_ars\n",
    "    - mask_data: mascara auxiliar\n",
    "    \n",
    "\n",
    "- VARIABLE PYTHON:\n",
    "    - tc: tipo float, representa el tipo de cambio del par (ARS/USD)\n",
    "    - lista: tipo lista, con los indices de un .value_counts: representa el ranking de valores más repetidos en data_check['pct_change']\n",
    "    \n",
    "    \n",
    "- SERIES:\n",
    "    - serie_check = serie auxiliar\n",
    "    \n",
    "    \n",
    "- INDICES:\n",
    "    - filas_incoherentes\n",
    "    - indice_price: un objeto tipo indice con las entradas del data_price ANTES DEL RECUPERO DE NANS\n",
    "   "
   ]
  },
  {
   "cell_type": "code",
   "execution_count": 14,
   "id": "9acd6fc0",
   "metadata": {},
   "outputs": [],
   "source": [
    "columnas = [\n",
    "    \"price\",\n",
    "    \"currency\",\n",
    "    \"price_aprox_local_currency\",\n",
    "    \"price_aprox_usd\",\n",
    "    \"price_usd_per_m2\",\n",
    "    \"price_per_m2\",\n",
    "    \"surface_covered_in_m2\",\n",
    "    \"surface_total_in_m2\",\n",
    "]\n",
    "data_price = data[columnas].copy()"
   ]
  },
  {
   "cell_type": "code",
   "execution_count": 15,
   "id": "8ea4fd62",
   "metadata": {},
   "outputs": [
    {
     "name": "stdout",
     "output_type": "stream",
     "text": [
      "data_price\n",
      ">> DATOS NULOS:\n",
      "\n"
     ]
    },
    {
     "data": {
      "text/plain": [
       "price_usd_per_m2              32479\n",
       "surface_total_in_m2           28278\n",
       "price_per_m2                  13705\n",
       "surface_covered_in_m2          9628\n",
       "currency                       4149\n",
       "price_aprox_usd                4148\n",
       "price_aprox_local_currency     4148\n",
       "price                          4148\n",
       "dtype: int64"
      ]
     },
     "metadata": {},
     "output_type": "display_data"
    },
    {
     "name": "stdout",
     "output_type": "stream",
     "text": [
      ">> PORCENTAJE DE DATOS NULOS:\n",
      "\n"
     ]
    },
    {
     "data": {
      "text/plain": [
       "price_usd_per_m2              32.20\n",
       "surface_total_in_m2           28.03\n",
       "price_per_m2                  13.59\n",
       "surface_covered_in_m2          9.54\n",
       "currency                       4.11\n",
       "price_aprox_usd                4.11\n",
       "price_aprox_local_currency     4.11\n",
       "price                          4.11\n",
       "dtype: float64"
      ]
     },
     "metadata": {},
     "output_type": "display_data"
    }
   ],
   "source": [
    "print(\"data_price\")\n",
    "nuloss(data_price)\n",
    "porcentaje_nuloss(data_price)"
   ]
  },
  {
   "cell_type": "code",
   "execution_count": 16,
   "id": "d02d15e0",
   "metadata": {},
   "outputs": [
    {
     "name": "stdout",
     "output_type": "stream",
     "text": [
      "1) Analisis logico de superficie total vs superficie cubierta\n",
      "\n",
      "* UNION DE ENTRADAS NULAS EN SUPERFICIE\n"
     ]
    },
    {
     "data": {
      "text/html": [
       "<div>\n",
       "<style scoped>\n",
       "    .dataframe tbody tr th:only-of-type {\n",
       "        vertical-align: middle;\n",
       "    }\n",
       "\n",
       "    .dataframe tbody tr th {\n",
       "        vertical-align: top;\n",
       "    }\n",
       "\n",
       "    .dataframe thead th {\n",
       "        text-align: right;\n",
       "    }\n",
       "</style>\n",
       "<table border=\"1\" class=\"dataframe\">\n",
       "  <thead>\n",
       "    <tr style=\"text-align: right;\">\n",
       "      <th></th>\n",
       "      <th>surface_total_in_m2</th>\n",
       "      <th>surface_covered_in_m2</th>\n",
       "    </tr>\n",
       "  </thead>\n",
       "  <tbody>\n",
       "    <tr>\n",
       "      <th>count</th>\n",
       "      <td>67246.000000</td>\n",
       "      <td>67246.000000</td>\n",
       "    </tr>\n",
       "    <tr>\n",
       "      <th>mean</th>\n",
       "      <td>229.317863</td>\n",
       "      <td>125.973143</td>\n",
       "    </tr>\n",
       "    <tr>\n",
       "      <th>std</th>\n",
       "      <td>1608.051231</td>\n",
       "      <td>404.796436</td>\n",
       "    </tr>\n",
       "  </tbody>\n",
       "</table>\n",
       "</div>"
      ],
      "text/plain": [
       "       surface_total_in_m2  surface_covered_in_m2\n",
       "count         67246.000000           67246.000000\n",
       "mean            229.317863             125.973143\n",
       "std            1608.051231             404.796436"
      ]
     },
     "metadata": {},
     "output_type": "display_data"
    },
    {
     "name": "stdout",
     "output_type": "stream",
     "text": [
      "\n",
      "Usamos la mascara: mascara_superficie_notnull\n",
      "\n",
      "* UNION ENTRE NO NULAS CUBIERTAS Y NULAS TOTALES\n"
     ]
    },
    {
     "data": {
      "text/html": [
       "<div>\n",
       "<style scoped>\n",
       "    .dataframe tbody tr th:only-of-type {\n",
       "        vertical-align: middle;\n",
       "    }\n",
       "\n",
       "    .dataframe tbody tr th {\n",
       "        vertical-align: top;\n",
       "    }\n",
       "\n",
       "    .dataframe thead th {\n",
       "        text-align: right;\n",
       "    }\n",
       "</style>\n",
       "<table border=\"1\" class=\"dataframe\">\n",
       "  <thead>\n",
       "    <tr style=\"text-align: right;\">\n",
       "      <th></th>\n",
       "      <th>surface_covered_in_m2</th>\n",
       "      <th>surface_total_in_m2</th>\n",
       "    </tr>\n",
       "  </thead>\n",
       "  <tbody>\n",
       "    <tr>\n",
       "      <th>count</th>\n",
       "      <td>24006.000000</td>\n",
       "      <td>0.0</td>\n",
       "    </tr>\n",
       "    <tr>\n",
       "      <th>mean</th>\n",
       "      <td>140.852995</td>\n",
       "      <td>NaN</td>\n",
       "    </tr>\n",
       "    <tr>\n",
       "      <th>std</th>\n",
       "      <td>1256.729021</td>\n",
       "      <td>NaN</td>\n",
       "    </tr>\n",
       "  </tbody>\n",
       "</table>\n",
       "</div>"
      ],
      "text/plain": [
       "       surface_covered_in_m2  surface_total_in_m2\n",
       "count           24006.000000                  0.0\n",
       "mean              140.852995                  NaN\n",
       "std              1256.729021                  NaN"
      ]
     },
     "metadata": {},
     "output_type": "display_data"
    },
    {
     "name": "stdout",
     "output_type": "stream",
     "text": [
      "\n",
      "Usamos la mascara: mascara_covered_notna_total_isna\n",
      "\n",
      "* VERIFICACION DE LOGICA: TOTAL MAYOR A CUBIERTO\n",
      "True     66215: sup_cubierta > sup_total\n",
      "False     1031: error\n",
      "\n",
      "Usamos la mascara: mascara_mayor_sup\n",
      "\n",
      "* PORCENTAJE DE DATOS NULOS:\n",
      " price                          4.11\n",
      "currency                       4.11\n",
      "price_aprox_local_currency     4.11\n",
      "price_aprox_usd                4.11\n",
      "price_usd_per_m2              32.20\n",
      "price_per_m2                  13.59\n",
      "surface_covered_in_m2          9.54\n",
      "surface_total_in_m2           28.03\n",
      "surface_total_in_m2_mod        4.47\n"
     ]
    }
   ],
   "source": [
    "print(\"1) Analisis logico de superficie total vs superficie cubierta\\n\")\n",
    "mascara_superficie_notnull = (\n",
    "    data_price.surface_total_in_m2.notna() & data_price.surface_covered_in_m2.notna()\n",
    ")\n",
    "\n",
    "print(\"* UNION DE ENTRADAS NULAS EN SUPERFICIE\")\n",
    "display(\n",
    "    data_price[mascara_superficie_notnull][\n",
    "        [\"surface_total_in_m2\", \"surface_covered_in_m2\"]\n",
    "    ].describe()[:3]\n",
    ")\n",
    "print(\"\\nUsamos la mascara: mascara_superficie_notnull\")\n",
    "\n",
    "## DATAFRAME \"RESAGO\" PARA INCORPORAR LOS 24000 VALORES DE SUPERFICIE CUBIERTA NO NULOS QUE DESCARTAMOS EN LA MASCARA\n",
    "print(\"\\n* UNION ENTRE NO NULAS CUBIERTAS Y NULAS TOTALES\")\n",
    "mascara_covered_notna_total_isna = (\n",
    "    data_price.surface_covered_in_m2.notna() & data_price.surface_total_in_m2.isna()\n",
    ")\n",
    "display(\n",
    "    data[mascara_covered_notna_total_isna][\n",
    "        [\"surface_covered_in_m2\", \"surface_total_in_m2\"]\n",
    "    ].describe()[:3]\n",
    ")\n",
    "print(\"\\nUsamos la mascara: mascara_covered_notna_total_isna\")\n",
    "# print ('La cantidad de datos \"resago\" son: {}\\nLa mascara utilizada: mascara_covered_notna_total_isna'.format(mascara_covered_notna_total_isna.sum()))\n",
    "\n",
    "print(\"\\n* VERIFICACION DE LOGICA: TOTAL MAYOR A CUBIERTO\")\n",
    "mascara_mayor_sup = (\n",
    "    data_price[mascara_superficie_notnull].surface_total_in_m2\n",
    "    >= data_price[mascara_superficie_notnull].surface_covered_in_m2\n",
    ")  # comprobamos que haya logica Total > Cubierto\n",
    "print(\n",
    "    \"{}: sup_cubierta > sup_total\\n{}: error\\n\".format(\n",
    "        mascara_mayor_sup.value_counts().to_string().split(\"\\n\")[0],\n",
    "        mascara_mayor_sup.value_counts().to_string().split(\"\\n\")[1],\n",
    "    )\n",
    ")\n",
    "print(\"Usamos la mascara: mascara_mayor_sup\")\n",
    "\n",
    "\n",
    "mayor_sup = data_price[[\"surface_total_in_m2\", \"surface_covered_in_m2\"]].fillna(\n",
    "    0\n",
    ")  # remplazamos los Nan con 0 para que cuando tenga el dato en una columna y en la otra no el np.maximum funcione\n",
    "\n",
    "data_price[\"surface_total_in_m2_mod\"] = np.maximum(\n",
    "    mayor_sup.surface_total_in_m2, mayor_sup.surface_covered_in_m2\n",
    ")  # tomamos el mayor\n",
    "data_price[\"surface_total_in_m2_mod\"] = data_price[\"surface_total_in_m2_mod\"].replace(\n",
    "    0, np.nan\n",
    ")  # volvemos a colocar los Nan reemplazados por 0\n",
    "print(\n",
    "    \"\\n* PORCENTAJE DE DATOS NULOS:\\n\",\n",
    "    round(data_price.isna().sum() / data_price.shape[0] * 100, 2).to_string(),\n",
    ")  # ahora solo quedan vacios el 4,47% de los datos de superficie"
   ]
  },
  {
   "cell_type": "code",
   "execution_count": 17,
   "id": "49c4ac46",
   "metadata": {},
   "outputs": [],
   "source": [
    "def prueba_isna(\n",
    "    frame, label_list, label\n",
    "):  # entragas un dataframe, la lista de columnas que queres chequear, y la label de la columna que se toma de referencia\n",
    "    print(f\"Comparacion de cantidad de NaN types en funcion de la columna {label}\")\n",
    "    mascara_comparativa = frame[label].isna()\n",
    "    print(frame.loc[mascara_comparativa, label_list].isna().sum().to_string())"
   ]
  },
  {
   "cell_type": "code",
   "execution_count": 18,
   "id": "4e601907",
   "metadata": {},
   "outputs": [
    {
     "name": "stdout",
     "output_type": "stream",
     "text": [
      "Comparacion de cantidad de NaN types en funcion de la columna price\n",
      "price                         4148\n",
      "price_aprox_local_currency    4148\n",
      "price_aprox_usd               4148\n",
      "price_usd_per_m2              4148\n",
      "price_per_m2                  4148\n"
     ]
    }
   ],
   "source": [
    "prueba = [\n",
    "    \"price\",\n",
    "    \"price_aprox_local_currency\",\n",
    "    \"price_aprox_usd\",\n",
    "    \"price_usd_per_m2\",\n",
    "    \"price_per_m2\",\n",
    "]\n",
    "prueba_isna(data_price, prueba, \"price\")"
   ]
  },
  {
   "cell_type": "code",
   "execution_count": 19,
   "id": "95e689aa",
   "metadata": {},
   "outputs": [
    {
     "name": "stdout",
     "output_type": "stream",
     "text": [
      "dimension total: 100880\n",
      "\n",
      "Comparacion de los precios por metro cuadrado en funcion de la divisa\n",
      "True     100875: precio_m2_usd > precio_m2_ars\n",
      "False         5: error\n",
      "\n",
      "\n",
      "* Extraccion de 5 valores ilogicos\n",
      "dimension total: 100875\n"
     ]
    }
   ],
   "source": [
    "print(\"dimension total:\", data_price.shape[0])\n",
    "\n",
    "print(\"\\nComparacion de los precios por metro cuadrado en funcion de la divisa\")\n",
    "mascara_logica_usd_ars = mascara_logica_usd_ars = ~(\n",
    "    (data_price[\"currency\"] == \"ARS\")\n",
    "    & (data_price[\"price_usd_per_m2\"] > data_price[\"price_per_m2\"])\n",
    ")\n",
    "print(\n",
    "    \"{}: precio_m2_usd > precio_m2_ars\\n{}: error\\n\".format(\n",
    "        mascara_logica_usd_ars.value_counts().to_string().split(\"\\n\")[0],\n",
    "        mascara_logica_usd_ars.value_counts().to_string().split(\"\\n\")[1],\n",
    "    )\n",
    ")\n",
    "\n",
    "print(\"\\n* Extraccion de 5 valores ilogicos\")\n",
    "data_price = data_price[mascara_logica_usd_ars]  # saco los valores ilogicos\n",
    "\n",
    "print(\"dimension total:\", data_price.shape[0])"
   ]
  },
  {
   "cell_type": "code",
   "execution_count": 20,
   "id": "e4fae074",
   "metadata": {},
   "outputs": [
    {
     "name": "stdout",
     "output_type": "stream",
     "text": [
      "Conteo de divisas:\n",
      "USD    84764\n",
      "ARS    11962\n"
     ]
    }
   ],
   "source": [
    "print(\"Conteo de divisas:\")\n",
    "print(data_price.currency.value_counts().to_string())\n",
    "# contamos la canitdad que hay en usd y en ars"
   ]
  },
  {
   "cell_type": "code",
   "execution_count": null,
   "id": "17c1907d",
   "metadata": {},
   "outputs": [],
   "source": []
  },
  {
   "cell_type": "code",
   "execution_count": null,
   "id": "ad54dace",
   "metadata": {},
   "outputs": [],
   "source": []
  },
  {
   "cell_type": "code",
   "execution_count": 21,
   "id": "5ae938d2",
   "metadata": {},
   "outputs": [
    {
     "name": "stdout",
     "output_type": "stream",
     "text": [
      "count    96726.0000\n",
      "mean        17.6445\n",
      "std          0.0000\n",
      "min         17.6445\n",
      "25%         17.6445\n",
      "50%         17.6445\n",
      "75%         17.6445\n",
      "max         17.6445\n",
      "\n",
      "El valor de cotizacion de divisa es 17.644\n"
     ]
    }
   ],
   "source": [
    "## CALCULAMOS LA COTIZACION DEL PESO RESPECTO DEL DOLAR\n",
    "tc = (\n",
    "    data_price.price_aprox_local_currency / data_price.price_aprox_usd\n",
    ")  # sacamos el TC por fila\n",
    "print(\n",
    "    tc.describe().round(4).to_string()\n",
    ")  # vemos que no haya ningun desvio u outlayer afectando la cuenta\n",
    "tc = tc.mean().round(3)  # tc promedio 17.6444\n",
    "print(f\"\\nEl valor de cotizacion de divisa es {tc}\")"
   ]
  },
  {
   "cell_type": "code",
   "execution_count": 22,
   "id": "45174945",
   "metadata": {},
   "outputs": [
    {
     "name": "stdout",
     "output_type": "stream",
     "text": [
      "filtramos por las filas en pesos\n",
      "creamos una columna de control de precio en usd\n",
      "calculamos la diferencia entre la de control y la de price_aprox_usd\n",
      "count    11962.00\n",
      "mean         0.96\n",
      "std          0.61\n",
      "min         -2.84\n",
      "25%          1.06\n",
      "50%          1.06\n",
      "75%          1.06\n",
      "max          1.06\n",
      "Observacion:\n",
      "* ['data_aprox_usd'] es confiable para tomar como precio en usd con un rango de desvio relativamente bajo de 1.05% a -2.84%\n"
     ]
    }
   ],
   "source": [
    "## DIVIDIMOS EL VALOR DEL INMUEBLE COTIZADO EN PESOS POR LA VALOR DE TC PARA OBTENER EL PRECIO EN USD\n",
    "mask_data = data_price.currency == \"ARS\"\n",
    "data_check = data_price.copy()\n",
    "data_check = data_check.loc[mask_data]\n",
    "print(\"filtramos por las filas en pesos\")\n",
    "data_check.loc[:, \"control_cruzado_precio_usd\"] = data_check.price / tc\n",
    "\n",
    "print(\"creamos una columna de control de precio en usd\")\n",
    "print(\"calculamos la diferencia entre la de control y la de price_aprox_usd\")\n",
    "data_check.loc[:, \"pct_change\"] = (\n",
    "    data_check[\"control_cruzado_precio_usd\"] / data_check[\"price_aprox_usd\"] - 1\n",
    ") * 100\n",
    "\n",
    "\n",
    "print(data_check[\"pct_change\"].describe().round(2).to_string())\n",
    "print(\n",
    "    \"Observacion:\\n* ['data_aprox_usd'] es confiable para tomar como precio en usd con un rango de desvio relativamente bajo de 1.05% a -2.84%\"\n",
    ")\n",
    "\n",
    "# serie_check = data_check['pct_change'].sample(1000)\n",
    "# sns.scatterplot(y=serie_check, x=serie_check.index)"
   ]
  },
  {
   "cell_type": "code",
   "execution_count": 23,
   "id": "9d1becc6",
   "metadata": {},
   "outputs": [
    {
     "name": "stdout",
     "output_type": "stream",
     "text": [
      "vamos a chequear si tiene logica el precio por m2 con un control cruzado\n",
      "creo la columna de control en base al precio en usd dividido la columna corregida y completada de superficie\n",
      "calculamos la diferencia\n",
      "\n",
      "NANS DEL FRAME:\n",
      " currency                          4149\n",
      "price_aprox_usd                   4148\n",
      "surface_total_in_m2_mod           4507\n",
      "control_cruzado_precio_m2_usd     8654\n",
      "pct_change                       32479\n",
      "dtype: int64\n",
      "\n",
      "SHAPE DEL FRAME: (100875, 5) \n",
      "\n",
      "\n",
      "COLUMNAS DEL FRAME: Index(['currency', 'price_aprox_usd', 'surface_total_in_m2_mod',\n",
      "       'control_cruzado_precio_m2_usd', 'pct_change'],\n",
      "      dtype='object')\n",
      "count    6.839600e+04\n",
      "mean    -4.327781e-01\n",
      "std      4.701079e+00\n",
      "min     -9.989388e+01\n",
      "25%      0.000000e+00\n",
      "50%      0.000000e+00\n",
      "75%      0.000000e+00\n",
      "max      4.440892e-14\n",
      "Name: pct_change, dtype: float64 \n",
      "Observacion:\n",
      "* Vemos que a grandes rasgos parece confiable salvo algunas filas que deben tener errores\n",
      "* Son 68401 filas hay que ver como recuperar las faltantes\n"
     ]
    }
   ],
   "source": [
    "### DIVIDIMOS CALCULAMOS EL RATIO PRECIO_APROX_IN_USD CON SURFACE_TOTAL_IN_M2_MOD\n",
    "\n",
    "print(\"vamos a chequear si tiene logica el precio por m2 con un control cruzado\")\n",
    "print(\n",
    "    \"creo la columna de control en base al precio en usd dividido la columna corregida y completada de superficie\"\n",
    ")\n",
    "print(\"calculamos la diferencia\")\n",
    "\n",
    "data_check = data_price.loc[\n",
    "    :, [\"currency\", \"price_aprox_usd\", \"surface_total_in_m2_mod\"]\n",
    "]\n",
    "data_check[\"control_cruzado_precio_m2_usd\"] = (\n",
    "    data_price[\"price_aprox_usd\"] / data_price[\"surface_total_in_m2_mod\"]\n",
    ")\n",
    "\n",
    "\n",
    "data_check.loc[:, \"pct_change\"] = (\n",
    "    data_check.loc[:, \"control_cruzado_precio_m2_usd\"]\n",
    "    / data_price.loc[:, \"price_usd_per_m2\"]\n",
    "    - 1\n",
    ") * 100  # calculamos la diferencia\n",
    "\n",
    "# print ('Descripcion de data_check.pct_change:')\n",
    "# print(data_check['pct_change'].round(2).describe().to_string()) #vemos que a grandes rasgos parece confiable salvo algunas filas que deben tener errores y son 68401 filas hay que ver como recuperar las faltantes\n",
    "# print ('Observacion:\\n* El minimo de -99')\n",
    "print(\n",
    "    \"\\nNANS DEL FRAME:\\n\", data_check.isna().sum()\n",
    ")  # control_price_usd_per_m2[['price_aprox_usd', 'surface_total_in_m2_mod', 'control_cruzado_precio_m2_usd','pct_change']].isna().sum())\n",
    "print(\n",
    "    \"\\nSHAPE DEL FRAME:\", data_check.shape, \"\\n\"\n",
    ")  # control_price_usd_per_m2[['price_aprox_usd', 'surface_total_in_m2_mod', 'control_cruzado_precio_m2_usd','pct_change']].shape)\n",
    "print(\"\\nCOLUMNAS DEL FRAME: {}\".format(data_check.columns))\n",
    "print(\n",
    "    data_check[\"pct_change\"].describe(),\n",
    "    \"\\nObservacion:\\n* Vemos que a grandes rasgos parece confiable salvo algunas filas que deben tener errores\\n* Son 68401 filas hay que ver como recuperar las faltantes\",\n",
    ")"
   ]
  },
  {
   "cell_type": "code",
   "execution_count": 24,
   "id": "fe1c1290",
   "metadata": {},
   "outputs": [
    {
     "name": "stdout",
     "output_type": "stream",
     "text": [
      "\n",
      "Analisis de data.pct_change: ranking de valores\n",
      "Valores más repetidos: \n",
      "  0.000     67424\n",
      "-32.143       19\n",
      "-50.000       14\n",
      "-16.667       14\n",
      "-40.000       14\n",
      "           ...  \n",
      "-10.299        1\n",
      "-84.164        1\n",
      "-30.342        1\n",
      "-91.786        1\n",
      "-6.780         1\n",
      "Name: pct_change, Length: 578, dtype: int64\n",
      "\n",
      "Conteo de la cantidad de repeticiones:\n",
      " 1        422\n",
      "2         87\n",
      "3         29\n",
      "4         14\n",
      "6          5\n",
      "9          4\n",
      "14         3\n",
      "10         3\n",
      "8          2\n",
      "7          2\n",
      "5          2\n",
      "67424      1\n",
      "19         1\n",
      "13         1\n",
      "12         1\n",
      "11         1\n",
      "Name: pct_change, dtype: int64\n",
      "Observaciones:\n",
      "* 1 solo valor se repite 67424 veces, el elemento 0.00\n",
      "* 4 elementos independientes suman 55 repeticiones\n",
      "* 4 elementos independientes se repiten 9 veces\n",
      "* 3 elementos independientes se repiten 14 veces\n",
      "* 3 elementos independientes se repiten 10 veces\n",
      "\n",
      "PRUEBA:\n",
      "El elemento que se repite 67424 veces es el [0.0]\n",
      "El elemento que se repite 19 veces es el [-32.143]\n",
      "El elemento que se repite 13 veces es el [-9.091]\n",
      "El elemento que se repite 12 veces es el [-4.762]\n",
      "El elemento que se repite 11 veces es el [-33.333]\n",
      "Los elementos que se repiten 9 veces son [-14.286, -12.5, -10.0, -53.333]\n",
      "Los elementos que se repiten 14 veces son [-50.0, -16.667, -40.0]\n",
      "Los elementos que se repiten 10 veces son [-25.0, -20.0, -7.692]\n"
     ]
    }
   ],
   "source": [
    "serie_check = data_check[\"pct_change\"].round(3).value_counts()\n",
    "\n",
    "\n",
    "print(\"\\nAnalisis de data.pct_change: ranking de valores\")\n",
    "print(\"Valores más repetidos: \\n\", serie_check)\n",
    "print(\"\\nConteo de la cantidad de repeticiones:\\n\", serie_check.value_counts())\n",
    "print(\n",
    "    f\"Observaciones:\\n* 1 solo valor se repite 67424 veces, el elemento 0.00\\n* 4 elementos independientes suman {19+13+12+11} repeticiones\\\n",
    "\\n* 4 elementos independientes se repiten 9 veces\\n* 3 elementos independientes se repiten 14 veces\\n* 3 elementos independientes se repiten 10 veces\\n\"\n",
    ")\n",
    "\n",
    "print(\"PRUEBA:\")\n",
    "n = 67424\n",
    "serie_check[serie_check == n]\n",
    "list(serie_check[serie_check == n].index)\n",
    "print(\n",
    "    f\"El elemento que se repite {n} veces es el {list(serie_check[serie_check == n].index)}\"\n",
    ")\n",
    "\n",
    "lista = [19, 13, 12, 11]\n",
    "for n in lista:\n",
    "    print(\n",
    "        f\"El elemento que se repite {n} veces es el {list(serie_check[serie_check == n].index)}\"\n",
    "    )\n",
    "\n",
    "lista = [9]\n",
    "print(\n",
    "    f\"Los elementos que se repiten {lista[0]} veces son {list(serie_check[serie_check == lista[0]].index)}\"\n",
    ")\n",
    "lista = [14]\n",
    "print(\n",
    "    f\"Los elementos que se repiten {lista[0]} veces son {list(serie_check[serie_check == lista[0]].index)}\"\n",
    ")\n",
    "lista = [10]\n",
    "print(\n",
    "    f\"Los elementos que se repiten {lista[0]} veces son {list(serie_check[serie_check == lista[0]].index)}\"\n",
    ")"
   ]
  },
  {
   "cell_type": "markdown",
   "id": "fd092985",
   "metadata": {},
   "source": [
    "**POR ESTA RAZON TOMAMOS RANGO OUTLIER A LOS VALORES DE DATA_PRICE['PCT_CHANGE'] QUE NO PERTENEZCAN AL INTERVALO (-4,75 ; 4,75)**"
   ]
  },
  {
   "cell_type": "code",
   "execution_count": 25,
   "id": "38db60f8",
   "metadata": {},
   "outputs": [
    {
     "name": "stdout",
     "output_type": "stream",
     "text": [
      " Elimino del dataset de trabajo los que tenian desvios de +- 4.75%\n",
      "filas_incoherentes es un indice\n",
      "Int64Index([   177,    316,    317,    455,    668,    918,   1397,   1598,\n",
      "              4282,   4363,\n",
      "            ...\n",
      "            119784, 119787, 119830, 119846, 120124, 120168, 120181, 120202,\n",
      "            120302, 121055],\n",
      "           dtype='int64', length=870)\n",
      "\n",
      "* Longitud del indice: 870\n"
     ]
    }
   ],
   "source": [
    "print(\" Elimino del dataset de trabajo los que tenian desvios de +- 4.75%\")\n",
    "filas_incoherentes = data_check.loc[\n",
    "    (data_check[\"pct_change\"] < -4.75) | (data_check[\"pct_change\"] > 4.75)\n",
    "].index  # saco las que tienen desvio de +-5%\n",
    "print(\"filas_incoherentes es un indice\")\n",
    "print(filas_incoherentes)\n",
    "print(\"\\n* Longitud del indice:\", len(filas_incoherentes))\n",
    "\n",
    "\n",
    "# sns.scatterplot(y=control_price_usd_per_m2['pct_change'],x=control_price_usd_per_m2.index)"
   ]
  },
  {
   "cell_type": "code",
   "execution_count": 26,
   "id": "6e3f50eb",
   "metadata": {},
   "outputs": [
    {
     "name": "stdout",
     "output_type": "stream",
     "text": [
      "IMPUTACION data_price\n",
      "Shape anterior data_price (100875, 9)\n"
     ]
    },
    {
     "data": {
      "text/html": [
       "<div>\n",
       "<style scoped>\n",
       "    .dataframe tbody tr th:only-of-type {\n",
       "        vertical-align: middle;\n",
       "    }\n",
       "\n",
       "    .dataframe tbody tr th {\n",
       "        vertical-align: top;\n",
       "    }\n",
       "\n",
       "    .dataframe thead th {\n",
       "        text-align: right;\n",
       "    }\n",
       "</style>\n",
       "<table border=\"1\" class=\"dataframe\">\n",
       "  <thead>\n",
       "    <tr style=\"text-align: right;\">\n",
       "      <th></th>\n",
       "      <th>price</th>\n",
       "      <th>currency</th>\n",
       "      <th>price_aprox_local_currency</th>\n",
       "      <th>price_aprox_usd</th>\n",
       "      <th>price_usd_per_m2</th>\n",
       "      <th>price_per_m2</th>\n",
       "      <th>surface_covered_in_m2</th>\n",
       "      <th>surface_total_in_m2</th>\n",
       "      <th>surface_total_in_m2_mod</th>\n",
       "    </tr>\n",
       "  </thead>\n",
       "  <tbody>\n",
       "    <tr>\n",
       "      <th>0</th>\n",
       "      <td>62000.0</td>\n",
       "      <td>USD</td>\n",
       "      <td>1093959.00</td>\n",
       "      <td>62000.0</td>\n",
       "      <td>1127.272727</td>\n",
       "      <td>1550.000000</td>\n",
       "      <td>40.0</td>\n",
       "      <td>55.0</td>\n",
       "      <td>55.0</td>\n",
       "    </tr>\n",
       "    <tr>\n",
       "      <th>1</th>\n",
       "      <td>150000.0</td>\n",
       "      <td>USD</td>\n",
       "      <td>2646675.00</td>\n",
       "      <td>150000.0</td>\n",
       "      <td>NaN</td>\n",
       "      <td>NaN</td>\n",
       "      <td>NaN</td>\n",
       "      <td>NaN</td>\n",
       "      <td>NaN</td>\n",
       "    </tr>\n",
       "    <tr>\n",
       "      <th>2</th>\n",
       "      <td>72000.0</td>\n",
       "      <td>USD</td>\n",
       "      <td>1270404.00</td>\n",
       "      <td>72000.0</td>\n",
       "      <td>1309.090909</td>\n",
       "      <td>1309.090909</td>\n",
       "      <td>55.0</td>\n",
       "      <td>55.0</td>\n",
       "      <td>55.0</td>\n",
       "    </tr>\n",
       "    <tr>\n",
       "      <th>3</th>\n",
       "      <td>95000.0</td>\n",
       "      <td>USD</td>\n",
       "      <td>1676227.50</td>\n",
       "      <td>95000.0</td>\n",
       "      <td>NaN</td>\n",
       "      <td>NaN</td>\n",
       "      <td>NaN</td>\n",
       "      <td>NaN</td>\n",
       "      <td>NaN</td>\n",
       "    </tr>\n",
       "    <tr>\n",
       "      <th>4</th>\n",
       "      <td>64000.0</td>\n",
       "      <td>USD</td>\n",
       "      <td>1129248.00</td>\n",
       "      <td>64000.0</td>\n",
       "      <td>1828.571429</td>\n",
       "      <td>1828.571429</td>\n",
       "      <td>35.0</td>\n",
       "      <td>35.0</td>\n",
       "      <td>35.0</td>\n",
       "    </tr>\n",
       "    <tr>\n",
       "      <th>...</th>\n",
       "      <td>...</td>\n",
       "      <td>...</td>\n",
       "      <td>...</td>\n",
       "      <td>...</td>\n",
       "      <td>...</td>\n",
       "      <td>...</td>\n",
       "      <td>...</td>\n",
       "      <td>...</td>\n",
       "      <td>...</td>\n",
       "    </tr>\n",
       "    <tr>\n",
       "      <th>121215</th>\n",
       "      <td>870000.0</td>\n",
       "      <td>USD</td>\n",
       "      <td>15350715.00</td>\n",
       "      <td>870000.0</td>\n",
       "      <td>7699.115044</td>\n",
       "      <td>9354.838710</td>\n",
       "      <td>93.0</td>\n",
       "      <td>113.0</td>\n",
       "      <td>113.0</td>\n",
       "    </tr>\n",
       "    <tr>\n",
       "      <th>121216</th>\n",
       "      <td>498000.0</td>\n",
       "      <td>USD</td>\n",
       "      <td>8786961.00</td>\n",
       "      <td>498000.0</td>\n",
       "      <td>1383.333333</td>\n",
       "      <td>1383.333333</td>\n",
       "      <td>360.0</td>\n",
       "      <td>360.0</td>\n",
       "      <td>360.0</td>\n",
       "    </tr>\n",
       "    <tr>\n",
       "      <th>121217</th>\n",
       "      <td>131500.0</td>\n",
       "      <td>USD</td>\n",
       "      <td>2320251.75</td>\n",
       "      <td>131500.0</td>\n",
       "      <td>2858.695652</td>\n",
       "      <td>3371.794872</td>\n",
       "      <td>39.0</td>\n",
       "      <td>46.0</td>\n",
       "      <td>46.0</td>\n",
       "    </tr>\n",
       "    <tr>\n",
       "      <th>121218</th>\n",
       "      <td>95900.0</td>\n",
       "      <td>USD</td>\n",
       "      <td>1692107.55</td>\n",
       "      <td>95900.0</td>\n",
       "      <td>1997.916667</td>\n",
       "      <td>1997.916667</td>\n",
       "      <td>48.0</td>\n",
       "      <td>48.0</td>\n",
       "      <td>48.0</td>\n",
       "    </tr>\n",
       "    <tr>\n",
       "      <th>121219</th>\n",
       "      <td>129000.0</td>\n",
       "      <td>USD</td>\n",
       "      <td>2276140.50</td>\n",
       "      <td>129000.0</td>\n",
       "      <td>1675.324675</td>\n",
       "      <td>1675.324675</td>\n",
       "      <td>77.0</td>\n",
       "      <td>77.0</td>\n",
       "      <td>77.0</td>\n",
       "    </tr>\n",
       "  </tbody>\n",
       "</table>\n",
       "<p>100005 rows × 9 columns</p>\n",
       "</div>"
      ],
      "text/plain": [
       "           price currency  price_aprox_local_currency  price_aprox_usd  \\\n",
       "0        62000.0      USD                  1093959.00          62000.0   \n",
       "1       150000.0      USD                  2646675.00         150000.0   \n",
       "2        72000.0      USD                  1270404.00          72000.0   \n",
       "3        95000.0      USD                  1676227.50          95000.0   \n",
       "4        64000.0      USD                  1129248.00          64000.0   \n",
       "...          ...      ...                         ...              ...   \n",
       "121215  870000.0      USD                 15350715.00         870000.0   \n",
       "121216  498000.0      USD                  8786961.00         498000.0   \n",
       "121217  131500.0      USD                  2320251.75         131500.0   \n",
       "121218   95900.0      USD                  1692107.55          95900.0   \n",
       "121219  129000.0      USD                  2276140.50         129000.0   \n",
       "\n",
       "        price_usd_per_m2  price_per_m2  surface_covered_in_m2  \\\n",
       "0            1127.272727   1550.000000                   40.0   \n",
       "1                    NaN           NaN                    NaN   \n",
       "2            1309.090909   1309.090909                   55.0   \n",
       "3                    NaN           NaN                    NaN   \n",
       "4            1828.571429   1828.571429                   35.0   \n",
       "...                  ...           ...                    ...   \n",
       "121215       7699.115044   9354.838710                   93.0   \n",
       "121216       1383.333333   1383.333333                  360.0   \n",
       "121217       2858.695652   3371.794872                   39.0   \n",
       "121218       1997.916667   1997.916667                   48.0   \n",
       "121219       1675.324675   1675.324675                   77.0   \n",
       "\n",
       "        surface_total_in_m2  surface_total_in_m2_mod  \n",
       "0                      55.0                     55.0  \n",
       "1                       NaN                      NaN  \n",
       "2                      55.0                     55.0  \n",
       "3                       NaN                      NaN  \n",
       "4                      35.0                     35.0  \n",
       "...                     ...                      ...  \n",
       "121215                113.0                    113.0  \n",
       "121216                360.0                    360.0  \n",
       "121217                 46.0                     46.0  \n",
       "121218                 48.0                     48.0  \n",
       "121219                 77.0                     77.0  \n",
       "\n",
       "[100005 rows x 9 columns]"
      ]
     },
     "metadata": {},
     "output_type": "display_data"
    },
    {
     "name": "stdout",
     "output_type": "stream",
     "text": [
      "Shape actual data_price: (100005, 9)\n",
      "indice_price creada:\n"
     ]
    }
   ],
   "source": [
    "print(\"IMPUTACION data_price\")\n",
    "print(\"Shape anterior data_price\", data_price.shape)\n",
    "data_price = data_price.drop(filas_incoherentes)\n",
    "display(data_price)\n",
    "print(\"Shape actual data_price:\", data_price.shape)\n",
    "print(\"indice_price creada:\")\n",
    "indice_price = data_price.index"
   ]
  },
  {
   "cell_type": "code",
   "execution_count": 27,
   "id": "925fd0c0",
   "metadata": {},
   "outputs": [
    {
     "name": "stdout",
     "output_type": "stream",
     "text": [
      "CONTEO DE VALORES NULOS data_price\n",
      "price                          4148\n",
      "currency                       4149\n",
      "price_aprox_local_currency     4148\n",
      "price_aprox_usd                4148\n",
      "price_usd_per_m2              32479\n",
      "price_per_m2                  13705\n",
      "surface_covered_in_m2          9628\n",
      "surface_total_in_m2           28278\n",
      "surface_total_in_m2_mod        4507\n"
     ]
    }
   ],
   "source": [
    "print(\"CONTEO DE VALORES NULOS data_price\")\n",
    "print(data_price.isna().sum().to_string())"
   ]
  },
  {
   "cell_type": "code",
   "execution_count": 28,
   "id": "2bf8676b",
   "metadata": {},
   "outputs": [
    {
     "name": "stdout",
     "output_type": "stream",
     "text": [
      "PORCENTAJE DE VALORES NULOS data_price\n",
      "price                          4.15\n",
      "currency                       4.15\n",
      "price_aprox_local_currency     4.15\n",
      "price_aprox_usd                4.15\n",
      "price_usd_per_m2              32.48\n",
      "price_per_m2                  13.70\n",
      "surface_covered_in_m2          9.63\n",
      "surface_total_in_m2           28.28\n",
      "surface_total_in_m2_mod        4.51\n"
     ]
    }
   ],
   "source": [
    "print(\"PORCENTAJE DE VALORES NULOS data_price\")\n",
    "print(round(data_price.isna().sum() / data_price.shape[0] * 100, 2).to_string())"
   ]
  },
  {
   "cell_type": "code",
   "execution_count": 29,
   "id": "02316896",
   "metadata": {},
   "outputs": [
    {
     "name": "stdout",
     "output_type": "stream",
     "text": [
      "ANALISIS DE RECUPERO price_usd_per_m2 POR price_aprox_usd/surface_total_in_m2_mod\n"
     ]
    },
    {
     "data": {
      "text/html": [
       "<div>\n",
       "<style scoped>\n",
       "    .dataframe tbody tr th:only-of-type {\n",
       "        vertical-align: middle;\n",
       "    }\n",
       "\n",
       "    .dataframe tbody tr th {\n",
       "        vertical-align: top;\n",
       "    }\n",
       "\n",
       "    .dataframe thead th {\n",
       "        text-align: right;\n",
       "    }\n",
       "</style>\n",
       "<table border=\"1\" class=\"dataframe\">\n",
       "  <thead>\n",
       "    <tr style=\"text-align: right;\">\n",
       "      <th></th>\n",
       "      <th>price_usd_per_m2</th>\n",
       "      <th>price_aprox_usd</th>\n",
       "      <th>surface_total_in_m2_mod</th>\n",
       "    </tr>\n",
       "  </thead>\n",
       "  <tbody>\n",
       "    <tr>\n",
       "      <th>68</th>\n",
       "      <td>NaN</td>\n",
       "      <td>235000.0</td>\n",
       "      <td>72.0</td>\n",
       "    </tr>\n",
       "    <tr>\n",
       "      <th>77</th>\n",
       "      <td>NaN</td>\n",
       "      <td>150000.0</td>\n",
       "      <td>85.0</td>\n",
       "    </tr>\n",
       "    <tr>\n",
       "      <th>79</th>\n",
       "      <td>NaN</td>\n",
       "      <td>118000.0</td>\n",
       "      <td>42.0</td>\n",
       "    </tr>\n",
       "    <tr>\n",
       "      <th>87</th>\n",
       "      <td>NaN</td>\n",
       "      <td>875000.0</td>\n",
       "      <td>170.0</td>\n",
       "    </tr>\n",
       "    <tr>\n",
       "      <th>89</th>\n",
       "      <td>NaN</td>\n",
       "      <td>50000.0</td>\n",
       "      <td>53.0</td>\n",
       "    </tr>\n",
       "    <tr>\n",
       "      <th>...</th>\n",
       "      <td>...</td>\n",
       "      <td>...</td>\n",
       "      <td>...</td>\n",
       "    </tr>\n",
       "    <tr>\n",
       "      <th>121150</th>\n",
       "      <td>NaN</td>\n",
       "      <td>95000.0</td>\n",
       "      <td>52.0</td>\n",
       "    </tr>\n",
       "    <tr>\n",
       "      <th>121151</th>\n",
       "      <td>NaN</td>\n",
       "      <td>120000.0</td>\n",
       "      <td>72.0</td>\n",
       "    </tr>\n",
       "    <tr>\n",
       "      <th>121152</th>\n",
       "      <td>NaN</td>\n",
       "      <td>74500.0</td>\n",
       "      <td>33.0</td>\n",
       "    </tr>\n",
       "    <tr>\n",
       "      <th>121155</th>\n",
       "      <td>NaN</td>\n",
       "      <td>170000.0</td>\n",
       "      <td>130.0</td>\n",
       "    </tr>\n",
       "    <tr>\n",
       "      <th>121156</th>\n",
       "      <td>NaN</td>\n",
       "      <td>170000.0</td>\n",
       "      <td>130.0</td>\n",
       "    </tr>\n",
       "  </tbody>\n",
       "</table>\n",
       "<p>23825 rows × 3 columns</p>\n",
       "</div>"
      ],
      "text/plain": [
       "        price_usd_per_m2  price_aprox_usd  surface_total_in_m2_mod\n",
       "68                   NaN         235000.0                     72.0\n",
       "77                   NaN         150000.0                     85.0\n",
       "79                   NaN         118000.0                     42.0\n",
       "87                   NaN         875000.0                    170.0\n",
       "89                   NaN          50000.0                     53.0\n",
       "...                  ...              ...                      ...\n",
       "121150               NaN          95000.0                     52.0\n",
       "121151               NaN         120000.0                     72.0\n",
       "121152               NaN          74500.0                     33.0\n",
       "121155               NaN         170000.0                    130.0\n",
       "121156               NaN         170000.0                    130.0\n",
       "\n",
       "[23825 rows x 3 columns]"
      ]
     },
     "metadata": {},
     "output_type": "display_data"
    },
    {
     "name": "stdout",
     "output_type": "stream",
     "text": [
      "Observacion:\n",
      "* Potencial de recuperar 23825 datos\n",
      "\n",
      "Creamos columna auxiliar para obtener los valores\n",
      "\n",
      "Analisis de la columna recupero\n"
     ]
    },
    {
     "data": {
      "text/plain": [
       "68        3263.888889\n",
       "77        1764.705882\n",
       "79        2809.523810\n",
       "87        5147.058824\n",
       "89         943.396226\n",
       "             ...     \n",
       "121150    1826.923077\n",
       "121151    1666.666667\n",
       "121152    2257.575758\n",
       "121155    1307.692308\n",
       "121156    1307.692308\n",
       "Name: recupero, Length: 23825, dtype: float64"
      ]
     },
     "metadata": {},
     "output_type": "display_data"
    },
    {
     "name": "stdout",
     "output_type": "stream",
     "text": [
      "\n",
      "Validacion de los datos recuperados\n"
     ]
    },
    {
     "data": {
      "text/html": [
       "<div>\n",
       "<style scoped>\n",
       "    .dataframe tbody tr th:only-of-type {\n",
       "        vertical-align: middle;\n",
       "    }\n",
       "\n",
       "    .dataframe tbody tr th {\n",
       "        vertical-align: top;\n",
       "    }\n",
       "\n",
       "    .dataframe thead th {\n",
       "        text-align: right;\n",
       "    }\n",
       "</style>\n",
       "<table border=\"1\" class=\"dataframe\">\n",
       "  <thead>\n",
       "    <tr style=\"text-align: right;\">\n",
       "      <th></th>\n",
       "      <th>price_usd_per_m2</th>\n",
       "      <th>recupero</th>\n",
       "    </tr>\n",
       "  </thead>\n",
       "  <tbody>\n",
       "    <tr>\n",
       "      <th>count</th>\n",
       "      <td>0.0</td>\n",
       "      <td>23825.00</td>\n",
       "    </tr>\n",
       "    <tr>\n",
       "      <th>mean</th>\n",
       "      <td>NaN</td>\n",
       "      <td>4400.26</td>\n",
       "    </tr>\n",
       "    <tr>\n",
       "      <th>std</th>\n",
       "      <td>NaN</td>\n",
       "      <td>33752.71</td>\n",
       "    </tr>\n",
       "    <tr>\n",
       "      <th>min</th>\n",
       "      <td>NaN</td>\n",
       "      <td>3.20</td>\n",
       "    </tr>\n",
       "    <tr>\n",
       "      <th>25%</th>\n",
       "      <td>NaN</td>\n",
       "      <td>1276.42</td>\n",
       "    </tr>\n",
       "    <tr>\n",
       "      <th>50%</th>\n",
       "      <td>NaN</td>\n",
       "      <td>1790.12</td>\n",
       "    </tr>\n",
       "    <tr>\n",
       "      <th>75%</th>\n",
       "      <td>NaN</td>\n",
       "      <td>2452.83</td>\n",
       "    </tr>\n",
       "    <tr>\n",
       "      <th>max</th>\n",
       "      <td>NaN</td>\n",
       "      <td>2600000.00</td>\n",
       "    </tr>\n",
       "  </tbody>\n",
       "</table>\n",
       "</div>"
      ],
      "text/plain": [
       "       price_usd_per_m2    recupero\n",
       "count               0.0    23825.00\n",
       "mean                NaN     4400.26\n",
       "std                 NaN    33752.71\n",
       "min                 NaN        3.20\n",
       "25%                 NaN     1276.42\n",
       "50%                 NaN     1790.12\n",
       "75%                 NaN     2452.83\n",
       "max                 NaN  2600000.00"
      ]
     },
     "metadata": {},
     "output_type": "display_data"
    },
    {
     "name": "stdout",
     "output_type": "stream",
     "text": [
      "Observacion:\n",
      "* Los 23825 valores efectivamente reemplazan Nans en price_usd_per_m2\n",
      "\n",
      "REEMPLAZO DE LOS VALORES\n",
      "Done\n"
     ]
    }
   ],
   "source": [
    "print(\n",
    "    \"ANALISIS DE RECUPERO price_usd_per_m2 POR price_aprox_usd/surface_total_in_m2_mod\"\n",
    ")\n",
    "mask_data = (\n",
    "    data_price.price_usd_per_m2.isna()\n",
    "    & data_price.price_aprox_usd.notna()\n",
    "    & data_price.surface_total_in_m2_mod.notna()\n",
    ")\n",
    "display(\n",
    "    data_price.loc[\n",
    "        mask_data, [\"price_usd_per_m2\", \"price_aprox_usd\", \"surface_total_in_m2_mod\"]\n",
    "    ]\n",
    ")\n",
    "print(\"Observacion:\\n* Potencial de recuperar 23825 datos\")\n",
    "\n",
    "print(\"\\nCreamos columna auxiliar para obtener los valores\")\n",
    "data_price[\"recupero\"] = (\n",
    "    data_price.loc[mask_data, \"price_aprox_usd\"]\n",
    "    / data_price.loc[mask_data, \"surface_total_in_m2_mod\"]\n",
    ")\n",
    "\n",
    "print(\"\\nAnalisis de la columna recupero\")\n",
    "mask_data = data_price.recupero.notna()\n",
    "display(data_price.loc[mask_data, \"recupero\"])\n",
    "\n",
    "print(\"\\nValidacion de los datos recuperados\")\n",
    "mask_data = data_price.price_usd_per_m2.isna()\n",
    "display(data_price.loc[mask_data, [\"price_usd_per_m2\", \"recupero\"]].describe().round(2))\n",
    "print(\n",
    "    \"Observacion:\\n* Los 23825 valores efectivamente reemplazan Nans en price_usd_per_m2\"\n",
    ")\n",
    "\n",
    "print(\"\\nREEMPLAZO DE LOS VALORES\")\n",
    "data_price[\"price_usd_per_m2\"].fillna(data_price[\"recupero\"], inplace=True)\n",
    "data_price.drop(\"recupero\", axis=1, inplace=True)\n",
    "print(\"Done\")"
   ]
  },
  {
   "cell_type": "code",
   "execution_count": 30,
   "id": "5060f878",
   "metadata": {},
   "outputs": [
    {
     "name": "stdout",
     "output_type": "stream",
     "text": [
      "data_price: ORIGINAL\n",
      "\n",
      ">> PORCENTAJE DE DATOS NULOS:\n",
      "\n",
      "price_usd_per_m2              32.20\n",
      "surface_total_in_m2           28.03\n",
      "price_per_m2                  13.59\n",
      "surface_covered_in_m2          9.54\n",
      "currency                       4.11\n",
      "price_aprox_usd                4.11\n",
      "price_aprox_local_currency     4.11\n",
      "price                          4.11\n",
      "\n",
      "data_price: ACTUAL\n",
      "\n",
      ">> PORCENTAJE DE DATOS NULOS:\n",
      "\n"
     ]
    },
    {
     "data": {
      "text/plain": [
       "surface_total_in_m2           28.28\n",
       "price_per_m2                  13.70\n",
       "surface_covered_in_m2          9.63\n",
       "price_usd_per_m2               8.65\n",
       "surface_total_in_m2_mod        4.51\n",
       "currency                       4.15\n",
       "price_aprox_usd                4.15\n",
       "price_aprox_local_currency     4.15\n",
       "price                          4.15\n",
       "dtype: float64"
      ]
     },
     "metadata": {},
     "output_type": "display_data"
    },
    {
     "name": "stdout",
     "output_type": "stream",
     "text": [
      "Resultado:\n",
      "* Se redujo la columna de price_usd_per_m2 de 32,2% a 8,65%\n"
     ]
    }
   ],
   "source": [
    "print(\"data_price: ORIGINAL\")\n",
    "print(\n",
    "    \"\"\"\n",
    ">> PORCENTAJE DE DATOS NULOS:\n",
    "\n",
    "price_usd_per_m2              32.20\n",
    "surface_total_in_m2           28.03\n",
    "price_per_m2                  13.59\n",
    "surface_covered_in_m2          9.54\n",
    "currency                       4.11\n",
    "price_aprox_usd                4.11\n",
    "price_aprox_local_currency     4.11\n",
    "price                          4.11\n",
    "\"\"\"\n",
    ")\n",
    "print(\"data_price: ACTUAL\\n\")\n",
    "porcentaje_nuloss(data_price)\n",
    "print(\"Resultado:\\n* Se redujo la columna de price_usd_per_m2 de 32,2% a 8,65%\")"
   ]
  },
  {
   "cell_type": "code",
   "execution_count": 31,
   "id": "01e7fb31",
   "metadata": {},
   "outputs": [
    {
     "name": "stdout",
     "output_type": "stream",
     "text": [
      "Shape actual de data_price: (100005, 9)\n"
     ]
    }
   ],
   "source": [
    "print(\"Shape actual de data_price:\", data_price.shape)"
   ]
  },
  {
   "cell_type": "code",
   "execution_count": null,
   "id": "c7c0a293",
   "metadata": {},
   "outputs": [],
   "source": []
  },
  {
   "cell_type": "markdown",
   "id": "1b1e6915",
   "metadata": {},
   "source": [
    "# 3. ANALISIS POR SUPERFICIE Y TIPO DE PROPIEDAD"
   ]
  },
  {
   "cell_type": "markdown",
   "id": "79585f20",
   "metadata": {},
   "source": [
    "**CELDA DE ACLARACIONES PERTINENTES:**\n",
    "\n",
    "- VARIABLES TIPO DATAFRAME CREADAS:\n",
    "    - data_apartment\n",
    "    - data_house\n",
    "    - data_ph\n",
    "    - data_store\n",
    "    - data_prop_type_sup: es el main dataset\n",
    "    - data_sur_cov_isna: dataset de recupero: nans de superficie cubierta\n",
    "    \n",
    "     \n",
    "- VARIABLES TIPO MASCARAS CREADAS:\n",
    "    - mascara_tipo_apartment: mascara booleana True is apartment\n",
    "    - mascara_tipo_house\n",
    "    - mascara_tipo_ph\n",
    "    - mascara_tipo_store\n",
    "    - mascara_outlier_apartment: mascara booleana False is outlier\n",
    "    - mascara_outlier_house: mascara booleana\n",
    "    - mascara_outlier_ph: mascara booleana\n",
    "    - mascara_outlier_store: mascara booleana\n",
    "    - mask_data: mascara auxiliar\n",
    "    \n",
    "    \n",
    "- VARIABLES TIPO SERIE:\n",
    "    - rango_outlier: es el retorno de la funcion def rango_extremos(...)\n",
    "    - serie_recupero: elementos que se añaden a la columna data_prop_type_sup['surface_covered_in_m2']\n",
    "\n",
    "\n",
    "- VARIABLE PANDAS:\n",
    "    - tabla_prop_type_sup: pivot_table de data_prop_type_sup\n",
    "    - NOTA: hay algunos groupby sin estar definidos dentro de objeto tipo grupo\n",
    "\n",
    "\n",
    "- VARIABLE PYTHON:\n",
    "    - recupero = int. cantidad de datos a recuperar. data_sur_cov_isna.shape[0]\n",
    "    - lista = list. valores numericos del indice de la serie_recupero\n",
    "\n",
    "\n",
    "- VARIABLES INDICES:\n",
    "    - indice_prop_type_sup: indice del dataframe terminado"
   ]
  },
  {
   "cell_type": "markdown",
   "id": "0f41f878",
   "metadata": {},
   "source": [
    "## DIVISION DEL DATAFRAME POR TIPO DE PROPIEDAD"
   ]
  },
  {
   "cell_type": "code",
   "execution_count": 32,
   "id": "6987f4ca",
   "metadata": {},
   "outputs": [
    {
     "data": {
      "text/plain": [
       "apartment    59591\n",
       "house        33144\n",
       "PH            5125\n",
       "store         3020\n",
       "Name: property_type, dtype: int64"
      ]
     },
     "execution_count": 32,
     "metadata": {},
     "output_type": "execute_result"
    }
   ],
   "source": [
    "data.property_type.value_counts()"
   ]
  },
  {
   "cell_type": "code",
   "execution_count": 33,
   "id": "7fd10c55",
   "metadata": {},
   "outputs": [],
   "source": [
    "def gaps_columns(titulo, serie):\n",
    "    fig, ax = plt.subplots(figsize=(12, 4))\n",
    "    barras = plt.bar(serie.index, serie)\n",
    "\n",
    "    for barra in barras:\n",
    "        x = barra.get_x()\n",
    "        y = barra.get_y()\n",
    "        ancho = barra.get_width()\n",
    "        plt.text(x + ancho / 2, y, round(y, 2), fontsize=10, color=\"black\", ha=\"center\")\n",
    "    plt.show()"
   ]
  },
  {
   "cell_type": "code",
   "execution_count": 34,
   "id": "6640fb6d",
   "metadata": {},
   "outputs": [],
   "source": [
    "mascara_tipo_apartment = data.property_type == \"apartment\"\n",
    "mascara_tipo_house = data.property_type == \"house\"\n",
    "mascara_tipo_ph = data.property_type == \"PH\"\n",
    "mascara_tipo_store = data.property_type == \"store\""
   ]
  },
  {
   "cell_type": "code",
   "execution_count": 35,
   "id": "fcfaa38c",
   "metadata": {},
   "outputs": [],
   "source": [
    "data_apartment = data[mascara_tipo_apartment]\n",
    "data_house = data[mascara_tipo_house]\n",
    "data_ph = data[mascara_tipo_ph]\n",
    "data_store = data[mascara_tipo_store]"
   ]
  },
  {
   "cell_type": "markdown",
   "id": "131496d4",
   "metadata": {},
   "source": [
    "----------------\n",
    "ANALISIS DE CARACTERISTICAS POR TIPO DE PROPIEDAD\n",
    "---------\n",
    "--------------"
   ]
  },
  {
   "cell_type": "markdown",
   "id": "93c52713",
   "metadata": {},
   "source": [
    "------------\n",
    "CREACION DE VARIABLE\n",
    "\n",
    "\n",
    "***CREAMOS EL DATAFRAME: DATA_PROP_TYPE_SUP***\n",
    "\n"
   ]
  },
  {
   "cell_type": "code",
   "execution_count": 36,
   "id": "d7254997",
   "metadata": {},
   "outputs": [
    {
     "data": {
      "text/html": [
       "<div>\n",
       "<style scoped>\n",
       "    .dataframe tbody tr th:only-of-type {\n",
       "        vertical-align: middle;\n",
       "    }\n",
       "\n",
       "    .dataframe tbody tr th {\n",
       "        vertical-align: top;\n",
       "    }\n",
       "\n",
       "    .dataframe thead th {\n",
       "        text-align: right;\n",
       "    }\n",
       "</style>\n",
       "<table border=\"1\" class=\"dataframe\">\n",
       "  <thead>\n",
       "    <tr style=\"text-align: right;\">\n",
       "      <th></th>\n",
       "      <th>state_name</th>\n",
       "      <th>property_type</th>\n",
       "      <th>surface_covered_in_m2</th>\n",
       "      <th>surface_total_in_m2</th>\n",
       "    </tr>\n",
       "  </thead>\n",
       "  <tbody>\n",
       "    <tr>\n",
       "      <th>0</th>\n",
       "      <td>Capital Federal</td>\n",
       "      <td>PH</td>\n",
       "      <td>40.0</td>\n",
       "      <td>55.0</td>\n",
       "    </tr>\n",
       "    <tr>\n",
       "      <th>1</th>\n",
       "      <td>Bs.As. G.B.A. Zona Sur</td>\n",
       "      <td>apartment</td>\n",
       "      <td>NaN</td>\n",
       "      <td>NaN</td>\n",
       "    </tr>\n",
       "    <tr>\n",
       "      <th>2</th>\n",
       "      <td>Capital Federal</td>\n",
       "      <td>apartment</td>\n",
       "      <td>55.0</td>\n",
       "      <td>55.0</td>\n",
       "    </tr>\n",
       "    <tr>\n",
       "      <th>3</th>\n",
       "      <td>Capital Federal</td>\n",
       "      <td>PH</td>\n",
       "      <td>NaN</td>\n",
       "      <td>NaN</td>\n",
       "    </tr>\n",
       "    <tr>\n",
       "      <th>4</th>\n",
       "      <td>Buenos Aires Costa Atlántica</td>\n",
       "      <td>apartment</td>\n",
       "      <td>35.0</td>\n",
       "      <td>35.0</td>\n",
       "    </tr>\n",
       "    <tr>\n",
       "      <th>...</th>\n",
       "      <td>...</td>\n",
       "      <td>...</td>\n",
       "      <td>...</td>\n",
       "      <td>...</td>\n",
       "    </tr>\n",
       "    <tr>\n",
       "      <th>121215</th>\n",
       "      <td>Capital Federal</td>\n",
       "      <td>apartment</td>\n",
       "      <td>93.0</td>\n",
       "      <td>113.0</td>\n",
       "    </tr>\n",
       "    <tr>\n",
       "      <th>121216</th>\n",
       "      <td>Bs.As. G.B.A. Zona Norte</td>\n",
       "      <td>house</td>\n",
       "      <td>360.0</td>\n",
       "      <td>360.0</td>\n",
       "    </tr>\n",
       "    <tr>\n",
       "      <th>121217</th>\n",
       "      <td>Capital Federal</td>\n",
       "      <td>apartment</td>\n",
       "      <td>39.0</td>\n",
       "      <td>46.0</td>\n",
       "    </tr>\n",
       "    <tr>\n",
       "      <th>121218</th>\n",
       "      <td>Buenos Aires Costa Atlántica</td>\n",
       "      <td>apartment</td>\n",
       "      <td>48.0</td>\n",
       "      <td>48.0</td>\n",
       "    </tr>\n",
       "    <tr>\n",
       "      <th>121219</th>\n",
       "      <td>Capital Federal</td>\n",
       "      <td>apartment</td>\n",
       "      <td>77.0</td>\n",
       "      <td>77.0</td>\n",
       "    </tr>\n",
       "  </tbody>\n",
       "</table>\n",
       "<p>100880 rows × 4 columns</p>\n",
       "</div>"
      ],
      "text/plain": [
       "                          state_name property_type  surface_covered_in_m2  \\\n",
       "0                    Capital Federal            PH                   40.0   \n",
       "1             Bs.As. G.B.A. Zona Sur     apartment                    NaN   \n",
       "2                    Capital Federal     apartment                   55.0   \n",
       "3                    Capital Federal            PH                    NaN   \n",
       "4       Buenos Aires Costa Atlántica     apartment                   35.0   \n",
       "...                              ...           ...                    ...   \n",
       "121215               Capital Federal     apartment                   93.0   \n",
       "121216      Bs.As. G.B.A. Zona Norte         house                  360.0   \n",
       "121217               Capital Federal     apartment                   39.0   \n",
       "121218  Buenos Aires Costa Atlántica     apartment                   48.0   \n",
       "121219               Capital Federal     apartment                   77.0   \n",
       "\n",
       "        surface_total_in_m2  \n",
       "0                      55.0  \n",
       "1                       NaN  \n",
       "2                      55.0  \n",
       "3                       NaN  \n",
       "4                      35.0  \n",
       "...                     ...  \n",
       "121215                113.0  \n",
       "121216                360.0  \n",
       "121217                 46.0  \n",
       "121218                 48.0  \n",
       "121219                 77.0  \n",
       "\n",
       "[100880 rows x 4 columns]"
      ]
     },
     "execution_count": 36,
     "metadata": {},
     "output_type": "execute_result"
    }
   ],
   "source": [
    "data_prop_type_sup = data[\n",
    "    [\"state_name\", \"property_type\", \"surface_covered_in_m2\", \"surface_total_in_m2\"]\n",
    "]\n",
    "data_prop_type_sup"
   ]
  },
  {
   "cell_type": "code",
   "execution_count": null,
   "id": "f53c01e3",
   "metadata": {},
   "outputs": [],
   "source": []
  },
  {
   "cell_type": "code",
   "execution_count": 37,
   "id": "a82a3681",
   "metadata": {},
   "outputs": [
    {
     "data": {
      "text/html": [
       "<div>\n",
       "<style scoped>\n",
       "    .dataframe tbody tr th:only-of-type {\n",
       "        vertical-align: middle;\n",
       "    }\n",
       "\n",
       "    .dataframe tbody tr th {\n",
       "        vertical-align: top;\n",
       "    }\n",
       "\n",
       "    .dataframe thead tr th {\n",
       "        text-align: left;\n",
       "    }\n",
       "\n",
       "    .dataframe thead tr:last-of-type th {\n",
       "        text-align: right;\n",
       "    }\n",
       "</style>\n",
       "<table border=\"1\" class=\"dataframe\">\n",
       "  <thead>\n",
       "    <tr>\n",
       "      <th></th>\n",
       "      <th colspan=\"2\" halign=\"left\">surface_covered_in_m2</th>\n",
       "    </tr>\n",
       "    <tr>\n",
       "      <th></th>\n",
       "      <th>count</th>\n",
       "      <th>sum</th>\n",
       "    </tr>\n",
       "    <tr>\n",
       "      <th>property_type</th>\n",
       "      <th></th>\n",
       "      <th></th>\n",
       "    </tr>\n",
       "  </thead>\n",
       "  <tbody>\n",
       "    <tr>\n",
       "      <th>PH</th>\n",
       "      <td>107</td>\n",
       "      <td>10682.0</td>\n",
       "    </tr>\n",
       "    <tr>\n",
       "      <th>apartment</th>\n",
       "      <td>1921</td>\n",
       "      <td>135978.0</td>\n",
       "    </tr>\n",
       "    <tr>\n",
       "      <th>house</th>\n",
       "      <td>1911</td>\n",
       "      <td>382329.0</td>\n",
       "    </tr>\n",
       "    <tr>\n",
       "      <th>store</th>\n",
       "      <td>52</td>\n",
       "      <td>6890.0</td>\n",
       "    </tr>\n",
       "  </tbody>\n",
       "</table>\n",
       "</div>"
      ],
      "text/plain": [
       "              surface_covered_in_m2          \n",
       "                              count       sum\n",
       "property_type                                \n",
       "PH                              107   10682.0\n",
       "apartment                      1921  135978.0\n",
       "house                          1911  382329.0\n",
       "store                            52    6890.0"
      ]
     },
     "metadata": {},
     "output_type": "display_data"
    },
    {
     "name": "stdout",
     "output_type": "stream",
     "text": [
      "Observacion:\n",
      "* Hicimos un groupby, por tipo de propiedad\n",
      "* Tomamos una muestra de las primeras 99 entradas\n",
      "* Aplicamos conteos y sumas \n",
      "* PH y apartment son valores parecido\n",
      "* house y stores se comportan de la misma manera\n",
      "* 2,3 veces sup_total is su_cov. HOUSE\n",
      "*  7 veces sup_total is sup_cov: STORES\n"
     ]
    }
   ],
   "source": [
    "columnas = [\"surface_covered_in_m2\"]\n",
    "indices = [\"property_type\"]\n",
    "display(\n",
    "    data_prop_type_sup[columnas + indices]\n",
    "    .loc[:5000]\n",
    "    .groupby(\"property_type\")\n",
    "    .aggregate([\"count\", \"sum\"])\n",
    ")\n",
    "\n",
    "print(\n",
    "    \"Observacion:\\n* Hicimos un groupby, por tipo de propiedad\\n* Tomamos una muestra de las primeras 99 entradas\\n* Aplicamos conteos y sumas \\n* PH y apartment son valores parecido\\n* house y stores se comportan de la misma manera\\n* 2,3 veces sup_total is su_cov. HOUSE\\n*  7 veces sup_total is sup_cov: STORES\"\n",
    ")"
   ]
  },
  {
   "cell_type": "code",
   "execution_count": null,
   "id": "168a4c67",
   "metadata": {},
   "outputs": [],
   "source": []
  },
  {
   "cell_type": "code",
   "execution_count": 38,
   "id": "a82d6a6e",
   "metadata": {},
   "outputs": [
    {
     "data": {
      "text/html": [
       "<div>\n",
       "<style scoped>\n",
       "    .dataframe tbody tr th:only-of-type {\n",
       "        vertical-align: middle;\n",
       "    }\n",
       "\n",
       "    .dataframe tbody tr th {\n",
       "        vertical-align: top;\n",
       "    }\n",
       "\n",
       "    .dataframe thead tr th {\n",
       "        text-align: left;\n",
       "    }\n",
       "\n",
       "    .dataframe thead tr:last-of-type th {\n",
       "        text-align: right;\n",
       "    }\n",
       "</style>\n",
       "<table border=\"1\" class=\"dataframe\">\n",
       "  <thead>\n",
       "    <tr>\n",
       "      <th></th>\n",
       "      <th></th>\n",
       "      <th>surface_covered_in_m2</th>\n",
       "      <th>surface_total_in_m2</th>\n",
       "    </tr>\n",
       "    <tr>\n",
       "      <th></th>\n",
       "      <th></th>\n",
       "      <th>count</th>\n",
       "      <th>count</th>\n",
       "    </tr>\n",
       "    <tr>\n",
       "      <th>state_name</th>\n",
       "      <th>property_type</th>\n",
       "      <th></th>\n",
       "      <th></th>\n",
       "    </tr>\n",
       "  </thead>\n",
       "  <tbody>\n",
       "    <tr>\n",
       "      <th rowspan=\"4\" valign=\"top\">Bs.As. G.B.A. Zona Norte</th>\n",
       "      <th>PH</th>\n",
       "      <td>907</td>\n",
       "      <td>634</td>\n",
       "    </tr>\n",
       "    <tr>\n",
       "      <th>apartment</th>\n",
       "      <td>9641</td>\n",
       "      <td>7746</td>\n",
       "    </tr>\n",
       "    <tr>\n",
       "      <th>house</th>\n",
       "      <td>12220</td>\n",
       "      <td>9531</td>\n",
       "    </tr>\n",
       "    <tr>\n",
       "      <th>store</th>\n",
       "      <td>461</td>\n",
       "      <td>361</td>\n",
       "    </tr>\n",
       "    <tr>\n",
       "      <th>Bs.As. G.B.A. Zona Oeste</th>\n",
       "      <th>PH</th>\n",
       "      <td>636</td>\n",
       "      <td>485</td>\n",
       "    </tr>\n",
       "    <tr>\n",
       "      <th>...</th>\n",
       "      <th>...</th>\n",
       "      <td>...</td>\n",
       "      <td>...</td>\n",
       "    </tr>\n",
       "    <tr>\n",
       "      <th>Tierra Del Fuego</th>\n",
       "      <th>store</th>\n",
       "      <td>2</td>\n",
       "      <td>2</td>\n",
       "    </tr>\n",
       "    <tr>\n",
       "      <th rowspan=\"4\" valign=\"top\">Tucumán</th>\n",
       "      <th>PH</th>\n",
       "      <td>1</td>\n",
       "      <td>1</td>\n",
       "    </tr>\n",
       "    <tr>\n",
       "      <th>apartment</th>\n",
       "      <td>96</td>\n",
       "      <td>148</td>\n",
       "    </tr>\n",
       "    <tr>\n",
       "      <th>house</th>\n",
       "      <td>22</td>\n",
       "      <td>45</td>\n",
       "    </tr>\n",
       "    <tr>\n",
       "      <th>store</th>\n",
       "      <td>4</td>\n",
       "      <td>11</td>\n",
       "    </tr>\n",
       "  </tbody>\n",
       "</table>\n",
       "<p>93 rows × 2 columns</p>\n",
       "</div>"
      ],
      "text/plain": [
       "                                       surface_covered_in_m2  \\\n",
       "                                                       count   \n",
       "state_name               property_type                         \n",
       "Bs.As. G.B.A. Zona Norte PH                              907   \n",
       "                         apartment                      9641   \n",
       "                         house                         12220   \n",
       "                         store                           461   \n",
       "Bs.As. G.B.A. Zona Oeste PH                              636   \n",
       "...                                                      ...   \n",
       "Tierra Del Fuego         store                             2   \n",
       "Tucumán                  PH                                1   \n",
       "                         apartment                        96   \n",
       "                         house                            22   \n",
       "                         store                             4   \n",
       "\n",
       "                                       surface_total_in_m2  \n",
       "                                                     count  \n",
       "state_name               property_type                      \n",
       "Bs.As. G.B.A. Zona Norte PH                            634  \n",
       "                         apartment                    7746  \n",
       "                         house                        9531  \n",
       "                         store                         361  \n",
       "Bs.As. G.B.A. Zona Oeste PH                            485  \n",
       "...                                                    ...  \n",
       "Tierra Del Fuego         store                           2  \n",
       "Tucumán                  PH                              1  \n",
       "                         apartment                     148  \n",
       "                         house                          45  \n",
       "                         store                          11  \n",
       "\n",
       "[93 rows x 2 columns]"
      ]
     },
     "execution_count": 38,
     "metadata": {},
     "output_type": "execute_result"
    }
   ],
   "source": [
    "columnas = [\"surface_covered_in_m2\", \"surface_total_in_m2\"]\n",
    "indices = [\"state_name\", \"property_type\"]\n",
    "\n",
    "\n",
    "agg = data_prop_type_sup[columnas + indices].groupby(indices).aggregate([\"count\"])\n",
    "agg"
   ]
  },
  {
   "cell_type": "code",
   "execution_count": 39,
   "id": "60419fc3",
   "metadata": {},
   "outputs": [],
   "source": [
    "# titulos = 'Distribucion de propiedades'\n",
    "# serie = agg.loc[:, 'house', :].surface_total_in_m2\n",
    "# serie = serie['count']\n",
    "# serie\n",
    "# print ('CASAS: Grafico de cantidad de casas distribuidos por localidad')\n",
    "# gaps_columns(titulos, serie)"
   ]
  },
  {
   "cell_type": "code",
   "execution_count": 40,
   "id": "ef228068",
   "metadata": {},
   "outputs": [
    {
     "data": {
      "text/html": [
       "<div>\n",
       "<style scoped>\n",
       "    .dataframe tbody tr th:only-of-type {\n",
       "        vertical-align: middle;\n",
       "    }\n",
       "\n",
       "    .dataframe tbody tr th {\n",
       "        vertical-align: top;\n",
       "    }\n",
       "\n",
       "    .dataframe thead tr th {\n",
       "        text-align: left;\n",
       "    }\n",
       "\n",
       "    .dataframe thead tr:last-of-type th {\n",
       "        text-align: right;\n",
       "    }\n",
       "</style>\n",
       "<table border=\"1\" class=\"dataframe\">\n",
       "  <thead>\n",
       "    <tr>\n",
       "      <th></th>\n",
       "      <th colspan=\"4\" halign=\"left\">surface_covered_in_m2</th>\n",
       "      <th colspan=\"4\" halign=\"left\">surface_total_in_m2</th>\n",
       "    </tr>\n",
       "    <tr>\n",
       "      <th></th>\n",
       "      <th colspan=\"4\" halign=\"left\">count</th>\n",
       "      <th colspan=\"4\" halign=\"left\">count</th>\n",
       "    </tr>\n",
       "    <tr>\n",
       "      <th>property_type</th>\n",
       "      <th>PH</th>\n",
       "      <th>apartment</th>\n",
       "      <th>house</th>\n",
       "      <th>store</th>\n",
       "      <th>PH</th>\n",
       "      <th>apartment</th>\n",
       "      <th>house</th>\n",
       "      <th>store</th>\n",
       "    </tr>\n",
       "    <tr>\n",
       "      <th>state_name</th>\n",
       "      <th></th>\n",
       "      <th></th>\n",
       "      <th></th>\n",
       "      <th></th>\n",
       "      <th></th>\n",
       "      <th></th>\n",
       "      <th></th>\n",
       "      <th></th>\n",
       "    </tr>\n",
       "  </thead>\n",
       "  <tbody>\n",
       "    <tr>\n",
       "      <th>Bs.As. G.B.A. Zona Norte</th>\n",
       "      <td>907.0</td>\n",
       "      <td>9641.0</td>\n",
       "      <td>12220.0</td>\n",
       "      <td>461.0</td>\n",
       "      <td>634.0</td>\n",
       "      <td>7746.0</td>\n",
       "      <td>9531.0</td>\n",
       "      <td>361.0</td>\n",
       "    </tr>\n",
       "    <tr>\n",
       "      <th>Bs.As. G.B.A. Zona Oeste</th>\n",
       "      <td>636.0</td>\n",
       "      <td>2901.0</td>\n",
       "      <td>3526.0</td>\n",
       "      <td>159.0</td>\n",
       "      <td>485.0</td>\n",
       "      <td>1948.0</td>\n",
       "      <td>3066.0</td>\n",
       "      <td>113.0</td>\n",
       "    </tr>\n",
       "    <tr>\n",
       "      <th>Bs.As. G.B.A. Zona Sur</th>\n",
       "      <td>595.0</td>\n",
       "      <td>4218.0</td>\n",
       "      <td>4764.0</td>\n",
       "      <td>365.0</td>\n",
       "      <td>327.0</td>\n",
       "      <td>3100.0</td>\n",
       "      <td>2682.0</td>\n",
       "      <td>266.0</td>\n",
       "    </tr>\n",
       "    <tr>\n",
       "      <th>Buenos Aires Costa Atlántica</th>\n",
       "      <td>393.0</td>\n",
       "      <td>4602.0</td>\n",
       "      <td>2048.0</td>\n",
       "      <td>151.0</td>\n",
       "      <td>364.0</td>\n",
       "      <td>4300.0</td>\n",
       "      <td>1884.0</td>\n",
       "      <td>142.0</td>\n",
       "    </tr>\n",
       "    <tr>\n",
       "      <th>Buenos Aires Interior</th>\n",
       "      <td>35.0</td>\n",
       "      <td>608.0</td>\n",
       "      <td>904.0</td>\n",
       "      <td>36.0</td>\n",
       "      <td>24.0</td>\n",
       "      <td>349.0</td>\n",
       "      <td>749.0</td>\n",
       "      <td>34.0</td>\n",
       "    </tr>\n",
       "    <tr>\n",
       "      <th>Capital Federal</th>\n",
       "      <td>1684.0</td>\n",
       "      <td>23358.0</td>\n",
       "      <td>1768.0</td>\n",
       "      <td>1049.0</td>\n",
       "      <td>1274.0</td>\n",
       "      <td>20378.0</td>\n",
       "      <td>1400.0</td>\n",
       "      <td>924.0</td>\n",
       "    </tr>\n",
       "    <tr>\n",
       "      <th>Catamarca</th>\n",
       "      <td>NaN</td>\n",
       "      <td>11.0</td>\n",
       "      <td>10.0</td>\n",
       "      <td>NaN</td>\n",
       "      <td>NaN</td>\n",
       "      <td>0.0</td>\n",
       "      <td>6.0</td>\n",
       "      <td>NaN</td>\n",
       "    </tr>\n",
       "    <tr>\n",
       "      <th>Chaco</th>\n",
       "      <td>NaN</td>\n",
       "      <td>8.0</td>\n",
       "      <td>20.0</td>\n",
       "      <td>3.0</td>\n",
       "      <td>NaN</td>\n",
       "      <td>8.0</td>\n",
       "      <td>21.0</td>\n",
       "      <td>2.0</td>\n",
       "    </tr>\n",
       "    <tr>\n",
       "      <th>Chubut</th>\n",
       "      <td>3.0</td>\n",
       "      <td>15.0</td>\n",
       "      <td>35.0</td>\n",
       "      <td>5.0</td>\n",
       "      <td>3.0</td>\n",
       "      <td>19.0</td>\n",
       "      <td>63.0</td>\n",
       "      <td>8.0</td>\n",
       "    </tr>\n",
       "    <tr>\n",
       "      <th>Corrientes</th>\n",
       "      <td>53.0</td>\n",
       "      <td>109.0</td>\n",
       "      <td>247.0</td>\n",
       "      <td>11.0</td>\n",
       "      <td>35.0</td>\n",
       "      <td>120.0</td>\n",
       "      <td>154.0</td>\n",
       "      <td>6.0</td>\n",
       "    </tr>\n",
       "    <tr>\n",
       "      <th>Córdoba</th>\n",
       "      <td>146.0</td>\n",
       "      <td>3588.0</td>\n",
       "      <td>2988.0</td>\n",
       "      <td>187.0</td>\n",
       "      <td>56.0</td>\n",
       "      <td>2537.0</td>\n",
       "      <td>1246.0</td>\n",
       "      <td>114.0</td>\n",
       "    </tr>\n",
       "    <tr>\n",
       "      <th>Entre Ríos</th>\n",
       "      <td>4.0</td>\n",
       "      <td>42.0</td>\n",
       "      <td>86.0</td>\n",
       "      <td>3.0</td>\n",
       "      <td>4.0</td>\n",
       "      <td>60.0</td>\n",
       "      <td>75.0</td>\n",
       "      <td>4.0</td>\n",
       "    </tr>\n",
       "    <tr>\n",
       "      <th>Formosa</th>\n",
       "      <td>NaN</td>\n",
       "      <td>0.0</td>\n",
       "      <td>NaN</td>\n",
       "      <td>NaN</td>\n",
       "      <td>NaN</td>\n",
       "      <td>29.0</td>\n",
       "      <td>NaN</td>\n",
       "      <td>NaN</td>\n",
       "    </tr>\n",
       "    <tr>\n",
       "      <th>Jujuy</th>\n",
       "      <td>NaN</td>\n",
       "      <td>2.0</td>\n",
       "      <td>8.0</td>\n",
       "      <td>NaN</td>\n",
       "      <td>NaN</td>\n",
       "      <td>1.0</td>\n",
       "      <td>3.0</td>\n",
       "      <td>NaN</td>\n",
       "    </tr>\n",
       "    <tr>\n",
       "      <th>La Pampa</th>\n",
       "      <td>NaN</td>\n",
       "      <td>6.0</td>\n",
       "      <td>13.0</td>\n",
       "      <td>2.0</td>\n",
       "      <td>NaN</td>\n",
       "      <td>2.0</td>\n",
       "      <td>8.0</td>\n",
       "      <td>2.0</td>\n",
       "    </tr>\n",
       "    <tr>\n",
       "      <th>La Rioja</th>\n",
       "      <td>NaN</td>\n",
       "      <td>NaN</td>\n",
       "      <td>2.0</td>\n",
       "      <td>NaN</td>\n",
       "      <td>NaN</td>\n",
       "      <td>NaN</td>\n",
       "      <td>1.0</td>\n",
       "      <td>NaN</td>\n",
       "    </tr>\n",
       "    <tr>\n",
       "      <th>Mendoza</th>\n",
       "      <td>2.0</td>\n",
       "      <td>261.0</td>\n",
       "      <td>185.0</td>\n",
       "      <td>17.0</td>\n",
       "      <td>2.0</td>\n",
       "      <td>188.0</td>\n",
       "      <td>143.0</td>\n",
       "      <td>16.0</td>\n",
       "    </tr>\n",
       "    <tr>\n",
       "      <th>Misiones</th>\n",
       "      <td>1.0</td>\n",
       "      <td>92.0</td>\n",
       "      <td>152.0</td>\n",
       "      <td>2.0</td>\n",
       "      <td>2.0</td>\n",
       "      <td>125.0</td>\n",
       "      <td>132.0</td>\n",
       "      <td>2.0</td>\n",
       "    </tr>\n",
       "    <tr>\n",
       "      <th>Neuquén</th>\n",
       "      <td>84.0</td>\n",
       "      <td>147.0</td>\n",
       "      <td>94.0</td>\n",
       "      <td>7.0</td>\n",
       "      <td>78.0</td>\n",
       "      <td>144.0</td>\n",
       "      <td>75.0</td>\n",
       "      <td>7.0</td>\n",
       "    </tr>\n",
       "    <tr>\n",
       "      <th>Río Negro</th>\n",
       "      <td>10.0</td>\n",
       "      <td>148.0</td>\n",
       "      <td>70.0</td>\n",
       "      <td>9.0</td>\n",
       "      <td>5.0</td>\n",
       "      <td>88.0</td>\n",
       "      <td>75.0</td>\n",
       "      <td>21.0</td>\n",
       "    </tr>\n",
       "    <tr>\n",
       "      <th>Salta</th>\n",
       "      <td>NaN</td>\n",
       "      <td>46.0</td>\n",
       "      <td>38.0</td>\n",
       "      <td>1.0</td>\n",
       "      <td>NaN</td>\n",
       "      <td>38.0</td>\n",
       "      <td>33.0</td>\n",
       "      <td>1.0</td>\n",
       "    </tr>\n",
       "    <tr>\n",
       "      <th>San Juan</th>\n",
       "      <td>NaN</td>\n",
       "      <td>4.0</td>\n",
       "      <td>4.0</td>\n",
       "      <td>NaN</td>\n",
       "      <td>NaN</td>\n",
       "      <td>3.0</td>\n",
       "      <td>3.0</td>\n",
       "      <td>NaN</td>\n",
       "    </tr>\n",
       "    <tr>\n",
       "      <th>San Luis</th>\n",
       "      <td>0.0</td>\n",
       "      <td>13.0</td>\n",
       "      <td>142.0</td>\n",
       "      <td>7.0</td>\n",
       "      <td>0.0</td>\n",
       "      <td>12.0</td>\n",
       "      <td>128.0</td>\n",
       "      <td>5.0</td>\n",
       "    </tr>\n",
       "    <tr>\n",
       "      <th>Santa Cruz</th>\n",
       "      <td>NaN</td>\n",
       "      <td>0.0</td>\n",
       "      <td>8.0</td>\n",
       "      <td>1.0</td>\n",
       "      <td>NaN</td>\n",
       "      <td>0.0</td>\n",
       "      <td>10.0</td>\n",
       "      <td>1.0</td>\n",
       "    </tr>\n",
       "    <tr>\n",
       "      <th>Santa Fe</th>\n",
       "      <td>36.0</td>\n",
       "      <td>3944.0</td>\n",
       "      <td>878.0</td>\n",
       "      <td>61.0</td>\n",
       "      <td>13.0</td>\n",
       "      <td>3625.0</td>\n",
       "      <td>667.0</td>\n",
       "      <td>56.0</td>\n",
       "    </tr>\n",
       "    <tr>\n",
       "      <th>Santiago Del Estero</th>\n",
       "      <td>NaN</td>\n",
       "      <td>1.0</td>\n",
       "      <td>2.0</td>\n",
       "      <td>NaN</td>\n",
       "      <td>NaN</td>\n",
       "      <td>1.0</td>\n",
       "      <td>2.0</td>\n",
       "      <td>NaN</td>\n",
       "    </tr>\n",
       "    <tr>\n",
       "      <th>Tierra Del Fuego</th>\n",
       "      <td>NaN</td>\n",
       "      <td>8.0</td>\n",
       "      <td>16.0</td>\n",
       "      <td>2.0</td>\n",
       "      <td>NaN</td>\n",
       "      <td>10.0</td>\n",
       "      <td>16.0</td>\n",
       "      <td>2.0</td>\n",
       "    </tr>\n",
       "    <tr>\n",
       "      <th>Tucumán</th>\n",
       "      <td>1.0</td>\n",
       "      <td>96.0</td>\n",
       "      <td>22.0</td>\n",
       "      <td>4.0</td>\n",
       "      <td>1.0</td>\n",
       "      <td>148.0</td>\n",
       "      <td>45.0</td>\n",
       "      <td>11.0</td>\n",
       "    </tr>\n",
       "  </tbody>\n",
       "</table>\n",
       "</div>"
      ],
      "text/plain": [
       "                             surface_covered_in_m2                             \\\n",
       "                                             count                              \n",
       "property_type                                   PH apartment    house   store   \n",
       "state_name                                                                      \n",
       "Bs.As. G.B.A. Zona Norte                     907.0    9641.0  12220.0   461.0   \n",
       "Bs.As. G.B.A. Zona Oeste                     636.0    2901.0   3526.0   159.0   \n",
       "Bs.As. G.B.A. Zona Sur                       595.0    4218.0   4764.0   365.0   \n",
       "Buenos Aires Costa Atlántica                 393.0    4602.0   2048.0   151.0   \n",
       "Buenos Aires Interior                         35.0     608.0    904.0    36.0   \n",
       "Capital Federal                             1684.0   23358.0   1768.0  1049.0   \n",
       "Catamarca                                      NaN      11.0     10.0     NaN   \n",
       "Chaco                                          NaN       8.0     20.0     3.0   \n",
       "Chubut                                         3.0      15.0     35.0     5.0   \n",
       "Corrientes                                    53.0     109.0    247.0    11.0   \n",
       "Córdoba                                      146.0    3588.0   2988.0   187.0   \n",
       "Entre Ríos                                     4.0      42.0     86.0     3.0   \n",
       "Formosa                                        NaN       0.0      NaN     NaN   \n",
       "Jujuy                                          NaN       2.0      8.0     NaN   \n",
       "La Pampa                                       NaN       6.0     13.0     2.0   \n",
       "La Rioja                                       NaN       NaN      2.0     NaN   \n",
       "Mendoza                                        2.0     261.0    185.0    17.0   \n",
       "Misiones                                       1.0      92.0    152.0     2.0   \n",
       "Neuquén                                       84.0     147.0     94.0     7.0   \n",
       "Río Negro                                     10.0     148.0     70.0     9.0   \n",
       "Salta                                          NaN      46.0     38.0     1.0   \n",
       "San Juan                                       NaN       4.0      4.0     NaN   \n",
       "San Luis                                       0.0      13.0    142.0     7.0   \n",
       "Santa Cruz                                     NaN       0.0      8.0     1.0   \n",
       "Santa Fe                                      36.0    3944.0    878.0    61.0   \n",
       "Santiago Del Estero                            NaN       1.0      2.0     NaN   \n",
       "Tierra Del Fuego                               NaN       8.0     16.0     2.0   \n",
       "Tucumán                                        1.0      96.0     22.0     4.0   \n",
       "\n",
       "                             surface_total_in_m2                           \n",
       "                                           count                           \n",
       "property_type                                 PH apartment   house  store  \n",
       "state_name                                                                 \n",
       "Bs.As. G.B.A. Zona Norte                   634.0    7746.0  9531.0  361.0  \n",
       "Bs.As. G.B.A. Zona Oeste                   485.0    1948.0  3066.0  113.0  \n",
       "Bs.As. G.B.A. Zona Sur                     327.0    3100.0  2682.0  266.0  \n",
       "Buenos Aires Costa Atlántica               364.0    4300.0  1884.0  142.0  \n",
       "Buenos Aires Interior                       24.0     349.0   749.0   34.0  \n",
       "Capital Federal                           1274.0   20378.0  1400.0  924.0  \n",
       "Catamarca                                    NaN       0.0     6.0    NaN  \n",
       "Chaco                                        NaN       8.0    21.0    2.0  \n",
       "Chubut                                       3.0      19.0    63.0    8.0  \n",
       "Corrientes                                  35.0     120.0   154.0    6.0  \n",
       "Córdoba                                     56.0    2537.0  1246.0  114.0  \n",
       "Entre Ríos                                   4.0      60.0    75.0    4.0  \n",
       "Formosa                                      NaN      29.0     NaN    NaN  \n",
       "Jujuy                                        NaN       1.0     3.0    NaN  \n",
       "La Pampa                                     NaN       2.0     8.0    2.0  \n",
       "La Rioja                                     NaN       NaN     1.0    NaN  \n",
       "Mendoza                                      2.0     188.0   143.0   16.0  \n",
       "Misiones                                     2.0     125.0   132.0    2.0  \n",
       "Neuquén                                     78.0     144.0    75.0    7.0  \n",
       "Río Negro                                    5.0      88.0    75.0   21.0  \n",
       "Salta                                        NaN      38.0    33.0    1.0  \n",
       "San Juan                                     NaN       3.0     3.0    NaN  \n",
       "San Luis                                     0.0      12.0   128.0    5.0  \n",
       "Santa Cruz                                   NaN       0.0    10.0    1.0  \n",
       "Santa Fe                                    13.0    3625.0   667.0   56.0  \n",
       "Santiago Del Estero                          NaN       1.0     2.0    NaN  \n",
       "Tierra Del Fuego                             NaN      10.0    16.0    2.0  \n",
       "Tucumán                                      1.0     148.0    45.0   11.0  "
      ]
     },
     "execution_count": 40,
     "metadata": {},
     "output_type": "execute_result"
    }
   ],
   "source": [
    "serie_x = agg.index\n",
    "matrix = agg.unstack()\n",
    "matrix"
   ]
  },
  {
   "cell_type": "code",
   "execution_count": 41,
   "id": "a4da6250",
   "metadata": {},
   "outputs": [
    {
     "data": {
      "text/plain": [
       "'\\nEn base a la informacion que tenemos en agg quiero hacer un boxplot para ver cual es el rango de variabilidad de eso, o algo referido al precio tambien. Sepa entender.\\n'"
      ]
     },
     "execution_count": 41,
     "metadata": {},
     "output_type": "execute_result"
    }
   ],
   "source": [
    "\"\"\"\n",
    "En base a la informacion que tenemos en agg quiero hacer un boxplot para ver cual es el rango de variabilidad de eso, o algo referido al precio tambien. Sepa entender.\n",
    "\"\"\""
   ]
  },
  {
   "cell_type": "markdown",
   "id": "f4f08448",
   "metadata": {},
   "source": [
    "------------\n",
    "\n",
    "MODULO DE OUTLIERS\n",
    "----------\n",
    "-------------"
   ]
  },
  {
   "cell_type": "code",
   "execution_count": 42,
   "id": "324ee77c",
   "metadata": {},
   "outputs": [],
   "source": [
    "def rango_extremos(frame, label, quant_list=[2.5, 97.5]):\n",
    "    for i, v in enumerate(quant_list):\n",
    "        if v < 0 or v > 1:\n",
    "            quant_list[i] = v / 100\n",
    "\n",
    "    rango_outlier = frame[label].quantile(quant_list)\n",
    "    print(\n",
    "        \"range_outlier: type: {}, len: {}\".format(\n",
    "            type(rango_outlier), len(rango_outlier)\n",
    "        )\n",
    "    )\n",
    "    return list(rango_outlier)\n",
    "\n",
    "\n",
    "def mascara_outlier(frame, label):\n",
    "    rango_outlier = rango_extremos(frame=frame, label=label)\n",
    "    mascara_outlier = (frame[label].dropna() >= rango_outlier[0]) & (\n",
    "        frame[label].dropna() <= rango_outlier[1]\n",
    "    )\n",
    "    return mascara_outlier"
   ]
  },
  {
   "cell_type": "markdown",
   "id": "b3e87a6d",
   "metadata": {},
   "source": [
    "------\n",
    "                                                    Outlier Departamentos\n",
    "\n",
    "----------"
   ]
  },
  {
   "cell_type": "code",
   "execution_count": 43,
   "id": "60d77ddf",
   "metadata": {},
   "outputs": [
    {
     "name": "stdout",
     "output_type": "stream",
     "text": [
      "range_outlier: type: <class 'pandas.core.series.Series'>, len: 2\n",
      "Cantidad de elementos iniciales: 59591\n",
      "Cantidad de outliers encontrados: 2629\n",
      "Porcentaje de reduccion de la categoría: 4.41%\n"
     ]
    }
   ],
   "source": [
    "##### Filtro valores_extremos en data sup covered apartment segun percentiles\n",
    "\n",
    "mascara_outlier_apartment = mascara_outlier(data_apartment, \"surface_covered_in_m2\")\n",
    "\n",
    "print(\"Cantidad de elementos iniciales: {}\".format(data_apartment.shape[0]))\n",
    "print(\n",
    "    \"Cantidad de outliers encontrados: {}\".format(\n",
    "        mascara_outlier_apartment[mascara_outlier_apartment == False].count()\n",
    "    )\n",
    ")\n",
    "print(\n",
    "    \"Porcentaje de reduccion de la categoría: {}%\".format(\n",
    "        round(\n",
    "            mascara_outlier_apartment[mascara_outlier_apartment == False].count()\n",
    "            / data_apartment.shape[0]\n",
    "            * 100,\n",
    "            2,\n",
    "        )\n",
    "    )\n",
    ")"
   ]
  },
  {
   "cell_type": "code",
   "execution_count": 44,
   "id": "c0a1bbe4",
   "metadata": {},
   "outputs": [
    {
     "name": "stdout",
     "output_type": "stream",
     "text": [
      "\n",
      "Cantidad de elementos inciales: 100880\n",
      "Cantidad de elementos finales: 98251\n"
     ]
    },
    {
     "name": "stderr",
     "output_type": "stream",
     "text": [
      "C:\\Users\\dh\\anaconda3\\envs\\dhdsblend2021\\lib\\site-packages\\seaborn\\_decorators.py:36: FutureWarning: Pass the following variable as a keyword arg: x. From version 0.12, the only valid positional argument will be `data`, and passing other arguments without an explicit keyword will result in an error or misinterpretation.\n",
      "  warnings.warn(\n"
     ]
    },
    {
     "data": {
      "text/plain": [
       "Text(0.5, 0, 'apartment')"
      ]
     },
     "execution_count": 44,
     "metadata": {},
     "output_type": "execute_result"
    },
    {
     "data": {
      "image/png": "[encoded data removed]",
      "text/plain": [
       "<Figure size 432x288 with 1 Axes>"
      ]
     },
     "metadata": {
      "needs_background": "light"
     },
     "output_type": "display_data"
    }
   ],
   "source": [
    "## este dataframe abarca todos los tipos de propiedades pero vamos a quitar solo los outliers de apartment\n",
    "\n",
    "print(\"\\nCantidad de elementos inciales:\", data_prop_type_sup.shape[0])\n",
    "data_prop_type_sup = data_prop_type_sup.drop(\n",
    "    mascara_outlier_apartment[mascara_outlier_apartment == False].index\n",
    ")\n",
    "print(\"Cantidad de elementos finales:\", data_prop_type_sup.shape[0])\n",
    "\n",
    "sns.boxplot(data_prop_type_sup.loc[mascara_tipo_apartment, \"surface_covered_in_m2\"])\n",
    "plt.title(\"BoxPlot surface_covered_in_m2\")\n",
    "plt.xlabel(\"apartment\")"
   ]
  },
  {
   "cell_type": "markdown",
   "id": "e23e18a3",
   "metadata": {},
   "source": [
    "------\n",
    "                                                    Outlier Casas\n",
    "\n",
    "----------"
   ]
  },
  {
   "cell_type": "code",
   "execution_count": 45,
   "id": "6c487d8a",
   "metadata": {},
   "outputs": [
    {
     "name": "stdout",
     "output_type": "stream",
     "text": [
      "range_outlier: type: <class 'pandas.core.series.Series'>, len: 2\n",
      "Cantidad de elementos iniciales: 33144\n",
      "Cantidad de outliers encontrados: 892\n",
      "Porcentaje de reduccion de la categoría: 2.69%\n"
     ]
    }
   ],
   "source": [
    "rango_outlier = rango_extremos(data_house, \"surface_covered_in_m2\", [2.5, 97.5])\n",
    "rango_outlier = list(rango_outlier)\n",
    "\n",
    "mascara_outlier_house = (\n",
    "    data_house.surface_covered_in_m2.dropna() >= rango_outlier[0]\n",
    ") & (data_house.surface_covered_in_m2.dropna() <= rango_outlier[1])\n",
    "\n",
    "print(\"Cantidad de elementos iniciales: {}\".format(data_house.shape[0]))\n",
    "print(\n",
    "    \"Cantidad de outliers encontrados: {}\".format(\n",
    "        mascara_outlier_house[mascara_outlier_house == False].count()\n",
    "    )\n",
    ")\n",
    "print(\n",
    "    \"Porcentaje de reduccion de la categoría: {}%\".format(\n",
    "        round(\n",
    "            mascara_outlier_house[mascara_outlier_house == False].count()\n",
    "            / data_house.shape[0]\n",
    "            * 100,\n",
    "            2,\n",
    "        )\n",
    "    )\n",
    ")"
   ]
  },
  {
   "cell_type": "code",
   "execution_count": 46,
   "id": "2ef9dee3",
   "metadata": {},
   "outputs": [
    {
     "name": "stdout",
     "output_type": "stream",
     "text": [
      "\n",
      "Cantidad de elementos inciales: 98251\n",
      "Cantidad de elementos finales: 97359\n"
     ]
    },
    {
     "name": "stderr",
     "output_type": "stream",
     "text": [
      "C:\\Users\\dh\\anaconda3\\envs\\dhdsblend2021\\lib\\site-packages\\seaborn\\_decorators.py:36: FutureWarning: Pass the following variable as a keyword arg: x. From version 0.12, the only valid positional argument will be `data`, and passing other arguments without an explicit keyword will result in an error or misinterpretation.\n",
      "  warnings.warn(\n"
     ]
    },
    {
     "data": {
      "text/plain": [
       "Text(0.5, 0, 'house')"
      ]
     },
     "execution_count": 46,
     "metadata": {},
     "output_type": "execute_result"
    },
    {
     "data": {
      "image/png": "[encoded data removed]",
      "text/plain": [
       "<Figure size 432x288 with 1 Axes>"
      ]
     },
     "metadata": {
      "needs_background": "light"
     },
     "output_type": "display_data"
    }
   ],
   "source": [
    "## este dataframe abarca todos los tipos de propiedades pero vamos a quitar solo los outliers de apartment\n",
    "print(\"\\nCantidad de elementos inciales:\", data_prop_type_sup.shape[0])\n",
    "data_prop_type_sup = data_prop_type_sup.drop(\n",
    "    mascara_outlier_house[mascara_outlier_house == False].index\n",
    ")\n",
    "print(\"Cantidad de elementos finales:\", data_prop_type_sup.shape[0])\n",
    "\n",
    "sns.boxplot(data_prop_type_sup.loc[mascara_tipo_house, \"surface_covered_in_m2\"])\n",
    "plt.title(\"BoxPlot surface_covered_in_m2\")\n",
    "plt.xlabel(\"house\")"
   ]
  },
  {
   "cell_type": "markdown",
   "id": "ef7fa3e3",
   "metadata": {},
   "source": [
    "------\n",
    "                                                    Outlier PH\n",
    "\n",
    "----------"
   ]
  },
  {
   "cell_type": "code",
   "execution_count": 47,
   "id": "f1f92062",
   "metadata": {},
   "outputs": [
    {
     "name": "stdout",
     "output_type": "stream",
     "text": [
      "range_outlier: type: <class 'pandas.core.series.Series'>, len: 2\n",
      "Cantidad de elementos iniciales: 5125\n",
      "Cantidad de outliers encontrados: 152\n",
      "Porcentaje de reduccion de la categoría: 2.97%\n"
     ]
    }
   ],
   "source": [
    "rango_outlier = rango_extremos(data_ph, \"surface_covered_in_m2\", [2.5, 97.5])\n",
    "rango_outlier = list(rango_outlier)\n",
    "\n",
    "mascara_outlier_ph = (data_ph.surface_covered_in_m2.dropna() >= rango_outlier[0]) & (\n",
    "    data_ph.surface_covered_in_m2.dropna() <= rango_outlier[1]\n",
    ")\n",
    "\n",
    "print(\"Cantidad de elementos iniciales: {}\".format(data_ph.shape[0]))\n",
    "print(\n",
    "    \"Cantidad de outliers encontrados: {}\".format(\n",
    "        mascara_outlier_ph[mascara_outlier_ph == False].count()\n",
    "    )\n",
    ")\n",
    "print(\n",
    "    \"Porcentaje de reduccion de la categoría: {}%\".format(\n",
    "        round(\n",
    "            mascara_outlier_ph[mascara_outlier_ph == False].count()\n",
    "            / data_ph.shape[0]\n",
    "            * 100,\n",
    "            2,\n",
    "        )\n",
    "    )\n",
    ")"
   ]
  },
  {
   "cell_type": "code",
   "execution_count": 48,
   "id": "ee3ce91f",
   "metadata": {},
   "outputs": [
    {
     "name": "stdout",
     "output_type": "stream",
     "text": [
      "\n",
      "Cantidad de elementos inciales: 97359\n",
      "Cantidad de elementos finales: 97207\n"
     ]
    },
    {
     "name": "stderr",
     "output_type": "stream",
     "text": [
      "C:\\Users\\dh\\anaconda3\\envs\\dhdsblend2021\\lib\\site-packages\\seaborn\\_decorators.py:36: FutureWarning: Pass the following variable as a keyword arg: x. From version 0.12, the only valid positional argument will be `data`, and passing other arguments without an explicit keyword will result in an error or misinterpretation.\n",
      "  warnings.warn(\n"
     ]
    },
    {
     "data": {
      "text/plain": [
       "Text(0.5, 0, 'PH')"
      ]
     },
     "execution_count": 48,
     "metadata": {},
     "output_type": "execute_result"
    },
    {
     "data": {
      "image/png": "[encoded data removed]",
      "text/plain": [
       "<Figure size 432x288 with 1 Axes>"
      ]
     },
     "metadata": {
      "needs_background": "light"
     },
     "output_type": "display_data"
    }
   ],
   "source": [
    "## este dataframe abarca todos los tipos de propiedades pero vamos a quitar solo los outliers de apartment\n",
    "print(\"\\nCantidad de elementos inciales:\", data_prop_type_sup.shape[0])\n",
    "data_prop_type_sup = data_prop_type_sup.drop(\n",
    "    mascara_outlier_ph[mascara_outlier_ph == False].index\n",
    ")\n",
    "print(\"Cantidad de elementos finales:\", data_prop_type_sup.shape[0])\n",
    "\n",
    "sns.boxplot(data_prop_type_sup.loc[mascara_tipo_ph, \"surface_covered_in_m2\"])\n",
    "plt.title(\"BoxPlot surface_covered_in_m2\")\n",
    "plt.xlabel(\"PH\")"
   ]
  },
  {
   "cell_type": "markdown",
   "id": "4b1494ae",
   "metadata": {},
   "source": [
    "------\n",
    "                                                    Outlier Store\n",
    "\n",
    "----------"
   ]
  },
  {
   "cell_type": "code",
   "execution_count": 49,
   "id": "541850e5",
   "metadata": {},
   "outputs": [
    {
     "name": "stdout",
     "output_type": "stream",
     "text": [
      "range_outlier: type: <class 'pandas.core.series.Series'>, len: 2\n",
      "Cantidad de elementos iniciales: 3020\n",
      "Cantidad de outliers encontrados: 163\n",
      "Porcentaje de reduccion de la categoría: 5.4%\n"
     ]
    }
   ],
   "source": [
    "rango_outlier = rango_extremos(data_store, \"surface_covered_in_m2\", [2.5, 96])\n",
    "rango_outlier = list(rango_outlier)\n",
    "\n",
    "mascara_outlier_store = (\n",
    "    data_store.surface_covered_in_m2.dropna() >= rango_outlier[0]\n",
    ") & (data_store.surface_covered_in_m2.dropna() <= rango_outlier[1])\n",
    "\n",
    "print(\"Cantidad de elementos iniciales: {}\".format(data_store.shape[0]))\n",
    "print(\n",
    "    \"Cantidad de outliers encontrados: {}\".format(\n",
    "        mascara_outlier_store[mascara_outlier_store == False].count()\n",
    "    )\n",
    ")\n",
    "print(\n",
    "    \"Porcentaje de reduccion de la categoría: {}%\".format(\n",
    "        round(\n",
    "            mascara_outlier_store[mascara_outlier_store == False].count()\n",
    "            / data_store.shape[0]\n",
    "            * 100,\n",
    "            2,\n",
    "        )\n",
    "    )\n",
    ")"
   ]
  },
  {
   "cell_type": "code",
   "execution_count": 50,
   "id": "f602f3ad",
   "metadata": {},
   "outputs": [
    {
     "name": "stdout",
     "output_type": "stream",
     "text": [
      "Cantidad de elementos inciales: 97207\n",
      "Cantidad de elementos finales: 97044\n"
     ]
    },
    {
     "name": "stderr",
     "output_type": "stream",
     "text": [
      "C:\\Users\\dh\\anaconda3\\envs\\dhdsblend2021\\lib\\site-packages\\seaborn\\_decorators.py:36: FutureWarning: Pass the following variable as a keyword arg: x. From version 0.12, the only valid positional argument will be `data`, and passing other arguments without an explicit keyword will result in an error or misinterpretation.\n",
      "  warnings.warn(\n"
     ]
    },
    {
     "data": {
      "text/plain": [
       "Text(0.5, 0, 'store')"
      ]
     },
     "execution_count": 50,
     "metadata": {},
     "output_type": "execute_result"
    },
    {
     "data": {
      "image/png": "[encoded data removed]",
      "text/plain": [
       "<Figure size 432x288 with 1 Axes>"
      ]
     },
     "metadata": {
      "needs_background": "light"
     },
     "output_type": "display_data"
    }
   ],
   "source": [
    "## este dataframe abarca todos los tipos de propiedades pero vamos a quitar solo los outliers de apartment\n",
    "print(\"Cantidad de elementos inciales:\", data_prop_type_sup.shape[0])\n",
    "data_prop_type_sup = data_prop_type_sup.drop(\n",
    "    mascara_outlier_store[mascara_outlier_store == False].index\n",
    ")\n",
    "print(\"Cantidad de elementos finales:\", data_prop_type_sup.shape[0])\n",
    "\n",
    "sns.boxplot(data_prop_type_sup.loc[mascara_tipo_store, \"surface_covered_in_m2\"])\n",
    "plt.title(\"BoxPlot surface_covered_in_m2\")\n",
    "plt.xlabel(\"store\")"
   ]
  },
  {
   "cell_type": "markdown",
   "id": "3bed309f",
   "metadata": {},
   "source": [
    "----------\n",
    "**RESUMEN**\n",
    "\n",
    "---------------"
   ]
  },
  {
   "cell_type": "code",
   "execution_count": 51,
   "id": "cc870f19",
   "metadata": {},
   "outputs": [
    {
     "name": "stdout",
     "output_type": "stream",
     "text": [
      "Cantidad de outliers totales:\n"
     ]
    },
    {
     "data": {
      "text/plain": [
       "3836"
      ]
     },
     "execution_count": 51,
     "metadata": {},
     "output_type": "execute_result"
    }
   ],
   "source": [
    "print(\"Cantidad de outliers totales:\")\n",
    "(\n",
    "    mascara_outlier_apartment[mascara_outlier_apartment == False].count()\n",
    "    + mascara_outlier_house[mascara_outlier_house == False].count()\n",
    "    + mascara_outlier_ph[mascara_outlier_ph == False].count()\n",
    "    + mascara_outlier_store[mascara_outlier_store == False].count()\n",
    ")"
   ]
  },
  {
   "cell_type": "code",
   "execution_count": 52,
   "id": "31634642",
   "metadata": {},
   "outputs": [
    {
     "data": {
      "text/html": [
       "<div>\n",
       "<style scoped>\n",
       "    .dataframe tbody tr th:only-of-type {\n",
       "        vertical-align: middle;\n",
       "    }\n",
       "\n",
       "    .dataframe tbody tr th {\n",
       "        vertical-align: top;\n",
       "    }\n",
       "\n",
       "    .dataframe thead tr th {\n",
       "        text-align: left;\n",
       "    }\n",
       "\n",
       "    .dataframe thead tr:last-of-type th {\n",
       "        text-align: right;\n",
       "    }\n",
       "</style>\n",
       "<table border=\"1\" class=\"dataframe\">\n",
       "  <thead>\n",
       "    <tr>\n",
       "      <th></th>\n",
       "      <th colspan=\"4\" halign=\"left\">surface_covered_in_m2</th>\n",
       "    </tr>\n",
       "    <tr>\n",
       "      <th></th>\n",
       "      <th>count</th>\n",
       "      <th>max</th>\n",
       "      <th>median</th>\n",
       "      <th>mean</th>\n",
       "    </tr>\n",
       "    <tr>\n",
       "      <th>property_type</th>\n",
       "      <th></th>\n",
       "      <th></th>\n",
       "      <th></th>\n",
       "      <th></th>\n",
       "    </tr>\n",
       "  </thead>\n",
       "  <tbody>\n",
       "    <tr>\n",
       "      <th>PH</th>\n",
       "      <td>4438</td>\n",
       "      <td>211.0</td>\n",
       "      <td>74.0</td>\n",
       "      <td>80.890717</td>\n",
       "    </tr>\n",
       "    <tr>\n",
       "      <th>apartment</th>\n",
       "      <td>51240</td>\n",
       "      <td>197.0</td>\n",
       "      <td>52.0</td>\n",
       "      <td>62.043326</td>\n",
       "    </tr>\n",
       "    <tr>\n",
       "      <th>house</th>\n",
       "      <td>29358</td>\n",
       "      <td>540.0</td>\n",
       "      <td>180.0</td>\n",
       "      <td>193.891375</td>\n",
       "    </tr>\n",
       "    <tr>\n",
       "      <th>store</th>\n",
       "      <td>2380</td>\n",
       "      <td>1492.0</td>\n",
       "      <td>105.0</td>\n",
       "      <td>200.125630</td>\n",
       "    </tr>\n",
       "  </tbody>\n",
       "</table>\n",
       "</div>"
      ],
      "text/plain": [
       "              surface_covered_in_m2                           \n",
       "                              count     max median        mean\n",
       "property_type                                                 \n",
       "PH                             4438   211.0   74.0   80.890717\n",
       "apartment                     51240   197.0   52.0   62.043326\n",
       "house                         29358   540.0  180.0  193.891375\n",
       "store                          2380  1492.0  105.0  200.125630"
      ]
     },
     "execution_count": 52,
     "metadata": {},
     "output_type": "execute_result"
    }
   ],
   "source": [
    "data_prop_type_sup[[\"property_type\", \"surface_covered_in_m2\"]].groupby(\n",
    "    \"property_type\"\n",
    ").aggregate([\"count\", \"max\", \"median\", \"mean\"])"
   ]
  },
  {
   "cell_type": "code",
   "execution_count": 53,
   "id": "5d0f1b37",
   "metadata": {},
   "outputs": [
    {
     "data": {
      "text/html": [
       "<div>\n",
       "<style scoped>\n",
       "    .dataframe tbody tr th:only-of-type {\n",
       "        vertical-align: middle;\n",
       "    }\n",
       "\n",
       "    .dataframe tbody tr th {\n",
       "        vertical-align: top;\n",
       "    }\n",
       "\n",
       "    .dataframe thead th {\n",
       "        text-align: right;\n",
       "    }\n",
       "</style>\n",
       "<table border=\"1\" class=\"dataframe\">\n",
       "  <thead>\n",
       "    <tr style=\"text-align: right;\">\n",
       "      <th></th>\n",
       "      <th>state_name</th>\n",
       "      <th>surface_covered_in_m2</th>\n",
       "      <th>surface_total_in_m2</th>\n",
       "    </tr>\n",
       "    <tr>\n",
       "      <th>property_type</th>\n",
       "      <th></th>\n",
       "      <th></th>\n",
       "      <th></th>\n",
       "    </tr>\n",
       "  </thead>\n",
       "  <tbody>\n",
       "    <tr>\n",
       "      <th>PH</th>\n",
       "      <td>4973</td>\n",
       "      <td>4438</td>\n",
       "      <td>3210</td>\n",
       "    </tr>\n",
       "    <tr>\n",
       "      <th>apartment</th>\n",
       "      <td>56962</td>\n",
       "      <td>51240</td>\n",
       "      <td>43006</td>\n",
       "    </tr>\n",
       "    <tr>\n",
       "      <th>house</th>\n",
       "      <td>32252</td>\n",
       "      <td>29358</td>\n",
       "      <td>21625</td>\n",
       "    </tr>\n",
       "    <tr>\n",
       "      <th>store</th>\n",
       "      <td>2857</td>\n",
       "      <td>2380</td>\n",
       "      <td>1991</td>\n",
       "    </tr>\n",
       "    <tr>\n",
       "      <th>Total</th>\n",
       "      <td>64476</td>\n",
       "      <td>64476</td>\n",
       "      <td>64476</td>\n",
       "    </tr>\n",
       "  </tbody>\n",
       "</table>\n",
       "</div>"
      ],
      "text/plain": [
       "               state_name  surface_covered_in_m2  surface_total_in_m2\n",
       "property_type                                                        \n",
       "PH                   4973                   4438                 3210\n",
       "apartment           56962                  51240                43006\n",
       "house               32252                  29358                21625\n",
       "store                2857                   2380                 1991\n",
       "Total               64476                  64476                64476"
      ]
     },
     "execution_count": 53,
     "metadata": {},
     "output_type": "execute_result"
    }
   ],
   "source": [
    "tabla_prop_type_sup = pd.pivot_table(\n",
    "    data_prop_type_sup,\n",
    "    index=(\"property_type\"),\n",
    "    aggfunc=(\"count\"),\n",
    "    margins=True,\n",
    "    margins_name=\"Total\",\n",
    ")  # , columns=('surface_total_in_m2','surface_covered_in_m2'),dropna=False,aggfunc='count')\n",
    "tabla_prop_type_sup"
   ]
  },
  {
   "cell_type": "code",
   "execution_count": 54,
   "id": "11173a6c",
   "metadata": {},
   "outputs": [
    {
     "data": {
      "text/plain": [
       "state_name                   0\n",
       "property_type                0\n",
       "surface_covered_in_m2     9628\n",
       "surface_total_in_m2      27212\n",
       "dtype: int64"
      ]
     },
     "execution_count": 54,
     "metadata": {},
     "output_type": "execute_result"
    }
   ],
   "source": [
    "data_prop_type_sup.isna().sum()"
   ]
  },
  {
   "cell_type": "raw",
   "id": "76c1bfdc",
   "metadata": {},
   "source": [
    "AQUI HUBO COMENTARIOS: VERSIONES ANTERIORES A LA V.1.5"
   ]
  },
  {
   "cell_type": "markdown",
   "id": "0f02c49d",
   "metadata": {},
   "source": [
    "## 3.2 RECUPERO DE LOS DATOS NaNs en surface_covered_in_m2\n",
    "\n",
    "creacion de data_suf_cov_isna:\n",
    "\n",
    "1) intenamos recuperarlos de la columna superficie total"
   ]
  },
  {
   "cell_type": "code",
   "execution_count": 55,
   "id": "8fa2ebd3",
   "metadata": {},
   "outputs": [
    {
     "name": "stdout",
     "output_type": "stream",
     "text": [
      "0 )  property_type\n",
      "1 )  place_name\n",
      "2 )  place_with_parent_names\n",
      "3 )  state_name\n",
      "4 )  lat-lon\n",
      "5 )  lat\n",
      "6 )  lon\n",
      "7 )  price\n",
      "8 )  currency\n",
      "9 )  price_aprox_local_currency\n",
      "10 )  price_aprox_usd\n",
      "11 )  surface_total_in_m2\n",
      "12 )  surface_covered_in_m2\n",
      "13 )  price_usd_per_m2\n",
      "14 )  price_per_m2\n",
      "15 )  floor\n",
      "16 )  rooms\n",
      "17 )  expenses\n",
      "18 )  properati_url\n",
      "19 )  description\n",
      "20 )  title\n",
      "21 )  image_thumbnail\n"
     ]
    }
   ],
   "source": [
    "for i, v in enumerate(data.columns):\n",
    "    print(i, \") \", v)"
   ]
  },
  {
   "cell_type": "code",
   "execution_count": 56,
   "id": "a79844a2",
   "metadata": {},
   "outputs": [
    {
     "name": "stdout",
     "output_type": "stream",
     "text": [
      "PRUEBA DIDACTICA: NO ajustamos data_sur_cov_isna con el index de data_prop_type_sup\n"
     ]
    },
    {
     "data": {
      "text/html": [
       "<div>\n",
       "<style scoped>\n",
       "    .dataframe tbody tr th:only-of-type {\n",
       "        vertical-align: middle;\n",
       "    }\n",
       "\n",
       "    .dataframe tbody tr th {\n",
       "        vertical-align: top;\n",
       "    }\n",
       "\n",
       "    .dataframe thead th {\n",
       "        text-align: right;\n",
       "    }\n",
       "</style>\n",
       "<table border=\"1\" class=\"dataframe\">\n",
       "  <thead>\n",
       "    <tr style=\"text-align: right;\">\n",
       "      <th></th>\n",
       "      <th>property_type</th>\n",
       "      <th>surface_total_in_m2</th>\n",
       "      <th>price_per_m2</th>\n",
       "      <th>price_usd_per_m2</th>\n",
       "      <th>price</th>\n",
       "      <th>currency</th>\n",
       "      <th>price_aprox_usd</th>\n",
       "    </tr>\n",
       "  </thead>\n",
       "  <tbody>\n",
       "    <tr>\n",
       "      <th>1</th>\n",
       "      <td>apartment</td>\n",
       "      <td>NaN</td>\n",
       "      <td>NaN</td>\n",
       "      <td>NaN</td>\n",
       "      <td>150000.0</td>\n",
       "      <td>USD</td>\n",
       "      <td>150000.00</td>\n",
       "    </tr>\n",
       "    <tr>\n",
       "      <th>3</th>\n",
       "      <td>PH</td>\n",
       "      <td>NaN</td>\n",
       "      <td>NaN</td>\n",
       "      <td>NaN</td>\n",
       "      <td>95000.0</td>\n",
       "      <td>USD</td>\n",
       "      <td>95000.00</td>\n",
       "    </tr>\n",
       "    <tr>\n",
       "      <th>9</th>\n",
       "      <td>house</td>\n",
       "      <td>NaN</td>\n",
       "      <td>NaN</td>\n",
       "      <td>NaN</td>\n",
       "      <td>460000.0</td>\n",
       "      <td>ARS</td>\n",
       "      <td>25798.49</td>\n",
       "    </tr>\n",
       "    <tr>\n",
       "      <th>10</th>\n",
       "      <td>house</td>\n",
       "      <td>1514.0</td>\n",
       "      <td>NaN</td>\n",
       "      <td>46.235139</td>\n",
       "      <td>70000.0</td>\n",
       "      <td>USD</td>\n",
       "      <td>70000.00</td>\n",
       "    </tr>\n",
       "    <tr>\n",
       "      <th>11</th>\n",
       "      <td>house</td>\n",
       "      <td>NaN</td>\n",
       "      <td>NaN</td>\n",
       "      <td>NaN</td>\n",
       "      <td>150000.0</td>\n",
       "      <td>USD</td>\n",
       "      <td>150000.00</td>\n",
       "    </tr>\n",
       "    <tr>\n",
       "      <th>...</th>\n",
       "      <td>...</td>\n",
       "      <td>...</td>\n",
       "      <td>...</td>\n",
       "      <td>...</td>\n",
       "      <td>...</td>\n",
       "      <td>...</td>\n",
       "      <td>...</td>\n",
       "    </tr>\n",
       "    <tr>\n",
       "      <th>121167</th>\n",
       "      <td>apartment</td>\n",
       "      <td>51.0</td>\n",
       "      <td>NaN</td>\n",
       "      <td>1556.047059</td>\n",
       "      <td>1415000.0</td>\n",
       "      <td>ARS</td>\n",
       "      <td>79358.40</td>\n",
       "    </tr>\n",
       "    <tr>\n",
       "      <th>121168</th>\n",
       "      <td>apartment</td>\n",
       "      <td>50.0</td>\n",
       "      <td>NaN</td>\n",
       "      <td>1572.586200</td>\n",
       "      <td>1402000.0</td>\n",
       "      <td>ARS</td>\n",
       "      <td>78629.31</td>\n",
       "    </tr>\n",
       "    <tr>\n",
       "      <th>121169</th>\n",
       "      <td>apartment</td>\n",
       "      <td>49.0</td>\n",
       "      <td>NaN</td>\n",
       "      <td>1609.257959</td>\n",
       "      <td>1406000.0</td>\n",
       "      <td>ARS</td>\n",
       "      <td>78853.64</td>\n",
       "    </tr>\n",
       "    <tr>\n",
       "      <th>121170</th>\n",
       "      <td>apartment</td>\n",
       "      <td>50.0</td>\n",
       "      <td>NaN</td>\n",
       "      <td>1577.072800</td>\n",
       "      <td>1406000.0</td>\n",
       "      <td>ARS</td>\n",
       "      <td>78853.64</td>\n",
       "    </tr>\n",
       "    <tr>\n",
       "      <th>121209</th>\n",
       "      <td>apartment</td>\n",
       "      <td>157.0</td>\n",
       "      <td>NaN</td>\n",
       "      <td>2611.464968</td>\n",
       "      <td>410000.0</td>\n",
       "      <td>USD</td>\n",
       "      <td>410000.00</td>\n",
       "    </tr>\n",
       "  </tbody>\n",
       "</table>\n",
       "<p>9628 rows × 7 columns</p>\n",
       "</div>"
      ],
      "text/plain": [
       "       property_type  surface_total_in_m2  price_per_m2  price_usd_per_m2  \\\n",
       "1          apartment                  NaN           NaN               NaN   \n",
       "3                 PH                  NaN           NaN               NaN   \n",
       "9              house                  NaN           NaN               NaN   \n",
       "10             house               1514.0           NaN         46.235139   \n",
       "11             house                  NaN           NaN               NaN   \n",
       "...              ...                  ...           ...               ...   \n",
       "121167     apartment                 51.0           NaN       1556.047059   \n",
       "121168     apartment                 50.0           NaN       1572.586200   \n",
       "121169     apartment                 49.0           NaN       1609.257959   \n",
       "121170     apartment                 50.0           NaN       1577.072800   \n",
       "121209     apartment                157.0           NaN       2611.464968   \n",
       "\n",
       "            price currency  price_aprox_usd  \n",
       "1        150000.0      USD        150000.00  \n",
       "3         95000.0      USD         95000.00  \n",
       "9        460000.0      ARS         25798.49  \n",
       "10        70000.0      USD         70000.00  \n",
       "11       150000.0      USD        150000.00  \n",
       "...           ...      ...              ...  \n",
       "121167  1415000.0      ARS         79358.40  \n",
       "121168  1402000.0      ARS         78629.31  \n",
       "121169  1406000.0      ARS         78853.64  \n",
       "121170  1406000.0      ARS         78853.64  \n",
       "121209   410000.0      USD        410000.00  \n",
       "\n",
       "[9628 rows x 7 columns]"
      ]
     },
     "metadata": {},
     "output_type": "display_data"
    },
    {
     "data": {
      "text/html": [
       "<div>\n",
       "<style scoped>\n",
       "    .dataframe tbody tr th:only-of-type {\n",
       "        vertical-align: middle;\n",
       "    }\n",
       "\n",
       "    .dataframe tbody tr th {\n",
       "        vertical-align: top;\n",
       "    }\n",
       "\n",
       "    .dataframe thead th {\n",
       "        text-align: right;\n",
       "    }\n",
       "</style>\n",
       "<table border=\"1\" class=\"dataframe\">\n",
       "  <thead>\n",
       "    <tr style=\"text-align: right;\">\n",
       "      <th></th>\n",
       "      <th>surface_total_in_m2</th>\n",
       "      <th>price_per_m2</th>\n",
       "      <th>price_usd_per_m2</th>\n",
       "      <th>price</th>\n",
       "      <th>price_aprox_usd</th>\n",
       "    </tr>\n",
       "  </thead>\n",
       "  <tbody>\n",
       "    <tr>\n",
       "      <th>count</th>\n",
       "      <td>5356.000000</td>\n",
       "      <td>0.0</td>\n",
       "      <td>5049.000000</td>\n",
       "      <td>9555.000000</td>\n",
       "      <td>9555.000000</td>\n",
       "    </tr>\n",
       "    <tr>\n",
       "      <th>mean</th>\n",
       "      <td>219.356796</td>\n",
       "      <td>NaN</td>\n",
       "      <td>1772.480493</td>\n",
       "      <td>427962.132915</td>\n",
       "      <td>182931.419440</td>\n",
       "    </tr>\n",
       "    <tr>\n",
       "      <th>std</th>\n",
       "      <td>2853.566812</td>\n",
       "      <td>NaN</td>\n",
       "      <td>1256.846840</td>\n",
       "      <td>866235.904728</td>\n",
       "      <td>548353.707291</td>\n",
       "    </tr>\n",
       "  </tbody>\n",
       "</table>\n",
       "</div>"
      ],
      "text/plain": [
       "       surface_total_in_m2  price_per_m2  price_usd_per_m2          price  \\\n",
       "count          5356.000000           0.0       5049.000000    9555.000000   \n",
       "mean            219.356796           NaN       1772.480493  427962.132915   \n",
       "std            2853.566812           NaN       1256.846840  866235.904728   \n",
       "\n",
       "       price_aprox_usd  \n",
       "count      9555.000000  \n",
       "mean     182931.419440  \n",
       "std      548353.707291  "
      ]
     },
     "metadata": {},
     "output_type": "display_data"
    }
   ],
   "source": [
    "mask_data = data.surface_covered_in_m2.isna()\n",
    "data_sur_cov_isna = data.loc[\n",
    "    mask_data,\n",
    "    (\n",
    "        \"property_type\",\n",
    "        \"surface_total_in_m2\",\n",
    "        \"price_per_m2\",\n",
    "        \"price_usd_per_m2\",\n",
    "        \"price\",\n",
    "        \"currency\",\n",
    "        \"price_aprox_usd\",\n",
    "    ),\n",
    "]\n",
    "print(\n",
    "    \"PRUEBA DIDACTICA: NO ajustamos data_sur_cov_isna con el index de data_prop_type_sup\"\n",
    ")\n",
    "display(data_sur_cov_isna)\n",
    "display(data_sur_cov_isna.describe()[:3])"
   ]
  },
  {
   "cell_type": "code",
   "execution_count": 57,
   "id": "84ec9aa6",
   "metadata": {},
   "outputs": [
    {
     "data": {
      "text/html": [
       "<div>\n",
       "<style scoped>\n",
       "    .dataframe tbody tr th:only-of-type {\n",
       "        vertical-align: middle;\n",
       "    }\n",
       "\n",
       "    .dataframe tbody tr th {\n",
       "        vertical-align: top;\n",
       "    }\n",
       "\n",
       "    .dataframe thead th {\n",
       "        text-align: right;\n",
       "    }\n",
       "</style>\n",
       "<table border=\"1\" class=\"dataframe\">\n",
       "  <thead>\n",
       "    <tr style=\"text-align: right;\">\n",
       "      <th></th>\n",
       "      <th>currency</th>\n",
       "      <th>price</th>\n",
       "      <th>price_aprox_usd</th>\n",
       "      <th>price_per_m2</th>\n",
       "      <th>price_usd_per_m2</th>\n",
       "      <th>surface_total_in_m2</th>\n",
       "    </tr>\n",
       "    <tr>\n",
       "      <th>property_type</th>\n",
       "      <th></th>\n",
       "      <th></th>\n",
       "      <th></th>\n",
       "      <th></th>\n",
       "      <th></th>\n",
       "      <th></th>\n",
       "    </tr>\n",
       "  </thead>\n",
       "  <tbody>\n",
       "    <tr>\n",
       "      <th>PH</th>\n",
       "      <td>534</td>\n",
       "      <td>534</td>\n",
       "      <td>534</td>\n",
       "      <td>0</td>\n",
       "      <td>223</td>\n",
       "      <td>229</td>\n",
       "    </tr>\n",
       "    <tr>\n",
       "      <th>apartment</th>\n",
       "      <td>5650</td>\n",
       "      <td>5650</td>\n",
       "      <td>5650</td>\n",
       "      <td>0</td>\n",
       "      <td>3232</td>\n",
       "      <td>3459</td>\n",
       "    </tr>\n",
       "    <tr>\n",
       "      <th>house</th>\n",
       "      <td>2893</td>\n",
       "      <td>2894</td>\n",
       "      <td>2894</td>\n",
       "      <td>0</td>\n",
       "      <td>1295</td>\n",
       "      <td>1362</td>\n",
       "    </tr>\n",
       "    <tr>\n",
       "      <th>store</th>\n",
       "      <td>477</td>\n",
       "      <td>477</td>\n",
       "      <td>477</td>\n",
       "      <td>0</td>\n",
       "      <td>299</td>\n",
       "      <td>306</td>\n",
       "    </tr>\n",
       "  </tbody>\n",
       "</table>\n",
       "</div>"
      ],
      "text/plain": [
       "               currency  price  price_aprox_usd  price_per_m2  \\\n",
       "property_type                                                   \n",
       "PH                  534    534              534             0   \n",
       "apartment          5650   5650             5650             0   \n",
       "house              2893   2894             2894             0   \n",
       "store               477    477              477             0   \n",
       "\n",
       "               price_usd_per_m2  surface_total_in_m2  \n",
       "property_type                                         \n",
       "PH                          223                  229  \n",
       "apartment                  3232                 3459  \n",
       "house                      1295                 1362  \n",
       "store                       299                  306  "
      ]
     },
     "execution_count": 57,
     "metadata": {},
     "output_type": "execute_result"
    }
   ],
   "source": [
    "tabla_sur_cov_1 = pd.pivot_table(\n",
    "    data_sur_cov_isna, index=\"property_type\", aggfunc=\"count\"\n",
    ")  # , columns=list(data_suf_cov_isna)[:4])#columns=('surface_total_in_m2','price_per_m2','price_usd_per_m2'))#, aggfunc ='count', margins=True, margins_name='Total')\n",
    "tabla_sur_cov_1"
   ]
  },
  {
   "cell_type": "code",
   "execution_count": 58,
   "id": "f5dd55df",
   "metadata": {},
   "outputs": [
    {
     "name": "stdout",
     "output_type": "stream",
     "text": [
      "       Tenemos 9628 NaNs en superficie cubierta \n",
      "       Tenemos 0 elementos price_per_m2\n",
      "       La cuestion es que tenemos una cantidad parecida de superficie total y precio_usd_per_m2\n",
      "       un poco mas de superficie que de precio_usd_per_m2\n"
     ]
    }
   ],
   "source": [
    "print(\n",
    "    \"\\\n",
    "       Tenemos 9628 NaNs en superficie cubierta \\n\\\n",
    "       Tenemos 0 elementos price_per_m2\\n\\\n",
    "       La cuestion es que tenemos una cantidad parecida de superficie total y precio_usd_per_m2\\n\\\n",
    "       un poco mas de superficie que de precio_usd_per_m2\"\n",
    ")"
   ]
  },
  {
   "cell_type": "code",
   "execution_count": 59,
   "id": "a3d2e5a7",
   "metadata": {},
   "outputs": [],
   "source": [
    "data_sur_cov_isna.drop(\"price_per_m2\", axis=1, inplace=True)"
   ]
  },
  {
   "cell_type": "markdown",
   "id": "6d4a81b7",
   "metadata": {},
   "source": [
    "### INFORMACION DE LAS COLUMNAS\n",
    "\n",
    "- 1. Chequear si la data de surface_covered_in_m2 puedo rescatarla surface_total_in_m2 (), si vale 0 no puede ser reemplazada. Rta: aprox el 50%\n",
    "\n",
    "- 2. precio / precio_unitario = superficie (asumimos cubierta)\n",
    "\n",
    "    en dolares: [price_aprox_usd/price_usd_per_m2]\n",
    "\n",
    "- 3. CHEQUEO CRUZADO DE LOS VALORES RECUPERADOS"
   ]
  },
  {
   "cell_type": "code",
   "execution_count": 60,
   "id": "2eb2e380",
   "metadata": {},
   "outputs": [
    {
     "name": "stdout",
     "output_type": "stream",
     "text": [
      "\n",
      "\n",
      "Datos a recuperar en: recupero = 9628, type: <class 'int'>\n",
      "\n",
      "data_sur_cov_isna.describe():\n"
     ]
    },
    {
     "data": {
      "text/html": [
       "<div>\n",
       "<style scoped>\n",
       "    .dataframe tbody tr th:only-of-type {\n",
       "        vertical-align: middle;\n",
       "    }\n",
       "\n",
       "    .dataframe tbody tr th {\n",
       "        vertical-align: top;\n",
       "    }\n",
       "\n",
       "    .dataframe thead th {\n",
       "        text-align: right;\n",
       "    }\n",
       "</style>\n",
       "<table border=\"1\" class=\"dataframe\">\n",
       "  <thead>\n",
       "    <tr style=\"text-align: right;\">\n",
       "      <th></th>\n",
       "      <th>surface_total_in_m2</th>\n",
       "      <th>price_usd_per_m2</th>\n",
       "      <th>price</th>\n",
       "      <th>price_aprox_usd</th>\n",
       "    </tr>\n",
       "  </thead>\n",
       "  <tbody>\n",
       "    <tr>\n",
       "      <th>count</th>\n",
       "      <td>5356.000000</td>\n",
       "      <td>5049.000000</td>\n",
       "      <td>9555.000000</td>\n",
       "      <td>9555.000000</td>\n",
       "    </tr>\n",
       "    <tr>\n",
       "      <th>mean</th>\n",
       "      <td>219.356796</td>\n",
       "      <td>1772.480493</td>\n",
       "      <td>427962.132915</td>\n",
       "      <td>182931.419440</td>\n",
       "    </tr>\n",
       "    <tr>\n",
       "      <th>std</th>\n",
       "      <td>2853.566812</td>\n",
       "      <td>1256.846840</td>\n",
       "      <td>866235.904728</td>\n",
       "      <td>548353.707291</td>\n",
       "    </tr>\n",
       "  </tbody>\n",
       "</table>\n",
       "</div>"
      ],
      "text/plain": [
       "       surface_total_in_m2  price_usd_per_m2          price  price_aprox_usd\n",
       "count          5356.000000       5049.000000    9555.000000      9555.000000\n",
       "mean            219.356796       1772.480493  427962.132915    182931.419440\n",
       "std            2853.566812       1256.846840  866235.904728    548353.707291"
      ]
     },
     "metadata": {},
     "output_type": "display_data"
    },
    {
     "name": "stdout",
     "output_type": "stream",
     "text": [
      "El size original : (9628, 6) \n",
      "\n"
     ]
    }
   ],
   "source": [
    "# - 1. Chequear si la columna price_per_m2 aporta informacion\n",
    "\n",
    "recupero = data_sur_cov_isna.shape[0]\n",
    "print(f\"\\n\\nDatos a recuperar en: recupero = {recupero}, type: {type(recupero)}\\n\")\n",
    "\n",
    "print(\"data_sur_cov_isna.describe():\")\n",
    "display(data_sur_cov_isna.describe()[:3])\n",
    "\n",
    "print(\"El size original :\", data_sur_cov_isna.shape, \"\\n\")"
   ]
  },
  {
   "cell_type": "code",
   "execution_count": 61,
   "id": "3fdd3146",
   "metadata": {},
   "outputs": [
    {
     "data": {
      "text/plain": [
       "False    9628\n",
       "dtype: int64"
      ]
     },
     "execution_count": 61,
     "metadata": {},
     "output_type": "execute_result"
    }
   ],
   "source": [
    "(\n",
    "    data_sur_cov_isna.surface_total_in_m2.isna()\n",
    "    & data_sur_cov_isna.price_usd_per_m2.notna()\n",
    ").value_counts()"
   ]
  },
  {
   "cell_type": "code",
   "execution_count": 62,
   "id": "c474a329",
   "metadata": {},
   "outputs": [
    {
     "data": {
      "text/plain": [
       "0.0       235\n",
       "40.0      191\n",
       "50.0      158\n",
       "45.0      128\n",
       "70.0      120\n",
       "         ... \n",
       "193.0       1\n",
       "541.0       1\n",
       "1075.0      1\n",
       "459.0       1\n",
       "171.0       1\n",
       "Name: surface_total_in_m2, Length: 525, dtype: int64"
      ]
     },
     "execution_count": 62,
     "metadata": {},
     "output_type": "execute_result"
    }
   ],
   "source": [
    "# - 2. Chequear si la data de surface_covered_in_m2 puedo rescatarla surface_total_in_m2 (), si vale 0 no puede ser reemplazada. Rta: aprox el 50%\n",
    "\n",
    "data_sur_cov_isna.surface_total_in_m2.value_counts()"
   ]
  },
  {
   "cell_type": "code",
   "execution_count": 63,
   "id": "fe9a0ef1",
   "metadata": {},
   "outputs": [
    {
     "name": "stdout",
     "output_type": "stream",
     "text": [
      "Eliminamos el valor 0\n",
      "El size original : (9628, 6)\n"
     ]
    },
    {
     "data": {
      "text/html": [
       "<div>\n",
       "<style scoped>\n",
       "    .dataframe tbody tr th:only-of-type {\n",
       "        vertical-align: middle;\n",
       "    }\n",
       "\n",
       "    .dataframe tbody tr th {\n",
       "        vertical-align: top;\n",
       "    }\n",
       "\n",
       "    .dataframe thead th {\n",
       "        text-align: right;\n",
       "    }\n",
       "</style>\n",
       "<table border=\"1\" class=\"dataframe\">\n",
       "  <thead>\n",
       "    <tr style=\"text-align: right;\">\n",
       "      <th></th>\n",
       "      <th>property_type</th>\n",
       "      <th>surface_total_in_m2</th>\n",
       "      <th>price_usd_per_m2</th>\n",
       "      <th>price</th>\n",
       "      <th>currency</th>\n",
       "      <th>price_aprox_usd</th>\n",
       "    </tr>\n",
       "  </thead>\n",
       "  <tbody>\n",
       "    <tr>\n",
       "      <th>1</th>\n",
       "      <td>apartment</td>\n",
       "      <td>NaN</td>\n",
       "      <td>NaN</td>\n",
       "      <td>150000.0</td>\n",
       "      <td>USD</td>\n",
       "      <td>150000.00</td>\n",
       "    </tr>\n",
       "    <tr>\n",
       "      <th>3</th>\n",
       "      <td>PH</td>\n",
       "      <td>NaN</td>\n",
       "      <td>NaN</td>\n",
       "      <td>95000.0</td>\n",
       "      <td>USD</td>\n",
       "      <td>95000.00</td>\n",
       "    </tr>\n",
       "    <tr>\n",
       "      <th>9</th>\n",
       "      <td>house</td>\n",
       "      <td>NaN</td>\n",
       "      <td>NaN</td>\n",
       "      <td>460000.0</td>\n",
       "      <td>ARS</td>\n",
       "      <td>25798.49</td>\n",
       "    </tr>\n",
       "    <tr>\n",
       "      <th>10</th>\n",
       "      <td>house</td>\n",
       "      <td>1514.0</td>\n",
       "      <td>46.235139</td>\n",
       "      <td>70000.0</td>\n",
       "      <td>USD</td>\n",
       "      <td>70000.00</td>\n",
       "    </tr>\n",
       "    <tr>\n",
       "      <th>11</th>\n",
       "      <td>house</td>\n",
       "      <td>NaN</td>\n",
       "      <td>NaN</td>\n",
       "      <td>150000.0</td>\n",
       "      <td>USD</td>\n",
       "      <td>150000.00</td>\n",
       "    </tr>\n",
       "    <tr>\n",
       "      <th>...</th>\n",
       "      <td>...</td>\n",
       "      <td>...</td>\n",
       "      <td>...</td>\n",
       "      <td>...</td>\n",
       "      <td>...</td>\n",
       "      <td>...</td>\n",
       "    </tr>\n",
       "    <tr>\n",
       "      <th>121167</th>\n",
       "      <td>apartment</td>\n",
       "      <td>51.0</td>\n",
       "      <td>1556.047059</td>\n",
       "      <td>1415000.0</td>\n",
       "      <td>ARS</td>\n",
       "      <td>79358.40</td>\n",
       "    </tr>\n",
       "    <tr>\n",
       "      <th>121168</th>\n",
       "      <td>apartment</td>\n",
       "      <td>50.0</td>\n",
       "      <td>1572.586200</td>\n",
       "      <td>1402000.0</td>\n",
       "      <td>ARS</td>\n",
       "      <td>78629.31</td>\n",
       "    </tr>\n",
       "    <tr>\n",
       "      <th>121169</th>\n",
       "      <td>apartment</td>\n",
       "      <td>49.0</td>\n",
       "      <td>1609.257959</td>\n",
       "      <td>1406000.0</td>\n",
       "      <td>ARS</td>\n",
       "      <td>78853.64</td>\n",
       "    </tr>\n",
       "    <tr>\n",
       "      <th>121170</th>\n",
       "      <td>apartment</td>\n",
       "      <td>50.0</td>\n",
       "      <td>1577.072800</td>\n",
       "      <td>1406000.0</td>\n",
       "      <td>ARS</td>\n",
       "      <td>78853.64</td>\n",
       "    </tr>\n",
       "    <tr>\n",
       "      <th>121209</th>\n",
       "      <td>apartment</td>\n",
       "      <td>157.0</td>\n",
       "      <td>2611.464968</td>\n",
       "      <td>410000.0</td>\n",
       "      <td>USD</td>\n",
       "      <td>410000.00</td>\n",
       "    </tr>\n",
       "  </tbody>\n",
       "</table>\n",
       "<p>9393 rows × 6 columns</p>\n",
       "</div>"
      ],
      "text/plain": [
       "       property_type  surface_total_in_m2  price_usd_per_m2      price  \\\n",
       "1          apartment                  NaN               NaN   150000.0   \n",
       "3                 PH                  NaN               NaN    95000.0   \n",
       "9              house                  NaN               NaN   460000.0   \n",
       "10             house               1514.0         46.235139    70000.0   \n",
       "11             house                  NaN               NaN   150000.0   \n",
       "...              ...                  ...               ...        ...   \n",
       "121167     apartment                 51.0       1556.047059  1415000.0   \n",
       "121168     apartment                 50.0       1572.586200  1402000.0   \n",
       "121169     apartment                 49.0       1609.257959  1406000.0   \n",
       "121170     apartment                 50.0       1577.072800  1406000.0   \n",
       "121209     apartment                157.0       2611.464968   410000.0   \n",
       "\n",
       "       currency  price_aprox_usd  \n",
       "1           USD        150000.00  \n",
       "3           USD         95000.00  \n",
       "9           ARS         25798.49  \n",
       "10          USD         70000.00  \n",
       "11          USD        150000.00  \n",
       "...         ...              ...  \n",
       "121167      ARS         79358.40  \n",
       "121168      ARS         78629.31  \n",
       "121169      ARS         78853.64  \n",
       "121170      ARS         78853.64  \n",
       "121209      USD        410000.00  \n",
       "\n",
       "[9393 rows x 6 columns]"
      ]
     },
     "metadata": {},
     "output_type": "display_data"
    }
   ],
   "source": [
    "print(\"Eliminamos el valor 0\")\n",
    "mask_data = data_sur_cov_isna.surface_total_in_m2 != 0.0\n",
    "print(\"El size original :\", data_sur_cov_isna.shape)\n",
    "data_sur_cov_isna = data_sur_cov_isna[mask_data]\n",
    "display(data_sur_cov_isna)"
   ]
  },
  {
   "cell_type": "code",
   "execution_count": 64,
   "id": "d2a8605b",
   "metadata": {},
   "outputs": [
    {
     "name": "stdout",
     "output_type": "stream",
     "text": [
      "235 elementos eliminados: son igual a 0 en: surface_total_in_m2\n",
      "Longitud: data_sur_cov_isna: 9393\n"
     ]
    }
   ],
   "source": [
    "print(9628 - 9393, \"elementos eliminados: son igual a 0 en: surface_total_in_m2\")\n",
    "print(\"Longitud: data_sur_cov_isna:\", data_sur_cov_isna.shape[0])"
   ]
  },
  {
   "cell_type": "code",
   "execution_count": 65,
   "id": "d7fcb518",
   "metadata": {},
   "outputs": [
    {
     "name": "stdout",
     "output_type": "stream",
     "text": [
      "Eliminamos las entradas Nan en surface_total_in_m2\n",
      "El size original : (9393, 6)\n"
     ]
    },
    {
     "data": {
      "text/html": [
       "<div>\n",
       "<style scoped>\n",
       "    .dataframe tbody tr th:only-of-type {\n",
       "        vertical-align: middle;\n",
       "    }\n",
       "\n",
       "    .dataframe tbody tr th {\n",
       "        vertical-align: top;\n",
       "    }\n",
       "\n",
       "    .dataframe thead th {\n",
       "        text-align: right;\n",
       "    }\n",
       "</style>\n",
       "<table border=\"1\" class=\"dataframe\">\n",
       "  <thead>\n",
       "    <tr style=\"text-align: right;\">\n",
       "      <th></th>\n",
       "      <th>property_type</th>\n",
       "      <th>surface_total_in_m2</th>\n",
       "      <th>price_usd_per_m2</th>\n",
       "      <th>price</th>\n",
       "      <th>currency</th>\n",
       "      <th>price_aprox_usd</th>\n",
       "    </tr>\n",
       "  </thead>\n",
       "  <tbody>\n",
       "    <tr>\n",
       "      <th>10</th>\n",
       "      <td>house</td>\n",
       "      <td>1514.0</td>\n",
       "      <td>46.235139</td>\n",
       "      <td>70000.0</td>\n",
       "      <td>USD</td>\n",
       "      <td>70000.00</td>\n",
       "    </tr>\n",
       "    <tr>\n",
       "      <th>15</th>\n",
       "      <td>house</td>\n",
       "      <td>164.0</td>\n",
       "      <td>1524.390244</td>\n",
       "      <td>250000.0</td>\n",
       "      <td>USD</td>\n",
       "      <td>250000.00</td>\n",
       "    </tr>\n",
       "    <tr>\n",
       "      <th>66</th>\n",
       "      <td>apartment</td>\n",
       "      <td>38.0</td>\n",
       "      <td>1918.421053</td>\n",
       "      <td>72900.0</td>\n",
       "      <td>USD</td>\n",
       "      <td>72900.00</td>\n",
       "    </tr>\n",
       "    <tr>\n",
       "      <th>142</th>\n",
       "      <td>house</td>\n",
       "      <td>380.0</td>\n",
       "      <td>236.842105</td>\n",
       "      <td>90000.0</td>\n",
       "      <td>USD</td>\n",
       "      <td>90000.00</td>\n",
       "    </tr>\n",
       "    <tr>\n",
       "      <th>168</th>\n",
       "      <td>house</td>\n",
       "      <td>195.0</td>\n",
       "      <td>719.021487</td>\n",
       "      <td>2500000.0</td>\n",
       "      <td>ARS</td>\n",
       "      <td>140209.19</td>\n",
       "    </tr>\n",
       "    <tr>\n",
       "      <th>...</th>\n",
       "      <td>...</td>\n",
       "      <td>...</td>\n",
       "      <td>...</td>\n",
       "      <td>...</td>\n",
       "      <td>...</td>\n",
       "      <td>...</td>\n",
       "    </tr>\n",
       "    <tr>\n",
       "      <th>121167</th>\n",
       "      <td>apartment</td>\n",
       "      <td>51.0</td>\n",
       "      <td>1556.047059</td>\n",
       "      <td>1415000.0</td>\n",
       "      <td>ARS</td>\n",
       "      <td>79358.40</td>\n",
       "    </tr>\n",
       "    <tr>\n",
       "      <th>121168</th>\n",
       "      <td>apartment</td>\n",
       "      <td>50.0</td>\n",
       "      <td>1572.586200</td>\n",
       "      <td>1402000.0</td>\n",
       "      <td>ARS</td>\n",
       "      <td>78629.31</td>\n",
       "    </tr>\n",
       "    <tr>\n",
       "      <th>121169</th>\n",
       "      <td>apartment</td>\n",
       "      <td>49.0</td>\n",
       "      <td>1609.257959</td>\n",
       "      <td>1406000.0</td>\n",
       "      <td>ARS</td>\n",
       "      <td>78853.64</td>\n",
       "    </tr>\n",
       "    <tr>\n",
       "      <th>121170</th>\n",
       "      <td>apartment</td>\n",
       "      <td>50.0</td>\n",
       "      <td>1577.072800</td>\n",
       "      <td>1406000.0</td>\n",
       "      <td>ARS</td>\n",
       "      <td>78853.64</td>\n",
       "    </tr>\n",
       "    <tr>\n",
       "      <th>121209</th>\n",
       "      <td>apartment</td>\n",
       "      <td>157.0</td>\n",
       "      <td>2611.464968</td>\n",
       "      <td>410000.0</td>\n",
       "      <td>USD</td>\n",
       "      <td>410000.00</td>\n",
       "    </tr>\n",
       "  </tbody>\n",
       "</table>\n",
       "<p>5121 rows × 6 columns</p>\n",
       "</div>"
      ],
      "text/plain": [
       "       property_type  surface_total_in_m2  price_usd_per_m2      price  \\\n",
       "10             house               1514.0         46.235139    70000.0   \n",
       "15             house                164.0       1524.390244   250000.0   \n",
       "66         apartment                 38.0       1918.421053    72900.0   \n",
       "142            house                380.0        236.842105    90000.0   \n",
       "168            house                195.0        719.021487  2500000.0   \n",
       "...              ...                  ...               ...        ...   \n",
       "121167     apartment                 51.0       1556.047059  1415000.0   \n",
       "121168     apartment                 50.0       1572.586200  1402000.0   \n",
       "121169     apartment                 49.0       1609.257959  1406000.0   \n",
       "121170     apartment                 50.0       1577.072800  1406000.0   \n",
       "121209     apartment                157.0       2611.464968   410000.0   \n",
       "\n",
       "       currency  price_aprox_usd  \n",
       "10          USD         70000.00  \n",
       "15          USD        250000.00  \n",
       "66          USD         72900.00  \n",
       "142         USD         90000.00  \n",
       "168         ARS        140209.19  \n",
       "...         ...              ...  \n",
       "121167      ARS         79358.40  \n",
       "121168      ARS         78629.31  \n",
       "121169      ARS         78853.64  \n",
       "121170      ARS         78853.64  \n",
       "121209      USD        410000.00  \n",
       "\n",
       "[5121 rows x 6 columns]"
      ]
     },
     "metadata": {},
     "output_type": "display_data"
    }
   ],
   "source": [
    "print(\"Eliminamos las entradas Nan en surface_total_in_m2\")\n",
    "mask_data = data_sur_cov_isna.surface_total_in_m2.notna()\n",
    "print(\"El size original :\", data_sur_cov_isna.shape)\n",
    "data_sur_cov_isna = data_sur_cov_isna[mask_data]\n",
    "display(data_sur_cov_isna)"
   ]
  },
  {
   "cell_type": "code",
   "execution_count": 66,
   "id": "4ccd2446",
   "metadata": {},
   "outputs": [
    {
     "name": "stdout",
     "output_type": "stream",
     "text": [
      "4272 elementos eliminados: son NaN en: surface_total_in_m2\n",
      "Longitud: data_sur_cov_isna: 5121\n"
     ]
    }
   ],
   "source": [
    "print(9393 - 5121, \"elementos eliminados: son NaN en: surface_total_in_m2\")\n",
    "print(\"Longitud: data_sur_cov_isna:\", data_sur_cov_isna.shape[0])"
   ]
  },
  {
   "cell_type": "markdown",
   "id": "33273b68",
   "metadata": {},
   "source": [
    "**creamos la variable serie_reemplazo, para ir añadiendo los valores que rescatamos para la columna surface_covered_in_m2 para el dataset: data_prop_type_sup**\n",
    "\n",
    "CHEQUEAR QUE NO PROVOQUEN OUTLIERS "
   ]
  },
  {
   "cell_type": "code",
   "execution_count": 67,
   "id": "36586a04",
   "metadata": {},
   "outputs": [
    {
     "name": "stdout",
     "output_type": "stream",
     "text": [
      "La serie recupero que tiene elementos de superficie total ni ceros ni nan, para reemplazar superficie cubierta\n"
     ]
    },
    {
     "data": {
      "text/plain": [
       "10        1514.0\n",
       "15         164.0\n",
       "66          38.0\n",
       "142        380.0\n",
       "168        195.0\n",
       "           ...  \n",
       "121167      51.0\n",
       "121168      50.0\n",
       "121169      49.0\n",
       "121170      50.0\n",
       "121209     157.0\n",
       "Name: surface_total_in_m2, Length: 5121, dtype: float64"
      ]
     },
     "execution_count": 67,
     "metadata": {},
     "output_type": "execute_result"
    }
   ],
   "source": [
    "print(\n",
    "    \"La serie recupero que tiene elementos de superficie total ni ceros ni nan, para reemplazar superficie cubierta\"\n",
    ")\n",
    "serie_recupero = data_sur_cov_isna.surface_total_in_m2\n",
    "serie_recupero"
   ]
  },
  {
   "cell_type": "code",
   "execution_count": 68,
   "id": "2f4d45aa",
   "metadata": {},
   "outputs": [
    {
     "name": "stdout",
     "output_type": "stream",
     "text": [
      "\n",
      "Analisis de repercusion:\n",
      "5121 elementos añadidos\n",
      "53.19% de datos recuperados\n",
      "Se toma como valido, se procede a remover los elementos obtenidos\n"
     ]
    }
   ],
   "source": [
    "print(\"\\nAnalisis de repercusion:\")\n",
    "print(f\"{len(serie_recupero)} elementos añadidos\")\n",
    "print(f\"{round(len(serie_recupero)/recupero*100,2)}% de datos recuperados\")\n",
    "print(\"Se toma como valido, se procede a remover los elementos obtenidos\")"
   ]
  },
  {
   "cell_type": "code",
   "execution_count": 69,
   "id": "9fd0f3ec",
   "metadata": {},
   "outputs": [
    {
     "name": "stdout",
     "output_type": "stream",
     "text": [
      "\n",
      "Resetear dataset: data_sur_cov_isna\n",
      "\n",
      "columna surface_covered_in_m2.isna() - Shape: (9628, 6)\n"
     ]
    },
    {
     "data": {
      "text/html": [
       "<div>\n",
       "<style scoped>\n",
       "    .dataframe tbody tr th:only-of-type {\n",
       "        vertical-align: middle;\n",
       "    }\n",
       "\n",
       "    .dataframe tbody tr th {\n",
       "        vertical-align: top;\n",
       "    }\n",
       "\n",
       "    .dataframe thead th {\n",
       "        text-align: right;\n",
       "    }\n",
       "</style>\n",
       "<table border=\"1\" class=\"dataframe\">\n",
       "  <thead>\n",
       "    <tr style=\"text-align: right;\">\n",
       "      <th></th>\n",
       "      <th>property_type</th>\n",
       "      <th>price_usd_per_m2</th>\n",
       "      <th>price</th>\n",
       "      <th>currency</th>\n",
       "      <th>price_aprox_local_currency</th>\n",
       "      <th>price_aprox_usd</th>\n",
       "    </tr>\n",
       "  </thead>\n",
       "  <tbody>\n",
       "    <tr>\n",
       "      <th>1</th>\n",
       "      <td>apartment</td>\n",
       "      <td>NaN</td>\n",
       "      <td>150000.0</td>\n",
       "      <td>USD</td>\n",
       "      <td>2646675.00</td>\n",
       "      <td>150000.00</td>\n",
       "    </tr>\n",
       "    <tr>\n",
       "      <th>3</th>\n",
       "      <td>PH</td>\n",
       "      <td>NaN</td>\n",
       "      <td>95000.0</td>\n",
       "      <td>USD</td>\n",
       "      <td>1676227.50</td>\n",
       "      <td>95000.00</td>\n",
       "    </tr>\n",
       "    <tr>\n",
       "      <th>9</th>\n",
       "      <td>house</td>\n",
       "      <td>NaN</td>\n",
       "      <td>460000.0</td>\n",
       "      <td>ARS</td>\n",
       "      <td>455201.45</td>\n",
       "      <td>25798.49</td>\n",
       "    </tr>\n",
       "    <tr>\n",
       "      <th>10</th>\n",
       "      <td>house</td>\n",
       "      <td>46.235139</td>\n",
       "      <td>70000.0</td>\n",
       "      <td>USD</td>\n",
       "      <td>1235115.00</td>\n",
       "      <td>70000.00</td>\n",
       "    </tr>\n",
       "    <tr>\n",
       "      <th>11</th>\n",
       "      <td>house</td>\n",
       "      <td>NaN</td>\n",
       "      <td>150000.0</td>\n",
       "      <td>USD</td>\n",
       "      <td>2646675.00</td>\n",
       "      <td>150000.00</td>\n",
       "    </tr>\n",
       "    <tr>\n",
       "      <th>...</th>\n",
       "      <td>...</td>\n",
       "      <td>...</td>\n",
       "      <td>...</td>\n",
       "      <td>...</td>\n",
       "      <td>...</td>\n",
       "      <td>...</td>\n",
       "    </tr>\n",
       "    <tr>\n",
       "      <th>121167</th>\n",
       "      <td>apartment</td>\n",
       "      <td>1556.047059</td>\n",
       "      <td>1415000.0</td>\n",
       "      <td>ARS</td>\n",
       "      <td>1400239.28</td>\n",
       "      <td>79358.40</td>\n",
       "    </tr>\n",
       "    <tr>\n",
       "      <th>121168</th>\n",
       "      <td>apartment</td>\n",
       "      <td>1572.586200</td>\n",
       "      <td>1402000.0</td>\n",
       "      <td>ARS</td>\n",
       "      <td>1387374.86</td>\n",
       "      <td>78629.31</td>\n",
       "    </tr>\n",
       "    <tr>\n",
       "      <th>121169</th>\n",
       "      <td>apartment</td>\n",
       "      <td>1609.257959</td>\n",
       "      <td>1406000.0</td>\n",
       "      <td>ARS</td>\n",
       "      <td>1391333.05</td>\n",
       "      <td>78853.64</td>\n",
       "    </tr>\n",
       "    <tr>\n",
       "      <th>121170</th>\n",
       "      <td>apartment</td>\n",
       "      <td>1577.072800</td>\n",
       "      <td>1406000.0</td>\n",
       "      <td>ARS</td>\n",
       "      <td>1391333.05</td>\n",
       "      <td>78853.64</td>\n",
       "    </tr>\n",
       "    <tr>\n",
       "      <th>121209</th>\n",
       "      <td>apartment</td>\n",
       "      <td>2611.464968</td>\n",
       "      <td>410000.0</td>\n",
       "      <td>USD</td>\n",
       "      <td>7234245.00</td>\n",
       "      <td>410000.00</td>\n",
       "    </tr>\n",
       "  </tbody>\n",
       "</table>\n",
       "<p>9628 rows × 6 columns</p>\n",
       "</div>"
      ],
      "text/plain": [
       "       property_type  price_usd_per_m2      price currency  \\\n",
       "1          apartment               NaN   150000.0      USD   \n",
       "3                 PH               NaN    95000.0      USD   \n",
       "9              house               NaN   460000.0      ARS   \n",
       "10             house         46.235139    70000.0      USD   \n",
       "11             house               NaN   150000.0      USD   \n",
       "...              ...               ...        ...      ...   \n",
       "121167     apartment       1556.047059  1415000.0      ARS   \n",
       "121168     apartment       1572.586200  1402000.0      ARS   \n",
       "121169     apartment       1609.257959  1406000.0      ARS   \n",
       "121170     apartment       1577.072800  1406000.0      ARS   \n",
       "121209     apartment       2611.464968   410000.0      USD   \n",
       "\n",
       "        price_aprox_local_currency  price_aprox_usd  \n",
       "1                       2646675.00        150000.00  \n",
       "3                       1676227.50         95000.00  \n",
       "9                        455201.45         25798.49  \n",
       "10                      1235115.00         70000.00  \n",
       "11                      2646675.00        150000.00  \n",
       "...                            ...              ...  \n",
       "121167                  1400239.28         79358.40  \n",
       "121168                  1387374.86         78629.31  \n",
       "121169                  1391333.05         78853.64  \n",
       "121170                  1391333.05         78853.64  \n",
       "121209                  7234245.00        410000.00  \n",
       "\n",
       "[9628 rows x 6 columns]"
      ]
     },
     "metadata": {},
     "output_type": "display_data"
    },
    {
     "data": {
      "text/html": [
       "<div>\n",
       "<style scoped>\n",
       "    .dataframe tbody tr th:only-of-type {\n",
       "        vertical-align: middle;\n",
       "    }\n",
       "\n",
       "    .dataframe tbody tr th {\n",
       "        vertical-align: top;\n",
       "    }\n",
       "\n",
       "    .dataframe thead th {\n",
       "        text-align: right;\n",
       "    }\n",
       "</style>\n",
       "<table border=\"1\" class=\"dataframe\">\n",
       "  <thead>\n",
       "    <tr style=\"text-align: right;\">\n",
       "      <th></th>\n",
       "      <th>price_usd_per_m2</th>\n",
       "      <th>price</th>\n",
       "      <th>price_aprox_local_currency</th>\n",
       "      <th>price_aprox_usd</th>\n",
       "    </tr>\n",
       "  </thead>\n",
       "  <tbody>\n",
       "    <tr>\n",
       "      <th>count</th>\n",
       "      <td>5049.000000</td>\n",
       "      <td>9555.000000</td>\n",
       "      <td>9.555000e+03</td>\n",
       "      <td>9555.000000</td>\n",
       "    </tr>\n",
       "    <tr>\n",
       "      <th>mean</th>\n",
       "      <td>1772.480493</td>\n",
       "      <td>427962.132915</td>\n",
       "      <td>3.227733e+06</td>\n",
       "      <td>182931.419440</td>\n",
       "    </tr>\n",
       "    <tr>\n",
       "      <th>std</th>\n",
       "      <td>1256.846840</td>\n",
       "      <td>866235.904728</td>\n",
       "      <td>9.675427e+06</td>\n",
       "      <td>548353.707291</td>\n",
       "    </tr>\n",
       "  </tbody>\n",
       "</table>\n",
       "</div>"
      ],
      "text/plain": [
       "       price_usd_per_m2          price  price_aprox_local_currency  \\\n",
       "count       5049.000000    9555.000000                9.555000e+03   \n",
       "mean        1772.480493  427962.132915                3.227733e+06   \n",
       "std         1256.846840  866235.904728                9.675427e+06   \n",
       "\n",
       "       price_aprox_usd  \n",
       "count      9555.000000  \n",
       "mean     182931.419440  \n",
       "std      548353.707291  "
      ]
     },
     "metadata": {},
     "output_type": "display_data"
    },
    {
     "name": "stdout",
     "output_type": "stream",
     "text": [
      "Usamos la columna 'price_aprox_usd'\n"
     ]
    },
    {
     "data": {
      "text/html": [
       "<div>\n",
       "<style scoped>\n",
       "    .dataframe tbody tr th:only-of-type {\n",
       "        vertical-align: middle;\n",
       "    }\n",
       "\n",
       "    .dataframe tbody tr th {\n",
       "        vertical-align: top;\n",
       "    }\n",
       "\n",
       "    .dataframe thead th {\n",
       "        text-align: right;\n",
       "    }\n",
       "</style>\n",
       "<table border=\"1\" class=\"dataframe\">\n",
       "  <thead>\n",
       "    <tr style=\"text-align: right;\">\n",
       "      <th></th>\n",
       "      <th>property_type</th>\n",
       "      <th>price_usd_per_m2</th>\n",
       "      <th>price_aprox_usd</th>\n",
       "    </tr>\n",
       "  </thead>\n",
       "  <tbody>\n",
       "    <tr>\n",
       "      <th>1</th>\n",
       "      <td>apartment</td>\n",
       "      <td>NaN</td>\n",
       "      <td>150000.00</td>\n",
       "    </tr>\n",
       "    <tr>\n",
       "      <th>3</th>\n",
       "      <td>PH</td>\n",
       "      <td>NaN</td>\n",
       "      <td>95000.00</td>\n",
       "    </tr>\n",
       "    <tr>\n",
       "      <th>9</th>\n",
       "      <td>house</td>\n",
       "      <td>NaN</td>\n",
       "      <td>25798.49</td>\n",
       "    </tr>\n",
       "    <tr>\n",
       "      <th>10</th>\n",
       "      <td>house</td>\n",
       "      <td>46.235139</td>\n",
       "      <td>70000.00</td>\n",
       "    </tr>\n",
       "    <tr>\n",
       "      <th>11</th>\n",
       "      <td>house</td>\n",
       "      <td>NaN</td>\n",
       "      <td>150000.00</td>\n",
       "    </tr>\n",
       "    <tr>\n",
       "      <th>...</th>\n",
       "      <td>...</td>\n",
       "      <td>...</td>\n",
       "      <td>...</td>\n",
       "    </tr>\n",
       "    <tr>\n",
       "      <th>121167</th>\n",
       "      <td>apartment</td>\n",
       "      <td>1556.047059</td>\n",
       "      <td>79358.40</td>\n",
       "    </tr>\n",
       "    <tr>\n",
       "      <th>121168</th>\n",
       "      <td>apartment</td>\n",
       "      <td>1572.586200</td>\n",
       "      <td>78629.31</td>\n",
       "    </tr>\n",
       "    <tr>\n",
       "      <th>121169</th>\n",
       "      <td>apartment</td>\n",
       "      <td>1609.257959</td>\n",
       "      <td>78853.64</td>\n",
       "    </tr>\n",
       "    <tr>\n",
       "      <th>121170</th>\n",
       "      <td>apartment</td>\n",
       "      <td>1577.072800</td>\n",
       "      <td>78853.64</td>\n",
       "    </tr>\n",
       "    <tr>\n",
       "      <th>121209</th>\n",
       "      <td>apartment</td>\n",
       "      <td>2611.464968</td>\n",
       "      <td>410000.00</td>\n",
       "    </tr>\n",
       "  </tbody>\n",
       "</table>\n",
       "<p>9628 rows × 3 columns</p>\n",
       "</div>"
      ],
      "text/plain": [
       "       property_type  price_usd_per_m2  price_aprox_usd\n",
       "1          apartment               NaN        150000.00\n",
       "3                 PH               NaN         95000.00\n",
       "9              house               NaN         25798.49\n",
       "10             house         46.235139         70000.00\n",
       "11             house               NaN        150000.00\n",
       "...              ...               ...              ...\n",
       "121167     apartment       1556.047059         79358.40\n",
       "121168     apartment       1572.586200         78629.31\n",
       "121169     apartment       1609.257959         78853.64\n",
       "121170     apartment       1577.072800         78853.64\n",
       "121209     apartment       2611.464968        410000.00\n",
       "\n",
       "[9628 rows x 3 columns]"
      ]
     },
     "metadata": {},
     "output_type": "display_data"
    },
    {
     "data": {
      "text/html": [
       "<div>\n",
       "<style scoped>\n",
       "    .dataframe tbody tr th:only-of-type {\n",
       "        vertical-align: middle;\n",
       "    }\n",
       "\n",
       "    .dataframe tbody tr th {\n",
       "        vertical-align: top;\n",
       "    }\n",
       "\n",
       "    .dataframe thead th {\n",
       "        text-align: right;\n",
       "    }\n",
       "</style>\n",
       "<table border=\"1\" class=\"dataframe\">\n",
       "  <thead>\n",
       "    <tr style=\"text-align: right;\">\n",
       "      <th></th>\n",
       "      <th>property_type</th>\n",
       "      <th>price_usd_per_m2</th>\n",
       "      <th>price_aprox_usd</th>\n",
       "      <th>recupero_por_precio</th>\n",
       "    </tr>\n",
       "  </thead>\n",
       "  <tbody>\n",
       "    <tr>\n",
       "      <th>1</th>\n",
       "      <td>apartment</td>\n",
       "      <td>NaN</td>\n",
       "      <td>150000.00</td>\n",
       "      <td>NaN</td>\n",
       "    </tr>\n",
       "    <tr>\n",
       "      <th>3</th>\n",
       "      <td>PH</td>\n",
       "      <td>NaN</td>\n",
       "      <td>95000.00</td>\n",
       "      <td>NaN</td>\n",
       "    </tr>\n",
       "    <tr>\n",
       "      <th>9</th>\n",
       "      <td>house</td>\n",
       "      <td>NaN</td>\n",
       "      <td>25798.49</td>\n",
       "      <td>NaN</td>\n",
       "    </tr>\n",
       "    <tr>\n",
       "      <th>10</th>\n",
       "      <td>house</td>\n",
       "      <td>46.235139</td>\n",
       "      <td>70000.00</td>\n",
       "      <td>1514.0</td>\n",
       "    </tr>\n",
       "    <tr>\n",
       "      <th>11</th>\n",
       "      <td>house</td>\n",
       "      <td>NaN</td>\n",
       "      <td>150000.00</td>\n",
       "      <td>NaN</td>\n",
       "    </tr>\n",
       "    <tr>\n",
       "      <th>...</th>\n",
       "      <td>...</td>\n",
       "      <td>...</td>\n",
       "      <td>...</td>\n",
       "      <td>...</td>\n",
       "    </tr>\n",
       "    <tr>\n",
       "      <th>121167</th>\n",
       "      <td>apartment</td>\n",
       "      <td>1556.047059</td>\n",
       "      <td>79358.40</td>\n",
       "      <td>51.0</td>\n",
       "    </tr>\n",
       "    <tr>\n",
       "      <th>121168</th>\n",
       "      <td>apartment</td>\n",
       "      <td>1572.586200</td>\n",
       "      <td>78629.31</td>\n",
       "      <td>50.0</td>\n",
       "    </tr>\n",
       "    <tr>\n",
       "      <th>121169</th>\n",
       "      <td>apartment</td>\n",
       "      <td>1609.257959</td>\n",
       "      <td>78853.64</td>\n",
       "      <td>49.0</td>\n",
       "    </tr>\n",
       "    <tr>\n",
       "      <th>121170</th>\n",
       "      <td>apartment</td>\n",
       "      <td>1577.072800</td>\n",
       "      <td>78853.64</td>\n",
       "      <td>50.0</td>\n",
       "    </tr>\n",
       "    <tr>\n",
       "      <th>121209</th>\n",
       "      <td>apartment</td>\n",
       "      <td>2611.464968</td>\n",
       "      <td>410000.00</td>\n",
       "      <td>157.0</td>\n",
       "    </tr>\n",
       "  </tbody>\n",
       "</table>\n",
       "<p>9628 rows × 4 columns</p>\n",
       "</div>"
      ],
      "text/plain": [
       "       property_type  price_usd_per_m2  price_aprox_usd  recupero_por_precio\n",
       "1          apartment               NaN        150000.00                  NaN\n",
       "3                 PH               NaN         95000.00                  NaN\n",
       "9              house               NaN         25798.49                  NaN\n",
       "10             house         46.235139         70000.00               1514.0\n",
       "11             house               NaN        150000.00                  NaN\n",
       "...              ...               ...              ...                  ...\n",
       "121167     apartment       1556.047059         79358.40                 51.0\n",
       "121168     apartment       1572.586200         78629.31                 50.0\n",
       "121169     apartment       1609.257959         78853.64                 49.0\n",
       "121170     apartment       1577.072800         78853.64                 50.0\n",
       "121209     apartment       2611.464968        410000.00                157.0\n",
       "\n",
       "[9628 rows x 4 columns]"
      ]
     },
     "metadata": {},
     "output_type": "display_data"
    },
    {
     "name": "stdout",
     "output_type": "stream",
     "text": [
      "La columna recupero tiene un estimado de la superficie cubierta en base al cociente entre precio_aprox en usd y precio_usd_per_m2\n"
     ]
    }
   ],
   "source": [
    "# - 2. precio / precio_unitario = superficie (asumimos cubierta)\n",
    "print(\"\\nResetear dataset: data_sur_cov_isna\\n\")\n",
    "mask_data = data.surface_covered_in_m2.isna()\n",
    "data_sur_cov_isna = data.loc[\n",
    "    mask_data,\n",
    "    (\n",
    "        \"property_type\",\n",
    "        \"price_usd_per_m2\",\n",
    "        \"price\",\n",
    "        \"currency\",\n",
    "        \"price_aprox_local_currency\",\n",
    "        \"price_aprox_usd\",\n",
    "    ),\n",
    "]\n",
    "data_sur_cov_isna.price_usd_per_m2.fillna(data_price.price_usd_per_m2, inplace=True)\n",
    "\n",
    "print(f\"columna surface_covered_in_m2.isna() - Shape: {data_sur_cov_isna.shape}\")\n",
    "display(data_sur_cov_isna)  # [data_prop_type_sup])#.surface_covered_in_m2.isna()])\n",
    "display(data_sur_cov_isna.describe()[:3])\n",
    "\n",
    "print(\"Usamos la columna 'price_aprox_usd'\")\n",
    "data_sur_cov_isna.drop(\n",
    "    [\"price\", \"currency\", \"price_aprox_local_currency\"], axis=1, inplace=True\n",
    ")\n",
    "display(data_sur_cov_isna)\n",
    "\n",
    "data_sur_cov_isna[\"recupero_por_precio\"] = (\n",
    "    data_sur_cov_isna[\"price_aprox_usd\"] / data_sur_cov_isna[\"price_usd_per_m2\"]\n",
    ")\n",
    "display(data_sur_cov_isna)\n",
    "\n",
    "print(\n",
    "    \"La columna recupero tiene un estimado de la superficie cubierta en base al cociente entre precio_aprox en usd y precio_usd_per_m2\"\n",
    ")"
   ]
  },
  {
   "cell_type": "code",
   "execution_count": 70,
   "id": "1b6edefc",
   "metadata": {},
   "outputs": [
    {
     "name": "stdout",
     "output_type": "stream",
     "text": [
      "COMPARACION DE LOS VALORES RECUPERADOS\n"
     ]
    },
    {
     "data": {
      "text/plain": [
       "count    5049.0\n",
       "mean        1.0\n",
       "std         0.0\n",
       "Name: chequeo, dtype: float64"
      ]
     },
     "metadata": {},
     "output_type": "display_data"
    },
    {
     "name": "stdout",
     "output_type": "stream",
     "text": [
      "Observacion:\n",
      "* Igualmente valido por las dos vias\n"
     ]
    }
   ],
   "source": [
    "# COMPARACION DE LAS COLUMNAS QUE RECUPERAMOS COMO VALIDAS\n",
    "print(\"COMPARACION DE LOS VALORES RECUPERADOS\")\n",
    "data_prop_type_sup[\"recupero_por_sup_total\"] = serie_recupero\n",
    "data_prop_type_sup[\"recupero_por_precio\"] = data_sur_cov_isna[\"recupero_por_precio\"]\n",
    "data_prop_type_sup[\"chequeo\"] = (\n",
    "    data_prop_type_sup[\"recupero_por_precio\"]\n",
    "    / data_prop_type_sup[\"recupero_por_sup_total\"]\n",
    ")\n",
    "\n",
    "mask_data = (\n",
    "    data_prop_type_sup.recupero_por_sup_total.notna()\n",
    "    & data_prop_type_sup.recupero_por_precio.notna()\n",
    ")\n",
    "\n",
    "\n",
    "display(data_prop_type_sup.loc[mask_data, \"chequeo\"].round(2).describe()[:3])\n",
    "print(\"Observacion:\\n* Igualmente valido por las dos vias\")\n",
    "\n",
    "data_prop_type_sup.drop(\"chequeo\", axis=1, inplace=True)"
   ]
  },
  {
   "cell_type": "markdown",
   "id": "ef69a537",
   "metadata": {},
   "source": [
    "NO PUDIMOS RECUPERAR MAS DATOS\n",
    "\n",
    "--------------------------"
   ]
  },
  {
   "cell_type": "code",
   "execution_count": 71,
   "id": "c6bfd227",
   "metadata": {},
   "outputs": [
    {
     "name": "stdout",
     "output_type": "stream",
     "text": [
      "ACTUALIZACION DE COLUMNA SUPERFICIE CUBIERTA\n",
      "data_prop_type_sup\n",
      ">> PORCENTAJE DE DATOS NULOS:\n",
      "\n"
     ]
    },
    {
     "data": {
      "text/plain": [
       "recupero_por_precio       94.80\n",
       "recupero_por_sup_total    94.72\n",
       "surface_total_in_m2       28.04\n",
       "surface_covered_in_m2      4.72\n",
       "property_type              0.00\n",
       "state_name                 0.00\n",
       "dtype: float64"
      ]
     },
     "metadata": {},
     "output_type": "display_data"
    },
    {
     "name": "stdout",
     "output_type": "stream",
     "text": [
      "Observacion:\n",
      "* Aun conservamos 4,72% de datos nulos en la columna superficie cubierta\n",
      "* Representan mas de 4000 datos\n"
     ]
    }
   ],
   "source": [
    "## ESTA ES UNA INTERSECCION DE LOS INDICES DE LA SERIE RECUPERO CON LA COLUMNA DE TIPO DE PROPIEDAD\n",
    "print(\"ACTUALIZACION DE COLUMNA SUPERFICIE CUBIERTA\")\n",
    "data_prop_type_sup.surface_covered_in_m2.fillna(\n",
    "    data_prop_type_sup.recupero_por_precio, inplace=True\n",
    ")\n",
    "print(\"data_prop_type_sup\")\n",
    "porcentaje_nuloss(data_prop_type_sup)\n",
    "\n",
    "print(\n",
    "    \"Observacion:\\n* Aun conservamos 4,72% de datos nulos en la columna superficie cubierta\\n* Representan mas de 4000 datos\"\n",
    ")"
   ]
  },
  {
   "cell_type": "code",
   "execution_count": 72,
   "id": "d651d8f0",
   "metadata": {},
   "outputs": [
    {
     "name": "stdout",
     "output_type": "stream",
     "text": [
      "data_prop_type_sup\n",
      ">> DATOS NULOS:\n",
      "\n"
     ]
    },
    {
     "data": {
      "text/plain": [
       "recupero_por_precio       91995\n",
       "recupero_por_sup_total    91923\n",
       "surface_total_in_m2       27212\n",
       "surface_covered_in_m2      4579\n",
       "property_type                 0\n",
       "state_name                    0\n",
       "dtype: int64"
      ]
     },
     "metadata": {},
     "output_type": "display_data"
    }
   ],
   "source": [
    "print(\"data_prop_type_sup\")\n",
    "nuloss(data_prop_type_sup)"
   ]
  },
  {
   "cell_type": "code",
   "execution_count": 73,
   "id": "3b8f542d",
   "metadata": {},
   "outputs": [
    {
     "name": "stdout",
     "output_type": "stream",
     "text": [
      "3798 outliers quitados, 5049 NaNs recuperados, 4579 entradas NaNs, en la columna \"surface_covered_in_m2\"\n"
     ]
    }
   ],
   "source": [
    "print(\n",
    "    '3798 outliers quitados, 5049 NaNs recuperados, 4579 entradas NaNs, en la columna \"surface_covered_in_m2\"'\n",
    ")"
   ]
  },
  {
   "cell_type": "code",
   "execution_count": 74,
   "id": "fe4a2b16",
   "metadata": {},
   "outputs": [
    {
     "data": {
      "text/plain": [
       "<matplotlib.legend.Legend at 0x239797655b0>"
      ]
     },
     "execution_count": 74,
     "metadata": {},
     "output_type": "execute_result"
    },
    {
     "data": {
      "image/png": "[encoded data removed]",
      "text/plain": [
       "<Figure size 432x288 with 1 Axes>"
      ]
     },
     "metadata": {
      "needs_background": "light"
     },
     "output_type": "display_data"
    },
    {
     "data": {
      "image/png": "[encoded data removed]",
      "text/plain": [
       "<Figure size 1080x504 with 1 Axes>"
      ]
     },
     "metadata": {
      "needs_background": "light"
     },
     "output_type": "display_data"
    }
   ],
   "source": [
    "# [11:50 p. m., 10/2/2022] Agustín Helou DH: #El objetivo de esta celda es generar una descripcion rapida a traves de graficos de state_name y property_type\n",
    "\n",
    "\n",
    "# Creo un nuevo dataframe para trabajar\n",
    "graficos_state_name = data.copy()\n",
    "# Selecciono las columnas que voy a utilizar\n",
    "columnas = [\n",
    "    \"property_type\",\n",
    "    \"state_name\",\n",
    "    \"place_name\",\n",
    "    \"price\",\n",
    "    \"surface_covered_in_m2\",\n",
    "    \"surface_total_in_m2\",\n",
    "]\n",
    "# Filtro por aquellas columnas seleccionadas\n",
    "graficos_state_name = graficos_state_name.filter(columnas, axis=1)\n",
    "graficos_state_name.dropna(inplace=True)  # Saco los Nan\n",
    "\n",
    "lista_top_10_state_name = list(\n",
    "    graficos_state_name.state_name.value_counts().iloc[0:7].index\n",
    ")  # Tomamos el top 7 de los state_name porque son los unicos que tienen mas de 1000 datos\n",
    "graficos_state_name = graficos_state_name.set_index(\n",
    "    \"state_name\"\n",
    ")  # Lo pongo como indice para despues filtrarlos con loc\n",
    "\n",
    "graficos_state_name = graficos_state_name.loc[\n",
    "    lista_top_10_state_name\n",
    "]  # Filtro por el top 7\n",
    "graficos_state_name = graficos_state_name.reset_index(\n",
    "    drop=False\n",
    ")  # Reseteo el indice para posteriormente poder hacer un dummies\n",
    "\n",
    "graficos_state_name = pd.get_dummies(\n",
    "    graficos_state_name, columns=[\"property_type\"]\n",
    ")  # Hago un dummies para depues poder saber como se distribuye en cada zona el property_type\n",
    "graficos_state_name\n",
    "\n",
    "graficos_state_name = graficos_state_name.groupby([\"state_name\"])[\n",
    "    [\n",
    "        \"property_type_PH\",\n",
    "        \"property_type_apartment\",\n",
    "        \"property_type_house\",\n",
    "        \"property_type_store\",\n",
    "    ]\n",
    "].sum()  # Agrupo y sumo\n",
    "graficos_state_name.columns = [\n",
    "    \"PH\",\n",
    "    \"Departamento\",\n",
    "    \"Casa\",\n",
    "    \"Negocio\",\n",
    "]  # Cambio los nombres de las columnas para que en el grafico esten en castellan y con mayusculas\n",
    "graficos_state_name\n",
    "\n",
    "graficos_state_name.plot(\n",
    "    kind=\"bar\",\n",
    "    stacked=True,\n",
    "    title=\"Cantidad de Inmuebles Publicados por Zona y Propiedad\",\n",
    ").legend(\n",
    "    loc=\"upper right\"\n",
    ")  # Ploteo por cantidad\n",
    "\n",
    "graficos_state_name[\"Total\"] = graficos_state_name.sum(\n",
    "    axis=1\n",
    ")  # Armo totales para despues hacer el % de cada una\n",
    "graficos_state_name\n",
    "\n",
    "graficos_state_name = graficos_state_name[\n",
    "    [\"PH\", \"Departamento\", \"Casa\", \"Negocio\"]\n",
    "].div(\n",
    "    graficos_state_name[\"Total\"], axis=0\n",
    ")  # Armo porcentuales\n",
    "graficos_state_name.plot(\n",
    "    kind=\"bar\",\n",
    "    figsize=(15, 7),\n",
    "    stacked=True,\n",
    "    title=\"Distribuciones de Inmuebles Publicados por Zona y Propiedad\",\n",
    ").legend(\n",
    "    loc=\"upper right\"\n",
    ")  # Ploteo por %\n",
    "\n",
    "# [11:50 p. m., 10/2/2022] Agustín Helou DH: # Analisis de CABA con Geopandas Precio promedio del M2 y superficie promedio por barrio"
   ]
  },
  {
   "cell_type": "markdown",
   "id": "b34ff2d8",
   "metadata": {},
   "source": [
    "# 4. ANALISIS DE DATOS GEOGRAFICOS"
   ]
  },
  {
   "cell_type": "markdown",
   "id": "9dee8fab",
   "metadata": {},
   "source": [
    "Creacion del dataset data_geo\n",
    "\n",
    "CONTENIDO:\n",
    "\n",
    "- Busqueda regex:\n",
    "    - links en la descripcion\n",
    "    - especificamente googlemaps en la descripcion\n",
    "        - creacion de la columna googlemaps en data_geo\n",
    "    - informacion adicional a encontrar la palabra ubicacion en la descripcion\n",
    "        - crecion de data_ubic\n",
    "        - modulo exploratorio de datos\n",
    "            - crecion de data_ubic1, data_ubic2, data_ubic3, y auxiliares\n",
    "        - creacion de patrones puntuales\n",
    "        - incorporacion de los matches en data_geo\n",
    "        \n",
    "        - Modulo de recuperacion\n",
    "            - creacion de data_recupero\n",
    " "
   ]
  },
  {
   "cell_type": "raw",
   "id": "0bd5d013",
   "metadata": {},
   "source": [
    "# Armamos una mascara que nos permita visualizar las columnas necesarias para el analisis geográfico de las viviendas\n",
    "mascara_geo = ['place_name', 'place_with_parent_names', 'state_name', 'lat-lon', 'description', 'title']\n",
    "data_geo = df_raw.loc[:,mascara_geo]\n",
    "data_geo.head(2)"
   ]
  },
  {
   "cell_type": "raw",
   "id": "87d6e564",
   "metadata": {},
   "source": [
    "data_geo.isna().sum()"
   ]
  },
  {
   "cell_type": "markdown",
   "id": "7b016bed",
   "metadata": {},
   "source": [
    "### BUSQUEDA DE LINKS EN LA COLUMNA DESCRIPCION"
   ]
  },
  {
   "cell_type": "code",
   "execution_count": 75,
   "id": "1bcfe66f",
   "metadata": {
    "jupyter": {
     "source_hidden": true
    }
   },
   "outputs": [
    {
     "name": "stdout",
     "output_type": "stream",
     "text": [
      "# Armamos una busqueda con links en la descripcion del articulo:\n",
      "\n",
      "patron = '(?P<links>https://([a-z./0-9A-Z]+))'\n",
      "regex = re.compile(patron)\n",
      "links = data_geo.description.apply(lambda x: regex.search(str(x)))\n",
      "\n",
      "print ('Dentro de la columna \"description\" encontramos {} links'.format(links.notnull().value_counts()[1]))\n",
      "\n",
      "links = links.apply(lambda x: x if x is None else x.group('links'))\n",
      "\n",
      "rta:\n",
      "Dentro de la columna \"description\" encontramos 1253 links\n",
      "\n"
     ]
    }
   ],
   "source": [
    "print(\n",
    "    \"\"\"# Armamos una busqueda con links en la descripcion del articulo:\n",
    "\n",
    "patron = '(?P<links>https://([a-z./0-9A-Z]+))'\n",
    "regex = re.compile(patron)\n",
    "links = data_geo.description.apply(lambda x: regex.search(str(x)))\n",
    "\n",
    "print ('Dentro de la columna \"description\" encontramos {} links'.format(links.notnull().value_counts()[1]))\n",
    "\n",
    "links = links.apply(lambda x: x if x is None else x.group('links'))\n",
    "\n",
    "rta:\n",
    "Dentro de la columna \"description\" encontramos 1253 links\n",
    "\"\"\"\n",
    ")"
   ]
  },
  {
   "cell_type": "markdown",
   "id": "2e99f010",
   "metadata": {},
   "source": [
    "**LECTURA MANUAL:**\n",
    "\n",
    "Toma caracteres adicionales al final del link.\n",
    "\n",
    "Se observan paginas de youtube, de facebook, planos de departamentos, googlemaps, etc. \n",
    "\n",
    "Por inspeccion algunas entradas redireccionan a la pagina web de otra inmobiliaria sin contenido publicitario. ej: https://goo.gl/8Ht9DD"
   ]
  },
  {
   "cell_type": "markdown",
   "id": "2fea7610",
   "metadata": {},
   "source": [
    "### BUSQUEDA DE GOOGLEMAPS"
   ]
  },
  {
   "cell_type": "code",
   "execution_count": 76,
   "id": "e2871c80",
   "metadata": {},
   "outputs": [
    {
     "name": "stdout",
     "output_type": "stream",
     "text": [
      "Dentro de la columna \"description\" encontramos 47 matches\n"
     ]
    }
   ],
   "source": [
    "# Armamos una busqueda con links de googlemaps en la descripcion del articulo:\n",
    "\n",
    "patron = \"(?P<googlemaps>https://([a-z./0-9]+maps[a-z./0-9]+))\"\n",
    "regex = re.compile(patron, flags=re.IGNORECASE)\n",
    "googlemaps = df_raw.description.apply(lambda x: regex.search(str(x)))\n",
    "googlemaps.notnull().value_counts()  # Donde se verifican los valores del print\n",
    "\n",
    "print(\n",
    "    'Dentro de la columna \"description\" encontramos {} matches'.format(\n",
    "        googlemaps.notnull().value_counts()[1]\n",
    "    )\n",
    ")\n",
    "\n",
    "googlemaps = googlemaps.apply(lambda x: x if x is None else x.group(\"googlemaps\"))\n",
    "# googlemaps[googlemaps.notnull()]"
   ]
  },
  {
   "cell_type": "code",
   "execution_count": 77,
   "id": "354397de",
   "metadata": {
    "jupyter": {
     "source_hidden": true
    }
   },
   "outputs": [
    {
     "name": "stdout",
     "output_type": "stream",
     "text": [
      "data_geo['googlemaps'] = googlemaps\n",
      "columnas =['place_name','state_name', 'googlemaps']\n",
      "\n",
      "display (data_geo.loc[data_geo['lat-lon'].isnull() & data_geo['googlemaps'].notnull(), columnas])\n",
      "print ('Numero de match encontrado donde faltan datos geográficos: ',data_geo.loc[data_geo['lat-lon'].isnull() & data_geo['googlemaps'].notna(),'googlemaps'].shape[0])\n",
      "\n",
      "rta:\n",
      "Numero de match encontrado donde faltan datos geográficos:  25\n",
      "\n"
     ]
    }
   ],
   "source": [
    "print(\n",
    "    \"\"\"data_geo['googlemaps'] = googlemaps\n",
    "columnas =['place_name','state_name', 'googlemaps']\n",
    "\n",
    "display (data_geo.loc[data_geo['lat-lon'].isnull() & data_geo['googlemaps'].notnull(), columnas])\n",
    "print ('Numero de match encontrado donde faltan datos geográficos: ',data_geo.loc[data_geo['lat-lon'].isnull() & data_geo['googlemaps'].notna(),'googlemaps'].shape[0])\n",
    "\n",
    "rta:\n",
    "Numero de match encontrado donde faltan datos geográficos:  25\n",
    "\"\"\"\n",
    ")"
   ]
  },
  {
   "cell_type": "code",
   "execution_count": 78,
   "id": "b968019f",
   "metadata": {
    "jupyter": {
     "source_hidden": true
    }
   },
   "outputs": [
    {
     "name": "stdout",
     "output_type": "stream",
     "text": [
      "Precaucion que puede haber caracteres adicionales al final del link que corresponden a letras de la palabra siguiente\n"
     ]
    }
   ],
   "source": [
    "print(\n",
    "    \"Precaucion que puede haber caracteres adicionales al final del link que corresponden a letras de la palabra siguiente\"\n",
    ")"
   ]
  },
  {
   "cell_type": "raw",
   "id": "da025dae",
   "metadata": {},
   "source": [
    "\n",
    "error 2: limpiar esos links para que funcionen\n"
   ]
  },
  {
   "cell_type": "markdown",
   "id": "068363e7",
   "metadata": {},
   "source": [
    "#### CONCLUSION 2: googlemaps\n",
    "\n",
    "Hemos creado el dataframe \"data_geo\"\n",
    "\n",
    "Hemos creado la serie links que contiene todos los links https de la descripcion, sin aplicación al desarrollo aún.\n",
    "\n",
    "Encontramos 45 mapas dentro de las descripcion, y en solo 24 nos falta el dato geográfico. "
   ]
  },
  {
   "cell_type": "markdown",
   "id": "bc95e4b6",
   "metadata": {},
   "source": [
    "# BUSQUEDA DE PATRON UBICACION DENTRO DE LA DESCRIPCION\n",
    "\n",
    "Creacion del dataframe: data_ubic\n",
    "\n",
    "tiene que empezar en ubic y leer todo lo que encuentre hasta \"en\" o \",\" \":\" ,\"entre\" \"sobre\" ,\"do a\"..., hasta encontrar un punto y un espacio y finalizar la busqueda.\n",
    "Lo que me interesa es el grupo que esta enter \"en:\" o \",\" hasta el punto espacio\n",
    "\n",
    "VARIABLES:\n",
    "- DATA: Es el main dataset\n",
    "- DATA_GEO: main dataset de la seccion\n",
    "- DATA_UBIC: contiene los strings de las entradas donde la columna description dice 'ubic'\n",
    "- DATA_UBIC1: derivado de data_ubic, resultados no nulos\n",
    "- DATA_UBIC2: derivado de data_ubic, resultado en la franja ['lat-lon'] isna()\n",
    "- DATA_UBIC3: derivado de data_ubic, resultado del merge de los 2 anteriores\n",
    "- DATA_RECUPERO: dataset creado a partir de funciones para visualizar los resultados de determinado patron\n",
    "- DATA_GEO_UBIC: \n",
    "\n",
    "- MASCARA_UBIC1\n",
    "- MASCARA_UBIC2\n",
    "- MASCARA_UBIC3\n",
    "\n",
    "- SERIE_UBIC\n",
    "- PATRON\n",
    "- REGEX\n",
    "- COLUMN_NAME\n",
    "- SERIE_UBIC_AUX\n",
    "\n",
    "- SERIE_UBIC_MASCARA1\n",
    "- SERIE_UBIC_MASCARA3\n",
    "\n",
    "- COLUMNAS\n",
    "\n",
    "- INDICE_MASCARA3"
   ]
  },
  {
   "cell_type": "raw",
   "id": "313fb299",
   "metadata": {},
   "source": [
    "print ('Numero de datos geográficos faltantes: ',data_geo[data_geo['lat-lon'].isnull()].shape[0]-24)"
   ]
  },
  {
   "cell_type": "raw",
   "id": "3c737ccc",
   "metadata": {},
   "source": [
    "patron = 'ubic[a-zA-Z0-9]+\\s(?P<ubic1>[a-zA-Z0-9 º]+[áéíóúÁÉÍÓÚ]*[a-zA-Z0-9 º.:]*).(?P<ubic2>[a-zA-Z0-9 º.:]+).(?P<ubic3>[a-zA-Z0-9 º.:]+)'\n",
    "regex = re.compile(patron, flags=re.IGNORECASE)\n",
    "serie_ubic = data_geo.description.apply(lambda x: regex.search(str(x)))"
   ]
  },
  {
   "cell_type": "raw",
   "id": "b82a33bf",
   "metadata": {},
   "source": [
    "### AÑADIENDO COLUMNAS A UN DATAFRAME DENTRO DE UNA ITERACION\n",
    "\n",
    "data_ubic = pd.DataFrame()\n",
    "\n",
    "for i in range(3):\n",
    "    i += 1\n",
    "    column_name = 'ubic'+str(i)\n",
    "    serie_ubic_aux = serie_ubic.apply(lambda x: x if x is None else x.group('ubic'+str(i)))\n",
    "    data_ubic.insert(loc=i-1, column=column_name, value=serie_ubic_aux)"
   ]
  },
  {
   "cell_type": "raw",
   "id": "a36bba2f",
   "metadata": {},
   "source": [
    "## VISUALIZACION DEL DATASET \n",
    "print ('Longitud: data.ubic:',data_ubic.shape[0])\n",
    "data_ubic[data_ubic.ubic1.notnull()].loc[100:200]"
   ]
  },
  {
   "cell_type": "raw",
   "id": "f76cc9e5",
   "metadata": {},
   "source": [
    "#data_ubic.to_csv('data_ubic.csv')\n",
    "print (f'Cantidad de expresiones ubic encontradas: {data_ubic[data_ubic.ubic1.notnull() | data_ubic.ubic2.notnull() | data_ubic.ubic3.notnull()].shape[0]}')\n",
    "print ('Cantidad de entradas nulas en la columna lat-lon: ',data_geo[data_geo['lat-lon'].isnull()].shape[0])\n",
    "print ('Cantidad de expresiones ubic en las columnas con entradas nulas lat-lon: ',data_ubic[(data_geo['lat-lon'].isnull()) & (data_ubic.ubic1.notnull()) | (data_ubic.ubic2.notnull()) | (data_ubic.ubic3.notnull())].shape[0])"
   ]
  },
  {
   "cell_type": "raw",
   "id": "b4bc603c",
   "metadata": {},
   "source": [
    "# mis serias dudas en revivir esta parte de codigo si vuelvo a trabajar en esta seccion\n",
    "\n",
    "mascara_ubic1 = data_ubic.ubic1.notnull() | data_ubic.ubic2.notnull() | data_ubic.ubic3.notnull()\n",
    "data_ubic1 = data_ubic[mascara_ubic1]\n",
    "\n",
    "data_ubic2 = data_ubic[data_geo['lat-lon'].isnull()]\n",
    "mascara_ubic2 = pd.Series(True, index=data_ubic2.index)\n",
    "\n",
    "data_ubic3 = data_ubic[mascara_ubic2 & mascara_ubic1]\n",
    "mascara_ubic3 = pd.Series(True, index=data_ubic3.index)\n",
    "\n",
    "print ('Creada mascara_ubic1: expresiones ubic encontradas\\nShape del data original:', data_ubic1.shape)\n",
    "print ('Creada mascara_ubic2: data_ubic en expresiones nulas en la columna lat-lon\\nShape del data original:', data_ubic2.shape)\n",
    "print ('Creada mascara_ubic3: data_ubic en expresiones nulas en la columna lat-lon y expresiones ubic encontradas\\nShape del data original:', data_ubic3.shape)\n",
    "\n",
    "print ('\\nCantidad de entradas no nulas de data_ubic2:')\n",
    "print (data_ubic2.notna().sum().to_string())\n",
    "print ('Respuesta: la misma cantidad de entradas que data_ubic3')"
   ]
  },
  {
   "cell_type": "markdown",
   "id": "f31fe945",
   "metadata": {},
   "source": [
    "### Objetivo: MODULO EXPLORATORIO - RANKINGS\n",
    "\n",
    "Crear una funcion que elimine entradas que no estén repetidas, y quedarse con 1 ejemplar de los elementos repetidos. \n",
    "\n",
    "Luego revisar las entradas y crear patrones para identificar direcciones.\n",
    "\n",
    "Utilizar esos patrones en todo el data_ubic\n",
    "\n",
    "***mask = serie.duplicated()***\n",
    "\n",
    "***df[mask].drop_duplicates()***"
   ]
  },
  {
   "cell_type": "raw",
   "id": "1396b6ea",
   "metadata": {},
   "source": [
    "#PROBAMOS LA FUNCION\n",
    "print ('1) serie_ubic_mascara1 =')\n",
    "serie_ubic_mascara1 = data_ubic.ubic1[data_ubic.ubic1.duplicated()].drop_duplicates()\n",
    "print (serie_ubic_mascara1.value_counts().head(10).to_string())\n",
    "print ('\\nRespuesta:\\n* Obtenemos un ejemplar de los elementos que poseen repeticiones')"
   ]
  },
  {
   "cell_type": "raw",
   "id": "13e11ed1",
   "metadata": {},
   "source": [
    "print ('2) serie_ubic_mascara3 =')\n",
    "serie_ubic_mascara3 = data_ubic3.loc[mascara_ubic3,'ubic1'][data_ubic3.ubic1.duplicated()].drop_duplicates()\n",
    "print (serie_ubic_mascara3.head(5).to_string())\n",
    "print ('\\nRespuesta:\\n* Obtenemos un ejemplar de los elementos que poseen repetición y se encuentran en una fila cuya columna[\\'lat-lon\\'] tiene entrada nula')"
   ]
  },
  {
   "cell_type": "raw",
   "id": "ad913f8f",
   "metadata": {},
   "source": [
    "print ('Objetivo: encontrar patrones de busqueda fuertes:')\n",
    "\n",
    "print ('\\t RANKING DE LAS 20 ENTRADAS MAS REPETIDAS EN EL RANGO DE LAT-LON IS NULL')\n",
    "print ('serie_top20 =')\n",
    "\n",
    "display (data_ubic.loc[data_geo['lat-lon'].isna(), 'ubic1'].value_counts()[:21])"
   ]
  },
  {
   "cell_type": "raw",
   "id": "03b248b7",
   "metadata": {},
   "source": [
    "print ('\\t SAMPLES DE 15 ENTRADAS RANDOM DENTRO DE LAS BUSQUEDAS serie_ubic_mascara3')\n",
    "print ('serie_random =')\n",
    "print (serie_ubic_mascara3.sample(15).to_string())"
   ]
  },
  {
   "cell_type": "code",
   "execution_count": 79,
   "id": "4ae9abc2",
   "metadata": {
    "jupyter": {
     "source_hidden": true
    }
   },
   "outputs": [],
   "source": [
    "## MODULO DE BACKUP DE DATOS EN ARCHIVO CSV\n",
    "\n",
    "# data_ubic[mascara_ubic][data_geo['lat-lon'].isnull()].to_csv('data_ubic_lat-lon_isna.csv')\n",
    "\n",
    "# print ('\\nCrear un Excel con las 7642 entradas que carecen de informacion geo referencial para hacer una inspeccion visual rapida de los patrones necesarios\\n--------------------')\n",
    "# done"
   ]
  },
  {
   "cell_type": "markdown",
   "id": "65d2a38f",
   "metadata": {},
   "source": [
    "## Conclusion:\n",
    "PUDIMOS CREAR CIERTOS PATRONES QUE CON GRAN EXACTITUD PUEDEN DEVOLVERNOS VARIOS MATCH DIRECTOS DE LOS QUE NECESITAMOS"
   ]
  },
  {
   "cell_type": "markdown",
   "id": "ec165f5c",
   "metadata": {},
   "source": [
    "Queremos conseguir la mayor cantidad de informacion adicional sobre las 7565 entradas nulas que hemos hecho match\n",
    "\n",
    "Para acceder a ese espacio del dataset hay que acceder a los indices de la mascara_ubic3"
   ]
  },
  {
   "cell_type": "markdown",
   "id": "d2e345af",
   "metadata": {},
   "source": [
    "## MODULO DE PATRONES REGEX"
   ]
  },
  {
   "cell_type": "markdown",
   "id": "58b89c53",
   "metadata": {},
   "source": [
    "---------------------\n",
    "                                                                        PATRON COMPLEJO\n",
    "------------------------"
   ]
  },
  {
   "cell_type": "raw",
   "id": "c9ef9056",
   "metadata": {},
   "source": [
    "# PATRONES \"COMPLEJO\"\n",
    "# 1 palabra\n",
    "patron_1 = '[^a-zA-Z](en|EN).+(?P<complejo>(Complejo|complejo|COMPLEJO).[A-Z]+[a-z]*)'\n",
    "# 2 palabras\n",
    "patron_2 = '[^a-zA-Z](en|EN).+(?P<complejo>(Complejo|complejo|COMPLEJO).[A-Z]+[a-z]*\\s(.?.?.?.?)[A-Z]+[a-z]*)'\n",
    "\n",
    "regex_1 = re.compile(patron_1)\n",
    "regex_2 = re.compile(patron_2)\n",
    "\n",
    "serie_ubic = data_geo.description.apply(lambda x: regex_1.search(str(x)))\n",
    "data_geo['complejo_1'] = serie_ubic.apply(lambda x: x if x is None else x.group('complejo'))\n",
    "serie_ubic = data_geo.description.apply(lambda x: regex_2.search(str(x)))\n",
    "data_geo['complejo_2'] = serie_ubic.apply(lambda x: x if x is None else x.group('complejo'))"
   ]
  },
  {
   "cell_type": "raw",
   "id": "f996896f",
   "metadata": {},
   "source": [
    "recupero_1 = ['complejo_1', 'complejo_2']\n",
    "data_geo[['place_name', 'state_name', 'lat-lon','complejo_1','complejo_2']].loc[(data_geo.complejo_1.notnull() | data_geo.complejo_2.notnull()) & data_geo['lat-lon'].isna()]"
   ]
  },
  {
   "cell_type": "markdown",
   "id": "e4000d37",
   "metadata": {},
   "source": [
    "***Si por ejemplo buscamos Torres de Husares en Belgrano, nos aparece una pagina de zonaprop que nos da la direccion del complejo \"Husares al 2255 Piso 15 2\n",
    ", Belgrano, Capital Federal\"... quedara luego en hacer una limpieza por unique y luego del research buscar las lat-lon de la direccion.***"
   ]
  },
  {
   "cell_type": "raw",
   "id": "ea682984",
   "metadata": {},
   "source": [
    "data_geo.loc[data_geo.complejo_1.notnull() & data_geo['lat-lon'].isna(),'complejo_1'].value_counts()"
   ]
  },
  {
   "cell_type": "raw",
   "id": "49fcb8ae",
   "metadata": {},
   "source": [
    "data_geo.loc[data_geo.complejo_2.notnull() & data_geo['lat-lon'].isna(),'complejo_2'].value_counts()"
   ]
  },
  {
   "cell_type": "markdown",
   "id": "24b28f12",
   "metadata": {},
   "source": [
    "---------------------\n",
    "                                                                        PATRON EN BARRIO\n",
    "------------------------"
   ]
  },
  {
   "cell_type": "raw",
   "id": "2f6dcbd3",
   "metadata": {},
   "source": [
    "# PATRONES EN...BARRIO...\n",
    "# 1 palabra\n",
    "patron_1 = '[^a-zA-Z](en|EN).+(?P<barrio>(Barrio|barrio|BARRIO).([A-Z]+[a-z]*))'\n",
    "# 2 palabras\n",
    "patron_2 = '[^a-zA-Z](en|EN).+(?P<barrio>(Barrio|barrio|BARRIO).[A-Z]+[a-z]*\\s(.?.?.?.?)[A-Z]+[a-z]*)'\n",
    "# 3 palabras\n",
    "patron_3 = '[^a-zA-Z](en|EN).+(?P<barrio>(Barrio|barrio|BARRIO).[A-Z]+[a-z]*\\s(.?.?.?.?)[A-Z]+[a-z]*\\s(.?.?.?.?)[A-Z]+[a-z]*)'\n",
    "\n",
    "regex_1 = re.compile(patron_1)\n",
    "regex_2 = re.compile(patron_2)\n",
    "regex_3 = re.compile(patron_3)\n",
    "\n",
    "serie_ubic = data_geo.description.apply(lambda x: regex_1.search(str(x)))\n",
    "data_geo['barrio_1'] = serie_ubic.apply(lambda x: x if x is None else x.group('barrio'))\n",
    "serie_ubic = data_geo.description.apply(lambda x: regex_2.search(str(x)))\n",
    "data_geo['barrio_2'] = serie_ubic.apply(lambda x: x if x is None else x.group('barrio'))\n",
    "serie_ubic = data_geo.description.apply(lambda x: regex_3.search(str(x)))\n",
    "data_geo['barrio_3'] = serie_ubic.apply(lambda x: x if x is None else x.group('barrio'))\n",
    "\n"
   ]
  },
  {
   "cell_type": "raw",
   "id": "ba26d746",
   "metadata": {},
   "source": [
    "recupero_2 = ['barrio_1', 'barrio_2', 'barrio_3']\n",
    "data_geo[['place_name', 'state_name', 'lat-lon','barrio_1','barrio_2','barrio_3']].loc[(data_geo.barrio_1.notnull() | data_geo.barrio_2.notnull() | data_geo.barrio_3.notnull()) & data_geo['lat-lon'].isna()]"
   ]
  },
  {
   "cell_type": "markdown",
   "id": "6ecf471a",
   "metadata": {},
   "source": [
    "***La misma aclaracion, es cuestion de buscar el mapa o dentro de google as especificaciones. Ejemplo: Barrio Cerrado San Isidro Labrador, en la web: Italia 5043, Benavidez, Partido de Tigre***"
   ]
  },
  {
   "cell_type": "raw",
   "id": "dd0320ae",
   "metadata": {},
   "source": [
    "data_geo.loc[data_geo.barrio_1.notnull() & data_geo['lat-lon'].isna(),'state_name'].value_counts()"
   ]
  },
  {
   "cell_type": "raw",
   "id": "112cf1c4",
   "metadata": {},
   "source": [
    "data_geo.loc[data_geo.barrio_2.notnull() & data_geo['lat-lon'].isna(),'barrio_2'].value_counts()"
   ]
  },
  {
   "cell_type": "raw",
   "id": "0a136ac2",
   "metadata": {},
   "source": [
    "data_geo.loc[data_geo.barrio_3.notnull() & data_geo['lat-lon'].isna(),'barrio_3'].value_counts()"
   ]
  },
  {
   "cell_type": "markdown",
   "id": "137d44e5",
   "metadata": {},
   "source": [
    "---------------------\n",
    "                                                                        PATRON SOBRE, EN\n",
    "------------------------"
   ]
  },
  {
   "cell_type": "markdown",
   "id": "73a385a5",
   "metadata": {},
   "source": [
    "***ADVERTENCIA***, EL PROXIMO PATRON NO RESULTO TAN PRACTICO\n",
    "\n",
    "EN LAS VARIABLES CON DOBLE NUMERACION, SE ESTÁN TRANSCRIBRIENDO LOS VALORES MATCHEADOS POR NONES"
   ]
  },
  {
   "cell_type": "raw",
   "id": "93ed7d58",
   "metadata": {},
   "source": [
    "# PATRONES SOBRE|EN ... ###\n",
    "# 1 palabra\n",
    "patron_1 = '[^a-zA-Z](en|EN|sobre|SOBRE)\\s(?P<ensobre>[A-Z]+[a-z]*\\s[0-9]+)'\n",
    "# 2 palabras\n",
    "patron_2 = '[^a-zA-Z](en|EN|sobre|SOBRE)\\s(?P<ensobre>[A-Z]+[a-z]*\\s(.?.?.?.?)[A-Z]+[a-z]*\\s[0-9]+)'\n",
    "# 3 palabras\n",
    "patron_3 = '[^a-zA-Z](en|EN|sobre|SOBRE)\\s(?P<ensobre>[A-Z]+[a-z]*\\s(.?.?.?.?)[A-Z]+[a-z]*\\s(.?.?.?.?)[A-Z]+[a-z]*\\s[0-9]+)'\n",
    "\n",
    "regex_1 = re.compile(patron_1)\n",
    "regex_2 = re.compile(patron_2)\n",
    "regex_3 = re.compile(patron_3)\n",
    "\n",
    "serie_ubic = data_geo.description.apply(lambda x: regex_1.search(str(x)))\n",
    "data_geo['en_sobre_1'] = serie_ubic.apply(lambda x: x if x is None else x.group('ensobre'))\n",
    "serie_ubic = data_geo.description.apply(lambda x: regex_2.search(str(x)))\n",
    "data_geo['en_sobre_2'] = serie_ubic.apply(lambda x: x if x is None else x.group('ensobre'))\n",
    "serie_ubic = data_geo.description.apply(lambda x: regex_3.search(str(x)))\n",
    "data_geo['en_sobre_3'] = serie_ubic.apply(lambda x: x if x is None else x.group('ensobre'))\n",
    "\n"
   ]
  },
  {
   "cell_type": "raw",
   "id": "291c076b",
   "metadata": {},
   "source": [
    "recupero_3 = ['en_sobre_1', 'en_sobre_2','en_sobre_3']\n",
    "data_geo[['place_name', 'state_name', 'lat-lon','en_sobre_1','en_sobre_2','en_sobre_3']].loc[(data_geo.en_sobre_1.notnull() | data_geo.en_sobre_2.notnull() | data_geo.en_sobre_3.notnull()) & data_geo['lat-lon'].isna()]"
   ]
  },
  {
   "cell_type": "raw",
   "id": "25aaee77",
   "metadata": {},
   "source": [
    "data_geo.loc[data_geo.en_sobre_1.notnull() & data_geo['lat-lon'].isna(),'en_sobre_1'].value_counts()"
   ]
  },
  {
   "cell_type": "raw",
   "id": "270b27f2",
   "metadata": {},
   "source": [
    "data_geo.loc[data_geo.en_sobre_2.notnull() & data_geo['lat-lon'].isna(),'en_sobre_2'].value_counts()[:15]\n",
    "\n",
    "# SAN LORENZO 2440\n",
    "# FRANCISCO DE HARO 4538"
   ]
  },
  {
   "cell_type": "raw",
   "id": "791d6728",
   "metadata": {},
   "source": [
    "# NOT USEFULL\n",
    "data_geo.loc[data_geo.en_sobre_3.notnull() & data_geo['lat-lon'].isna(),'en_sobre_3'].value_counts()[:15];"
   ]
  },
  {
   "cell_type": "markdown",
   "id": "7a896700",
   "metadata": {},
   "source": [
    "85862\tSan Isidro\tBs.As. G.B.A. Zona Norte\tNaN\tRiobamba 480\t\n",
    "91574\tPunilla\tCórdoba\tNaN\tNone\tPARQUE SIQUIMAN 780\t\n",
    "81593\tCórdoba\tCórdoba\tNaN\tNone\tFelix Frias 350\t\n",
    "65805\tCórdoba\tCórdoba\tNaN\tNone\tGeneral Deheza 63\t"
   ]
  },
  {
   "cell_type": "markdown",
   "id": "d86fbb2c",
   "metadata": {},
   "source": [
    "---------------------\n",
    "                                                                        PATRON SOBRE, EN + CALLE\n",
    "------------------------"
   ]
  },
  {
   "cell_type": "raw",
   "id": "f3f41cf8",
   "metadata": {},
   "source": [
    "# PATRONES SOBRE|EN ... CALLE...###\n",
    "# 1 palabra arranca con numeros (ej. 25 de Mayo, 3 de Febrero)\n",
    "patron_1 = '[^a-zA-Z](en|EN|sobre|SOBRE).+(?P<calle>(Calle|CALLE|calle)\\s[0-9]+\\s(.?.?.?.?)[A-Z]+[a-z]*\\s[A-Z]*[a-z]*(.?.?.?.?)[0-9]+(\\s[A-Z]*[a-z]*)?)'\n",
    "# 1 palabra\n",
    "patron_2 = '[^a-zA-Z](en|EN|sobre|SOBRE).+(?P<calle>(Calle|CALLE|calle)\\s[A-Z]+[a-z]*\\s(.?.?.?.?)[0-9]+)'\n",
    "# 2 palabras\n",
    "patron_3 = '[^a-zA-Z](en|EN|sobre|SOBRE).+(?P<calle>(Calle|CALLE|calle).[A-Z]+[a-z]*\\s[A-Z]+[a-z](.?.?.?.?)[0-9]+)'\n",
    "\n",
    "# [^a-zA-Z](en|EN|sobre|SOBRE).+(?P<calle>(Calle|CALLE|calle)\\s[0-9]*\\s?(.?.?.?)[A-Z]+[a-z]*\\s(.?.?.?.?)[0-9]+)\n",
    "\n",
    "regex_1 = re.compile(patron_1)\n",
    "regex_2 = re.compile(patron_2)\n",
    "regex_3 = re.compile(patron_3)\n",
    "\n",
    "serie_ubic = data_geo.description.apply(lambda x: regex_1.search(str(x)))\n",
    "data_geo['sobre_calle_1'] = serie_ubic.apply(lambda x: x if x is None else x.group('calle'))\n",
    "serie_ubic = data_geo.description.apply(lambda x: regex_2.search(str(x)))\n",
    "data_geo['sobre_calle_2'] = serie_ubic.apply(lambda x: x if x is None else x.group('calle'))\n",
    "serie_ubic = data_geo.description.apply(lambda x: regex_3.search(str(x)))\n",
    "data_geo['sobre_calle_3'] = serie_ubic.apply(lambda x: x if x is None else x.group('calle'))\n",
    "\n"
   ]
  },
  {
   "cell_type": "raw",
   "id": "fd4c036c",
   "metadata": {},
   "source": [
    "recupero_4 = ['sobre_calle_1', 'sobre_calle_2', 'sobre_calle_3']\n",
    "data_geo[['place_name', 'state_name', 'lat-lon','sobre_calle_1','sobre_calle_2','sobre_calle_3']].loc[(data_geo.sobre_calle_1.notnull() | data_geo.sobre_calle_2.notnull() | data_geo.sobre_calle_3.notnull()) & data_geo['lat-lon'].isna()]"
   ]
  },
  {
   "cell_type": "raw",
   "id": "f9e3d383",
   "metadata": {},
   "source": [
    "# PATRON 1: CALLES QUE EMPIEZAN CON NUMEROS\n",
    "data_geo[['place_name', 'state_name', 'lat-lon','sobre_calle_1','sobre_calle_2','sobre_calle_3']].loc[data_geo.sobre_calle_1.notnull() & data_geo['lat-lon'].isna(),'sobre_calle_1'].value_counts()"
   ]
  },
  {
   "cell_type": "raw",
   "id": "27e2c86a",
   "metadata": {},
   "source": [
    "data_geo[['place_name', 'state_name', 'lat-lon','sobre_calle_1','sobre_calle_2','sobre_calle_3']].loc[data_geo.sobre_calle_2.notnull() & data_geo['lat-lon'].isna(),'sobre_calle_2'].value_counts()"
   ]
  },
  {
   "cell_type": "raw",
   "id": "a0a93b35",
   "metadata": {},
   "source": [
    "data_geo[['place_name', 'state_name', 'lat-lon','sobre_calle_1','sobre_calle_2','sobre_calle_3']].loc[data_geo.sobre_calle_3.notnull() & data_geo['lat-lon'].isna(),'sobre_calle_3'].value_counts()"
   ]
  },
  {
   "cell_type": "markdown",
   "id": "2911f7e1",
   "metadata": {},
   "source": [
    "---------------------\n",
    "                                                                        PATRON EN CALLE ENTRE CALLE Y CALLE\n",
    "------------------------"
   ]
  },
  {
   "cell_type": "raw",
   "id": "dfaa6771",
   "metadata": {},
   "source": [
    "# PATRONES EN CALLE ENTRE CALLE Y CALLE\n",
    "patron_1 = '[^a-zA-Z](?P<encalle>(en|EN|sobre|SOBRE|entre|ENTRE).+(Calle|CALLE|calle).[A-Z]+[a-z]*(\\s(.?.?.?.?)[0-9]+)?)\\s(?P<entre>(y|Y|entre|ENTRE).+(Calle|CALLE|calle)?[A-Z]+[a-z]*)'\n",
    "\n",
    "regex_1 = re.compile(patron_1)\n",
    "\n",
    "serie_ubic = data_geo.description.apply(lambda x: regex_1.search(str(x)))\n",
    "data_geo['en_calle'] = serie_ubic.apply(lambda x: x if x is None else x.group('encalle'))\n",
    "data_geo['entre'] = serie_ubic.apply(lambda x: x if x is None else x.group('entre'))\n",
    "\n"
   ]
  },
  {
   "cell_type": "raw",
   "id": "10900bc2",
   "metadata": {},
   "source": [
    "recupero_5 = ['en_calle', 'entre']\n",
    "data_geo[['place_name', 'state_name', 'lat-lon','en_calle','entre']].loc[(data_geo.en_calle.notnull() | data_geo.entre.notnull()) & data_geo['lat-lon'].isna()]"
   ]
  },
  {
   "cell_type": "markdown",
   "id": "d98d250b",
   "metadata": {},
   "source": [
    "***La primera busqueda resulta en 442 matches que no son definitivamente concluyentes***"
   ]
  },
  {
   "cell_type": "raw",
   "id": "ac1e4259",
   "metadata": {},
   "source": [
    "data_geo.loc[data_geo.en_calle.notnull() & data_geo['lat-lon'].isna(),'en_calle'].value_counts()[:15]"
   ]
  },
  {
   "cell_type": "raw",
   "id": "782816c3",
   "metadata": {},
   "source": [
    "data_geo.loc[data_geo.entre.notnull() & data_geo['lat-lon'].isna(),'entre'].value_counts();"
   ]
  },
  {
   "cell_type": "markdown",
   "id": "8a0cd0c6",
   "metadata": {},
   "source": [
    "---------------------\n",
    "                                                                        PATRON BOULEVAR\n",
    "------------------------\n",
    "USAMOS data.title"
   ]
  },
  {
   "cell_type": "raw",
   "id": "7b66d028",
   "metadata": {},
   "source": [
    "# PATRONES A|SOBRE|EN ... BV\n",
    "patron_1 = '[^a-zA-Z](?P<boulevar>(A|a|EN|en|SOBRE|sobre).+((bv|BV|Bv)[.]?(.?.?.?.?.?.?.?.?.?)[A-Z]+[a-z]*)(\\s(.?.?.?.?.?.?.?)([A-Z]+[a-z]*))?(\\s[0-9]*)?([A-Z]+[a-z]*)?)'\n",
    "patron_2 = '[^a-zA-Z](?P<boulevar>(A|a|EN|en|SOBRE|sobre).+((boulevar)[.]?(.?.?.?.?.?.?.?.?.?)[A-Z]+[a-z]*)(\\s(.?.?.?.?.?.?.?)([A-Z]+[a-z]*))?(\\s[0-9]*)?([A-Z]+[a-z]*)?)'\n",
    "\n",
    "regex_1 = re.compile(patron_1)\n",
    "regex_2 = re.compile(patron_2, flags= re.IGNORECASE)\n",
    "\n",
    "serie_ubic = data_geo.title.apply(lambda x: regex_1.search(str(x)))\n",
    "data_geo['en_bv'] = serie_ubic.apply(lambda x: x if x is None else x.group('boulevar'))\n",
    "\n",
    "serie_ubic = data_geo.title.apply(lambda x: regex_2.search(str(x)))\n",
    "data_geo['en_boulevar'] = serie_ubic.apply(lambda x: x if x is None else x.group('boulevar'))\n",
    "\n"
   ]
  },
  {
   "cell_type": "raw",
   "id": "323767c4",
   "metadata": {},
   "source": [
    "recupero_6 = ['en_bv', 'en_boulevar']\n",
    "data_geo[['place_name', 'state_name', 'lat-lon','en_bv','en_boulevar']].loc[data_geo.en_bv.notnull() & data_geo['lat-lon'].isna()]"
   ]
  },
  {
   "cell_type": "raw",
   "id": "133d4ae1",
   "metadata": {},
   "source": [
    "data_geo.loc[data_geo.en_bv.notnull() & data_geo['lat-lon'].isna(),'en_bv'].value_counts()"
   ]
  },
  {
   "cell_type": "raw",
   "id": "264b5f7f",
   "metadata": {},
   "source": [
    "data_geo.loc[data_geo.en_boulevar.notnull() & data_geo['lat-lon'].isna(),'en_boulevar'].value_counts()"
   ]
  },
  {
   "cell_type": "markdown",
   "id": "e4d15a1f",
   "metadata": {},
   "source": [
    "---------------------\n",
    "                                                                        PATRON AVENIDA\n",
    "------------------------"
   ]
  },
  {
   "cell_type": "raw",
   "id": "9725cc2c",
   "metadata": {},
   "source": [
    "# PATRONES A|SOBRE|EN ... AV\n",
    "patron_1 = '[^a-zA-Z](?P<avenida>(A|a|EN|en|SOBRE|sobre).+((av|AV|Av)[.]?(.?.?.?.?.?.?.?.?.?)[A-Z]+[a-z]*)(\\s(.?.?.?.?.?.?.?)([A-Z]+[a-z]*))?(\\s[0-9]*)?([A-Z]+[a-z]*)?)'\n",
    "patron_2 = '[^a-zA-Z](?P<avenida>(A|a|EN|en|SOBRE|sobre).+((avenida)[.]?(.?.?.?.?.?.?.?.?.?)[A-Z]+[a-z]*)(\\s(.?.?.?.?.?.?.?)([A-Z]+[a-z]*))?(\\s[0-9]*)?([A-Z]+[a-z]*)?)'\n",
    "\n",
    "regex_1 = re.compile(patron_1)\n",
    "regex_2 = re.compile(patron_2, flags=re.IGNORECASE)\n",
    "\n",
    "serie_ubic = data_geo.title.apply(lambda x: regex_1.search(str(x)))\n",
    "data_geo['en_av'] = serie_ubic.apply(lambda x: x if x is None else x.group('avenida'))\n",
    "\n",
    "serie_ubic = data_geo.title.apply(lambda x: regex_2.search(str(x)))\n",
    "data_geo['en_avenida'] = serie_ubic.apply(lambda x: x if x is None else x.group('avenida'))\n",
    "\n"
   ]
  },
  {
   "cell_type": "raw",
   "id": "f1b18835",
   "metadata": {},
   "source": [
    "recupero_7 = ['en_av', 'en_avenida']\n",
    "data_geo[['place_name', 'state_name', 'lat-lon','en_av','en_avenida']].loc[data_geo.en_av.notnull() & data_geo['lat-lon'].isna()]"
   ]
  },
  {
   "cell_type": "raw",
   "id": "f3d7a964",
   "metadata": {},
   "source": [
    "data_geo.loc[data_geo.en_av.notnull() & data_geo['lat-lon'].isna(),'en_av'].value_counts()"
   ]
  },
  {
   "cell_type": "raw",
   "id": "10e11032",
   "metadata": {},
   "source": [
    "data_geo.loc[data_geo.en_avenida.notnull() & data_geo['lat-lon'].isna(),'en_avenida'].value_counts()"
   ]
  },
  {
   "cell_type": "markdown",
   "id": "0ed0ed68",
   "metadata": {},
   "source": [
    "---------------------\n",
    "                                                                        PATRON RESUMEN\n",
    "------------------------"
   ]
  },
  {
   "cell_type": "raw",
   "id": "3aa32a44",
   "metadata": {},
   "source": [
    "print ('Cantidad de valores nulos en data_geo\\n', data_geo.isna().sum().to_string())"
   ]
  },
  {
   "cell_type": "raw",
   "id": "4a1e7dbe",
   "metadata": {},
   "source": [
    "columnas = ['complejo_1','complejo_2','barrio_1','barrio_2','barrio_3','en_sobre_1','en_sobre_2','en_sobre_3','sobre_calle_1','sobre_calle_2','sobre_calle_3','en_calle','entre','en_bv','en_boulevar','en_av','en_avenida']\n",
    "print ('Cantidad de elementos encontrados por columna')\n",
    "print (data_geo[columnas].notna().sum().to_string())"
   ]
  },
  {
   "cell_type": "code",
   "execution_count": 80,
   "id": "b6fd1543",
   "metadata": {
    "jupyter": {
     "source_hidden": true
    }
   },
   "outputs": [
    {
     "name": "stdout",
     "output_type": "stream",
     "text": [
      "VALORES QUE NOS PERMITEN GEOLOCALIZAR DONDE NO HAYA LAT-LON\n",
      "\n",
      "Cantidad de elementos encontrados por columna\n",
      "complejo_1       1794\n",
      "complejo_2       1157\n",
      "barrio_1         8706\n",
      "barrio_2         5475\n",
      "barrio_3         2248\n",
      "en_sobre_1       2242\n",
      "en_sobre_2       2731\n",
      "en_sobre_3       2096\n",
      "sobre_calle_1     178\n",
      "sobre_calle_2    2144\n",
      "sobre_calle_3     276\n",
      "en_calle         1233\n",
      "entre            1233\n",
      "en_bv              62\n",
      "en_boulevar        68\n",
      "en_av            2061\n",
      "en_avenida        189\n",
      "\n"
     ]
    }
   ],
   "source": [
    "print(\n",
    "    \"\"\"VALORES QUE NOS PERMITEN GEOLOCALIZAR DONDE NO HAYA LAT-LON\\n\n",
    "Cantidad de elementos encontrados por columna\n",
    "complejo_1       1794\n",
    "complejo_2       1157\n",
    "barrio_1         8706\n",
    "barrio_2         5475\n",
    "barrio_3         2248\n",
    "en_sobre_1       2242\n",
    "en_sobre_2       2731\n",
    "en_sobre_3       2096\n",
    "sobre_calle_1     178\n",
    "sobre_calle_2    2144\n",
    "sobre_calle_3     276\n",
    "en_calle         1233\n",
    "entre            1233\n",
    "en_bv              62\n",
    "en_boulevar        68\n",
    "en_av            2061\n",
    "en_avenida        189\n",
    "\"\"\"\n",
    ")"
   ]
  },
  {
   "cell_type": "markdown",
   "id": "c10f2a41",
   "metadata": {},
   "source": [
    "## Modulo de recupero:"
   ]
  },
  {
   "cell_type": "code",
   "execution_count": 81,
   "id": "b16031c3",
   "metadata": {},
   "outputs": [],
   "source": [
    "## MODULO DE BACKUP DE DATOS EN ARCHIVO CSV\n",
    "\n",
    "# data_geo.to_csv('data_geo.csv')\n",
    "\n",
    "data_geo = pd.read_csv(\"data_geo.csv\")\n",
    "\n",
    "\n",
    "recupero_1 = [\"complejo_1\", \"complejo_2\"]\n",
    "recupero_2 = [\"barrio_1\", \"barrio_2\", \"barrio_3\"]\n",
    "recupero_3 = [\"en_sobre_1\", \"en_sobre_2\", \"en_sobre_3\"]\n",
    "recupero_4 = [\"sobre_calle_1\", \"sobre_calle_2\", \"sobre_calle_3\"]\n",
    "recupero_5 = [\"en_calle\", \"entre\"]\n",
    "recupero_6 = [\"en_bv\", \"en_boulevar\"]\n",
    "recupero_7 = [\"en_av\", \"en_avenida\"]\n",
    "\n",
    "recuperados = [\n",
    "    recupero_1,\n",
    "    recupero_2,\n",
    "    recupero_3,\n",
    "    recupero_4,\n",
    "    recupero_5,\n",
    "    recupero_6,\n",
    "    recupero_7,\n",
    "]\n",
    "columnas = (\n",
    "    recupero_1\n",
    "    + recupero_2\n",
    "    + recupero_3\n",
    "    + recupero_4\n",
    "    + recupero_5\n",
    "    + recupero_6\n",
    "    + recupero_7\n",
    ")\n",
    "\n",
    "data_geo_ubic = data_geo.loc[data_geo[\"lat-lon\"].isna(), columnas]"
   ]
  },
  {
   "cell_type": "code",
   "execution_count": 82,
   "id": "96bcf8fb",
   "metadata": {
    "jupyter": {
     "source_hidden": true
    }
   },
   "outputs": [
    {
     "name": "stdout",
     "output_type": "stream",
     "text": [
      "proximas actualizacion\n",
      "proximas actualizaciones\n"
     ]
    }
   ],
   "source": [
    "try:\n",
    "    error_forzado\n",
    "    # conda install qgrid\n",
    "    # jupyter nbextension enable --py --sys-prefix qgrid\n",
    "    # jupyter nbextension enable --py --sys-prefix widgetsnbextension\n",
    "\n",
    "except:\n",
    "    print(\"proximas actualizacion\")\n",
    "\n",
    "try:\n",
    "    1 / 0\n",
    "    import qgrid\n",
    "\n",
    "except:\n",
    "    print(\"proximas actualizaciones\")"
   ]
  },
  {
   "cell_type": "code",
   "execution_count": 83,
   "id": "be99a2a6",
   "metadata": {
    "jupyter": {
     "source_hidden": true
    }
   },
   "outputs": [],
   "source": [
    "def menu_visualizacion(data=data_geo, recuperados=recuperados):\n",
    "    columna = [\"lat-lon\", \"place_name\", \"state_name\"]\n",
    "    print(\"Seleccione una opcion:\")\n",
    "    for i, v in enumerate(recuperados):\n",
    "        print(f\"\\t{i+1}) patron_{i+1}: {v}\")\n",
    "    opcion = input(\"\\n>> \")\n",
    "    try:\n",
    "        opcion = int(opcion)\n",
    "        if opcion < 1 or opcion > 7:\n",
    "            print(\"opcion no valida\")\n",
    "            return\n",
    "        else:\n",
    "            columna += recuperados[opcion - 1]\n",
    "            mask_data = data_geo[recuperados[opcion - 1]].notna().any(axis=1)\n",
    "            display(data_geo.loc[mask_data, columna])\n",
    "            data_recupero = data_geo.loc[mask_data, columna]\n",
    "            return data_recupero\n",
    "    except:\n",
    "        print(\"opcion no validaa\")\n",
    "        return\n",
    "\n",
    "\n",
    "def apertura_menu():\n",
    "    print(\"Desea abrir el modulo de visualizacion dato de ubicacion?\")\n",
    "    check = input(\"(1:si / 0 :no)\\n>> \")\n",
    "    try:\n",
    "        int(check)\n",
    "        if check == \"0\":\n",
    "            return\n",
    "        elif check == \"1\":\n",
    "            return True\n",
    "\n",
    "        else:\n",
    "            \"Operacion abortada\"\n",
    "    except:\n",
    "        print(\"Opcion no valida\")\n",
    "        return"
   ]
  },
  {
   "cell_type": "code",
   "execution_count": 84,
   "id": "4fefabdc",
   "metadata": {
    "jupyter": {
     "source_hidden": true
    }
   },
   "outputs": [],
   "source": [
    "### MODULO FUNCIONAL PERO ESTORBA EL TRABAJO FLUIDO\n",
    "# if apertura_menu():\n",
    "#    data_recupero = menu_visualizacion()\n",
    "#    data_recupero['geonames_id'] = False\n",
    "#    a = 'data_recupero'"
   ]
  },
  {
   "cell_type": "code",
   "execution_count": 85,
   "id": "400856af",
   "metadata": {
    "jupyter": {
     "source_hidden": true
    }
   },
   "outputs": [
    {
     "name": "stdout",
     "output_type": "stream",
     "text": [
      "Continuar ejecucion de codigo\n"
     ]
    }
   ],
   "source": [
    "print(\"Continuar ejecucion de codigo\")  # INPUT"
   ]
  },
  {
   "cell_type": "code",
   "execution_count": 86,
   "id": "28a9012b",
   "metadata": {
    "jupyter": {
     "source_hidden": true
    }
   },
   "outputs": [
    {
     "name": "stdout",
     "output_type": "stream",
     "text": [
      "no hay una base de datos cargada\n",
      "Hay actualizacion pendientes\n"
     ]
    }
   ],
   "source": [
    "try:\n",
    "    print(a)\n",
    "    display(data_recupero)\n",
    "    print(a)\n",
    "    nuloss(data_recupero)\n",
    "    porcentaje_nuloss(data_recupero)\n",
    "    print(\"Accion:\\n* Base de datos cargada: {}\".format(a))\n",
    "except:\n",
    "    print(\"no hay una base de datos cargada\")\n",
    "\n",
    "try:\n",
    "    widget = qgrid.show_grid(data_recupero)\n",
    "    widget\n",
    "\n",
    "except:\n",
    "    print(\"Hay actualizacion pendientes\")"
   ]
  },
  {
   "cell_type": "code",
   "execution_count": 87,
   "id": "f0ab38af",
   "metadata": {},
   "outputs": [
    {
     "name": "stdout",
     "output_type": "stream",
     "text": [
      "RESULTADOS BRUTOS DE PATRONES REGEX\n",
      "\n",
      "\n",
      "Cantidad de entradas por columna:\n",
      "complejo_1       1794\n",
      "complejo_2       1157\n",
      "barrio_1         8706\n",
      "barrio_2         5475\n",
      "barrio_3         2248\n",
      "en_sobre_1       2242\n",
      "en_sobre_2       2731\n",
      "en_sobre_3       2096\n",
      "sobre_calle_1     178\n",
      "sobre_calle_2    2144\n",
      "sobre_calle_3     276\n",
      "en_calle         1233\n",
      "entre            1233\n",
      "en_bv              62\n",
      "en_boulevar        68\n",
      "en_av            2061\n",
      "en_avenida        189\n"
     ]
    }
   ],
   "source": [
    "print(\"RESULTADOS BRUTOS DE PATRONES REGEX\\n\")\n",
    "\n",
    "# print ('Porcentaje de elementos nulos\\n')\n",
    "# print ('{}%'.format(round(data_geo[columnas].isna().sum() / data_geo[columnas].shape[0] *100,2).to_string()))\n",
    "\n",
    "print(\"\\nCantidad de entradas por columna:\")\n",
    "print(data_geo[columnas].count().to_string())"
   ]
  },
  {
   "cell_type": "code",
   "execution_count": 88,
   "id": "e81b3383",
   "metadata": {},
   "outputs": [
    {
     "data": {
      "text/html": [
       "<div>\n",
       "<style scoped>\n",
       "    .dataframe tbody tr th:only-of-type {\n",
       "        vertical-align: middle;\n",
       "    }\n",
       "\n",
       "    .dataframe tbody tr th {\n",
       "        vertical-align: top;\n",
       "    }\n",
       "\n",
       "    .dataframe thead th {\n",
       "        text-align: right;\n",
       "    }\n",
       "</style>\n",
       "<table border=\"1\" class=\"dataframe\">\n",
       "  <thead>\n",
       "    <tr style=\"text-align: right;\">\n",
       "      <th></th>\n",
       "      <th>Nans</th>\n",
       "      <th>Porcentaje Nans</th>\n",
       "      <th>count</th>\n",
       "    </tr>\n",
       "  </thead>\n",
       "  <tbody>\n",
       "    <tr>\n",
       "      <th>en_bv</th>\n",
       "      <td>121158</td>\n",
       "      <td>99.948853</td>\n",
       "      <td>62</td>\n",
       "    </tr>\n",
       "    <tr>\n",
       "      <th>en_boulevar</th>\n",
       "      <td>121152</td>\n",
       "      <td>99.943904</td>\n",
       "      <td>68</td>\n",
       "    </tr>\n",
       "    <tr>\n",
       "      <th>sobre_calle_1</th>\n",
       "      <td>121042</td>\n",
       "      <td>99.853160</td>\n",
       "      <td>178</td>\n",
       "    </tr>\n",
       "    <tr>\n",
       "      <th>en_avenida</th>\n",
       "      <td>121031</td>\n",
       "      <td>99.844085</td>\n",
       "      <td>189</td>\n",
       "    </tr>\n",
       "    <tr>\n",
       "      <th>sobre_calle_3</th>\n",
       "      <td>120944</td>\n",
       "      <td>99.772315</td>\n",
       "      <td>276</td>\n",
       "    </tr>\n",
       "    <tr>\n",
       "      <th>complejo_2</th>\n",
       "      <td>120063</td>\n",
       "      <td>99.045537</td>\n",
       "      <td>1157</td>\n",
       "    </tr>\n",
       "    <tr>\n",
       "      <th>entre</th>\n",
       "      <td>119987</td>\n",
       "      <td>98.982841</td>\n",
       "      <td>1233</td>\n",
       "    </tr>\n",
       "    <tr>\n",
       "      <th>en_calle</th>\n",
       "      <td>119987</td>\n",
       "      <td>98.982841</td>\n",
       "      <td>1233</td>\n",
       "    </tr>\n",
       "    <tr>\n",
       "      <th>complejo_1</th>\n",
       "      <td>119426</td>\n",
       "      <td>98.520046</td>\n",
       "      <td>1794</td>\n",
       "    </tr>\n",
       "    <tr>\n",
       "      <th>en_av</th>\n",
       "      <td>119159</td>\n",
       "      <td>98.299786</td>\n",
       "      <td>2061</td>\n",
       "    </tr>\n",
       "    <tr>\n",
       "      <th>en_sobre_3</th>\n",
       "      <td>119124</td>\n",
       "      <td>98.270912</td>\n",
       "      <td>2096</td>\n",
       "    </tr>\n",
       "    <tr>\n",
       "      <th>sobre_calle_2</th>\n",
       "      <td>119076</td>\n",
       "      <td>98.231315</td>\n",
       "      <td>2144</td>\n",
       "    </tr>\n",
       "    <tr>\n",
       "      <th>en_sobre_1</th>\n",
       "      <td>118978</td>\n",
       "      <td>98.150470</td>\n",
       "      <td>2242</td>\n",
       "    </tr>\n",
       "    <tr>\n",
       "      <th>barrio_3</th>\n",
       "      <td>118972</td>\n",
       "      <td>98.145521</td>\n",
       "      <td>2248</td>\n",
       "    </tr>\n",
       "    <tr>\n",
       "      <th>en_sobre_2</th>\n",
       "      <td>118489</td>\n",
       "      <td>97.747071</td>\n",
       "      <td>2731</td>\n",
       "    </tr>\n",
       "    <tr>\n",
       "      <th>barrio_2</th>\n",
       "      <td>115745</td>\n",
       "      <td>95.483419</td>\n",
       "      <td>5475</td>\n",
       "    </tr>\n",
       "    <tr>\n",
       "      <th>barrio_1</th>\n",
       "      <td>112514</td>\n",
       "      <td>92.818017</td>\n",
       "      <td>8706</td>\n",
       "    </tr>\n",
       "  </tbody>\n",
       "</table>\n",
       "</div>"
      ],
      "text/plain": [
       "                 Nans  Porcentaje Nans  count\n",
       "en_bv          121158        99.948853     62\n",
       "en_boulevar    121152        99.943904     68\n",
       "sobre_calle_1  121042        99.853160    178\n",
       "en_avenida     121031        99.844085    189\n",
       "sobre_calle_3  120944        99.772315    276\n",
       "complejo_2     120063        99.045537   1157\n",
       "entre          119987        98.982841   1233\n",
       "en_calle       119987        98.982841   1233\n",
       "complejo_1     119426        98.520046   1794\n",
       "en_av          119159        98.299786   2061\n",
       "en_sobre_3     119124        98.270912   2096\n",
       "sobre_calle_2  119076        98.231315   2144\n",
       "en_sobre_1     118978        98.150470   2242\n",
       "barrio_3       118972        98.145521   2248\n",
       "en_sobre_2     118489        97.747071   2731\n",
       "barrio_2       115745        95.483419   5475\n",
       "barrio_1       112514        92.818017   8706"
      ]
     },
     "execution_count": 88,
     "metadata": {},
     "output_type": "execute_result"
    }
   ],
   "source": [
    "df = pd.DataFrame(\n",
    "    {\n",
    "        \"Nans\": nulos(data_geo[columnas]),\n",
    "        \"Porcentaje Nans\": porcentaje_nulos(data_geo[columnas]),\n",
    "    }\n",
    ")\n",
    "df[\"count\"] = data_geo[columnas].shape[0] - df[\"Nans\"]\n",
    "df"
   ]
  },
  {
   "cell_type": "code",
   "execution_count": 89,
   "id": "32864180",
   "metadata": {},
   "outputs": [
    {
     "data": {
      "image/png": "[encoded data removed]",
      "text/plain": [
       "<Figure size 1440x360 with 1 Axes>"
      ]
     },
     "metadata": {
      "needs_background": "light"
     },
     "output_type": "display_data"
    }
   ],
   "source": [
    "titulo = \"repercusion de los patrones\"\n",
    "serie = df[\"count\"]\n",
    "fig = plt.figure(figsize=(20, 5))\n",
    "ax = plt.axes()\n",
    "ax.bar(serie.index, serie)\n",
    "ax.grid(axis=\"y\")\n",
    "plt.show()"
   ]
  },
  {
   "cell_type": "code",
   "execution_count": 90,
   "id": "d6f2e645",
   "metadata": {},
   "outputs": [
    {
     "name": "stdout",
     "output_type": "stream",
     "text": [
      "bins:  [0, 1000, 2000, 4000, inf]\n"
     ]
    }
   ],
   "source": [
    "# repercusion de los patrones 2\n",
    "\n",
    "bins = [0, 1000, 2000, 4000, np.inf]\n",
    "print(\"bins: \", bins)\n",
    "labels = [\"menos_1000\", \"1000_a_2000\", \"2000_a_4000\", \"4000_a_>8000\"]\n",
    "\n",
    "df[\"Categoria_recupero\"] = pd.cut(df[\"count\"], bins=bins, labels=labels)"
   ]
  },
  {
   "cell_type": "code",
   "execution_count": 91,
   "id": "bbff6a29",
   "metadata": {},
   "outputs": [
    {
     "data": {
      "text/html": [
       "<div>\n",
       "<style scoped>\n",
       "    .dataframe tbody tr th:only-of-type {\n",
       "        vertical-align: middle;\n",
       "    }\n",
       "\n",
       "    .dataframe tbody tr th {\n",
       "        vertical-align: top;\n",
       "    }\n",
       "\n",
       "    .dataframe thead th {\n",
       "        text-align: right;\n",
       "    }\n",
       "</style>\n",
       "<table border=\"1\" class=\"dataframe\">\n",
       "  <thead>\n",
       "    <tr style=\"text-align: right;\">\n",
       "      <th></th>\n",
       "      <th>Cantidad patrones</th>\n",
       "    </tr>\n",
       "    <tr>\n",
       "      <th>Categoria_recupero</th>\n",
       "      <th></th>\n",
       "    </tr>\n",
       "  </thead>\n",
       "  <tbody>\n",
       "    <tr>\n",
       "      <th>menos_1000</th>\n",
       "      <td>5</td>\n",
       "    </tr>\n",
       "    <tr>\n",
       "      <th>1000_a_2000</th>\n",
       "      <td>4</td>\n",
       "    </tr>\n",
       "    <tr>\n",
       "      <th>2000_a_4000</th>\n",
       "      <td>6</td>\n",
       "    </tr>\n",
       "    <tr>\n",
       "      <th>4000_a_&gt;8000</th>\n",
       "      <td>2</td>\n",
       "    </tr>\n",
       "  </tbody>\n",
       "</table>\n",
       "</div>"
      ],
      "text/plain": [
       "                    Cantidad patrones\n",
       "Categoria_recupero                   \n",
       "menos_1000                          5\n",
       "1000_a_2000                         4\n",
       "2000_a_4000                         6\n",
       "4000_a_>8000                        2"
      ]
     },
     "execution_count": 91,
     "metadata": {},
     "output_type": "execute_result"
    }
   ],
   "source": [
    "agg = df.groupby(\"Categoria_recupero\").size().to_frame()\n",
    "agg.columns = [\"Cantidad patrones\"]\n",
    "agg"
   ]
  },
  {
   "cell_type": "code",
   "execution_count": null,
   "id": "25f01246",
   "metadata": {},
   "outputs": [],
   "source": []
  },
  {
   "cell_type": "code",
   "execution_count": 92,
   "id": "237de3ef",
   "metadata": {},
   "outputs": [],
   "source": [
    "# print ('CONCLUSION:\\n* Pudimos visualizar la respuesta de nuestros patrones\\n* Vamos a armar una categoria para los patrones\\n* 0 a 500: Bajo\\n* 500 a 1000: estrategico\\n* los otros 3 seran Barriox2  y sobre_calle\\n* asumiendo que esos patrones representan lugares con alto nivel de oferta, la categoria será: demandada')"
   ]
  },
  {
   "cell_type": "markdown",
   "id": "55d160ef",
   "metadata": {},
   "source": [
    "------------\n",
    "**CONCLUSION**\n",
    "\n",
    "---------------\n",
    "\n",
    "Vamos a etiquetar los matches para ver que nos devuelve el algoritmo"
   ]
  },
  {
   "cell_type": "markdown",
   "id": "233d5238",
   "metadata": {},
   "source": [
    "# 5. BUSQUEDA DE GEONAMES_ID\n",
    "\n",
    "Vamos a completar la columna geonames_id en funcion de place_name "
   ]
  },
  {
   "cell_type": "code",
   "execution_count": 93,
   "id": "8e59a607",
   "metadata": {},
   "outputs": [
    {
     "data": {
      "text/html": [
       "<div>\n",
       "<style scoped>\n",
       "    .dataframe tbody tr th:only-of-type {\n",
       "        vertical-align: middle;\n",
       "    }\n",
       "\n",
       "    .dataframe tbody tr th {\n",
       "        vertical-align: top;\n",
       "    }\n",
       "\n",
       "    .dataframe thead th {\n",
       "        text-align: right;\n",
       "    }\n",
       "</style>\n",
       "<table border=\"1\" class=\"dataframe\">\n",
       "  <thead>\n",
       "    <tr style=\"text-align: right;\">\n",
       "      <th></th>\n",
       "      <th>place_name</th>\n",
       "      <th>state_name</th>\n",
       "      <th>geonames_id</th>\n",
       "      <th>lat-lon</th>\n",
       "    </tr>\n",
       "  </thead>\n",
       "  <tbody>\n",
       "    <tr>\n",
       "      <th>0</th>\n",
       "      <td>Mataderos</td>\n",
       "      <td>Capital Federal</td>\n",
       "      <td>3430787.0</td>\n",
       "      <td>-34.6618237,-58.5088387</td>\n",
       "    </tr>\n",
       "    <tr>\n",
       "      <th>1</th>\n",
       "      <td>La Plata</td>\n",
       "      <td>Bs.As. G.B.A. Zona Sur</td>\n",
       "      <td>3432039.0</td>\n",
       "      <td>-34.9038831,-57.9643295</td>\n",
       "    </tr>\n",
       "    <tr>\n",
       "      <th>2</th>\n",
       "      <td>Mataderos</td>\n",
       "      <td>Capital Federal</td>\n",
       "      <td>3430787.0</td>\n",
       "      <td>-34.6522615,-58.5229825</td>\n",
       "    </tr>\n",
       "    <tr>\n",
       "      <th>3</th>\n",
       "      <td>Liniers</td>\n",
       "      <td>Capital Federal</td>\n",
       "      <td>3431333.0</td>\n",
       "      <td>-34.6477969,-58.5164244</td>\n",
       "    </tr>\n",
       "    <tr>\n",
       "      <th>4</th>\n",
       "      <td>Centro</td>\n",
       "      <td>Buenos Aires Costa Atlántica</td>\n",
       "      <td>3435548.0</td>\n",
       "      <td>-38.0026256,-57.5494468</td>\n",
       "    </tr>\n",
       "    <tr>\n",
       "      <th>...</th>\n",
       "      <td>...</td>\n",
       "      <td>...</td>\n",
       "      <td>...</td>\n",
       "      <td>...</td>\n",
       "    </tr>\n",
       "    <tr>\n",
       "      <th>121215</th>\n",
       "      <td>Belgrano</td>\n",
       "      <td>Capital Federal</td>\n",
       "      <td>3436077.0</td>\n",
       "      <td>NaN</td>\n",
       "    </tr>\n",
       "    <tr>\n",
       "      <th>121216</th>\n",
       "      <td>Beccar</td>\n",
       "      <td>Bs.As. G.B.A. Zona Norte</td>\n",
       "      <td>3436080.0</td>\n",
       "      <td>NaN</td>\n",
       "    </tr>\n",
       "    <tr>\n",
       "      <th>121217</th>\n",
       "      <td>Villa Urquiza</td>\n",
       "      <td>Capital Federal</td>\n",
       "      <td>3433775.0</td>\n",
       "      <td>-34.5706388726,-58.4755963355</td>\n",
       "    </tr>\n",
       "    <tr>\n",
       "      <th>121218</th>\n",
       "      <td>Plaza Colón</td>\n",
       "      <td>Buenos Aires Costa Atlántica</td>\n",
       "      <td>NaN</td>\n",
       "      <td>NaN</td>\n",
       "    </tr>\n",
       "    <tr>\n",
       "      <th>121219</th>\n",
       "      <td>Capital Federal</td>\n",
       "      <td>Capital Federal</td>\n",
       "      <td>3433955.0</td>\n",
       "      <td>NaN</td>\n",
       "    </tr>\n",
       "  </tbody>\n",
       "</table>\n",
       "<p>121220 rows × 4 columns</p>\n",
       "</div>"
      ],
      "text/plain": [
       "             place_name                    state_name  geonames_id  \\\n",
       "0             Mataderos               Capital Federal    3430787.0   \n",
       "1              La Plata        Bs.As. G.B.A. Zona Sur    3432039.0   \n",
       "2             Mataderos               Capital Federal    3430787.0   \n",
       "3               Liniers               Capital Federal    3431333.0   \n",
       "4                Centro  Buenos Aires Costa Atlántica    3435548.0   \n",
       "...                 ...                           ...          ...   \n",
       "121215         Belgrano               Capital Federal    3436077.0   \n",
       "121216           Beccar      Bs.As. G.B.A. Zona Norte    3436080.0   \n",
       "121217    Villa Urquiza               Capital Federal    3433775.0   \n",
       "121218      Plaza Colón  Buenos Aires Costa Atlántica          NaN   \n",
       "121219  Capital Federal               Capital Federal    3433955.0   \n",
       "\n",
       "                              lat-lon  \n",
       "0             -34.6618237,-58.5088387  \n",
       "1             -34.9038831,-57.9643295  \n",
       "2             -34.6522615,-58.5229825  \n",
       "3             -34.6477969,-58.5164244  \n",
       "4             -38.0026256,-57.5494468  \n",
       "...                               ...  \n",
       "121215                            NaN  \n",
       "121216                            NaN  \n",
       "121217  -34.5706388726,-58.4755963355  \n",
       "121218                            NaN  \n",
       "121219                            NaN  \n",
       "\n",
       "[121220 rows x 4 columns]"
      ]
     },
     "execution_count": 93,
     "metadata": {},
     "output_type": "execute_result"
    }
   ],
   "source": [
    "data_geo_id = df_raw.copy()\n",
    "\n",
    "columna = [\"place_name\", \"state_name\", \"lat-lon\", \"geonames_id\"]\n",
    "\n",
    "columnas = []\n",
    "for elemento in data_geo_id.columns:\n",
    "    if elemento not in columna:\n",
    "        columnas.append(elemento)\n",
    "\n",
    "data_geo_id.drop(columnas, axis=1, inplace=True)\n",
    "data_geo_id"
   ]
  },
  {
   "cell_type": "code",
   "execution_count": 94,
   "id": "5138788e",
   "metadata": {},
   "outputs": [
    {
     "data": {
      "text/html": [
       "<div>\n",
       "<style scoped>\n",
       "    .dataframe tbody tr th:only-of-type {\n",
       "        vertical-align: middle;\n",
       "    }\n",
       "\n",
       "    .dataframe tbody tr th {\n",
       "        vertical-align: top;\n",
       "    }\n",
       "\n",
       "    .dataframe thead th {\n",
       "        text-align: right;\n",
       "    }\n",
       "</style>\n",
       "<table border=\"1\" class=\"dataframe\">\n",
       "  <thead>\n",
       "    <tr style=\"text-align: right;\">\n",
       "      <th></th>\n",
       "      <th>place_name</th>\n",
       "      <th>state_name</th>\n",
       "      <th>geonames_id</th>\n",
       "      <th>lat-lon</th>\n",
       "    </tr>\n",
       "  </thead>\n",
       "  <tbody>\n",
       "    <tr>\n",
       "      <th>23</th>\n",
       "      <td>Pilar</td>\n",
       "      <td>Bs.As. G.B.A. Zona Norte</td>\n",
       "      <td>NaN</td>\n",
       "      <td>NaN</td>\n",
       "    </tr>\n",
       "    <tr>\n",
       "      <th>104</th>\n",
       "      <td>Nordelta</td>\n",
       "      <td>Bs.As. G.B.A. Zona Norte</td>\n",
       "      <td>NaN</td>\n",
       "      <td>NaN</td>\n",
       "    </tr>\n",
       "    <tr>\n",
       "      <th>109</th>\n",
       "      <td>Boulogne Sur Mer</td>\n",
       "      <td>Bs.As. G.B.A. Zona Norte</td>\n",
       "      <td>NaN</td>\n",
       "      <td>NaN</td>\n",
       "    </tr>\n",
       "    <tr>\n",
       "      <th>261</th>\n",
       "      <td>Las Golondrinas</td>\n",
       "      <td>Bs.As. G.B.A. Zona Sur</td>\n",
       "      <td>NaN</td>\n",
       "      <td>NaN</td>\n",
       "    </tr>\n",
       "    <tr>\n",
       "      <th>324</th>\n",
       "      <td>Nordelta</td>\n",
       "      <td>Bs.As. G.B.A. Zona Norte</td>\n",
       "      <td>NaN</td>\n",
       "      <td>NaN</td>\n",
       "    </tr>\n",
       "    <tr>\n",
       "      <th>...</th>\n",
       "      <td>...</td>\n",
       "      <td>...</td>\n",
       "      <td>...</td>\n",
       "      <td>...</td>\n",
       "    </tr>\n",
       "    <tr>\n",
       "      <th>121136</th>\n",
       "      <td>Palermo Hollywood</td>\n",
       "      <td>Capital Federal</td>\n",
       "      <td>NaN</td>\n",
       "      <td>NaN</td>\n",
       "    </tr>\n",
       "    <tr>\n",
       "      <th>121137</th>\n",
       "      <td>Palermo Hollywood</td>\n",
       "      <td>Capital Federal</td>\n",
       "      <td>NaN</td>\n",
       "      <td>NaN</td>\n",
       "    </tr>\n",
       "    <tr>\n",
       "      <th>121139</th>\n",
       "      <td>Punta Iglesia</td>\n",
       "      <td>Buenos Aires Costa Atlántica</td>\n",
       "      <td>NaN</td>\n",
       "      <td>NaN</td>\n",
       "    </tr>\n",
       "    <tr>\n",
       "      <th>121140</th>\n",
       "      <td>Altos de Hudson I</td>\n",
       "      <td>Bs.As. G.B.A. Zona Sur</td>\n",
       "      <td>NaN</td>\n",
       "      <td>NaN</td>\n",
       "    </tr>\n",
       "    <tr>\n",
       "      <th>121218</th>\n",
       "      <td>Plaza Colón</td>\n",
       "      <td>Buenos Aires Costa Atlántica</td>\n",
       "      <td>NaN</td>\n",
       "      <td>NaN</td>\n",
       "    </tr>\n",
       "  </tbody>\n",
       "</table>\n",
       "<p>8185 rows × 4 columns</p>\n",
       "</div>"
      ],
      "text/plain": [
       "               place_name                    state_name  geonames_id lat-lon\n",
       "23                  Pilar      Bs.As. G.B.A. Zona Norte          NaN     NaN\n",
       "104              Nordelta      Bs.As. G.B.A. Zona Norte          NaN     NaN\n",
       "109      Boulogne Sur Mer      Bs.As. G.B.A. Zona Norte          NaN     NaN\n",
       "261       Las Golondrinas        Bs.As. G.B.A. Zona Sur          NaN     NaN\n",
       "324              Nordelta      Bs.As. G.B.A. Zona Norte          NaN     NaN\n",
       "...                   ...                           ...          ...     ...\n",
       "121136  Palermo Hollywood               Capital Federal          NaN     NaN\n",
       "121137  Palermo Hollywood               Capital Federal          NaN     NaN\n",
       "121139      Punta Iglesia  Buenos Aires Costa Atlántica          NaN     NaN\n",
       "121140  Altos de Hudson I        Bs.As. G.B.A. Zona Sur          NaN     NaN\n",
       "121218        Plaza Colón  Buenos Aires Costa Atlántica          NaN     NaN\n",
       "\n",
       "[8185 rows x 4 columns]"
      ]
     },
     "metadata": {},
     "output_type": "display_data"
    }
   ],
   "source": [
    "# ENTRADAS QUE SON NULAS EN LATLON Y QUE SON NULAS EN GEONAMES_ID\n",
    "mask_data = data_geo_id[\"lat-lon\"].isna() & data_geo_id.geonames_id.isna()\n",
    "data_check = data_geo_id[mask_data]\n",
    "display(data_check)"
   ]
  },
  {
   "cell_type": "code",
   "execution_count": 95,
   "id": "a2f91cb7",
   "metadata": {},
   "outputs": [
    {
     "data": {
      "text/plain": [
       "0                          Pilar\n",
       "1                       Nordelta\n",
       "2               Boulogne Sur Mer\n",
       "3                Las Golondrinas\n",
       "4                 Manuel Alberti\n",
       "                 ...            \n",
       "218                   Mayu Sumaj\n",
       "219             Potrero de Garay\n",
       "220                    Mi Granja\n",
       "221    El Nacional Club de Campo\n",
       "222            Altos de Hudson I\n",
       "Length: 223, dtype: object"
      ]
     },
     "execution_count": 95,
     "metadata": {},
     "output_type": "execute_result"
    }
   ],
   "source": [
    "serie_place_name = data_check.place_name\n",
    "serie_place_name = serie_place_name.unique()\n",
    "serie_place_name = pd.Series(serie_place_name)\n",
    "# podria hacerse un intersection index y serias un grosardo\n",
    "serie_place_name"
   ]
  },
  {
   "cell_type": "code",
   "execution_count": 96,
   "id": "8ef35fe7",
   "metadata": {},
   "outputs": [
    {
     "name": "stdout",
     "output_type": "stream",
     "text": [
      "a ver\n"
     ]
    }
   ],
   "source": [
    "# quiero verificar si la serie serie_place_name, la puedo ubicar dentro de data_geo_id.place_name para leer el geoname_id\n",
    "lista = []\n",
    "geonames_dic = {}\n",
    "for i, v in enumerate(serie_place_name):\n",
    "    mask_data = data_geo_id.place_name == v\n",
    "    a = data_geo_id.loc[mask_data, [\"place_name\", \"geonames_id\"]].loc[\n",
    "        data_geo_id.geonames_id.notna()\n",
    "    ]\n",
    "    place_name = list(a[\"place_name\"].unique())\n",
    "    geonames_id = list(a[\"geonames_id\"].unique())\n",
    "\n",
    "    result = dict(geonames_id=geonames_id)\n",
    "    geonames_dic[v] = result\n",
    "\n",
    "\n",
    "print(\"a ver\")  ##WARNING\n",
    "# geonames_dic"
   ]
  },
  {
   "cell_type": "code",
   "execution_count": 97,
   "id": "f9778169",
   "metadata": {},
   "outputs": [
    {
     "data": {
      "text/plain": [
       "[0,\n",
       " 6,\n",
       " 9,\n",
       " 29,\n",
       " 36,\n",
       " 39,\n",
       " 42,\n",
       " 49,\n",
       " 50,\n",
       " 73,\n",
       " 82,\n",
       " 84,\n",
       " 85,\n",
       " 88,\n",
       " 90,\n",
       " 115,\n",
       " 136,\n",
       " 138,\n",
       " 161,\n",
       " 166,\n",
       " 192,\n",
       " 206]"
      ]
     },
     "execution_count": 97,
     "metadata": {},
     "output_type": "execute_result"
    }
   ],
   "source": [
    "lista = []\n",
    "for i, v in enumerate(geonames_dic.values()):\n",
    "    for j in v.values():\n",
    "        if len(j) > 0:\n",
    "            lista.append(i)\n",
    "\n",
    "lista"
   ]
  },
  {
   "cell_type": "code",
   "execution_count": 98,
   "id": "9c639001",
   "metadata": {},
   "outputs": [],
   "source": [
    "geonames_id_dic = {}\n",
    "for i, v in enumerate(geonames_dic.keys()):\n",
    "    if i in lista:\n",
    "        for j in geonames_dic[v].values():\n",
    "            pass\n",
    "        geonames_id_dic[v] = j"
   ]
  },
  {
   "cell_type": "code",
   "execution_count": 99,
   "id": "2025f60a",
   "metadata": {},
   "outputs": [
    {
     "data": {
      "text/plain": [
       "{'Pilar': [3429979.0, 3841149.0],\n",
       " 'Vicente López': [3427504.0],\n",
       " 'Malvinas Argentinas': [3845073.0],\n",
       " 'Tigre': [3427753.0],\n",
       " 'San Martín': [3836982.0],\n",
       " 'Villa Mercedes': [3832679.0],\n",
       " 'San Fernando': [3429088.0],\n",
       " 'Constitución': [3435257.0],\n",
       " 'San Carlos': [3837885.0],\n",
       " 'Lanús': [3432134.0],\n",
       " 'Lomas de Zamora': [3431270.0],\n",
       " 'Pompeya': [3430387.0],\n",
       " 'Azul': [3436197.0],\n",
       " 'Abasto': [3436521.0],\n",
       " 'Merlo': [3844377.0, 3430696.0],\n",
       " 'Berisso': [3436038.0],\n",
       " 'La Falda': [3851331.0],\n",
       " 'Chascomús': [3435446.0],\n",
       " 'San Juan': [3837152.0, 3837213.0],\n",
       " 'Pergamino': [3841488.0],\n",
       " 'Santa Catalina': [3836446.0],\n",
       " 'Junín': [3853352.0]}"
      ]
     },
     "execution_count": 99,
     "metadata": {},
     "output_type": "execute_result"
    }
   ],
   "source": [
    "geonames_id_dic"
   ]
  },
  {
   "cell_type": "code",
   "execution_count": 100,
   "id": "e0457e75",
   "metadata": {},
   "outputs": [
    {
     "name": "stderr",
     "output_type": "stream",
     "text": [
      "C:\\Users\\dh\\anaconda3\\envs\\dhdsblend2021\\lib\\site-packages\\pandas\\core\\indexing.py:1763: SettingWithCopyWarning: \n",
      "A value is trying to be set on a copy of a slice from a DataFrame.\n",
      "Try using .loc[row_indexer,col_indexer] = value instead\n",
      "\n",
      "See the caveats in the documentation: https://pandas.pydata.org/pandas-docs/stable/user_guide/indexing.html#returning-a-view-versus-a-copy\n",
      "  isetter(loc, value)\n"
     ]
    },
    {
     "data": {
      "text/html": [
       "<div>\n",
       "<style scoped>\n",
       "    .dataframe tbody tr th:only-of-type {\n",
       "        vertical-align: middle;\n",
       "    }\n",
       "\n",
       "    .dataframe tbody tr th {\n",
       "        vertical-align: top;\n",
       "    }\n",
       "\n",
       "    .dataframe thead th {\n",
       "        text-align: right;\n",
       "    }\n",
       "</style>\n",
       "<table border=\"1\" class=\"dataframe\">\n",
       "  <thead>\n",
       "    <tr style=\"text-align: right;\">\n",
       "      <th></th>\n",
       "      <th>place_name</th>\n",
       "      <th>state_name</th>\n",
       "      <th>geonames_id</th>\n",
       "      <th>lat-lon</th>\n",
       "    </tr>\n",
       "  </thead>\n",
       "  <tbody>\n",
       "    <tr>\n",
       "      <th>23</th>\n",
       "      <td>Pilar</td>\n",
       "      <td>Bs.As. G.B.A. Zona Norte</td>\n",
       "      <td>3429979.0</td>\n",
       "      <td>NaN</td>\n",
       "    </tr>\n",
       "    <tr>\n",
       "      <th>104</th>\n",
       "      <td>Nordelta</td>\n",
       "      <td>Bs.As. G.B.A. Zona Norte</td>\n",
       "      <td>NaN</td>\n",
       "      <td>NaN</td>\n",
       "    </tr>\n",
       "    <tr>\n",
       "      <th>109</th>\n",
       "      <td>Boulogne Sur Mer</td>\n",
       "      <td>Bs.As. G.B.A. Zona Norte</td>\n",
       "      <td>NaN</td>\n",
       "      <td>NaN</td>\n",
       "    </tr>\n",
       "    <tr>\n",
       "      <th>261</th>\n",
       "      <td>Las Golondrinas</td>\n",
       "      <td>Bs.As. G.B.A. Zona Sur</td>\n",
       "      <td>NaN</td>\n",
       "      <td>NaN</td>\n",
       "    </tr>\n",
       "    <tr>\n",
       "      <th>324</th>\n",
       "      <td>Nordelta</td>\n",
       "      <td>Bs.As. G.B.A. Zona Norte</td>\n",
       "      <td>NaN</td>\n",
       "      <td>NaN</td>\n",
       "    </tr>\n",
       "    <tr>\n",
       "      <th>...</th>\n",
       "      <td>...</td>\n",
       "      <td>...</td>\n",
       "      <td>...</td>\n",
       "      <td>...</td>\n",
       "    </tr>\n",
       "    <tr>\n",
       "      <th>121136</th>\n",
       "      <td>Palermo Hollywood</td>\n",
       "      <td>Capital Federal</td>\n",
       "      <td>NaN</td>\n",
       "      <td>NaN</td>\n",
       "    </tr>\n",
       "    <tr>\n",
       "      <th>121137</th>\n",
       "      <td>Palermo Hollywood</td>\n",
       "      <td>Capital Federal</td>\n",
       "      <td>NaN</td>\n",
       "      <td>NaN</td>\n",
       "    </tr>\n",
       "    <tr>\n",
       "      <th>121139</th>\n",
       "      <td>Punta Iglesia</td>\n",
       "      <td>Buenos Aires Costa Atlántica</td>\n",
       "      <td>NaN</td>\n",
       "      <td>NaN</td>\n",
       "    </tr>\n",
       "    <tr>\n",
       "      <th>121140</th>\n",
       "      <td>Altos de Hudson I</td>\n",
       "      <td>Bs.As. G.B.A. Zona Sur</td>\n",
       "      <td>NaN</td>\n",
       "      <td>NaN</td>\n",
       "    </tr>\n",
       "    <tr>\n",
       "      <th>121218</th>\n",
       "      <td>Plaza Colón</td>\n",
       "      <td>Buenos Aires Costa Atlántica</td>\n",
       "      <td>NaN</td>\n",
       "      <td>NaN</td>\n",
       "    </tr>\n",
       "  </tbody>\n",
       "</table>\n",
       "<p>8185 rows × 4 columns</p>\n",
       "</div>"
      ],
      "text/plain": [
       "               place_name                    state_name  geonames_id lat-lon\n",
       "23                  Pilar      Bs.As. G.B.A. Zona Norte    3429979.0     NaN\n",
       "104              Nordelta      Bs.As. G.B.A. Zona Norte          NaN     NaN\n",
       "109      Boulogne Sur Mer      Bs.As. G.B.A. Zona Norte          NaN     NaN\n",
       "261       Las Golondrinas        Bs.As. G.B.A. Zona Sur          NaN     NaN\n",
       "324              Nordelta      Bs.As. G.B.A. Zona Norte          NaN     NaN\n",
       "...                   ...                           ...          ...     ...\n",
       "121136  Palermo Hollywood               Capital Federal          NaN     NaN\n",
       "121137  Palermo Hollywood               Capital Federal          NaN     NaN\n",
       "121139      Punta Iglesia  Buenos Aires Costa Atlántica          NaN     NaN\n",
       "121140  Altos de Hudson I        Bs.As. G.B.A. Zona Sur          NaN     NaN\n",
       "121218        Plaza Colón  Buenos Aires Costa Atlántica          NaN     NaN\n",
       "\n",
       "[8185 rows x 4 columns]"
      ]
     },
     "execution_count": 100,
     "metadata": {},
     "output_type": "execute_result"
    }
   ],
   "source": [
    "# Dentro de la columna place_name if lat-lon.isnull and geonames_id isnull: quiero colocar los ID recien encontrados\n",
    "for i, v in enumerate(geonames_id_dic.keys()):\n",
    "    mask_data = data_check.place_name == v\n",
    "    data_check.loc[mask_data, \"geonames_id\"] = geonames_id_dic[v][0]\n",
    "data_check"
   ]
  },
  {
   "cell_type": "code",
   "execution_count": 101,
   "id": "951f032d",
   "metadata": {},
   "outputs": [
    {
     "data": {
      "text/html": [
       "<div>\n",
       "<style scoped>\n",
       "    .dataframe tbody tr th:only-of-type {\n",
       "        vertical-align: middle;\n",
       "    }\n",
       "\n",
       "    .dataframe tbody tr th {\n",
       "        vertical-align: top;\n",
       "    }\n",
       "\n",
       "    .dataframe thead th {\n",
       "        text-align: right;\n",
       "    }\n",
       "</style>\n",
       "<table border=\"1\" class=\"dataframe\">\n",
       "  <thead>\n",
       "    <tr style=\"text-align: right;\">\n",
       "      <th></th>\n",
       "      <th>place_name</th>\n",
       "      <th>state_name</th>\n",
       "      <th>geonames_id</th>\n",
       "      <th>lat-lon</th>\n",
       "    </tr>\n",
       "  </thead>\n",
       "  <tbody>\n",
       "    <tr>\n",
       "      <th>23</th>\n",
       "      <td>Pilar</td>\n",
       "      <td>Bs.As. G.B.A. Zona Norte</td>\n",
       "      <td>3429979.0</td>\n",
       "      <td>NaN</td>\n",
       "    </tr>\n",
       "    <tr>\n",
       "      <th>777</th>\n",
       "      <td>Vicente López</td>\n",
       "      <td>Bs.As. G.B.A. Zona Norte</td>\n",
       "      <td>3427504.0</td>\n",
       "      <td>NaN</td>\n",
       "    </tr>\n",
       "    <tr>\n",
       "      <th>3943</th>\n",
       "      <td>Malvinas Argentinas</td>\n",
       "      <td>Bs.As. G.B.A. Zona Norte</td>\n",
       "      <td>3845073.0</td>\n",
       "      <td>NaN</td>\n",
       "    </tr>\n",
       "    <tr>\n",
       "      <th>7852</th>\n",
       "      <td>Malvinas Argentinas</td>\n",
       "      <td>Bs.As. G.B.A. Zona Norte</td>\n",
       "      <td>3845073.0</td>\n",
       "      <td>NaN</td>\n",
       "    </tr>\n",
       "    <tr>\n",
       "      <th>9375</th>\n",
       "      <td>Tigre</td>\n",
       "      <td>Bs.As. G.B.A. Zona Norte</td>\n",
       "      <td>3427753.0</td>\n",
       "      <td>NaN</td>\n",
       "    </tr>\n",
       "    <tr>\n",
       "      <th>...</th>\n",
       "      <td>...</td>\n",
       "      <td>...</td>\n",
       "      <td>...</td>\n",
       "      <td>...</td>\n",
       "    </tr>\n",
       "    <tr>\n",
       "      <th>120278</th>\n",
       "      <td>Lomas de Zamora</td>\n",
       "      <td>Bs.As. G.B.A. Zona Sur</td>\n",
       "      <td>3431270.0</td>\n",
       "      <td>NaN</td>\n",
       "    </tr>\n",
       "    <tr>\n",
       "      <th>120279</th>\n",
       "      <td>Lomas de Zamora</td>\n",
       "      <td>Bs.As. G.B.A. Zona Sur</td>\n",
       "      <td>3431270.0</td>\n",
       "      <td>NaN</td>\n",
       "    </tr>\n",
       "    <tr>\n",
       "      <th>120300</th>\n",
       "      <td>Lanús</td>\n",
       "      <td>Bs.As. G.B.A. Zona Sur</td>\n",
       "      <td>3432134.0</td>\n",
       "      <td>NaN</td>\n",
       "    </tr>\n",
       "    <tr>\n",
       "      <th>120960</th>\n",
       "      <td>Lomas de Zamora</td>\n",
       "      <td>Bs.As. G.B.A. Zona Sur</td>\n",
       "      <td>3431270.0</td>\n",
       "      <td>NaN</td>\n",
       "    </tr>\n",
       "    <tr>\n",
       "      <th>121132</th>\n",
       "      <td>Vicente López</td>\n",
       "      <td>Bs.As. G.B.A. Zona Norte</td>\n",
       "      <td>3427504.0</td>\n",
       "      <td>NaN</td>\n",
       "    </tr>\n",
       "  </tbody>\n",
       "</table>\n",
       "<p>2524 rows × 4 columns</p>\n",
       "</div>"
      ],
      "text/plain": [
       "                 place_name                state_name  geonames_id lat-lon\n",
       "23                    Pilar  Bs.As. G.B.A. Zona Norte    3429979.0     NaN\n",
       "777           Vicente López  Bs.As. G.B.A. Zona Norte    3427504.0     NaN\n",
       "3943    Malvinas Argentinas  Bs.As. G.B.A. Zona Norte    3845073.0     NaN\n",
       "7852    Malvinas Argentinas  Bs.As. G.B.A. Zona Norte    3845073.0     NaN\n",
       "9375                  Tigre  Bs.As. G.B.A. Zona Norte    3427753.0     NaN\n",
       "...                     ...                       ...          ...     ...\n",
       "120278      Lomas de Zamora    Bs.As. G.B.A. Zona Sur    3431270.0     NaN\n",
       "120279      Lomas de Zamora    Bs.As. G.B.A. Zona Sur    3431270.0     NaN\n",
       "120300                Lanús    Bs.As. G.B.A. Zona Sur    3432134.0     NaN\n",
       "120960      Lomas de Zamora    Bs.As. G.B.A. Zona Sur    3431270.0     NaN\n",
       "121132        Vicente López  Bs.As. G.B.A. Zona Norte    3427504.0     NaN\n",
       "\n",
       "[2524 rows x 4 columns]"
      ]
     },
     "metadata": {},
     "output_type": "display_data"
    },
    {
     "name": "stdout",
     "output_type": "stream",
     "text": [
      "Observacion:\n",
      "* Logramos recuperar 2524 datos de geonames_id\n"
     ]
    }
   ],
   "source": [
    "display(data_check[data_check.geonames_id.notna()])\n",
    "print(\"Observacion:\\n* Logramos recuperar 2524 datos de geonames_id\")"
   ]
  },
  {
   "cell_type": "code",
   "execution_count": 102,
   "id": "74ae0bdc",
   "metadata": {},
   "outputs": [
    {
     "data": {
      "text/plain": [
       "23        3429979.0\n",
       "777       3427504.0\n",
       "3943      3845073.0\n",
       "7852      3845073.0\n",
       "9375      3427753.0\n",
       "            ...    \n",
       "120278    3431270.0\n",
       "120279    3431270.0\n",
       "120300    3432134.0\n",
       "120960    3431270.0\n",
       "121132    3427504.0\n",
       "Name: geonames_id, Length: 2524, dtype: float64"
      ]
     },
     "execution_count": 102,
     "metadata": {},
     "output_type": "execute_result"
    }
   ],
   "source": [
    "serie_recupero = data_check[data_check.geonames_id.notna()].geonames_id\n",
    "serie_recupero"
   ]
  },
  {
   "cell_type": "code",
   "execution_count": 103,
   "id": "a0307272",
   "metadata": {},
   "outputs": [
    {
     "name": "stdout",
     "output_type": "stream",
     "text": [
      "18717 datos nulos en geonames_id\n"
     ]
    }
   ],
   "source": [
    "# VALOR ORIGINAL\n",
    "print(\"{} datos nulos en geonames_id\".format(data_geo_id[\"geonames_id\"].isna().sum()))"
   ]
  },
  {
   "cell_type": "code",
   "execution_count": 104,
   "id": "b0914dc0",
   "metadata": {},
   "outputs": [
    {
     "name": "stdout",
     "output_type": "stream",
     "text": [
      "16193 datos nulos en geonames_id\n"
     ]
    }
   ],
   "source": [
    "# VALOR ACTUAL\n",
    "data_geo_id[\"geonames_id\"] = data_geo_id[\"geonames_id\"].fillna(serie_recupero)\n",
    "\n",
    "print(\"{} datos nulos en geonames_id\".format(data_geo_id[\"geonames_id\"].isna().sum()))"
   ]
  },
  {
   "cell_type": "code",
   "execution_count": 105,
   "id": "12067300",
   "metadata": {},
   "outputs": [
    {
     "data": {
      "text/plain": [
       "2524"
      ]
     },
     "execution_count": 105,
     "metadata": {},
     "output_type": "execute_result"
    }
   ],
   "source": [
    "18717 - 16193"
   ]
  },
  {
   "cell_type": "markdown",
   "id": "4137ca7f",
   "metadata": {},
   "source": [
    "# 6. MODULO DE EXPLORACION VISUAL"
   ]
  },
  {
   "cell_type": "code",
   "execution_count": 106,
   "id": "fd3c9b81",
   "metadata": {},
   "outputs": [
    {
     "name": "stdout",
     "output_type": "stream",
     "text": [
      "Tomamos el dataset derivado de la seccion 3\n"
     ]
    }
   ],
   "source": [
    "# pd.options.display.max_rows = 4\n",
    "\n",
    "print(\"Tomamos el dataset derivado de la seccion 3\")"
   ]
  },
  {
   "cell_type": "code",
   "execution_count": 107,
   "id": "620ef822",
   "metadata": {},
   "outputs": [
    {
     "name": "stdout",
     "output_type": "stream",
     "text": [
      "Analisis comparativo de los dataset: data_price y data_prop_type_sup\n",
      "objetivo: sin perdida de precision se debe pasar todos los elementos de la columna price_data\n"
     ]
    }
   ],
   "source": [
    "print(\"Analisis comparativo de los dataset: data_price y data_prop_type_sup\")\n",
    "\n",
    "print(\n",
    "    \"objetivo: sin perdida de precision se debe pasar todos los elementos de la columna price_data\"\n",
    ")"
   ]
  },
  {
   "cell_type": "code",
   "execution_count": null,
   "id": "c42dc592",
   "metadata": {},
   "outputs": [],
   "source": []
  },
  {
   "cell_type": "code",
   "execution_count": 108,
   "id": "76318243",
   "metadata": {},
   "outputs": [
    {
     "name": "stdout",
     "output_type": "stream",
     "text": [
      "DEFINICION DE LAS COLUMNAS A PRESERVAR\n"
     ]
    }
   ],
   "source": [
    "print(\"DEFINICION DE LAS COLUMNAS A PRESERVAR\")\n",
    "columnas = [\n",
    "    \"lat-lon\",\n",
    "    \"lat\",\n",
    "    \"lon\",\n",
    "    \"floor\",\n",
    "    \"rooms\",\n",
    "    \"expenses\",\n",
    "    \"title\",\n",
    "    \"description\",\n",
    "    \"properati_url\",\n",
    "    \"image_thumbnail\",\n",
    "    \"place_with_parent_names\",\n",
    "    \"price_aprox_local_currency\",\n",
    "    \"price_per_m2\",\n",
    "]"
   ]
  },
  {
   "cell_type": "code",
   "execution_count": 109,
   "id": "5e8f69ea",
   "metadata": {},
   "outputs": [],
   "source": [
    "indice_price = data_price.index\n",
    "indice_prop_type = data_prop_type_sup.index"
   ]
  },
  {
   "cell_type": "code",
   "execution_count": null,
   "id": "d371a0da",
   "metadata": {},
   "outputs": [],
   "source": []
  },
  {
   "cell_type": "code",
   "execution_count": 110,
   "id": "be4b1804",
   "metadata": {},
   "outputs": [
    {
     "name": "stdout",
     "output_type": "stream",
     "text": [
      "ACONDICIONAMIENTO DE DATA_RECUPERO_PRICE\n",
      "ACONDICIONAMIENTO DE DATA_RECUPERO_PROP_TYPE\n",
      "FRAME SHAPE: (97044, 22)\n"
     ]
    }
   ],
   "source": [
    "print(\"ACONDICIONAMIENTO DE DATA_RECUPERO_PRICE\")\n",
    "\n",
    "## creo dataset, es una interseccion de data y los indices de data_price\n",
    "# data_recupero_price = data.loc[data.index.intersection(indice_price)].reindex(indice_price)\n",
    "\n",
    "##completo filas de precio_usd_per_m2 de data_price y surface_covered_in_m2 de data_prop_type_sup\n",
    "# data_recupero_price.price_aprox_usd.fillna(data_price.price_aprox_usd, inplace=True)\n",
    "# data_recupero_price.price_usd_per_m2.fillna(data_price.price_usd_per_m2, inplace=True)\n",
    "# data_recupero_price.surface_covered_in_m2.fillna(data_prop_type_sup.surface_covered_in_m2, inplace=True)\n",
    "\n",
    "# print ('FRAME SHAPE:', data_recupero_price.shape)\n",
    "# data_recupero_price = data_recupero_price.drop(columnas, axis=1)\n",
    "# data_recupero_price.isna().sum()\n",
    "\n",
    "print(\"ACONDICIONAMIENTO DE DATA_RECUPERO_PROP_TYPE\")\n",
    "\n",
    "# creo dataset, es una interseccion de data y los indices de data_prop_type_sup\n",
    "data_recupero_prop_type = data.loc[data.index.intersection(indice_prop_type)].reindex(\n",
    "    indice_prop_type\n",
    ")\n",
    "\n",
    "# completo filas de precio_usd_per_m2 de data_price y surface_covered_in_m2 de data_prop_type_sup\n",
    "data_recupero_prop_type.price_aprox_usd.fillna(data_price.price_aprox_usd, inplace=True)\n",
    "data_recupero_prop_type.price_usd_per_m2.fillna(\n",
    "    data_price.price_usd_per_m2, inplace=True\n",
    ")\n",
    "data_recupero_prop_type.surface_covered_in_m2.fillna(\n",
    "    data_prop_type_sup.surface_covered_in_m2, inplace=True\n",
    ")\n",
    "\n",
    "print(\"FRAME SHAPE:\", data_recupero_prop_type.shape)\n",
    "data_recupero_prop_type.drop(columnas, axis=1, inplace=True)"
   ]
  },
  {
   "cell_type": "code",
   "execution_count": null,
   "id": "5e919451",
   "metadata": {},
   "outputs": [],
   "source": []
  },
  {
   "cell_type": "code",
   "execution_count": 111,
   "id": "e0bffe3f",
   "metadata": {},
   "outputs": [
    {
     "name": "stdout",
     "output_type": "stream",
     "text": [
      "ACONDICIONAMIENTO DE DATA_RECUPERO_PROP_TYPE\n",
      "FRAME SHAPE: (97044, 22)\n"
     ]
    }
   ],
   "source": [
    "print(\"ACONDICIONAMIENTO DE DATA_RECUPERO_PROP_TYPE\")\n",
    "\n",
    "# creo dataset, es una interseccion de data y los indices de data_prop_type_sup\n",
    "data_recupero_prop_type = data.loc[data.index.intersection(indice_prop_type)].reindex(\n",
    "    indice_prop_type\n",
    ")\n",
    "\n",
    "# completo filas de precio_usd_per_m2 de data_price y surface_covered_in_m2 de data_prop_type_sup\n",
    "data_recupero_prop_type.price_aprox_usd.fillna(data_price.price_aprox_usd, inplace=True)\n",
    "data_recupero_prop_type.price_usd_per_m2.fillna(\n",
    "    data_price.price_usd_per_m2, inplace=True\n",
    ")\n",
    "data_recupero_prop_type.surface_covered_in_m2.fillna(\n",
    "    data_prop_type_sup.surface_covered_in_m2, inplace=True\n",
    ")\n",
    "\n",
    "print(\"FRAME SHAPE:\", data_recupero_prop_type.shape)\n",
    "data_recupero_prop_type.drop(columnas, axis=1, inplace=True)"
   ]
  },
  {
   "cell_type": "code",
   "execution_count": 112,
   "id": "b1261e4a",
   "metadata": {},
   "outputs": [
    {
     "name": "stdout",
     "output_type": "stream",
     "text": [
      ">> DATOS NULOS:\n",
      "\n"
     ]
    },
    {
     "data": {
      "text/plain": [
       "surface_total_in_m2      27212\n",
       "price_usd_per_m2          8455\n",
       "surface_covered_in_m2     4579\n",
       "currency                  3950\n",
       "price_aprox_usd           3949\n",
       "price                     3949\n",
       "state_name                   0\n",
       "place_name                   0\n",
       "property_type                0\n",
       "dtype: int64"
      ]
     },
     "metadata": {},
     "output_type": "display_data"
    }
   ],
   "source": [
    "nuloss(data_recupero_prop_type)"
   ]
  },
  {
   "cell_type": "code",
   "execution_count": 113,
   "id": "3d53826d",
   "metadata": {},
   "outputs": [
    {
     "data": {
      "text/html": [
       "<div>\n",
       "<style scoped>\n",
       "    .dataframe tbody tr th:only-of-type {\n",
       "        vertical-align: middle;\n",
       "    }\n",
       "\n",
       "    .dataframe tbody tr th {\n",
       "        vertical-align: top;\n",
       "    }\n",
       "\n",
       "    .dataframe thead th {\n",
       "        text-align: right;\n",
       "    }\n",
       "</style>\n",
       "<table border=\"1\" class=\"dataframe\">\n",
       "  <thead>\n",
       "    <tr style=\"text-align: right;\">\n",
       "      <th></th>\n",
       "      <th>property_type</th>\n",
       "      <th>place_name</th>\n",
       "      <th>state_name</th>\n",
       "      <th>price</th>\n",
       "      <th>currency</th>\n",
       "      <th>price_aprox_usd</th>\n",
       "      <th>surface_total_in_m2</th>\n",
       "      <th>surface_covered_in_m2</th>\n",
       "      <th>price_usd_per_m2</th>\n",
       "    </tr>\n",
       "  </thead>\n",
       "  <tbody>\n",
       "    <tr>\n",
       "      <th>0</th>\n",
       "      <td>PH</td>\n",
       "      <td>Mataderos</td>\n",
       "      <td>Capital Federal</td>\n",
       "      <td>62000.0</td>\n",
       "      <td>USD</td>\n",
       "      <td>62000.0</td>\n",
       "      <td>55.0</td>\n",
       "      <td>40.0</td>\n",
       "      <td>1127.272727</td>\n",
       "    </tr>\n",
       "    <tr>\n",
       "      <th>1</th>\n",
       "      <td>apartment</td>\n",
       "      <td>La Plata</td>\n",
       "      <td>Bs.As. G.B.A. Zona Sur</td>\n",
       "      <td>150000.0</td>\n",
       "      <td>USD</td>\n",
       "      <td>150000.0</td>\n",
       "      <td>NaN</td>\n",
       "      <td>NaN</td>\n",
       "      <td>NaN</td>\n",
       "    </tr>\n",
       "    <tr>\n",
       "      <th>2</th>\n",
       "      <td>apartment</td>\n",
       "      <td>Mataderos</td>\n",
       "      <td>Capital Federal</td>\n",
       "      <td>72000.0</td>\n",
       "      <td>USD</td>\n",
       "      <td>72000.0</td>\n",
       "      <td>55.0</td>\n",
       "      <td>55.0</td>\n",
       "      <td>1309.090909</td>\n",
       "    </tr>\n",
       "    <tr>\n",
       "      <th>3</th>\n",
       "      <td>PH</td>\n",
       "      <td>Liniers</td>\n",
       "      <td>Capital Federal</td>\n",
       "      <td>95000.0</td>\n",
       "      <td>USD</td>\n",
       "      <td>95000.0</td>\n",
       "      <td>NaN</td>\n",
       "      <td>NaN</td>\n",
       "      <td>NaN</td>\n",
       "    </tr>\n",
       "    <tr>\n",
       "      <th>4</th>\n",
       "      <td>apartment</td>\n",
       "      <td>Centro</td>\n",
       "      <td>Buenos Aires Costa Atlántica</td>\n",
       "      <td>64000.0</td>\n",
       "      <td>USD</td>\n",
       "      <td>64000.0</td>\n",
       "      <td>35.0</td>\n",
       "      <td>35.0</td>\n",
       "      <td>1828.571429</td>\n",
       "    </tr>\n",
       "    <tr>\n",
       "      <th>...</th>\n",
       "      <td>...</td>\n",
       "      <td>...</td>\n",
       "      <td>...</td>\n",
       "      <td>...</td>\n",
       "      <td>...</td>\n",
       "      <td>...</td>\n",
       "      <td>...</td>\n",
       "      <td>...</td>\n",
       "      <td>...</td>\n",
       "    </tr>\n",
       "    <tr>\n",
       "      <th>121215</th>\n",
       "      <td>apartment</td>\n",
       "      <td>Belgrano</td>\n",
       "      <td>Capital Federal</td>\n",
       "      <td>870000.0</td>\n",
       "      <td>USD</td>\n",
       "      <td>870000.0</td>\n",
       "      <td>113.0</td>\n",
       "      <td>93.0</td>\n",
       "      <td>7699.115044</td>\n",
       "    </tr>\n",
       "    <tr>\n",
       "      <th>121216</th>\n",
       "      <td>house</td>\n",
       "      <td>Beccar</td>\n",
       "      <td>Bs.As. G.B.A. Zona Norte</td>\n",
       "      <td>498000.0</td>\n",
       "      <td>USD</td>\n",
       "      <td>498000.0</td>\n",
       "      <td>360.0</td>\n",
       "      <td>360.0</td>\n",
       "      <td>1383.333333</td>\n",
       "    </tr>\n",
       "    <tr>\n",
       "      <th>121217</th>\n",
       "      <td>apartment</td>\n",
       "      <td>Villa Urquiza</td>\n",
       "      <td>Capital Federal</td>\n",
       "      <td>131500.0</td>\n",
       "      <td>USD</td>\n",
       "      <td>131500.0</td>\n",
       "      <td>46.0</td>\n",
       "      <td>39.0</td>\n",
       "      <td>2858.695652</td>\n",
       "    </tr>\n",
       "    <tr>\n",
       "      <th>121218</th>\n",
       "      <td>apartment</td>\n",
       "      <td>Plaza Colón</td>\n",
       "      <td>Buenos Aires Costa Atlántica</td>\n",
       "      <td>95900.0</td>\n",
       "      <td>USD</td>\n",
       "      <td>95900.0</td>\n",
       "      <td>48.0</td>\n",
       "      <td>48.0</td>\n",
       "      <td>1997.916667</td>\n",
       "    </tr>\n",
       "    <tr>\n",
       "      <th>121219</th>\n",
       "      <td>apartment</td>\n",
       "      <td>Capital Federal</td>\n",
       "      <td>Capital Federal</td>\n",
       "      <td>129000.0</td>\n",
       "      <td>USD</td>\n",
       "      <td>129000.0</td>\n",
       "      <td>77.0</td>\n",
       "      <td>77.0</td>\n",
       "      <td>1675.324675</td>\n",
       "    </tr>\n",
       "  </tbody>\n",
       "</table>\n",
       "<p>97044 rows × 9 columns</p>\n",
       "</div>"
      ],
      "text/plain": [
       "       property_type       place_name                    state_name     price  \\\n",
       "0                 PH        Mataderos               Capital Federal   62000.0   \n",
       "1          apartment         La Plata        Bs.As. G.B.A. Zona Sur  150000.0   \n",
       "2          apartment        Mataderos               Capital Federal   72000.0   \n",
       "3                 PH          Liniers               Capital Federal   95000.0   \n",
       "4          apartment           Centro  Buenos Aires Costa Atlántica   64000.0   \n",
       "...              ...              ...                           ...       ...   \n",
       "121215     apartment         Belgrano               Capital Federal  870000.0   \n",
       "121216         house           Beccar      Bs.As. G.B.A. Zona Norte  498000.0   \n",
       "121217     apartment    Villa Urquiza               Capital Federal  131500.0   \n",
       "121218     apartment      Plaza Colón  Buenos Aires Costa Atlántica   95900.0   \n",
       "121219     apartment  Capital Federal               Capital Federal  129000.0   \n",
       "\n",
       "       currency  price_aprox_usd  surface_total_in_m2  surface_covered_in_m2  \\\n",
       "0           USD          62000.0                 55.0                   40.0   \n",
       "1           USD         150000.0                  NaN                    NaN   \n",
       "2           USD          72000.0                 55.0                   55.0   \n",
       "3           USD          95000.0                  NaN                    NaN   \n",
       "4           USD          64000.0                 35.0                   35.0   \n",
       "...         ...              ...                  ...                    ...   \n",
       "121215      USD         870000.0                113.0                   93.0   \n",
       "121216      USD         498000.0                360.0                  360.0   \n",
       "121217      USD         131500.0                 46.0                   39.0   \n",
       "121218      USD          95900.0                 48.0                   48.0   \n",
       "121219      USD         129000.0                 77.0                   77.0   \n",
       "\n",
       "        price_usd_per_m2  \n",
       "0            1127.272727  \n",
       "1                    NaN  \n",
       "2            1309.090909  \n",
       "3                    NaN  \n",
       "4            1828.571429  \n",
       "...                  ...  \n",
       "121215       7699.115044  \n",
       "121216       1383.333333  \n",
       "121217       2858.695652  \n",
       "121218       1997.916667  \n",
       "121219       1675.324675  \n",
       "\n",
       "[97044 rows x 9 columns]"
      ]
     },
     "execution_count": 113,
     "metadata": {},
     "output_type": "execute_result"
    }
   ],
   "source": [
    "d = \"data_recupero_prop_type\"\n",
    "data_recupero_prop_type"
   ]
  },
  {
   "cell_type": "markdown",
   "id": "c326b990",
   "metadata": {},
   "source": [
    "## Analisis exploratorio"
   ]
  },
  {
   "cell_type": "code",
   "execution_count": 114,
   "id": "e6d0ff86",
   "metadata": {},
   "outputs": [],
   "source": [
    "def resumen_dataset(name=d, frame=data):\n",
    "    print(f\"\\n\\tRESUMEN DEL DATASET: {name}\")\n",
    "    display(frame.head(2))\n",
    "    display(frame.describe()[:3])\n",
    "    print(f\"\\n\\tSECCION NULOS DATASET: {name}\")\n",
    "    display(nuloss(data=frame))\n",
    "    display(porcentaje_nuloss(frame))\n",
    "    print(\"Shape del dataset {}\".format(frame.shape))"
   ]
  },
  {
   "cell_type": "code",
   "execution_count": 115,
   "id": "52cd5b3b",
   "metadata": {},
   "outputs": [
    {
     "data": {
      "text/plain": [
       "'data_recupero_prop_type'"
      ]
     },
     "execution_count": 115,
     "metadata": {},
     "output_type": "execute_result"
    }
   ],
   "source": [
    "d"
   ]
  },
  {
   "cell_type": "code",
   "execution_count": 116,
   "id": "17facb12",
   "metadata": {},
   "outputs": [],
   "source": [
    "data_check = data_recupero_prop_type.copy()\n",
    "dc = \"data_check\""
   ]
  },
  {
   "cell_type": "code",
   "execution_count": 117,
   "id": "ebe86ebb",
   "metadata": {},
   "outputs": [
    {
     "name": "stdout",
     "output_type": "stream",
     "text": [
      "\n",
      "\tRESUMEN DEL DATASET: data_check\n"
     ]
    },
    {
     "data": {
      "text/html": [
       "<div>\n",
       "<style scoped>\n",
       "    .dataframe tbody tr th:only-of-type {\n",
       "        vertical-align: middle;\n",
       "    }\n",
       "\n",
       "    .dataframe tbody tr th {\n",
       "        vertical-align: top;\n",
       "    }\n",
       "\n",
       "    .dataframe thead th {\n",
       "        text-align: right;\n",
       "    }\n",
       "</style>\n",
       "<table border=\"1\" class=\"dataframe\">\n",
       "  <thead>\n",
       "    <tr style=\"text-align: right;\">\n",
       "      <th></th>\n",
       "      <th>property_type</th>\n",
       "      <th>place_name</th>\n",
       "      <th>state_name</th>\n",
       "      <th>price</th>\n",
       "      <th>currency</th>\n",
       "      <th>price_aprox_usd</th>\n",
       "      <th>surface_total_in_m2</th>\n",
       "      <th>surface_covered_in_m2</th>\n",
       "      <th>price_usd_per_m2</th>\n",
       "    </tr>\n",
       "  </thead>\n",
       "  <tbody>\n",
       "    <tr>\n",
       "      <th>0</th>\n",
       "      <td>PH</td>\n",
       "      <td>Mataderos</td>\n",
       "      <td>Capital Federal</td>\n",
       "      <td>62000.0</td>\n",
       "      <td>USD</td>\n",
       "      <td>62000.0</td>\n",
       "      <td>55.0</td>\n",
       "      <td>40.0</td>\n",
       "      <td>1127.272727</td>\n",
       "    </tr>\n",
       "    <tr>\n",
       "      <th>1</th>\n",
       "      <td>apartment</td>\n",
       "      <td>La Plata</td>\n",
       "      <td>Bs.As. G.B.A. Zona Sur</td>\n",
       "      <td>150000.0</td>\n",
       "      <td>USD</td>\n",
       "      <td>150000.0</td>\n",
       "      <td>NaN</td>\n",
       "      <td>NaN</td>\n",
       "      <td>NaN</td>\n",
       "    </tr>\n",
       "  </tbody>\n",
       "</table>\n",
       "</div>"
      ],
      "text/plain": [
       "  property_type place_name              state_name     price currency  \\\n",
       "0            PH  Mataderos         Capital Federal   62000.0      USD   \n",
       "1     apartment   La Plata  Bs.As. G.B.A. Zona Sur  150000.0      USD   \n",
       "\n",
       "   price_aprox_usd  surface_total_in_m2  surface_covered_in_m2  \\\n",
       "0          62000.0                 55.0                   40.0   \n",
       "1         150000.0                  NaN                    NaN   \n",
       "\n",
       "   price_usd_per_m2  \n",
       "0       1127.272727  \n",
       "1               NaN  "
      ]
     },
     "metadata": {},
     "output_type": "display_data"
    },
    {
     "data": {
      "text/html": [
       "<div>\n",
       "<style scoped>\n",
       "    .dataframe tbody tr th:only-of-type {\n",
       "        vertical-align: middle;\n",
       "    }\n",
       "\n",
       "    .dataframe tbody tr th {\n",
       "        vertical-align: top;\n",
       "    }\n",
       "\n",
       "    .dataframe thead th {\n",
       "        text-align: right;\n",
       "    }\n",
       "</style>\n",
       "<table border=\"1\" class=\"dataframe\">\n",
       "  <thead>\n",
       "    <tr style=\"text-align: right;\">\n",
       "      <th></th>\n",
       "      <th>price</th>\n",
       "      <th>price_aprox_usd</th>\n",
       "      <th>surface_total_in_m2</th>\n",
       "      <th>surface_covered_in_m2</th>\n",
       "      <th>price_usd_per_m2</th>\n",
       "    </tr>\n",
       "  </thead>\n",
       "  <tbody>\n",
       "    <tr>\n",
       "      <th>count</th>\n",
       "      <td>93095.000000</td>\n",
       "      <td>93095.000000</td>\n",
       "      <td>69832.000000</td>\n",
       "      <td>92465.000000</td>\n",
       "      <td>88589.000000</td>\n",
       "    </tr>\n",
       "    <tr>\n",
       "      <th>mean</th>\n",
       "      <td>437250.756077</td>\n",
       "      <td>222445.938304</td>\n",
       "      <td>213.585061</td>\n",
       "      <td>117.626637</td>\n",
       "      <td>2249.157722</td>\n",
       "    </tr>\n",
       "    <tr>\n",
       "      <th>std</th>\n",
       "      <td>861530.552448</td>\n",
       "      <td>294729.726500</td>\n",
       "      <td>1688.145028</td>\n",
       "      <td>693.931273</td>\n",
       "      <td>3169.336237</td>\n",
       "    </tr>\n",
       "  </tbody>\n",
       "</table>\n",
       "</div>"
      ],
      "text/plain": [
       "               price  price_aprox_usd  surface_total_in_m2  \\\n",
       "count   93095.000000     93095.000000         69832.000000   \n",
       "mean   437250.756077    222445.938304           213.585061   \n",
       "std    861530.552448    294729.726500          1688.145028   \n",
       "\n",
       "       surface_covered_in_m2  price_usd_per_m2  \n",
       "count           92465.000000      88589.000000  \n",
       "mean              117.626637       2249.157722  \n",
       "std               693.931273       3169.336237  "
      ]
     },
     "metadata": {},
     "output_type": "display_data"
    },
    {
     "name": "stdout",
     "output_type": "stream",
     "text": [
      "\n",
      "\tSECCION NULOS DATASET: data_check\n",
      ">> DATOS NULOS:\n",
      "\n"
     ]
    },
    {
     "data": {
      "text/plain": [
       "surface_total_in_m2      27212\n",
       "price_usd_per_m2          8455\n",
       "surface_covered_in_m2     4579\n",
       "currency                  3950\n",
       "price_aprox_usd           3949\n",
       "price                     3949\n",
       "state_name                   0\n",
       "place_name                   0\n",
       "property_type                0\n",
       "dtype: int64"
      ]
     },
     "metadata": {},
     "output_type": "display_data"
    },
    {
     "data": {
      "text/plain": [
       "None"
      ]
     },
     "metadata": {},
     "output_type": "display_data"
    },
    {
     "name": "stdout",
     "output_type": "stream",
     "text": [
      ">> PORCENTAJE DE DATOS NULOS:\n",
      "\n"
     ]
    },
    {
     "data": {
      "text/plain": [
       "surface_total_in_m2      28.04\n",
       "price_usd_per_m2          8.71\n",
       "surface_covered_in_m2     4.72\n",
       "currency                  4.07\n",
       "price_aprox_usd           4.07\n",
       "price                     4.07\n",
       "state_name                0.00\n",
       "place_name                0.00\n",
       "property_type             0.00\n",
       "dtype: float64"
      ]
     },
     "metadata": {},
     "output_type": "display_data"
    },
    {
     "data": {
      "text/plain": [
       "None"
      ]
     },
     "metadata": {},
     "output_type": "display_data"
    },
    {
     "name": "stdout",
     "output_type": "stream",
     "text": [
      "Shape del dataset (97044, 9)\n"
     ]
    }
   ],
   "source": [
    "resumen_dataset(name=dc, frame=data_check)"
   ]
  },
  {
   "cell_type": "code",
   "execution_count": 118,
   "id": "a7fc599e",
   "metadata": {},
   "outputs": [
    {
     "data": {
      "text/plain": [
       "'Shape original: '"
      ]
     },
     "metadata": {},
     "output_type": "display_data"
    },
    {
     "data": {
      "text/plain": [
       "(97044, 9)"
      ]
     },
     "metadata": {},
     "output_type": "display_data"
    },
    {
     "data": {
      "text/plain": [
       "'Shape actual: '"
      ]
     },
     "metadata": {},
     "output_type": "display_data"
    },
    {
     "data": {
      "text/plain": [
       "(81385, 9)"
      ]
     },
     "metadata": {},
     "output_type": "display_data"
    },
    {
     "data": {
      "text/plain": [
       "Index(['property_type', 'place_name', 'state_name', 'price', 'currency',\n",
       "       'price_aprox_usd', 'surface_total_in_m2', 'surface_covered_in_m2',\n",
       "       'price_usd_per_m2'],\n",
       "      dtype='object')"
      ]
     },
     "metadata": {},
     "output_type": "display_data"
    },
    {
     "name": "stdout",
     "output_type": "stream",
     "text": [
      "Resultado:\n",
      "* Conservamos: property_type, state_name, price, surface_covered_in_m2, surface_total_in_m2\n",
      "\n",
      " data_check\n",
      ">> DATOS NULOS:\n",
      "\n"
     ]
    },
    {
     "data": {
      "text/plain": [
       "surface_total_in_m2      23646\n",
       "surface_covered_in_m2     3681\n",
       "price                        0\n",
       "state_name                   0\n",
       "property_type                0\n",
       "dtype: int64"
      ]
     },
     "metadata": {},
     "output_type": "display_data"
    },
    {
     "name": "stdout",
     "output_type": "stream",
     "text": [
      "\n",
      "\n",
      "\tRESUMEN DEL DATASET: data_check\n"
     ]
    },
    {
     "data": {
      "text/html": [
       "<div>\n",
       "<style scoped>\n",
       "    .dataframe tbody tr th:only-of-type {\n",
       "        vertical-align: middle;\n",
       "    }\n",
       "\n",
       "    .dataframe tbody tr th {\n",
       "        vertical-align: top;\n",
       "    }\n",
       "\n",
       "    .dataframe thead th {\n",
       "        text-align: right;\n",
       "    }\n",
       "</style>\n",
       "<table border=\"1\" class=\"dataframe\">\n",
       "  <thead>\n",
       "    <tr style=\"text-align: right;\">\n",
       "      <th></th>\n",
       "      <th>property_type</th>\n",
       "      <th>state_name</th>\n",
       "      <th>price</th>\n",
       "      <th>surface_covered_in_m2</th>\n",
       "      <th>surface_total_in_m2</th>\n",
       "    </tr>\n",
       "  </thead>\n",
       "  <tbody>\n",
       "    <tr>\n",
       "      <th>0</th>\n",
       "      <td>PH</td>\n",
       "      <td>Capital Federal</td>\n",
       "      <td>62000.0</td>\n",
       "      <td>40.0</td>\n",
       "      <td>55.0</td>\n",
       "    </tr>\n",
       "    <tr>\n",
       "      <th>2</th>\n",
       "      <td>apartment</td>\n",
       "      <td>Capital Federal</td>\n",
       "      <td>72000.0</td>\n",
       "      <td>55.0</td>\n",
       "      <td>55.0</td>\n",
       "    </tr>\n",
       "  </tbody>\n",
       "</table>\n",
       "</div>"
      ],
      "text/plain": [
       "  property_type       state_name    price  surface_covered_in_m2  \\\n",
       "0            PH  Capital Federal  62000.0                   40.0   \n",
       "2     apartment  Capital Federal  72000.0                   55.0   \n",
       "\n",
       "   surface_total_in_m2  \n",
       "0                 55.0  \n",
       "2                 55.0  "
      ]
     },
     "metadata": {},
     "output_type": "display_data"
    },
    {
     "data": {
      "text/html": [
       "<div>\n",
       "<style scoped>\n",
       "    .dataframe tbody tr th:only-of-type {\n",
       "        vertical-align: middle;\n",
       "    }\n",
       "\n",
       "    .dataframe tbody tr th {\n",
       "        vertical-align: top;\n",
       "    }\n",
       "\n",
       "    .dataframe thead th {\n",
       "        text-align: right;\n",
       "    }\n",
       "</style>\n",
       "<table border=\"1\" class=\"dataframe\">\n",
       "  <thead>\n",
       "    <tr style=\"text-align: right;\">\n",
       "      <th></th>\n",
       "      <th>price</th>\n",
       "      <th>surface_covered_in_m2</th>\n",
       "      <th>surface_total_in_m2</th>\n",
       "    </tr>\n",
       "  </thead>\n",
       "  <tbody>\n",
       "    <tr>\n",
       "      <th>count</th>\n",
       "      <td>57565.000000</td>\n",
       "      <td>57565.000000</td>\n",
       "      <td>57565.000000</td>\n",
       "    </tr>\n",
       "    <tr>\n",
       "      <th>mean</th>\n",
       "      <td>245990.898706</td>\n",
       "      <td>125.718197</td>\n",
       "      <td>219.474785</td>\n",
       "    </tr>\n",
       "    <tr>\n",
       "      <th>std</th>\n",
       "      <td>327440.701747</td>\n",
       "      <td>875.984289</td>\n",
       "      <td>1723.243779</td>\n",
       "    </tr>\n",
       "  </tbody>\n",
       "</table>\n",
       "</div>"
      ],
      "text/plain": [
       "               price  surface_covered_in_m2  surface_total_in_m2\n",
       "count   57565.000000           57565.000000         57565.000000\n",
       "mean   245990.898706             125.718197           219.474785\n",
       "std    327440.701747             875.984289          1723.243779"
      ]
     },
     "metadata": {},
     "output_type": "display_data"
    },
    {
     "name": "stdout",
     "output_type": "stream",
     "text": [
      "\n",
      "\tSECCION NULOS DATASET: data_check\n",
      ">> DATOS NULOS:\n",
      "\n"
     ]
    },
    {
     "data": {
      "text/plain": [
       "surface_total_in_m2      0\n",
       "surface_covered_in_m2    0\n",
       "price                    0\n",
       "state_name               0\n",
       "property_type            0\n",
       "dtype: int64"
      ]
     },
     "metadata": {},
     "output_type": "display_data"
    },
    {
     "data": {
      "text/plain": [
       "None"
      ]
     },
     "metadata": {},
     "output_type": "display_data"
    },
    {
     "name": "stdout",
     "output_type": "stream",
     "text": [
      ">> PORCENTAJE DE DATOS NULOS:\n",
      "\n"
     ]
    },
    {
     "data": {
      "text/plain": [
       "surface_total_in_m2      0.0\n",
       "surface_covered_in_m2    0.0\n",
       "price                    0.0\n",
       "state_name               0.0\n",
       "property_type            0.0\n",
       "dtype: float64"
      ]
     },
     "metadata": {},
     "output_type": "display_data"
    },
    {
     "data": {
      "text/plain": [
       "None"
      ]
     },
     "metadata": {},
     "output_type": "display_data"
    },
    {
     "name": "stdout",
     "output_type": "stream",
     "text": [
      "Shape del dataset (57565, 5)\n"
     ]
    }
   ],
   "source": [
    "### SETEO DATA_CHECK\n",
    "### AGRUPAMIENTO\n",
    "data_check = data_recupero_prop_type.copy()\n",
    "dc = \"data_check\"\n",
    "\n",
    "# PRIMERO VAMOS A SACAR TODOS LOS PRECIOS EXPRESADOS EN PESOS\n",
    "display(\"Shape original: \", data_check.shape)\n",
    "mask_data = data_check.currency == \"USD\"\n",
    "data_check = data_check[mask_data]\n",
    "display(\"Shape actual: \", data_check.shape)\n",
    "\n",
    "# AHORA VAMOS A CONTROLAR LAS COLUMNAS QUE NECESITAMOS\n",
    "display(data_check.columns)\n",
    "print(\n",
    "    \"Resultado:\\n* Conservamos: property_type, state_name, price, surface_covered_in_m2, surface_total_in_m2\"\n",
    ")\n",
    "columnas = [\n",
    "    \"property_type\",\n",
    "    \"state_name\",\n",
    "    \"price\",\n",
    "    \"surface_covered_in_m2\",\n",
    "    \"surface_total_in_m2\",\n",
    "]\n",
    "data_check = data_check.filter(columnas, axis=1)\n",
    "\n",
    "print(\"\\n\", dc)\n",
    "nuloss(data_check)\n",
    "\n",
    "# ELIMINAMOS TODOS LOS NULOS\n",
    "data_check.dropna(inplace=True)\n",
    "print()\n",
    "resumen_dataset(name=dc, frame=data_check)"
   ]
  },
  {
   "cell_type": "raw",
   "id": "b6578f28",
   "metadata": {},
   "source": [
    "## AGRUPAMOS EL DATA_CHECK\n",
    "columnas = ['price']\n",
    "indices = ['state_name', 'property_type']\n",
    "\n",
    "print ('OBJETO: grupo. Name: grupo_usd')\n",
    "grupo_usd = data_check[columnas+indices].groupby(indices).aggregate(['count', 'mean', 'std'])\n",
    "display (grupo_usd)\n",
    "print ('Resultado:\\n* contamos con la cantidad, la media y el desvio, de las propiedades por tipo de propiedad y localizacion')"
   ]
  },
  {
   "cell_type": "code",
   "execution_count": 119,
   "id": "15bb60ba",
   "metadata": {},
   "outputs": [
    {
     "name": "stdout",
     "output_type": "stream",
     "text": [
      "OBJETO: grupo. Name: grupo_usd\n",
      "\n",
      "\tRESUMEN DEL DATASET: grupo_usd\n"
     ]
    },
    {
     "data": {
      "text/html": [
       "<div>\n",
       "<style scoped>\n",
       "    .dataframe tbody tr th:only-of-type {\n",
       "        vertical-align: middle;\n",
       "    }\n",
       "\n",
       "    .dataframe tbody tr th {\n",
       "        vertical-align: top;\n",
       "    }\n",
       "\n",
       "    .dataframe thead tr th {\n",
       "        text-align: left;\n",
       "    }\n",
       "\n",
       "    .dataframe thead tr:last-of-type th {\n",
       "        text-align: right;\n",
       "    }\n",
       "</style>\n",
       "<table border=\"1\" class=\"dataframe\">\n",
       "  <thead>\n",
       "    <tr>\n",
       "      <th></th>\n",
       "      <th></th>\n",
       "      <th>price</th>\n",
       "    </tr>\n",
       "    <tr>\n",
       "      <th></th>\n",
       "      <th></th>\n",
       "      <th>mean</th>\n",
       "    </tr>\n",
       "    <tr>\n",
       "      <th>property_type</th>\n",
       "      <th>state_name</th>\n",
       "      <th></th>\n",
       "    </tr>\n",
       "  </thead>\n",
       "  <tbody>\n",
       "    <tr>\n",
       "      <th rowspan=\"2\" valign=\"top\">PH</th>\n",
       "      <th>Bs.As. G.B.A. Zona Norte</th>\n",
       "      <td>137818.646766</td>\n",
       "    </tr>\n",
       "    <tr>\n",
       "      <th>Bs.As. G.B.A. Zona Oeste</th>\n",
       "      <td>105757.019438</td>\n",
       "    </tr>\n",
       "  </tbody>\n",
       "</table>\n",
       "</div>"
      ],
      "text/plain": [
       "                                                price\n",
       "                                                 mean\n",
       "property_type state_name                             \n",
       "PH            Bs.As. G.B.A. Zona Norte  137818.646766\n",
       "              Bs.As. G.B.A. Zona Oeste  105757.019438"
      ]
     },
     "metadata": {},
     "output_type": "display_data"
    },
    {
     "data": {
      "text/html": [
       "<div>\n",
       "<style scoped>\n",
       "    .dataframe tbody tr th:only-of-type {\n",
       "        vertical-align: middle;\n",
       "    }\n",
       "\n",
       "    .dataframe tbody tr th {\n",
       "        vertical-align: top;\n",
       "    }\n",
       "\n",
       "    .dataframe thead tr th {\n",
       "        text-align: left;\n",
       "    }\n",
       "</style>\n",
       "<table border=\"1\" class=\"dataframe\">\n",
       "  <thead>\n",
       "    <tr>\n",
       "      <th></th>\n",
       "      <th>price</th>\n",
       "    </tr>\n",
       "    <tr>\n",
       "      <th></th>\n",
       "      <th>mean</th>\n",
       "    </tr>\n",
       "  </thead>\n",
       "  <tbody>\n",
       "    <tr>\n",
       "      <th>count</th>\n",
       "      <td>76.000000</td>\n",
       "    </tr>\n",
       "    <tr>\n",
       "      <th>mean</th>\n",
       "      <td>325949.191195</td>\n",
       "    </tr>\n",
       "    <tr>\n",
       "      <th>std</th>\n",
       "      <td>228806.838719</td>\n",
       "    </tr>\n",
       "  </tbody>\n",
       "</table>\n",
       "</div>"
      ],
      "text/plain": [
       "               price\n",
       "                mean\n",
       "count      76.000000\n",
       "mean   325949.191195\n",
       "std    228806.838719"
      ]
     },
     "metadata": {},
     "output_type": "display_data"
    },
    {
     "name": "stdout",
     "output_type": "stream",
     "text": [
      "\n",
      "\tSECCION NULOS DATASET: grupo_usd\n",
      ">> DATOS NULOS:\n",
      "\n"
     ]
    },
    {
     "data": {
      "text/plain": [
       "price  mean    0\n",
       "dtype: int64"
      ]
     },
     "metadata": {},
     "output_type": "display_data"
    },
    {
     "data": {
      "text/plain": [
       "None"
      ]
     },
     "metadata": {},
     "output_type": "display_data"
    },
    {
     "name": "stdout",
     "output_type": "stream",
     "text": [
      ">> PORCENTAJE DE DATOS NULOS:\n",
      "\n"
     ]
    },
    {
     "data": {
      "text/plain": [
       "price  mean    0.0\n",
       "dtype: float64"
      ]
     },
     "metadata": {},
     "output_type": "display_data"
    },
    {
     "data": {
      "text/plain": [
       "None"
      ]
     },
     "metadata": {},
     "output_type": "display_data"
    },
    {
     "name": "stdout",
     "output_type": "stream",
     "text": [
      "Shape del dataset (76, 1)\n"
     ]
    },
    {
     "data": {
      "text/html": [
       "<div>\n",
       "<style scoped>\n",
       "    .dataframe tbody tr th:only-of-type {\n",
       "        vertical-align: middle;\n",
       "    }\n",
       "\n",
       "    .dataframe tbody tr th {\n",
       "        vertical-align: top;\n",
       "    }\n",
       "\n",
       "    .dataframe thead tr th {\n",
       "        text-align: left;\n",
       "    }\n",
       "\n",
       "    .dataframe thead tr:last-of-type th {\n",
       "        text-align: right;\n",
       "    }\n",
       "</style>\n",
       "<table border=\"1\" class=\"dataframe\">\n",
       "  <thead>\n",
       "    <tr>\n",
       "      <th></th>\n",
       "      <th>price</th>\n",
       "    </tr>\n",
       "    <tr>\n",
       "      <th></th>\n",
       "      <th>mean</th>\n",
       "    </tr>\n",
       "    <tr>\n",
       "      <th>state_name</th>\n",
       "      <th></th>\n",
       "    </tr>\n",
       "  </thead>\n",
       "  <tbody>\n",
       "    <tr>\n",
       "      <th>Bs.As. G.B.A. Zona Norte</th>\n",
       "      <td>137818.646766</td>\n",
       "    </tr>\n",
       "    <tr>\n",
       "      <th>Bs.As. G.B.A. Zona Oeste</th>\n",
       "      <td>105757.019438</td>\n",
       "    </tr>\n",
       "    <tr>\n",
       "      <th>Bs.As. G.B.A. Zona Sur</th>\n",
       "      <td>108315.765472</td>\n",
       "    </tr>\n",
       "    <tr>\n",
       "      <th>Buenos Aires Costa Atlántica</th>\n",
       "      <td>90114.040115</td>\n",
       "    </tr>\n",
       "    <tr>\n",
       "      <th>Buenos Aires Interior</th>\n",
       "      <td>115638.888889</td>\n",
       "    </tr>\n",
       "    <tr>\n",
       "      <th>Capital Federal</th>\n",
       "      <td>180444.739022</td>\n",
       "    </tr>\n",
       "    <tr>\n",
       "      <th>Corrientes</th>\n",
       "      <td>134057.142857</td>\n",
       "    </tr>\n",
       "    <tr>\n",
       "      <th>Córdoba</th>\n",
       "      <td>224956.521739</td>\n",
       "    </tr>\n",
       "    <tr>\n",
       "      <th>Mendoza</th>\n",
       "      <td>45000.000000</td>\n",
       "    </tr>\n",
       "    <tr>\n",
       "      <th>Neuquén</th>\n",
       "      <td>122000.000000</td>\n",
       "    </tr>\n",
       "    <tr>\n",
       "      <th>Río Negro</th>\n",
       "      <td>144333.333333</td>\n",
       "    </tr>\n",
       "    <tr>\n",
       "      <th>Santa Fe</th>\n",
       "      <td>198333.333333</td>\n",
       "    </tr>\n",
       "  </tbody>\n",
       "</table>\n",
       "</div>"
      ],
      "text/plain": [
       "                                      price\n",
       "                                       mean\n",
       "state_name                                 \n",
       "Bs.As. G.B.A. Zona Norte      137818.646766\n",
       "Bs.As. G.B.A. Zona Oeste      105757.019438\n",
       "Bs.As. G.B.A. Zona Sur        108315.765472\n",
       "Buenos Aires Costa Atlántica   90114.040115\n",
       "Buenos Aires Interior         115638.888889\n",
       "Capital Federal               180444.739022\n",
       "Corrientes                    134057.142857\n",
       "Córdoba                       224956.521739\n",
       "Mendoza                        45000.000000\n",
       "Neuquén                       122000.000000\n",
       "Río Negro                     144333.333333\n",
       "Santa Fe                      198333.333333"
      ]
     },
     "execution_count": 119,
     "metadata": {},
     "output_type": "execute_result"
    }
   ],
   "source": [
    "## AGRUPAMOS EL DATA_CHECK 2\n",
    "columnas = [\"price\"]\n",
    "indices = [\"property_type\", \"state_name\"]\n",
    "\n",
    "print(\"OBJETO: grupo. Name: grupo_usd\")\n",
    "grupo_usd = data_check[columnas + indices].groupby(indices).aggregate([\"mean\"])\n",
    "# display (grupo_usd)\n",
    "\n",
    "resumen_dataset(name=\"grupo_usd\", frame=grupo_usd)\n",
    "grupo_usd.loc[\"PH\"]"
   ]
  },
  {
   "cell_type": "code",
   "execution_count": 120,
   "id": "46170226",
   "metadata": {},
   "outputs": [
    {
     "data": {
      "image/png": "[encoded data removed]",
      "text/plain": [
       "<Figure size 864x288 with 1 Axes>"
      ]
     },
     "metadata": {
      "needs_background": "light"
     },
     "output_type": "display_data"
    }
   ],
   "source": [
    "type(grupo_usd.loc[\"PH\"])\n",
    "\n",
    "# indice = grupo_usd.loc['PH'].index\n",
    "# indice\n",
    "type(grupo_usd.loc[\"PH\", \"price\"])\n",
    "frame = grupo_usd.loc[\"PH\", \"price\"]\n",
    "serie = frame[\"mean\"]\n",
    "\n",
    "titulo = \"Estadisticos de PH por ubicacion\"\n",
    "serie = serie\n",
    "gaps_columns(titulo, serie)\n",
    "\n",
    "# type(indice)\n",
    "# serie = pd.Series(grupo_usd.loc['PH'], index=indice)\n",
    "# serie"
   ]
  },
  {
   "cell_type": "code",
   "execution_count": 121,
   "id": "262f39e4",
   "metadata": {},
   "outputs": [
    {
     "name": "stdout",
     "output_type": "stream",
     "text": [
      "cargar Kernel de geopandas\n"
     ]
    }
   ],
   "source": [
    "# [11:50 p. m., 10/2/2022] Agustín Helou DH: # Analisis de CABA con Geopandas Precio promedio del M2 y superficie promedio por barrio\n",
    "try:\n",
    "    import geopandas\n",
    "    from shapely import wkt\n",
    "\n",
    "    barrios = pd.read_csv(\"barrios.csv\")  # Traigo dataset con los datos geograficos\n",
    "    barrios = barrios.set_index(\"barrio\")\n",
    "    graficos_caba = (\n",
    "        data_recupero_prop_type.copy()\n",
    "    )  # Creo un nuevo dataframe para trabajar\n",
    "    graficos_caba = graficos_caba.loc[\n",
    "        (graficos_caba.state_name == \"Capital Federal\")\n",
    "        & (graficos_caba.price_usd_per_m2 < 9000)\n",
    "        & (graficos_caba.price_usd_per_m2 > 300)\n",
    "    ]  # Filtro los datos que probablemente sean ilogicos (en Boedo habia unp haciendo ruido)\n",
    "    graficos_caba = graficos_caba[\n",
    "        [\"state_name\", \"place_name\", \"price_usd_per_m2\", \"surface_total_in_m2\"]\n",
    "    ]  # Selecciono las columnas que voy a utilizar\n",
    "    graficos_caba.place_name = (\n",
    "        graficos_caba.place_name.str.upper()\n",
    "    )  # Paso todo a mayusculas como esta en el Dataset de barrios\n",
    "    graficos_caba = graficos_caba.groupby(\n",
    "        [\"place_name\"]\n",
    "    ).mean()  # Agrupo y armo los promedios\n",
    "    graficos_caba = pd.merge(\n",
    "        graficos_caba, barrios, left_index=True, right_index=True\n",
    "    )  # Uno los dataframes\n",
    "    fig, ax = plt.subplots(figsize=(10, 10))  # Creo el espacio para el grafico\n",
    "    fig.suptitle(\n",
    "        \"Valor promedio del M2 por Barrio en CABA\", fontweight=\"bold\", size=15\n",
    "    )  # Pongo titulo\n",
    "    graficos_caba = geopandas.GeoDataFrame(\n",
    "        graficos_caba, geometry=graficos_caba.WKT.apply(wkt.loads)\n",
    "    )  # Lo paso a geopandas dataframe\n",
    "    graficos_caba.plot(ax=ax, color=\"white\", edgecolor=\"black\")  # Ploteo los barrios\n",
    "    graficos_caba.plot(\n",
    "        ax=ax, column=\"price_usd_per_m2\", cmap=\"Greens\", legend=True, edgecolor=\"black\"\n",
    "    )  # Coloreo por Precio M2 Promedio\n",
    "    fig, ax = plt.subplots(figsize=(10, 10))  # Creo el espacio para el grafico\n",
    "    fig.suptitle(\n",
    "        \"Cantidad promedio de M2 por propiedad por Barrio en CABA\",\n",
    "        fontweight=\"bold\",\n",
    "        size=15,\n",
    "    )  # Pongo titulo\n",
    "    graficos_caba = geopandas.GeoDataFrame(\n",
    "        graficos_caba, geometry=graficos_caba.WKT.apply(wkt.loads)\n",
    "    )  # Lo paso a geopandas dataframe\n",
    "    graficos_caba.plot(ax=ax, color=\"white\", edgecolor=\"black\")  # Ploteo los barrios\n",
    "    graficos_caba.plot(\n",
    "        ax=ax,\n",
    "        column=\"surface_total_in_m2\",\n",
    "        cmap=\"Greys\",\n",
    "        legend=True,\n",
    "        edgecolor=\"black\",\n",
    "    )  # Coloreo por Superficie M2 Promedio\n",
    "except:\n",
    "    print(\"cargar Kernel de geopandas\")"
   ]
  },
  {
   "cell_type": "code",
   "execution_count": 122,
   "id": "8d89a042",
   "metadata": {},
   "outputs": [
    {
     "name": "stdout",
     "output_type": "stream",
     "text": [
      "cargar Kernel de geopandas\n"
     ]
    }
   ],
   "source": [
    "try:\n",
    "    graficos_caba\n",
    "except:\n",
    "    print(\"cargar Kernel de geopandas\")"
   ]
  },
  {
   "cell_type": "code",
   "execution_count": null,
   "id": "315e3e19",
   "metadata": {},
   "outputs": [],
   "source": []
  },
  {
   "cell_type": "code",
   "execution_count": null,
   "id": "cabcc9c2",
   "metadata": {},
   "outputs": [],
   "source": []
  },
  {
   "cell_type": "code",
   "execution_count": null,
   "id": "f3342f45",
   "metadata": {},
   "outputs": [],
   "source": []
  },
  {
   "cell_type": "markdown",
   "id": "9ba4a24b",
   "metadata": {},
   "source": [
    "# 7. MODULO DE RECONSTRUCCION DEL DATASET"
   ]
  },
  {
   "cell_type": "markdown",
   "id": "fc3b7faa",
   "metadata": {},
   "source": [
    "## FUNCIONES ANTERIORES"
   ]
  },
  {
   "cell_type": "code",
   "execution_count": 123,
   "id": "26f8c3ff",
   "metadata": {},
   "outputs": [],
   "source": [
    "# ····#····#····#····#····#····#····#\n",
    "#    MODULO VISUALIZACION DATASET  #\n",
    "# ····#····#····#····#····#····#····#\n",
    "\n",
    "\n",
    "def resumen_dataset(name=d, frame=data):  # INFORMACION GENERAL DEL DATASET\n",
    "    print(f\"\\n\\tRESUMEN DEL DATASET: {name}\")\n",
    "    print(\".head(2)\")\n",
    "    display(frame.head(2))\n",
    "    print(\"describe()\")\n",
    "    display(frame.describe()[:3])\n",
    "    print(f\"\\n\\tSECCION NULOS DATASET: {name}\")\n",
    "    display(nuloss(data=frame))\n",
    "    display(porcentaje_nuloss(frame))\n",
    "    print(\"Shape del dataset {}\".format(frame.shape))\n",
    "\n",
    "\n",
    "def nulos(data=data):  # CREA VARIABLE NULOS\n",
    "    result = data.isnull().sum().sort_values(ascending=False)\n",
    "    return result\n",
    "\n",
    "\n",
    "def nuloss(data=data):  # MUESTRA VARIABLE NULOS\n",
    "    print(\">> DATOS NULOS:\\n\")\n",
    "    display(data.isnull().sum().sort_values(ascending=False))\n",
    "    return\n",
    "\n",
    "\n",
    "def porcentaje_nulos(data=data):  # CREA VARIABLE\n",
    "    result = data.isnull().sum().sort_values(ascending=False) / data.shape[0] * 100\n",
    "    return result\n",
    "\n",
    "\n",
    "def porcentaje_nuloss(data=data):  # MUESTRA VARIABLE\n",
    "    print(\">> PORCENTAJE DE DATOS NULOS:\\n\")\n",
    "    display(\n",
    "        round(data.isnull().sum().sort_values(ascending=False) / data.shape[0] * 100, 2)\n",
    "    )\n",
    "    return\n",
    "\n",
    "\n",
    "# FUNCION PARA CREAR LA COLUMNA DE COUNTS: REVISAR REPERCUSION DE DE PATRONES\n",
    "\n",
    "# ····#····#····#····#····#\n",
    "#   MODULO INSPECCION\n",
    "# ····#····#····#····#····#\n",
    "\n",
    "\n",
    "def prueba_isna(frame, label_list, label):\n",
    "    print(f\"Comparacion de cantidad de NaN types en funcion de la columna {label}\")\n",
    "    mascara_comparativa = frame[label].isna()\n",
    "    print(frame.loc[mascara_comparativa, label_list].isna().sum().to_string())\n",
    "\n",
    "\n",
    "# entragas un dataframe, la lista de columnas que queres chequear, y la label de la columna que se toma de referencia\n",
    "\n",
    "\n",
    "# ····#····#····#····#····#\n",
    "# MODULO INTERACTIVO PARA CREACIOND DE VARIABLES\n",
    "# ····#····#····#····#····#\n",
    "\n",
    "# logica de aplicacion:\n",
    "# if apertura_menu():\n",
    "# data_nueva = menu_visualizacion()\n",
    "\n",
    "\n",
    "def menu_visualizacion(data=data_geo, recuperados=recuperados):\n",
    "    columna = [\"lat-lon\", \"place_name\", \"state_name\"]\n",
    "    print(\"Seleccione una opcion:\")\n",
    "    for i, v in enumerate(recuperados):\n",
    "        print(f\"\\t{i+1}) patron_{i+1}: {v}\")\n",
    "    opcion = input(\"\\n>> \")\n",
    "    try:\n",
    "        opcion = int(opcion)\n",
    "        if opcion < 1 or opcion > 7:\n",
    "            print(\"opcion no valida\")\n",
    "            return\n",
    "        else:\n",
    "            columna += recuperados[opcion - 1]\n",
    "            mask_data = data_geo[recuperados[opcion - 1]].notna().any(axis=1)\n",
    "            display(data_geo.loc[mask_data, columna])\n",
    "            data_recupero = data_geo.loc[mask_data, columna]\n",
    "            return data_recupero\n",
    "    except:\n",
    "        print(\"opcion no validaa\")\n",
    "        return\n",
    "\n",
    "\n",
    "def apertura_menu():\n",
    "    print(\"Desea abrir el modulo de visualizacion dato de ubicacion?\")\n",
    "    check = input(\"(1:si / 0 :no)\\n>> \")\n",
    "    try:\n",
    "        int(check)\n",
    "        if check == \"0\":\n",
    "            return\n",
    "        elif check == \"1\":\n",
    "            return True\n",
    "\n",
    "        else:\n",
    "            \"Operacion abortada\"\n",
    "    except:\n",
    "        print(\"Opcion no valida\")\n",
    "        return\n",
    "\n",
    "\n",
    "# ····#····#····#····#····#  SUMAR ACA LOS GRAFICOS DE DANIELA\n",
    "#   MODULO GRAFICOS\n",
    "# ····#····#····#····#····#\n",
    "\n",
    "\n",
    "def gaps_columns(titulo, serie):\n",
    "    fig, ax = plt.subplots(figsize=(12, 4))\n",
    "    barras = plt.bar(serie.index, serie)\n",
    "\n",
    "    for barra in barras:\n",
    "        x = barra.get_x()\n",
    "        y = barra.get_y()\n",
    "        ancho = barra.get_width()\n",
    "        plt.text(x + ancho / 2, y, round(y, 2), fontsize=10, color=\"black\", ha=\"center\")\n",
    "    plt.show()\n",
    "\n",
    "\n",
    "# Crea un grafico DE BARRAS\n",
    "\n",
    "\n",
    "# ····#····#····#····#····#\n",
    "#   MODULO OUTLIER\n",
    "# ····#····#····#····#····#\n",
    "\n",
    "\n",
    "def rango_extremos(frame, label, quant_list=[2.5, 97.5]):\n",
    "    for i, v in enumerate(quant_list):\n",
    "        if v < 0 or v > 1:\n",
    "            quant_list[i] = v / 100\n",
    "\n",
    "    rango_outlier = frame[label].quantile(quant_list)\n",
    "    print(\n",
    "        \"range_outlier: type: {}, len: {}\".format(\n",
    "            type(rango_outlier), len(rango_outlier)\n",
    "        )\n",
    "    )\n",
    "    return list(rango_outlier)\n",
    "\n",
    "\n",
    "def mascara_outlier(frame, label, rango_outlier):\n",
    "    if rango_outlier == [0.0, 0.0]:\n",
    "        rango_outlier = rango_extremos(frame=frame, label=label)\n",
    "    mascara_outlier = (\n",
    "        (frame[label].dropna() >= rango_outlier[0])\n",
    "        & (frame[label].dropna() <= rango_outlier[1])\n",
    "    ).index\n",
    "    return mascara_outlier\n",
    "\n",
    "\n",
    "# ····#····#····#····#····#\n",
    "#  PROXIMAS ACTUALIZACIONES\n",
    "# ····#····#····#····#····#\n",
    "indices = []\n",
    "\n",
    "\n",
    "def work_list(columnas=columnas, indices=indices):\n",
    "    work_list = []\n",
    "    work_list = columnas + indices\n",
    "    return work_list\n",
    "\n",
    "\n",
    "def work_listt(lista=work_list()):\n",
    "    print(lista)\n",
    "\n",
    "\n",
    "# Crea una lista de las columnas necesarias para el analisis: funcion: groupby\n",
    "\n",
    "# def crea_busqueda_iterada\n",
    "# for i in range(3):\n",
    "#    i += 1\n",
    "#    column_name = 'ubic'+str(i)\n",
    "#    serie_ubic_aux = serie_ubic.apply(lambda x: x if x is None else x.group('ubic'+str(i)))\n",
    "#    data_ubic.insert(loc=i-1, column=column_name, value=serie_ubic_aux)\n",
    "\n",
    "# def definiar_categoria(bins,labels):\n",
    "\n",
    "\n",
    "# iterar series para añadirsela a un dataframe limpio - proviene de celda 85"
   ]
  },
  {
   "cell_type": "markdown",
   "id": "b266e6b8",
   "metadata": {},
   "source": [
    "## FUNCIONES NUEVAS"
   ]
  },
  {
   "cell_type": "raw",
   "id": "d1083cf9",
   "metadata": {},
   "source": [
    "# GRAFICO HISTOGRAMA DIVIDIDO POR LA VARIABLE SEP_LABEL\n",
    "\n",
    "main_label = 'state_name'\n",
    "sep_label = 'property_type'\n",
    "data = df2\n",
    "\n",
    "plt.figure(figsize=(19,10))\n",
    "sns.countplot(x=main_label, hue=sep_label ,data=data)\n",
    "#ax.set_xticklabels(ax.get_xticklabels(), , ha=\"right\")\n",
    "\n",
    "\n",
    "# GRAFICO BOXPLOT\n",
    "\n",
    "sns.boxplot(data_prop_type_sup['surface_covered_in_m2'])\n",
    "plt.title('BoxPlot surface_covered_in_m2')\n",
    "plt.xlabel('surface_covered_in_m2')\n",
    "\n",
    "# BARPLOT. GRAFICA EN X, CUENTA EN Y Y DIVIDE SEPARA POR HUE\n",
    "plt.figure(figsize=(90,10))\n",
    "sns.barplot(x='state_name',y='surface_covered_in_m2', hue='property_type',data=data_prop_type_sup)\n",
    "\n",
    "\n",
    "###ES UN HITMAP QUE NO FUNCIONA - CELDA 6: workshop1_5_1_dani\n",
    "from matplotlib import colors\n",
    "hmap = colors.ListedColormap(['lightblue', 'lightgrey'])\n",
    "f, ax = plt.subplots(1, figsize=(9, 9))\n",
    "df_raw.assign(cl=labels).plot(column='cl', categorical=True, \\\n",
    "        k=2, cmap=hmap, linewidth=0.1, ax=ax, \\\n",
    "        edgecolor='white', legend=True)\n",
    "ax.set_axis_off()\n",
    "plt.show()\n"
   ]
  },
  {
   "cell_type": "markdown",
   "id": "6b219719",
   "metadata": {},
   "source": [
    "## 7.1 reconstruccion del dataset"
   ]
  },
  {
   "cell_type": "code",
   "execution_count": 124,
   "id": "9b3e82da",
   "metadata": {},
   "outputs": [],
   "source": [
    "# ····#····#····#····#····#····#····#\n",
    "#   NO EJECUTAR ESTA CELDA VINIENDO DESDE ABAJO\n",
    "data_v1 = data.copy()\n",
    "\n",
    "# ····#····#····#····#····#····#····#"
   ]
  },
  {
   "cell_type": "code",
   "execution_count": 125,
   "id": "bc985a1d",
   "metadata": {},
   "outputs": [],
   "source": [
    "data = df_raw.copy()\n",
    "d = \"data\"\n",
    "# resumen_dataset('data',data)"
   ]
  },
  {
   "cell_type": "markdown",
   "id": "9b45b208",
   "metadata": {},
   "source": [
    "##  7.2 ANALISIS PRECIO: COTIZACION DIVISA, COTIZACION INMUEBLE, CRITERIOS LOGICOS\n",
    "\n",
    "COLUMNAS:\n",
    "    \n",
    "    - (price, currency)\n",
    "    - price_aprox_usd\n",
    "    - price_usd_per_m2\n",
    "    - price_aprox_local_currency\n",
    "    - price_per_m2\n",
    "    \n",
    "COLUMNAS DE TRABAJO AUXILIAR:\n",
    "\n",
    "    - surface_total_in_m2\n",
    "    - surface_covered_in_m2\n",
    "    \n",
    "COLUMNAS PROYECTADAS A SER CREADAS:\n",
    "\n",
    "    - surface_recovery = tomar un criterio general de seleccion para todos los cálculos\n",
    "    - diff_change = columna check: la diferencia entre dos valores, o el cociente, o el delta porcentual\n",
    "    - control_cruzado =\n",
    "    \n",
    "FUTUROS RECUPEROS:\n",
    "\n",
    "    - tupla_recupero_1"
   ]
  },
  {
   "cell_type": "code",
   "execution_count": 126,
   "id": "f5f1e4ae",
   "metadata": {},
   "outputs": [],
   "source": [
    "# PARTE 1\n",
    "mask_data = data.surface_total_in_m2.notna() & data.surface_covered_in_m2.notna()\n",
    "mask_data = (\n",
    "    data[mask_data].surface_total_in_m2 >= data[mask_data].surface_covered_in_m2\n",
    ")  # comprobamos que haya logica Total > Cubierto\n",
    "data[\"surface_total_in_m2\"].fillna(0, inplace=True)\n",
    "data[\"surface_covered_in_m2\"].fillna(0, inplace=True)\n",
    "data[\"surface_total_in_m2_mod\"] = np.maximum(\n",
    "    data.surface_total_in_m2, data.surface_covered_in_m2\n",
    ")\n",
    "data[\"surface_total_in_m2_mod\"] = data[\"surface_total_in_m2_mod\"].replace(0, np.nan)\n",
    "data[\"surface_total_in_m2\"] = data[\"surface_total_in_m2\"].replace(0, np.nan)\n",
    "data[\"surface_covered_in_m2\"] = data[\"surface_covered_in_m2\"].replace(0, np.nan)\n",
    "# CREAMOS LA COLUMNA surface_total_in_m2_mod, y reemplazamos todos los valores cero por nans en las columnas surface_total_in_m2 y surface_covered_in_m2\n",
    "# resumen_dataset('data',data)\n",
    "\n",
    "# PARTE 2: #comprobamos que hay valores ilogicos porque price_usd_per_m2 es mayor a price_per_m2 que esta en pesos\n",
    "mask_data = data.currency == \"ARS\"\n",
    "data.drop(\n",
    "    (data[mask_data].loc[data.price_per_m2 < data.price_usd_per_m2]).index, inplace=True\n",
    ")\n",
    "\n",
    "# PARTE 3: DEFINICION DEL TIPO DE CAMBIO\n",
    "tc = np.mean(\n",
    "    data.price_aprox_local_currency / data.price_aprox_usd\n",
    ")  # tc promedio 17.6444\n",
    "\n",
    "\n",
    "# PARTE 4: ANALISIS DE FIABILIDAD DE price_aprox_usd\n",
    "data.loc[data.currency == \"ARS\", \"control_cruzado_precio_usd\"] = data.price / tc\n",
    "data[\"diff_pct_change\"] = (\n",
    "    data[\"control_cruzado_precio_usd\"] / data[\"price_aprox_usd\"] - 1\n",
    ") * 100\n",
    "# podemos concluir que es una columna confiable para tomar como precio en usd con un rango de desvio relativamente bajo de 1.05% a -2.84%\n",
    "\n",
    "# PARTE 5: PASAR LA COLUMNA price A UN SOLO TIPO DE CAMBIO\n",
    "mask_data = data.currency == \"ARS\"\n",
    "data.loc[mask_data, \"price\"] = data[mask_data].price / tc\n",
    "data.loc[mask_data, \"currency\"] = \"USD\"\n",
    "# ACLARACION A TENER EN CUENTA: HAY 20414 entradas cuya currency está en Nan\n",
    "mask_data = data.loc[:, \"currency\"] != \"USD\"\n",
    "mask_data = data.loc[mask_data, \"currency\"].dropna().index\n",
    "serie_recupero_1 = mask_data\n",
    "string_recupero_1 = \"Type <Index>: HAY 3 PROPIEDADES QUE NO ESTAN EXPRESADAS NI EN DOLARES NI EN PESOS ARGENTINOS\"\n",
    "tupla_recupero_1 = (serie_recupero_1, string_recupero_1)\n",
    "data.drop(mask_data, inplace=True)\n",
    "\n",
    "# PARTE 6: ELIMINAMOS 870 VALORES INCOHERENTES: CRITERIO: RANGO DE DESVIO, SOBRE: PRECIO/SUPERICIE\n",
    "data[\"control_cruzado_precio_m2_usd\"] = (\n",
    "    data[\"price_aprox_usd\"] / data[\"surface_total_in_m2_mod\"]\n",
    ")\n",
    "data[\"diff_pct_change_2\"] = (\n",
    "    data[\"control_cruzado_precio_m2_usd\"] / data[\"price_usd_per_m2\"] - 1\n",
    ") * 100\n",
    "# ' Elimino del dataset de trabajo los que tenian desvios de +- 4.75%'\n",
    "mask_data = data.loc[\n",
    "    (data[\"diff_pct_change_2\"] < -4.75) | (data[\"diff_pct_change_2\"] > 4.75)\n",
    "].index  # saco las que tienen desvio de +-5%\n",
    "data.drop(mask_data, inplace=True)\n",
    "\n",
    "# PARTE 7: 'ANALISIS DE RECUPERO price_usd_per_m2 POR price_aprox_usd/surface_total_in_m2_mod'\n",
    "mask_data = (\n",
    "    data.price_usd_per_m2.isna()\n",
    "    & data.price_aprox_usd.notna()\n",
    "    & data.surface_total_in_m2_mod.notna()\n",
    ")\n",
    "data[\"recupero\"] = (\n",
    "    data.loc[mask_data, \"price_aprox_usd\"]\n",
    "    / data.loc[mask_data, \"surface_total_in_m2_mod\"]\n",
    ")\n",
    "data[\"price_usd_per_m2\"].fillna(data[\"recupero\"], inplace=True)"
   ]
  },
  {
   "cell_type": "code",
   "execution_count": 127,
   "id": "50c4b72d",
   "metadata": {},
   "outputs": [],
   "source": [
    "\"\"\"   PORCENTAJE DE DATOS NULOS\n",
    "    VERSION ORIGINAL                        VERSION ACTUAL\n",
    "price_usd_per_m2              43.39  /  price_usd_per_m2                 23.51\n",
    "surface_total_in_m2           32.44  /  surface_total_in_m2              33.00\n",
    "price_per_m2                  27.69  /  price_per_m2                     27.89\n",
    "currency                      16.84  /  currency                         16.96\n",
    "price_aprox_usd               16.84  /  price_aprox_usd                  16.96\n",
    "price_aprox_local_currency    16.84  /  price_aprox_local_currency       16.96\n",
    "price                         16.84  /  price                            16.96\n",
    "surface_covered_in_m2         16.42  /  surface_covered_in_m2            16.54\n",
    "\n",
    "\n",
    "NUEVAS COLUMNAS CREADAS\n",
    "diff_pct_change                  89.08\n",
    "control_cruzado_precio_usd       89.08\n",
    "recupero                         79.80\n",
    "diff_pct_change_2                43.71\n",
    "control_cruzado_precio_m2_usd    23.51\n",
    "surface_total_in_m2_mod          10.59\n",
    "\"\"\";"
   ]
  },
  {
   "cell_type": "code",
   "execution_count": 128,
   "id": "7ebafa86",
   "metadata": {},
   "outputs": [],
   "source": [
    "columnas = [\n",
    "    \"diff_pct_change\",\n",
    "    \"control_cruzado_precio_usd\",\n",
    "    \"recupero\",\n",
    "    \"diff_pct_change_2\",\n",
    "    \"control_cruzado_precio_m2_usd\",\n",
    "    \"surface_total_in_m2_mod\",\n",
    "]\n",
    "data_price = data.filter(columnas, axis=1)\n",
    "data.drop(columnas, axis=1, inplace=True)"
   ]
  },
  {
   "cell_type": "markdown",
   "id": "531d27f7",
   "metadata": {},
   "source": [
    "## 7.3 ANALISIS SUPERFICIE: TIPO DE PROPIEDAD, TIPO DE SUPERFICIE, MODELIZACION ESTADISTICA\n",
    "\n",
    "COLUMNAS:\n",
    "\n",
    "    - state_name\n",
    "    - surface_covered_in_m2\n",
    "    - surface_total_in_m2\n",
    "    - property_type\n",
    "    - price_aprox_in_m2\n",
    "    - price_usd_per_m2"
   ]
  },
  {
   "cell_type": "code",
   "execution_count": 129,
   "id": "b3efd359",
   "metadata": {},
   "outputs": [
    {
     "name": "stdout",
     "output_type": "stream",
     "text": [
      "\n",
      "\n",
      "ACTUALIZANDO DATASET AL DE TRABAJO\n",
      "\n"
     ]
    }
   ],
   "source": [
    "columnas = [\n",
    "    \"state_name\",\n",
    "    \"surface_covered_in_m2\",\n",
    "    \"property_type\",\n",
    "    \"surface_total_in_m2\",\n",
    "]\n",
    "columnas2 = [\"price_aprox_usd\", \"price_usd_per_m2\"]\n",
    "\n",
    "data_sup = data.copy()\n",
    "data_sup = data_sup.loc[:, columnas + columnas2]\n",
    "d = \"data_sup\"\n",
    "\n",
    "print(\"\\n\\nACTUALIZANDO DATASET AL DE TRABAJO\\n\")\n",
    "data_drop = data_sup.drop(columnas, axis=1)\n",
    "data_sup = data_sup.drop(columnas2, axis=1)\n",
    "# resumen_dataset(d,data_sup)"
   ]
  },
  {
   "cell_type": "code",
   "execution_count": 130,
   "id": "72f435fa",
   "metadata": {},
   "outputs": [],
   "source": [
    "# NO ESTA TERMINADO - NO SE PUEDE SUBIR AUN\n",
    "def rango_extremos(frame, label, quant_list=[2.5, 97.5]):\n",
    "    for i, v in enumerate(quant_list):\n",
    "        if v < 0 or v > 1:\n",
    "            quant_list[i] = v / 100\n",
    "\n",
    "    rango_outlier = frame[label].quantile(quant_list)\n",
    "    rango_outlier = list(rango_outlier)\n",
    "    print(\n",
    "        \"range_outlier: type: {}, len: {}, value: {}\".format(\n",
    "            type(rango_outlier), len(rango_outlier), rango_outlier\n",
    "        )\n",
    "    )\n",
    "    return rango_outlier\n",
    "\n",
    "\n",
    "def mascara_outlier_index_list(\n",
    "    frame, label, rango_outlier\n",
    "):  # el problema que tengo es sacarme solo True de encima y quedarme con el indice de los False -\n",
    "    mascara_outlier = (frame[label].dropna() >= rango_outlier[0]) & (\n",
    "        frame[label].dropna() <= rango_outlier[1]\n",
    "    )  # ME QUEDO CON EL RANGO FALSE\n",
    "    # resulta: mascara booleana quiero quedarme con el indice de los False\n",
    "    lista_elementos = mascara_outlier.values\n",
    "    lista_indices = mascara_outlier.index\n",
    "    lista_elementos = list(lista_elementos)\n",
    "    lista_indices = list(lista_indices)\n",
    "    lista_result = []\n",
    "    for i, booleano in enumerate(lista_elementos):\n",
    "        if booleano == False:\n",
    "            lista_result.append(lista_indices[i])\n",
    "    return lista_result\n",
    "\n",
    "\n",
    "# def mascara_outlier(frame, label, rango_outlier):\n",
    "#    if rango_outlier == [0.0 , 0.0]:         # <----------------- esta parte esta buena para tener un valro random\n",
    "#        rango_outlier = rango_extremos(frame=frame, label=label)\n",
    "#    frame = frame[label].dropna()\n",
    "#    mascara_outlier = ((frame[label] >= rango_outlier[0]) & (frame[label] <= rango_outlier[1])).index\n",
    "#    return mascara_outlier"
   ]
  },
  {
   "cell_type": "code",
   "execution_count": 131,
   "id": "e8552e54",
   "metadata": {},
   "outputs": [
    {
     "name": "stdout",
     "output_type": "stream",
     "text": [
      "EXCLUSION DE OUTLIERS\n",
      "\n",
      "orden de la iteracion: {'house', 'apartment', 'PH', 'store'}\n",
      "--------------\n",
      "ITERACION N: 1\n",
      "--------------\n",
      "range_outlier: type: <class 'list'>, len: 2, value: [20.0, 550.0]\n",
      "elementos nans y tipo house en serie_outlier:\n"
     ]
    },
    {
     "data": {
      "text/plain": [
       "5           NaN\n",
       "9           NaN\n",
       "10          NaN\n",
       "11          NaN\n",
       "15          NaN\n",
       "          ...  \n",
       "121208    178.0\n",
       "121210    120.0\n",
       "121212    420.0\n",
       "121213    600.0\n",
       "121216    360.0\n",
       "Name: surface_covered_in_m2, Length: 39743, dtype: float64"
      ]
     },
     "metadata": {},
     "output_type": "display_data"
    },
    {
     "name": "stdout",
     "output_type": "stream",
     "text": [
      "\n",
      "\n",
      "Quitamos los nans tipo house, de la columna surface_covered_in_m2\n"
     ]
    },
    {
     "data": {
      "text/plain": [
       "18        270.0\n",
       "20        148.0\n",
       "22        200.0\n",
       "26        190.0\n",
       "27        425.0\n",
       "          ...  \n",
       "121208    178.0\n",
       "121210    120.0\n",
       "121212    420.0\n",
       "121213    600.0\n",
       "121216    360.0\n",
       "Name: surface_covered_in_m2, Length: 32986, dtype: float64"
      ]
     },
     "metadata": {},
     "output_type": "display_data"
    },
    {
     "name": "stdout",
     "output_type": "stream",
     "text": [
      "Dataset por tipo house sin nan\n"
     ]
    },
    {
     "data": {
      "text/html": [
       "<div>\n",
       "<style scoped>\n",
       "    .dataframe tbody tr th:only-of-type {\n",
       "        vertical-align: middle;\n",
       "    }\n",
       "\n",
       "    .dataframe tbody tr th {\n",
       "        vertical-align: top;\n",
       "    }\n",
       "\n",
       "    .dataframe thead th {\n",
       "        text-align: right;\n",
       "    }\n",
       "</style>\n",
       "<table border=\"1\" class=\"dataframe\">\n",
       "  <thead>\n",
       "    <tr style=\"text-align: right;\">\n",
       "      <th></th>\n",
       "      <th>state_name</th>\n",
       "      <th>surface_covered_in_m2</th>\n",
       "      <th>property_type</th>\n",
       "      <th>surface_total_in_m2</th>\n",
       "    </tr>\n",
       "  </thead>\n",
       "  <tbody>\n",
       "    <tr>\n",
       "      <th>18</th>\n",
       "      <td>Bs.As. G.B.A. Zona Norte</td>\n",
       "      <td>270.0</td>\n",
       "      <td>house</td>\n",
       "      <td>270.0</td>\n",
       "    </tr>\n",
       "    <tr>\n",
       "      <th>20</th>\n",
       "      <td>Córdoba</td>\n",
       "      <td>148.0</td>\n",
       "      <td>house</td>\n",
       "      <td>148.0</td>\n",
       "    </tr>\n",
       "    <tr>\n",
       "      <th>22</th>\n",
       "      <td>Bs.As. G.B.A. Zona Oeste</td>\n",
       "      <td>200.0</td>\n",
       "      <td>house</td>\n",
       "      <td>200.0</td>\n",
       "    </tr>\n",
       "    <tr>\n",
       "      <th>26</th>\n",
       "      <td>Bs.As. G.B.A. Zona Norte</td>\n",
       "      <td>190.0</td>\n",
       "      <td>house</td>\n",
       "      <td>230.0</td>\n",
       "    </tr>\n",
       "    <tr>\n",
       "      <th>27</th>\n",
       "      <td>Bs.As. G.B.A. Zona Norte</td>\n",
       "      <td>425.0</td>\n",
       "      <td>house</td>\n",
       "      <td>425.0</td>\n",
       "    </tr>\n",
       "    <tr>\n",
       "      <th>...</th>\n",
       "      <td>...</td>\n",
       "      <td>...</td>\n",
       "      <td>...</td>\n",
       "      <td>...</td>\n",
       "    </tr>\n",
       "    <tr>\n",
       "      <th>121208</th>\n",
       "      <td>Bs.As. G.B.A. Zona Norte</td>\n",
       "      <td>178.0</td>\n",
       "      <td>house</td>\n",
       "      <td>NaN</td>\n",
       "    </tr>\n",
       "    <tr>\n",
       "      <th>121210</th>\n",
       "      <td>Bs.As. G.B.A. Zona Norte</td>\n",
       "      <td>120.0</td>\n",
       "      <td>house</td>\n",
       "      <td>NaN</td>\n",
       "    </tr>\n",
       "    <tr>\n",
       "      <th>121212</th>\n",
       "      <td>Bs.As. G.B.A. Zona Norte</td>\n",
       "      <td>420.0</td>\n",
       "      <td>house</td>\n",
       "      <td>420.0</td>\n",
       "    </tr>\n",
       "    <tr>\n",
       "      <th>121213</th>\n",
       "      <td>Bs.As. G.B.A. Zona Norte</td>\n",
       "      <td>600.0</td>\n",
       "      <td>house</td>\n",
       "      <td>600.0</td>\n",
       "    </tr>\n",
       "    <tr>\n",
       "      <th>121216</th>\n",
       "      <td>Bs.As. G.B.A. Zona Norte</td>\n",
       "      <td>360.0</td>\n",
       "      <td>house</td>\n",
       "      <td>360.0</td>\n",
       "    </tr>\n",
       "  </tbody>\n",
       "</table>\n",
       "<p>32986 rows × 4 columns</p>\n",
       "</div>"
      ],
      "text/plain": [
       "                      state_name  surface_covered_in_m2 property_type  \\\n",
       "18      Bs.As. G.B.A. Zona Norte                  270.0         house   \n",
       "20                       Córdoba                  148.0         house   \n",
       "22      Bs.As. G.B.A. Zona Oeste                  200.0         house   \n",
       "26      Bs.As. G.B.A. Zona Norte                  190.0         house   \n",
       "27      Bs.As. G.B.A. Zona Norte                  425.0         house   \n",
       "...                          ...                    ...           ...   \n",
       "121208  Bs.As. G.B.A. Zona Norte                  178.0         house   \n",
       "121210  Bs.As. G.B.A. Zona Norte                  120.0         house   \n",
       "121212  Bs.As. G.B.A. Zona Norte                  420.0         house   \n",
       "121213  Bs.As. G.B.A. Zona Norte                  600.0         house   \n",
       "121216  Bs.As. G.B.A. Zona Norte                  360.0         house   \n",
       "\n",
       "        surface_total_in_m2  \n",
       "18                    270.0  \n",
       "20                    148.0  \n",
       "22                    200.0  \n",
       "26                    230.0  \n",
       "27                    425.0  \n",
       "...                     ...  \n",
       "121208                  NaN  \n",
       "121210                  NaN  \n",
       "121212                420.0  \n",
       "121213                600.0  \n",
       "121216                360.0  \n",
       "\n",
       "[32986 rows x 4 columns]"
      ]
     },
     "metadata": {},
     "output_type": "display_data"
    },
    {
     "name": "stdout",
     "output_type": "stream",
     "text": [
      "\n",
      "\n",
      "dataset <fila: house> con los valores de outliers en surface_covered_in_m2\n",
      "\n"
     ]
    },
    {
     "data": {
      "text/html": [
       "<div>\n",
       "<style scoped>\n",
       "    .dataframe tbody tr th:only-of-type {\n",
       "        vertical-align: middle;\n",
       "    }\n",
       "\n",
       "    .dataframe tbody tr th {\n",
       "        vertical-align: top;\n",
       "    }\n",
       "\n",
       "    .dataframe thead th {\n",
       "        text-align: right;\n",
       "    }\n",
       "</style>\n",
       "<table border=\"1\" class=\"dataframe\">\n",
       "  <thead>\n",
       "    <tr style=\"text-align: right;\">\n",
       "      <th></th>\n",
       "      <th>state_name</th>\n",
       "      <th>surface_covered_in_m2</th>\n",
       "      <th>property_type</th>\n",
       "      <th>surface_total_in_m2</th>\n",
       "    </tr>\n",
       "  </thead>\n",
       "  <tbody>\n",
       "    <tr>\n",
       "      <th>58</th>\n",
       "      <td>Bs.As. G.B.A. Zona Norte</td>\n",
       "      <td>800.0</td>\n",
       "      <td>house</td>\n",
       "      <td>1300.0</td>\n",
       "    </tr>\n",
       "    <tr>\n",
       "      <th>105</th>\n",
       "      <td>Bs.As. G.B.A. Zona Norte</td>\n",
       "      <td>800.0</td>\n",
       "      <td>house</td>\n",
       "      <td>1280.0</td>\n",
       "    </tr>\n",
       "    <tr>\n",
       "      <th>106</th>\n",
       "      <td>Bs.As. G.B.A. Zona Norte</td>\n",
       "      <td>800.0</td>\n",
       "      <td>house</td>\n",
       "      <td>1300.0</td>\n",
       "    </tr>\n",
       "    <tr>\n",
       "      <th>107</th>\n",
       "      <td>Bs.As. G.B.A. Zona Norte</td>\n",
       "      <td>800.0</td>\n",
       "      <td>house</td>\n",
       "      <td>1300.0</td>\n",
       "    </tr>\n",
       "    <tr>\n",
       "      <th>152</th>\n",
       "      <td>Bs.As. G.B.A. Zona Norte</td>\n",
       "      <td>612.0</td>\n",
       "      <td>house</td>\n",
       "      <td>NaN</td>\n",
       "    </tr>\n",
       "    <tr>\n",
       "      <th>...</th>\n",
       "      <td>...</td>\n",
       "      <td>...</td>\n",
       "      <td>...</td>\n",
       "      <td>...</td>\n",
       "    </tr>\n",
       "    <tr>\n",
       "      <th>120566</th>\n",
       "      <td>Córdoba</td>\n",
       "      <td>1150.0</td>\n",
       "      <td>house</td>\n",
       "      <td>NaN</td>\n",
       "    </tr>\n",
       "    <tr>\n",
       "      <th>120645</th>\n",
       "      <td>Córdoba</td>\n",
       "      <td>580.0</td>\n",
       "      <td>house</td>\n",
       "      <td>NaN</td>\n",
       "    </tr>\n",
       "    <tr>\n",
       "      <th>120659</th>\n",
       "      <td>Córdoba</td>\n",
       "      <td>621.0</td>\n",
       "      <td>house</td>\n",
       "      <td>NaN</td>\n",
       "    </tr>\n",
       "    <tr>\n",
       "      <th>120673</th>\n",
       "      <td>Córdoba</td>\n",
       "      <td>600.0</td>\n",
       "      <td>house</td>\n",
       "      <td>NaN</td>\n",
       "    </tr>\n",
       "    <tr>\n",
       "      <th>121213</th>\n",
       "      <td>Bs.As. G.B.A. Zona Norte</td>\n",
       "      <td>600.0</td>\n",
       "      <td>house</td>\n",
       "      <td>600.0</td>\n",
       "    </tr>\n",
       "  </tbody>\n",
       "</table>\n",
       "<p>980 rows × 4 columns</p>\n",
       "</div>"
      ],
      "text/plain": [
       "                      state_name  surface_covered_in_m2 property_type  \\\n",
       "58      Bs.As. G.B.A. Zona Norte                  800.0         house   \n",
       "105     Bs.As. G.B.A. Zona Norte                  800.0         house   \n",
       "106     Bs.As. G.B.A. Zona Norte                  800.0         house   \n",
       "107     Bs.As. G.B.A. Zona Norte                  800.0         house   \n",
       "152     Bs.As. G.B.A. Zona Norte                  612.0         house   \n",
       "...                          ...                    ...           ...   \n",
       "120566                   Córdoba                 1150.0         house   \n",
       "120645                   Córdoba                  580.0         house   \n",
       "120659                   Córdoba                  621.0         house   \n",
       "120673                   Córdoba                  600.0         house   \n",
       "121213  Bs.As. G.B.A. Zona Norte                  600.0         house   \n",
       "\n",
       "        surface_total_in_m2  \n",
       "58                   1300.0  \n",
       "105                  1280.0  \n",
       "106                  1300.0  \n",
       "107                  1300.0  \n",
       "152                     NaN  \n",
       "...                     ...  \n",
       "120566                  NaN  \n",
       "120645                  NaN  \n",
       "120659                  NaN  \n",
       "120673                  NaN  \n",
       "121213                600.0  \n",
       "\n",
       "[980 rows x 4 columns]"
      ]
     },
     "metadata": {},
     "output_type": "display_data"
    },
    {
     "name": "stdout",
     "output_type": "stream",
     "text": [
      "--------------\n",
      "ITERACION N: 2\n",
      "--------------\n",
      "range_outlier: type: <class 'list'>, len: 2, value: [26.0, 192.0]\n",
      "elementos nans y tipo apartment en serie_outlier:\n"
     ]
    },
    {
     "data": {
      "text/plain": [
       "1           NaN\n",
       "2          55.0\n",
       "4          35.0\n",
       "7          40.0\n",
       "8          60.0\n",
       "          ...  \n",
       "121211    205.0\n",
       "121215     93.0\n",
       "121217     39.0\n",
       "121218     48.0\n",
       "121219     77.0\n",
       "Name: surface_covered_in_m2, Length: 70781, dtype: float64"
      ]
     },
     "metadata": {},
     "output_type": "display_data"
    },
    {
     "name": "stdout",
     "output_type": "stream",
     "text": [
      "\n",
      "\n",
      "Quitamos los nans tipo apartment, de la columna surface_covered_in_m2\n"
     ]
    },
    {
     "data": {
      "text/plain": [
       "2          55.0\n",
       "4          35.0\n",
       "7          40.0\n",
       "8          60.0\n",
       "12         36.0\n",
       "          ...  \n",
       "121211    205.0\n",
       "121215     93.0\n",
       "121217     39.0\n",
       "121218     48.0\n",
       "121219     77.0\n",
       "Name: surface_covered_in_m2, Length: 59451, dtype: float64"
      ]
     },
     "metadata": {},
     "output_type": "display_data"
    },
    {
     "name": "stdout",
     "output_type": "stream",
     "text": [
      "Dataset por tipo apartment sin nan\n"
     ]
    },
    {
     "data": {
      "text/html": [
       "<div>\n",
       "<style scoped>\n",
       "    .dataframe tbody tr th:only-of-type {\n",
       "        vertical-align: middle;\n",
       "    }\n",
       "\n",
       "    .dataframe tbody tr th {\n",
       "        vertical-align: top;\n",
       "    }\n",
       "\n",
       "    .dataframe thead th {\n",
       "        text-align: right;\n",
       "    }\n",
       "</style>\n",
       "<table border=\"1\" class=\"dataframe\">\n",
       "  <thead>\n",
       "    <tr style=\"text-align: right;\">\n",
       "      <th></th>\n",
       "      <th>state_name</th>\n",
       "      <th>surface_covered_in_m2</th>\n",
       "      <th>property_type</th>\n",
       "      <th>surface_total_in_m2</th>\n",
       "    </tr>\n",
       "  </thead>\n",
       "  <tbody>\n",
       "    <tr>\n",
       "      <th>2</th>\n",
       "      <td>Capital Federal</td>\n",
       "      <td>55.0</td>\n",
       "      <td>apartment</td>\n",
       "      <td>55.0</td>\n",
       "    </tr>\n",
       "    <tr>\n",
       "      <th>4</th>\n",
       "      <td>Buenos Aires Costa Atlántica</td>\n",
       "      <td>35.0</td>\n",
       "      <td>apartment</td>\n",
       "      <td>35.0</td>\n",
       "    </tr>\n",
       "    <tr>\n",
       "      <th>7</th>\n",
       "      <td>Capital Federal</td>\n",
       "      <td>40.0</td>\n",
       "      <td>apartment</td>\n",
       "      <td>45.0</td>\n",
       "    </tr>\n",
       "    <tr>\n",
       "      <th>8</th>\n",
       "      <td>Capital Federal</td>\n",
       "      <td>60.0</td>\n",
       "      <td>apartment</td>\n",
       "      <td>65.0</td>\n",
       "    </tr>\n",
       "    <tr>\n",
       "      <th>12</th>\n",
       "      <td>Bs.As. G.B.A. Zona Norte</td>\n",
       "      <td>36.0</td>\n",
       "      <td>apartment</td>\n",
       "      <td>39.0</td>\n",
       "    </tr>\n",
       "    <tr>\n",
       "      <th>...</th>\n",
       "      <td>...</td>\n",
       "      <td>...</td>\n",
       "      <td>...</td>\n",
       "      <td>...</td>\n",
       "    </tr>\n",
       "    <tr>\n",
       "      <th>121211</th>\n",
       "      <td>Bs.As. G.B.A. Zona Norte</td>\n",
       "      <td>205.0</td>\n",
       "      <td>apartment</td>\n",
       "      <td>205.0</td>\n",
       "    </tr>\n",
       "    <tr>\n",
       "      <th>121215</th>\n",
       "      <td>Capital Federal</td>\n",
       "      <td>93.0</td>\n",
       "      <td>apartment</td>\n",
       "      <td>113.0</td>\n",
       "    </tr>\n",
       "    <tr>\n",
       "      <th>121217</th>\n",
       "      <td>Capital Federal</td>\n",
       "      <td>39.0</td>\n",
       "      <td>apartment</td>\n",
       "      <td>46.0</td>\n",
       "    </tr>\n",
       "    <tr>\n",
       "      <th>121218</th>\n",
       "      <td>Buenos Aires Costa Atlántica</td>\n",
       "      <td>48.0</td>\n",
       "      <td>apartment</td>\n",
       "      <td>48.0</td>\n",
       "    </tr>\n",
       "    <tr>\n",
       "      <th>121219</th>\n",
       "      <td>Capital Federal</td>\n",
       "      <td>77.0</td>\n",
       "      <td>apartment</td>\n",
       "      <td>77.0</td>\n",
       "    </tr>\n",
       "  </tbody>\n",
       "</table>\n",
       "<p>59451 rows × 4 columns</p>\n",
       "</div>"
      ],
      "text/plain": [
       "                          state_name  surface_covered_in_m2 property_type  \\\n",
       "2                    Capital Federal                   55.0     apartment   \n",
       "4       Buenos Aires Costa Atlántica                   35.0     apartment   \n",
       "7                    Capital Federal                   40.0     apartment   \n",
       "8                    Capital Federal                   60.0     apartment   \n",
       "12          Bs.As. G.B.A. Zona Norte                   36.0     apartment   \n",
       "...                              ...                    ...           ...   \n",
       "121211      Bs.As. G.B.A. Zona Norte                  205.0     apartment   \n",
       "121215               Capital Federal                   93.0     apartment   \n",
       "121217               Capital Federal                   39.0     apartment   \n",
       "121218  Buenos Aires Costa Atlántica                   48.0     apartment   \n",
       "121219               Capital Federal                   77.0     apartment   \n",
       "\n",
       "        surface_total_in_m2  \n",
       "2                      55.0  \n",
       "4                      35.0  \n",
       "7                      45.0  \n",
       "8                      65.0  \n",
       "12                     39.0  \n",
       "...                     ...  \n",
       "121211                205.0  \n",
       "121215                113.0  \n",
       "121217                 46.0  \n",
       "121218                 48.0  \n",
       "121219                 77.0  \n",
       "\n",
       "[59451 rows x 4 columns]"
      ]
     },
     "metadata": {},
     "output_type": "display_data"
    },
    {
     "name": "stdout",
     "output_type": "stream",
     "text": [
      "\n",
      "\n",
      "dataset <fila: apartment> con los valores de outliers en surface_covered_in_m2\n",
      "\n"
     ]
    },
    {
     "data": {
      "text/html": [
       "<div>\n",
       "<style scoped>\n",
       "    .dataframe tbody tr th:only-of-type {\n",
       "        vertical-align: middle;\n",
       "    }\n",
       "\n",
       "    .dataframe tbody tr th {\n",
       "        vertical-align: top;\n",
       "    }\n",
       "\n",
       "    .dataframe thead th {\n",
       "        text-align: right;\n",
       "    }\n",
       "</style>\n",
       "<table border=\"1\" class=\"dataframe\">\n",
       "  <thead>\n",
       "    <tr style=\"text-align: right;\">\n",
       "      <th></th>\n",
       "      <th>state_name</th>\n",
       "      <th>surface_covered_in_m2</th>\n",
       "      <th>property_type</th>\n",
       "      <th>surface_total_in_m2</th>\n",
       "    </tr>\n",
       "  </thead>\n",
       "  <tbody>\n",
       "    <tr>\n",
       "      <th>197</th>\n",
       "      <td>Buenos Aires Interior</td>\n",
       "      <td>270.0</td>\n",
       "      <td>apartment</td>\n",
       "      <td>270.0</td>\n",
       "    </tr>\n",
       "    <tr>\n",
       "      <th>200</th>\n",
       "      <td>Capital Federal</td>\n",
       "      <td>196.0</td>\n",
       "      <td>apartment</td>\n",
       "      <td>196.0</td>\n",
       "    </tr>\n",
       "    <tr>\n",
       "      <th>219</th>\n",
       "      <td>Capital Federal</td>\n",
       "      <td>300.0</td>\n",
       "      <td>apartment</td>\n",
       "      <td>310.0</td>\n",
       "    </tr>\n",
       "    <tr>\n",
       "      <th>223</th>\n",
       "      <td>Capital Federal</td>\n",
       "      <td>250.0</td>\n",
       "      <td>apartment</td>\n",
       "      <td>270.0</td>\n",
       "    </tr>\n",
       "    <tr>\n",
       "      <th>281</th>\n",
       "      <td>Buenos Aires Costa Atlántica</td>\n",
       "      <td>23.0</td>\n",
       "      <td>apartment</td>\n",
       "      <td>NaN</td>\n",
       "    </tr>\n",
       "    <tr>\n",
       "      <th>...</th>\n",
       "      <td>...</td>\n",
       "      <td>...</td>\n",
       "      <td>...</td>\n",
       "      <td>...</td>\n",
       "    </tr>\n",
       "    <tr>\n",
       "      <th>120956</th>\n",
       "      <td>Santa Fe</td>\n",
       "      <td>25.0</td>\n",
       "      <td>apartment</td>\n",
       "      <td>25.0</td>\n",
       "    </tr>\n",
       "    <tr>\n",
       "      <th>121109</th>\n",
       "      <td>Santa Fe</td>\n",
       "      <td>25.0</td>\n",
       "      <td>apartment</td>\n",
       "      <td>27.0</td>\n",
       "    </tr>\n",
       "    <tr>\n",
       "      <th>121121</th>\n",
       "      <td>Capital Federal</td>\n",
       "      <td>24.0</td>\n",
       "      <td>apartment</td>\n",
       "      <td>29.0</td>\n",
       "    </tr>\n",
       "    <tr>\n",
       "      <th>121135</th>\n",
       "      <td>Capital Federal</td>\n",
       "      <td>19.0</td>\n",
       "      <td>apartment</td>\n",
       "      <td>80.0</td>\n",
       "    </tr>\n",
       "    <tr>\n",
       "      <th>121211</th>\n",
       "      <td>Bs.As. G.B.A. Zona Norte</td>\n",
       "      <td>205.0</td>\n",
       "      <td>apartment</td>\n",
       "      <td>205.0</td>\n",
       "    </tr>\n",
       "  </tbody>\n",
       "</table>\n",
       "<p>2852 rows × 4 columns</p>\n",
       "</div>"
      ],
      "text/plain": [
       "                          state_name  surface_covered_in_m2 property_type  \\\n",
       "197            Buenos Aires Interior                  270.0     apartment   \n",
       "200                  Capital Federal                  196.0     apartment   \n",
       "219                  Capital Federal                  300.0     apartment   \n",
       "223                  Capital Federal                  250.0     apartment   \n",
       "281     Buenos Aires Costa Atlántica                   23.0     apartment   \n",
       "...                              ...                    ...           ...   \n",
       "120956                      Santa Fe                   25.0     apartment   \n",
       "121109                      Santa Fe                   25.0     apartment   \n",
       "121121               Capital Federal                   24.0     apartment   \n",
       "121135               Capital Federal                   19.0     apartment   \n",
       "121211      Bs.As. G.B.A. Zona Norte                  205.0     apartment   \n",
       "\n",
       "        surface_total_in_m2  \n",
       "197                   270.0  \n",
       "200                   196.0  \n",
       "219                   310.0  \n",
       "223                   270.0  \n",
       "281                     NaN  \n",
       "...                     ...  \n",
       "120956                 25.0  \n",
       "121109                 27.0  \n",
       "121121                 29.0  \n",
       "121135                 80.0  \n",
       "121211                205.0  \n",
       "\n",
       "[2852 rows x 4 columns]"
      ]
     },
     "metadata": {},
     "output_type": "display_data"
    },
    {
     "name": "stdout",
     "output_type": "stream",
     "text": [
      "--------------\n",
      "ITERACION N: 3\n",
      "--------------\n",
      "range_outlier: type: <class 'list'>, len: 2, value: [20.0, 210.0]\n",
      "elementos nans y tipo PH en serie_outlier:\n"
     ]
    },
    {
     "data": {
      "text/plain": [
       "0          40.0\n",
       "3           NaN\n",
       "6          78.0\n",
       "16         98.0\n",
       "34        160.0\n",
       "          ...  \n",
       "120972    206.0\n",
       "121081     83.0\n",
       "121104    100.0\n",
       "121130     12.0\n",
       "121148    185.0\n",
       "Name: surface_covered_in_m2, Length: 5712, dtype: float64"
      ]
     },
     "metadata": {},
     "output_type": "display_data"
    },
    {
     "name": "stdout",
     "output_type": "stream",
     "text": [
      "\n",
      "\n",
      "Quitamos los nans tipo PH, de la columna surface_covered_in_m2\n"
     ]
    },
    {
     "data": {
      "text/plain": [
       "0          40.0\n",
       "6          78.0\n",
       "16         98.0\n",
       "34        160.0\n",
       "46        140.0\n",
       "          ...  \n",
       "120972    206.0\n",
       "121081     83.0\n",
       "121104    100.0\n",
       "121130     12.0\n",
       "121148    185.0\n",
       "Name: surface_covered_in_m2, Length: 4874, dtype: float64"
      ]
     },
     "metadata": {},
     "output_type": "display_data"
    },
    {
     "name": "stdout",
     "output_type": "stream",
     "text": [
      "Dataset por tipo PH sin nan\n"
     ]
    },
    {
     "data": {
      "text/html": [
       "<div>\n",
       "<style scoped>\n",
       "    .dataframe tbody tr th:only-of-type {\n",
       "        vertical-align: middle;\n",
       "    }\n",
       "\n",
       "    .dataframe tbody tr th {\n",
       "        vertical-align: top;\n",
       "    }\n",
       "\n",
       "    .dataframe thead th {\n",
       "        text-align: right;\n",
       "    }\n",
       "</style>\n",
       "<table border=\"1\" class=\"dataframe\">\n",
       "  <thead>\n",
       "    <tr style=\"text-align: right;\">\n",
       "      <th></th>\n",
       "      <th>state_name</th>\n",
       "      <th>surface_covered_in_m2</th>\n",
       "      <th>property_type</th>\n",
       "      <th>surface_total_in_m2</th>\n",
       "    </tr>\n",
       "  </thead>\n",
       "  <tbody>\n",
       "    <tr>\n",
       "      <th>0</th>\n",
       "      <td>Capital Federal</td>\n",
       "      <td>40.0</td>\n",
       "      <td>PH</td>\n",
       "      <td>55.0</td>\n",
       "    </tr>\n",
       "    <tr>\n",
       "      <th>6</th>\n",
       "      <td>Bs.As. G.B.A. Zona Norte</td>\n",
       "      <td>78.0</td>\n",
       "      <td>PH</td>\n",
       "      <td>106.0</td>\n",
       "    </tr>\n",
       "    <tr>\n",
       "      <th>16</th>\n",
       "      <td>Capital Federal</td>\n",
       "      <td>98.0</td>\n",
       "      <td>PH</td>\n",
       "      <td>140.0</td>\n",
       "    </tr>\n",
       "    <tr>\n",
       "      <th>34</th>\n",
       "      <td>Bs.As. G.B.A. Zona Norte</td>\n",
       "      <td>160.0</td>\n",
       "      <td>PH</td>\n",
       "      <td>172.0</td>\n",
       "    </tr>\n",
       "    <tr>\n",
       "      <th>46</th>\n",
       "      <td>Bs.As. G.B.A. Zona Norte</td>\n",
       "      <td>140.0</td>\n",
       "      <td>PH</td>\n",
       "      <td>140.0</td>\n",
       "    </tr>\n",
       "    <tr>\n",
       "      <th>...</th>\n",
       "      <td>...</td>\n",
       "      <td>...</td>\n",
       "      <td>...</td>\n",
       "      <td>...</td>\n",
       "    </tr>\n",
       "    <tr>\n",
       "      <th>120972</th>\n",
       "      <td>Capital Federal</td>\n",
       "      <td>206.0</td>\n",
       "      <td>PH</td>\n",
       "      <td>NaN</td>\n",
       "    </tr>\n",
       "    <tr>\n",
       "      <th>121081</th>\n",
       "      <td>Bs.As. G.B.A. Zona Sur</td>\n",
       "      <td>83.0</td>\n",
       "      <td>PH</td>\n",
       "      <td>NaN</td>\n",
       "    </tr>\n",
       "    <tr>\n",
       "      <th>121104</th>\n",
       "      <td>Bs.As. G.B.A. Zona Norte</td>\n",
       "      <td>100.0</td>\n",
       "      <td>PH</td>\n",
       "      <td>NaN</td>\n",
       "    </tr>\n",
       "    <tr>\n",
       "      <th>121130</th>\n",
       "      <td>Bs.As. G.B.A. Zona Sur</td>\n",
       "      <td>12.0</td>\n",
       "      <td>PH</td>\n",
       "      <td>NaN</td>\n",
       "    </tr>\n",
       "    <tr>\n",
       "      <th>121148</th>\n",
       "      <td>Capital Federal</td>\n",
       "      <td>185.0</td>\n",
       "      <td>PH</td>\n",
       "      <td>NaN</td>\n",
       "    </tr>\n",
       "  </tbody>\n",
       "</table>\n",
       "<p>4874 rows × 4 columns</p>\n",
       "</div>"
      ],
      "text/plain": [
       "                      state_name  surface_covered_in_m2 property_type  \\\n",
       "0                Capital Federal                   40.0            PH   \n",
       "6       Bs.As. G.B.A. Zona Norte                   78.0            PH   \n",
       "16               Capital Federal                   98.0            PH   \n",
       "34      Bs.As. G.B.A. Zona Norte                  160.0            PH   \n",
       "46      Bs.As. G.B.A. Zona Norte                  140.0            PH   \n",
       "...                          ...                    ...           ...   \n",
       "120972           Capital Federal                  206.0            PH   \n",
       "121081    Bs.As. G.B.A. Zona Sur                   83.0            PH   \n",
       "121104  Bs.As. G.B.A. Zona Norte                  100.0            PH   \n",
       "121130    Bs.As. G.B.A. Zona Sur                   12.0            PH   \n",
       "121148           Capital Federal                  185.0            PH   \n",
       "\n",
       "        surface_total_in_m2  \n",
       "0                      55.0  \n",
       "6                     106.0  \n",
       "16                    140.0  \n",
       "34                    172.0  \n",
       "46                    140.0  \n",
       "...                     ...  \n",
       "120972                  NaN  \n",
       "121081                  NaN  \n",
       "121104                  NaN  \n",
       "121130                  NaN  \n",
       "121148                  NaN  \n",
       "\n",
       "[4874 rows x 4 columns]"
      ]
     },
     "metadata": {},
     "output_type": "display_data"
    },
    {
     "name": "stdout",
     "output_type": "stream",
     "text": [
      "\n",
      "\n",
      "dataset <fila: PH> con los valores de outliers en surface_covered_in_m2\n",
      "\n"
     ]
    },
    {
     "data": {
      "text/html": [
       "<div>\n",
       "<style scoped>\n",
       "    .dataframe tbody tr th:only-of-type {\n",
       "        vertical-align: middle;\n",
       "    }\n",
       "\n",
       "    .dataframe tbody tr th {\n",
       "        vertical-align: top;\n",
       "    }\n",
       "\n",
       "    .dataframe thead th {\n",
       "        text-align: right;\n",
       "    }\n",
       "</style>\n",
       "<table border=\"1\" class=\"dataframe\">\n",
       "  <thead>\n",
       "    <tr style=\"text-align: right;\">\n",
       "      <th></th>\n",
       "      <th>state_name</th>\n",
       "      <th>surface_covered_in_m2</th>\n",
       "      <th>property_type</th>\n",
       "      <th>surface_total_in_m2</th>\n",
       "    </tr>\n",
       "  </thead>\n",
       "  <tbody>\n",
       "    <tr>\n",
       "      <th>135</th>\n",
       "      <td>Bs.As. G.B.A. Zona Norte</td>\n",
       "      <td>260.0</td>\n",
       "      <td>PH</td>\n",
       "      <td>NaN</td>\n",
       "    </tr>\n",
       "    <tr>\n",
       "      <th>4770</th>\n",
       "      <td>Capital Federal</td>\n",
       "      <td>324.0</td>\n",
       "      <td>PH</td>\n",
       "      <td>NaN</td>\n",
       "    </tr>\n",
       "    <tr>\n",
       "      <th>4866</th>\n",
       "      <td>Capital Federal</td>\n",
       "      <td>212.0</td>\n",
       "      <td>PH</td>\n",
       "      <td>212.0</td>\n",
       "    </tr>\n",
       "    <tr>\n",
       "      <th>4887</th>\n",
       "      <td>Capital Federal</td>\n",
       "      <td>230.0</td>\n",
       "      <td>PH</td>\n",
       "      <td>250.0</td>\n",
       "    </tr>\n",
       "    <tr>\n",
       "      <th>5351</th>\n",
       "      <td>Bs.As. G.B.A. Zona Sur</td>\n",
       "      <td>282.0</td>\n",
       "      <td>PH</td>\n",
       "      <td>407.0</td>\n",
       "    </tr>\n",
       "    <tr>\n",
       "      <th>...</th>\n",
       "      <td>...</td>\n",
       "      <td>...</td>\n",
       "      <td>...</td>\n",
       "      <td>...</td>\n",
       "    </tr>\n",
       "    <tr>\n",
       "      <th>117881</th>\n",
       "      <td>Bs.As. G.B.A. Zona Norte</td>\n",
       "      <td>224.0</td>\n",
       "      <td>PH</td>\n",
       "      <td>NaN</td>\n",
       "    </tr>\n",
       "    <tr>\n",
       "      <th>119227</th>\n",
       "      <td>Bs.As. G.B.A. Zona Oeste</td>\n",
       "      <td>255.0</td>\n",
       "      <td>PH</td>\n",
       "      <td>255.0</td>\n",
       "    </tr>\n",
       "    <tr>\n",
       "      <th>120692</th>\n",
       "      <td>Capital Federal</td>\n",
       "      <td>231.0</td>\n",
       "      <td>PH</td>\n",
       "      <td>231.0</td>\n",
       "    </tr>\n",
       "    <tr>\n",
       "      <th>120777</th>\n",
       "      <td>Capital Federal</td>\n",
       "      <td>220.0</td>\n",
       "      <td>PH</td>\n",
       "      <td>220.0</td>\n",
       "    </tr>\n",
       "    <tr>\n",
       "      <th>121130</th>\n",
       "      <td>Bs.As. G.B.A. Zona Sur</td>\n",
       "      <td>12.0</td>\n",
       "      <td>PH</td>\n",
       "      <td>NaN</td>\n",
       "    </tr>\n",
       "  </tbody>\n",
       "</table>\n",
       "<p>158 rows × 4 columns</p>\n",
       "</div>"
      ],
      "text/plain": [
       "                      state_name  surface_covered_in_m2 property_type  \\\n",
       "135     Bs.As. G.B.A. Zona Norte                  260.0            PH   \n",
       "4770             Capital Federal                  324.0            PH   \n",
       "4866             Capital Federal                  212.0            PH   \n",
       "4887             Capital Federal                  230.0            PH   \n",
       "5351      Bs.As. G.B.A. Zona Sur                  282.0            PH   \n",
       "...                          ...                    ...           ...   \n",
       "117881  Bs.As. G.B.A. Zona Norte                  224.0            PH   \n",
       "119227  Bs.As. G.B.A. Zona Oeste                  255.0            PH   \n",
       "120692           Capital Federal                  231.0            PH   \n",
       "120777           Capital Federal                  220.0            PH   \n",
       "121130    Bs.As. G.B.A. Zona Sur                   12.0            PH   \n",
       "\n",
       "        surface_total_in_m2  \n",
       "135                     NaN  \n",
       "4770                    NaN  \n",
       "4866                  212.0  \n",
       "4887                  250.0  \n",
       "5351                  407.0  \n",
       "...                     ...  \n",
       "117881                  NaN  \n",
       "119227                255.0  \n",
       "120692                231.0  \n",
       "120777                220.0  \n",
       "121130                  NaN  \n",
       "\n",
       "[158 rows x 4 columns]"
      ]
     },
     "metadata": {},
     "output_type": "display_data"
    },
    {
     "name": "stdout",
     "output_type": "stream",
     "text": [
      "--------------\n",
      "ITERACION N: 4\n",
      "--------------\n",
      "range_outlier: type: <class 'list'>, len: 2, value: [18.0, 1398.1999999999975]\n",
      "elementos nans y tipo store en serie_outlier:\n"
     ]
    },
    {
     "data": {
      "text/plain": [
       "57         30.0\n",
       "65          NaN\n",
       "95        180.0\n",
       "183         NaN\n",
       "204       103.0\n",
       "          ...  \n",
       "120854    122.0\n",
       "120929      NaN\n",
       "121073    169.0\n",
       "121125    403.0\n",
       "121214    123.0\n",
       "Name: surface_covered_in_m2, Length: 4106, dtype: float64"
      ]
     },
     "metadata": {},
     "output_type": "display_data"
    },
    {
     "name": "stdout",
     "output_type": "stream",
     "text": [
      "\n",
      "\n",
      "Quitamos los nans tipo store, de la columna surface_covered_in_m2\n"
     ]
    },
    {
     "data": {
      "text/plain": [
       "57         30.0\n",
       "95        180.0\n",
       "204       103.0\n",
       "215        80.0\n",
       "277        20.0\n",
       "          ...  \n",
       "120853    144.0\n",
       "120854    122.0\n",
       "121073    169.0\n",
       "121125    403.0\n",
       "121214    123.0\n",
       "Name: surface_covered_in_m2, Length: 3125, dtype: float64"
      ]
     },
     "metadata": {},
     "output_type": "display_data"
    },
    {
     "name": "stdout",
     "output_type": "stream",
     "text": [
      "Dataset por tipo store sin nan\n"
     ]
    },
    {
     "data": {
      "text/html": [
       "<div>\n",
       "<style scoped>\n",
       "    .dataframe tbody tr th:only-of-type {\n",
       "        vertical-align: middle;\n",
       "    }\n",
       "\n",
       "    .dataframe tbody tr th {\n",
       "        vertical-align: top;\n",
       "    }\n",
       "\n",
       "    .dataframe thead th {\n",
       "        text-align: right;\n",
       "    }\n",
       "</style>\n",
       "<table border=\"1\" class=\"dataframe\">\n",
       "  <thead>\n",
       "    <tr style=\"text-align: right;\">\n",
       "      <th></th>\n",
       "      <th>state_name</th>\n",
       "      <th>surface_covered_in_m2</th>\n",
       "      <th>property_type</th>\n",
       "      <th>surface_total_in_m2</th>\n",
       "    </tr>\n",
       "  </thead>\n",
       "  <tbody>\n",
       "    <tr>\n",
       "      <th>57</th>\n",
       "      <td>Capital Federal</td>\n",
       "      <td>30.0</td>\n",
       "      <td>store</td>\n",
       "      <td>30.0</td>\n",
       "    </tr>\n",
       "    <tr>\n",
       "      <th>95</th>\n",
       "      <td>Córdoba</td>\n",
       "      <td>180.0</td>\n",
       "      <td>store</td>\n",
       "      <td>NaN</td>\n",
       "    </tr>\n",
       "    <tr>\n",
       "      <th>204</th>\n",
       "      <td>Capital Federal</td>\n",
       "      <td>103.0</td>\n",
       "      <td>store</td>\n",
       "      <td>103.0</td>\n",
       "    </tr>\n",
       "    <tr>\n",
       "      <th>215</th>\n",
       "      <td>Capital Federal</td>\n",
       "      <td>80.0</td>\n",
       "      <td>store</td>\n",
       "      <td>80.0</td>\n",
       "    </tr>\n",
       "    <tr>\n",
       "      <th>277</th>\n",
       "      <td>Capital Federal</td>\n",
       "      <td>20.0</td>\n",
       "      <td>store</td>\n",
       "      <td>NaN</td>\n",
       "    </tr>\n",
       "    <tr>\n",
       "      <th>...</th>\n",
       "      <td>...</td>\n",
       "      <td>...</td>\n",
       "      <td>...</td>\n",
       "      <td>...</td>\n",
       "    </tr>\n",
       "    <tr>\n",
       "      <th>120853</th>\n",
       "      <td>Capital Federal</td>\n",
       "      <td>144.0</td>\n",
       "      <td>store</td>\n",
       "      <td>154.0</td>\n",
       "    </tr>\n",
       "    <tr>\n",
       "      <th>120854</th>\n",
       "      <td>Capital Federal</td>\n",
       "      <td>122.0</td>\n",
       "      <td>store</td>\n",
       "      <td>122.0</td>\n",
       "    </tr>\n",
       "    <tr>\n",
       "      <th>121073</th>\n",
       "      <td>Capital Federal</td>\n",
       "      <td>169.0</td>\n",
       "      <td>store</td>\n",
       "      <td>169.0</td>\n",
       "    </tr>\n",
       "    <tr>\n",
       "      <th>121125</th>\n",
       "      <td>Capital Federal</td>\n",
       "      <td>403.0</td>\n",
       "      <td>store</td>\n",
       "      <td>403.0</td>\n",
       "    </tr>\n",
       "    <tr>\n",
       "      <th>121214</th>\n",
       "      <td>Bs.As. G.B.A. Zona Norte</td>\n",
       "      <td>123.0</td>\n",
       "      <td>store</td>\n",
       "      <td>123.0</td>\n",
       "    </tr>\n",
       "  </tbody>\n",
       "</table>\n",
       "<p>3125 rows × 4 columns</p>\n",
       "</div>"
      ],
      "text/plain": [
       "                      state_name  surface_covered_in_m2 property_type  \\\n",
       "57               Capital Federal                   30.0         store   \n",
       "95                       Córdoba                  180.0         store   \n",
       "204              Capital Federal                  103.0         store   \n",
       "215              Capital Federal                   80.0         store   \n",
       "277              Capital Federal                   20.0         store   \n",
       "...                          ...                    ...           ...   \n",
       "120853           Capital Federal                  144.0         store   \n",
       "120854           Capital Federal                  122.0         store   \n",
       "121073           Capital Federal                  169.0         store   \n",
       "121125           Capital Federal                  403.0         store   \n",
       "121214  Bs.As. G.B.A. Zona Norte                  123.0         store   \n",
       "\n",
       "        surface_total_in_m2  \n",
       "57                     30.0  \n",
       "95                      NaN  \n",
       "204                   103.0  \n",
       "215                    80.0  \n",
       "277                     NaN  \n",
       "...                     ...  \n",
       "120853                154.0  \n",
       "120854                122.0  \n",
       "121073                169.0  \n",
       "121125                403.0  \n",
       "121214                123.0  \n",
       "\n",
       "[3125 rows x 4 columns]"
      ]
     },
     "metadata": {},
     "output_type": "display_data"
    },
    {
     "name": "stdout",
     "output_type": "stream",
     "text": [
      "\n",
      "\n",
      "dataset <fila: store> con los valores de outliers en surface_covered_in_m2\n",
      "\n"
     ]
    },
    {
     "data": {
      "text/html": [
       "<div>\n",
       "<style scoped>\n",
       "    .dataframe tbody tr th:only-of-type {\n",
       "        vertical-align: middle;\n",
       "    }\n",
       "\n",
       "    .dataframe tbody tr th {\n",
       "        vertical-align: top;\n",
       "    }\n",
       "\n",
       "    .dataframe thead th {\n",
       "        text-align: right;\n",
       "    }\n",
       "</style>\n",
       "<table border=\"1\" class=\"dataframe\">\n",
       "  <thead>\n",
       "    <tr style=\"text-align: right;\">\n",
       "      <th></th>\n",
       "      <th>state_name</th>\n",
       "      <th>surface_covered_in_m2</th>\n",
       "      <th>property_type</th>\n",
       "      <th>surface_total_in_m2</th>\n",
       "    </tr>\n",
       "  </thead>\n",
       "  <tbody>\n",
       "    <tr>\n",
       "      <th>3462</th>\n",
       "      <td>Bs.As. G.B.A. Zona Oeste</td>\n",
       "      <td>1.0</td>\n",
       "      <td>store</td>\n",
       "      <td>490.0</td>\n",
       "    </tr>\n",
       "    <tr>\n",
       "      <th>3468</th>\n",
       "      <td>Bs.As. G.B.A. Zona Oeste</td>\n",
       "      <td>1.0</td>\n",
       "      <td>store</td>\n",
       "      <td>NaN</td>\n",
       "    </tr>\n",
       "    <tr>\n",
       "      <th>3775</th>\n",
       "      <td>Córdoba</td>\n",
       "      <td>1.0</td>\n",
       "      <td>store</td>\n",
       "      <td>NaN</td>\n",
       "    </tr>\n",
       "    <tr>\n",
       "      <th>5533</th>\n",
       "      <td>Bs.As. G.B.A. Zona Norte</td>\n",
       "      <td>1846.0</td>\n",
       "      <td>store</td>\n",
       "      <td>NaN</td>\n",
       "    </tr>\n",
       "    <tr>\n",
       "      <th>5600</th>\n",
       "      <td>Buenos Aires Costa Atlántica</td>\n",
       "      <td>3000.0</td>\n",
       "      <td>store</td>\n",
       "      <td>3000.0</td>\n",
       "    </tr>\n",
       "    <tr>\n",
       "      <th>...</th>\n",
       "      <td>...</td>\n",
       "      <td>...</td>\n",
       "      <td>...</td>\n",
       "      <td>...</td>\n",
       "    </tr>\n",
       "    <tr>\n",
       "      <th>108485</th>\n",
       "      <td>Bs.As. G.B.A. Zona Sur</td>\n",
       "      <td>15.0</td>\n",
       "      <td>store</td>\n",
       "      <td>NaN</td>\n",
       "    </tr>\n",
       "    <tr>\n",
       "      <th>109320</th>\n",
       "      <td>Bs.As. G.B.A. Zona Norte</td>\n",
       "      <td>1400.0</td>\n",
       "      <td>store</td>\n",
       "      <td>1400.0</td>\n",
       "    </tr>\n",
       "    <tr>\n",
       "      <th>112645</th>\n",
       "      <td>Capital Federal</td>\n",
       "      <td>2000.0</td>\n",
       "      <td>store</td>\n",
       "      <td>2000.0</td>\n",
       "    </tr>\n",
       "    <tr>\n",
       "      <th>118714</th>\n",
       "      <td>Bs.As. G.B.A. Zona Oeste</td>\n",
       "      <td>25186.0</td>\n",
       "      <td>store</td>\n",
       "      <td>25186.0</td>\n",
       "    </tr>\n",
       "    <tr>\n",
       "      <th>119429</th>\n",
       "      <td>Santa Fe</td>\n",
       "      <td>12.0</td>\n",
       "      <td>store</td>\n",
       "      <td>18.0</td>\n",
       "    </tr>\n",
       "  </tbody>\n",
       "</table>\n",
       "<p>232 rows × 4 columns</p>\n",
       "</div>"
      ],
      "text/plain": [
       "                          state_name  surface_covered_in_m2 property_type  \\\n",
       "3462        Bs.As. G.B.A. Zona Oeste                    1.0         store   \n",
       "3468        Bs.As. G.B.A. Zona Oeste                    1.0         store   \n",
       "3775                         Córdoba                    1.0         store   \n",
       "5533        Bs.As. G.B.A. Zona Norte                 1846.0         store   \n",
       "5600    Buenos Aires Costa Atlántica                 3000.0         store   \n",
       "...                              ...                    ...           ...   \n",
       "108485        Bs.As. G.B.A. Zona Sur                   15.0         store   \n",
       "109320      Bs.As. G.B.A. Zona Norte                 1400.0         store   \n",
       "112645               Capital Federal                 2000.0         store   \n",
       "118714      Bs.As. G.B.A. Zona Oeste                25186.0         store   \n",
       "119429                      Santa Fe                   12.0         store   \n",
       "\n",
       "        surface_total_in_m2  \n",
       "3462                  490.0  \n",
       "3468                    NaN  \n",
       "3775                    NaN  \n",
       "5533                    NaN  \n",
       "5600                 3000.0  \n",
       "...                     ...  \n",
       "108485                  NaN  \n",
       "109320               1400.0  \n",
       "112645               2000.0  \n",
       "118714              25186.0  \n",
       "119429                 18.0  \n",
       "\n",
       "[232 rows x 4 columns]"
      ]
     },
     "metadata": {},
     "output_type": "display_data"
    },
    {
     "name": "stdout",
     "output_type": "stream",
     "text": [
      "--------------------------------------------------------------------------------\n",
      "Dataset final:\n"
     ]
    },
    {
     "data": {
      "text/html": [
       "<div>\n",
       "<style scoped>\n",
       "    .dataframe tbody tr th:only-of-type {\n",
       "        vertical-align: middle;\n",
       "    }\n",
       "\n",
       "    .dataframe tbody tr th {\n",
       "        vertical-align: top;\n",
       "    }\n",
       "\n",
       "    .dataframe thead th {\n",
       "        text-align: right;\n",
       "    }\n",
       "</style>\n",
       "<table border=\"1\" class=\"dataframe\">\n",
       "  <thead>\n",
       "    <tr style=\"text-align: right;\">\n",
       "      <th></th>\n",
       "      <th>state_name</th>\n",
       "      <th>surface_covered_in_m2</th>\n",
       "      <th>property_type</th>\n",
       "      <th>surface_total_in_m2</th>\n",
       "    </tr>\n",
       "  </thead>\n",
       "  <tbody>\n",
       "    <tr>\n",
       "      <th>0</th>\n",
       "      <td>Capital Federal</td>\n",
       "      <td>40.0</td>\n",
       "      <td>PH</td>\n",
       "      <td>55.0</td>\n",
       "    </tr>\n",
       "    <tr>\n",
       "      <th>1</th>\n",
       "      <td>Bs.As. G.B.A. Zona Sur</td>\n",
       "      <td>NaN</td>\n",
       "      <td>apartment</td>\n",
       "      <td>NaN</td>\n",
       "    </tr>\n",
       "    <tr>\n",
       "      <th>2</th>\n",
       "      <td>Capital Federal</td>\n",
       "      <td>55.0</td>\n",
       "      <td>apartment</td>\n",
       "      <td>55.0</td>\n",
       "    </tr>\n",
       "    <tr>\n",
       "      <th>3</th>\n",
       "      <td>Capital Federal</td>\n",
       "      <td>NaN</td>\n",
       "      <td>PH</td>\n",
       "      <td>NaN</td>\n",
       "    </tr>\n",
       "    <tr>\n",
       "      <th>4</th>\n",
       "      <td>Buenos Aires Costa Atlántica</td>\n",
       "      <td>35.0</td>\n",
       "      <td>apartment</td>\n",
       "      <td>35.0</td>\n",
       "    </tr>\n",
       "    <tr>\n",
       "      <th>...</th>\n",
       "      <td>...</td>\n",
       "      <td>...</td>\n",
       "      <td>...</td>\n",
       "      <td>...</td>\n",
       "    </tr>\n",
       "    <tr>\n",
       "      <th>121215</th>\n",
       "      <td>Capital Federal</td>\n",
       "      <td>93.0</td>\n",
       "      <td>apartment</td>\n",
       "      <td>113.0</td>\n",
       "    </tr>\n",
       "    <tr>\n",
       "      <th>121216</th>\n",
       "      <td>Bs.As. G.B.A. Zona Norte</td>\n",
       "      <td>360.0</td>\n",
       "      <td>house</td>\n",
       "      <td>360.0</td>\n",
       "    </tr>\n",
       "    <tr>\n",
       "      <th>121217</th>\n",
       "      <td>Capital Federal</td>\n",
       "      <td>39.0</td>\n",
       "      <td>apartment</td>\n",
       "      <td>46.0</td>\n",
       "    </tr>\n",
       "    <tr>\n",
       "      <th>121218</th>\n",
       "      <td>Buenos Aires Costa Atlántica</td>\n",
       "      <td>48.0</td>\n",
       "      <td>apartment</td>\n",
       "      <td>48.0</td>\n",
       "    </tr>\n",
       "    <tr>\n",
       "      <th>121219</th>\n",
       "      <td>Capital Federal</td>\n",
       "      <td>77.0</td>\n",
       "      <td>apartment</td>\n",
       "      <td>77.0</td>\n",
       "    </tr>\n",
       "  </tbody>\n",
       "</table>\n",
       "<p>116120 rows × 4 columns</p>\n",
       "</div>"
      ],
      "text/plain": [
       "                          state_name  surface_covered_in_m2 property_type  \\\n",
       "0                    Capital Federal                   40.0            PH   \n",
       "1             Bs.As. G.B.A. Zona Sur                    NaN     apartment   \n",
       "2                    Capital Federal                   55.0     apartment   \n",
       "3                    Capital Federal                    NaN            PH   \n",
       "4       Buenos Aires Costa Atlántica                   35.0     apartment   \n",
       "...                              ...                    ...           ...   \n",
       "121215               Capital Federal                   93.0     apartment   \n",
       "121216      Bs.As. G.B.A. Zona Norte                  360.0         house   \n",
       "121217               Capital Federal                   39.0     apartment   \n",
       "121218  Buenos Aires Costa Atlántica                   48.0     apartment   \n",
       "121219               Capital Federal                   77.0     apartment   \n",
       "\n",
       "        surface_total_in_m2  \n",
       "0                      55.0  \n",
       "1                       NaN  \n",
       "2                      55.0  \n",
       "3                       NaN  \n",
       "4                      35.0  \n",
       "...                     ...  \n",
       "121215                113.0  \n",
       "121216                360.0  \n",
       "121217                 46.0  \n",
       "121218                 48.0  \n",
       "121219                 77.0  \n",
       "\n",
       "[116120 rows x 4 columns]"
      ]
     },
     "execution_count": 131,
     "metadata": {},
     "output_type": "execute_result"
    }
   ],
   "source": [
    "print(\"EXCLUSION DE OUTLIERS\\n\")\n",
    "serie_check = data_sup.property_type\n",
    "# lista_check = list(serie_check)\n",
    "set_check = set(list(serie_check))\n",
    "len(set_check)\n",
    "type(set_check)\n",
    "########################PROGRAMA PRINCIPAL ################################\n",
    "lista_rangos = []\n",
    "lista_drops = []\n",
    "print(\"orden de la iteracion: {}\".format(set_check))\n",
    "for i, elemento in enumerate(set_check):\n",
    "    print(\"--------------\\nITERACION N: {}\\n--------------\".format(i + 1))\n",
    "\n",
    "    if elemento == \"store\":\n",
    "        mascara_iter_1 = serie_check == elemento\n",
    "        rango_outlier = rango_extremos(\n",
    "            data_sup.loc[mascara_iter_1], \"surface_covered_in_m2\", [2.5, 95]\n",
    "        )\n",
    "    else:\n",
    "        mascara_iter_1 = serie_check == elemento\n",
    "        rango_outlier = rango_extremos(\n",
    "            data_sup.loc[mascara_iter_1], \"surface_covered_in_m2\"\n",
    "        )\n",
    "\n",
    "    lista_rangos.append(rango_outlier)\n",
    "\n",
    "    serie_outlier = data_sup.surface_covered_in_m2.loc[mascara_iter_1]\n",
    "    print(\"elementos nans y tipo {} en serie_outlier:\".format(elemento))\n",
    "    display(serie_outlier)\n",
    "    print(f\"\\n\\nQuitamos los nans tipo {elemento}, de la columna surface_covered_in_m2\")\n",
    "    mask_data = data_sup.loc[\n",
    "        serie_outlier.index, \"surface_covered_in_m2\"\n",
    "    ].dropna()  ##TODOS LOS TIPO ELEMENTOS\n",
    "    display(mask_data)\n",
    "    print(\"Dataset por tipo {} sin nan\".format(elemento))\n",
    "    display(data_sup.loc[mask_data.index])  ## prueba impresion\n",
    "    indice_outlier = mascara_outlier_index_list(\n",
    "        data_sup.loc[mask_data.index], \"surface_covered_in_m2\", rango_outlier\n",
    "    )\n",
    "    print(\n",
    "        f\"\\n\\ndataset <fila: {elemento}> con los valores de outliers en surface_covered_in_m2\\n\"\n",
    "    )\n",
    "    display(data_sup.loc[indice_outlier])  ## prueba impresion\n",
    "    lista_drops.append(indice_outlier)\n",
    "\n",
    "\n",
    "for lista_indices in lista_drops:\n",
    "    data_sup.drop(lista_indices, inplace=True)\n",
    "\n",
    "print(\n",
    "    \"--------------------------------------------------------------------------------\\nDataset final:\"\n",
    ")\n",
    "data_sup\n",
    "\n",
    "# OBSERVACION: AL EJECUTAR SUCESIVAMENTE ESTA CELDA VA TOMANDO OUTLIERS NUEVOS LUEGO DE HABER REMOVIDO LOS ANTERIORES - AÑADIR GRAFICOS"
   ]
  },
  {
   "cell_type": "code",
   "execution_count": null,
   "id": "d0877533",
   "metadata": {},
   "outputs": [],
   "source": []
  },
  {
   "cell_type": "code",
   "execution_count": 132,
   "id": "8b30c93b",
   "metadata": {},
   "outputs": [
    {
     "name": "stdout",
     "output_type": "stream",
     "text": [
      "RECUPERO DATA: surface_covered_in_m2\n",
      "\n",
      "Analizamos si los valores recuperados meten outliers\n",
      "RANGO_OUTLIER:\n",
      "en tipo: house la lista de rangos es: [20.0, 550.0]\n",
      "en tipo: apartment la lista de rangos es: [26.0, 192.0]\n",
      "en tipo: PH la lista de rangos es: [20.0, 210.0]\n",
      "en tipo: store la lista de rangos es: [18.0, 1398.1999999999975]\n",
      "serie_check: aplicada la mascara_check\n"
     ]
    },
    {
     "data": {
      "text/plain": [
       "10        1514.0\n",
       "15         164.0\n",
       "66          38.0\n",
       "142        380.0\n",
       "168        195.0\n",
       "           ...  \n",
       "121203      50.0\n",
       "121204      50.0\n",
       "121205      50.0\n",
       "121206      50.0\n",
       "121209     157.0\n",
       "Name: surface_recovery, Length: 5267, dtype: float64"
      ]
     },
     "metadata": {},
     "output_type": "display_data"
    },
    {
     "name": "stdout",
     "output_type": "stream",
     "text": [
      "\n",
      "orden de la iteracion: {'house', 'apartment', 'PH', 'store'}\n",
      "-------------------- \n",
      "ITERACION 1\n",
      "---------------\n",
      "\n",
      "mascara_iter_1: creada\n",
      " 0         False\n",
      "1         False\n",
      "2         False\n",
      "3         False\n",
      "4         False\n",
      "          ...  \n",
      "121215    False\n",
      "121216     True\n",
      "121217    False\n",
      "121218    False\n",
      "121219    False\n",
      "Name: property_type, Length: 116120, dtype: bool\n",
      "\n",
      "mask_data: creada\n",
      "\n",
      "dataset_iter1\n",
      "dataset_iter1_ por propiedades\n",
      "\\creacion de data_check: diferenciado por tipo de propiedad y con surface_covered nulos\n",
      "dataset_iter_1 por propiedad y not null en surface_recovery\n",
      "\n",
      "RESULTADO:\n",
      "\n",
      " Actualizando dataset paso a paso:\n",
      "VIEJO data_sup.shape: (116120, 5)\n",
      "NUEVO data_sup.shape: (115892, 5)\n",
      "-------------------- \n",
      "ITERACION 2\n",
      "---------------\n",
      "\n",
      "mascara_iter_1: creada\n",
      " 0         False\n",
      "1          True\n",
      "2          True\n",
      "3         False\n",
      "4          True\n",
      "          ...  \n",
      "121215     True\n",
      "121216    False\n",
      "121217     True\n",
      "121218     True\n",
      "121219     True\n",
      "Name: property_type, Length: 115892, dtype: bool\n",
      "\n",
      "mask_data: creada\n",
      "\n",
      "dataset_iter1\n",
      "dataset_iter1_ por propiedades\n",
      "\\creacion de data_check: diferenciado por tipo de propiedad y con surface_covered nulos\n",
      "dataset_iter_1 por propiedad y not null en surface_recovery\n",
      "\n",
      "RESULTADO:\n",
      "\n",
      " Actualizando dataset paso a paso:\n",
      "VIEJO data_sup.shape: (115892, 5)\n",
      "NUEVO data_sup.shape: (115671, 5)\n",
      "-------------------- \n",
      "ITERACION 3\n",
      "---------------\n",
      "\n",
      "mascara_iter_1: creada\n",
      " 0          True\n",
      "1         False\n",
      "2         False\n",
      "3          True\n",
      "4         False\n",
      "          ...  \n",
      "121215    False\n",
      "121216    False\n",
      "121217    False\n",
      "121218    False\n",
      "121219    False\n",
      "Name: property_type, Length: 115671, dtype: bool\n",
      "\n",
      "mask_data: creada\n",
      "\n",
      "dataset_iter1\n",
      "dataset_iter1_ por propiedades\n",
      "\\creacion de data_check: diferenciado por tipo de propiedad y con surface_covered nulos\n",
      "dataset_iter_1 por propiedad y not null en surface_recovery\n",
      "\n",
      "RESULTADO:\n",
      "\n",
      " Actualizando dataset paso a paso:\n",
      "VIEJO data_sup.shape: (115671, 5)\n",
      "NUEVO data_sup.shape: (115631, 5)\n",
      "-------------------- \n",
      "ITERACION 4\n",
      "---------------\n",
      "\n",
      "mascara_iter_1: creada\n",
      " 0         False\n",
      "1         False\n",
      "2         False\n",
      "3         False\n",
      "4         False\n",
      "          ...  \n",
      "121215    False\n",
      "121216    False\n",
      "121217    False\n",
      "121218    False\n",
      "121219    False\n",
      "Name: property_type, Length: 115631, dtype: bool\n",
      "\n",
      "mask_data: creada\n",
      "\n",
      "dataset_iter1\n",
      "dataset_iter1_ por propiedades\n",
      "\\creacion de data_check: diferenciado por tipo de propiedad y con surface_covered nulos\n",
      "dataset_iter_1 por propiedad y not null en surface_recovery\n",
      "\n",
      "RESULTADO:\n",
      "\n",
      " Actualizando dataset paso a paso:\n",
      "VIEJO data_sup.shape: (115631, 5)\n",
      "NUEVO data_sup.shape: (115606, 5)\n",
      "\n",
      "\n",
      "Elementos creados:\n",
      "* columna:\"surface_recovery\" en data_sup\n",
      "* serie_recovery respectiva\n"
     ]
    }
   ],
   "source": [
    "print(\"RECUPERO DATA: surface_covered_in_m2\\n\")\n",
    "### vamos a hacer el recupero de los valores de superficie cubierta\n",
    "### vamos a recontuir la fila price_usd_per_m2 del data_price que tiene valores nulos recuperados\n",
    "data_sup[\"surface_recovery\"] = (\n",
    "    data_drop[\"price_aprox_usd\"] / data_drop[\"price_usd_per_m2\"]\n",
    ")\n",
    "\n",
    "\n",
    "print(\"Analizamos si los valores recuperados meten outliers\\nRANGO_OUTLIER:\")\n",
    "for i, v in enumerate(set_check):\n",
    "    print(\"en tipo: {} la lista de rangos es: {}\".format(v, lista_rangos[i]))\n",
    "\n",
    "serie_check = data_sup[\"surface_recovery\"]\n",
    "serie_check.dropna(inplace=True)\n",
    "\n",
    "# vamos a crear una mascara que sea donde son nans los surface_covered_in_m2\n",
    "mask_data = data_sup.surface_covered_in_m2.isna()\n",
    "print(\"serie_check: aplicada la mascara_check\")\n",
    "display(serie_check[mask_data])\n",
    "# vamos a crear una mascara por tipo de propiedad\n",
    "\n",
    "print(\"\\norden de la iteracion: {}\".format(set_check))\n",
    "\n",
    "\n",
    "# voy a aplicar primero la mascra iter sobre data_sup para quedarme con el tipo de propiedad, luego voy a aplicarle la mascara_check, para quedarme sin los nans de sup cov\n",
    "# me quedo un dataset de : 19906 / necesito una segunda mascara donde data_recovery sea no nul\n",
    "# ahora voy a aplicar una tercera mascara de nulos en surface_recovery\n",
    "\n",
    "\n",
    "################## CHEQUEO DE OUTLIERS SOBRE LOS VALORES RECUPERADOS  ##########################\n",
    "def check_range(frame, label, rango):\n",
    "    # rango = [18.0, 2690.000000000009]\n",
    "    # frame: data_check\n",
    "    # label: surface_recovery\n",
    "    mask_data = (frame[label] <= rango[0]) | (\n",
    "        frame[label] >= rango[1]\n",
    "    )  # tomo True los valores que caen fuera del rango\n",
    "    # necesito solo los indices que sean True\n",
    "    lista_elementos = list(mask_data.values)\n",
    "    lista_indices = list(mask_data.index)\n",
    "    lista_result = []\n",
    "    for i, booleano in enumerate(lista_elementos):\n",
    "        if booleano == True:\n",
    "            lista_result.append(lista_indices[i])\n",
    "    return lista_result\n",
    "\n",
    "\n",
    "for i, propiedad in enumerate(set_check):\n",
    "    print(\"-------------------- \\nITERACION {}\\n---------------\".format(i + 1))\n",
    "    mascara_iter_1 = data_sup.property_type == propiedad\n",
    "    print(\"\\nmascara_iter_1: creada\\n\", mascara_iter_1)\n",
    "    mask_data = data_sup.surface_covered_in_m2.isna()\n",
    "    print(\"\\nmask_data: creada\\n\")\n",
    "    print(\"dataset_iter1\")\n",
    "    #    display(data_sup.loc[mask_data])\n",
    "\n",
    "    print(\"dataset_iter1_ por propiedades\")\n",
    "    #    display(data_sup.loc[mask_data].loc[mascara_iter_1])  #actualmente tengo: 981\n",
    "\n",
    "    print(\n",
    "        \"\\creacion de data_check: diferenciado por tipo de propiedad y con surface_covered nulos\"\n",
    "    )\n",
    "    data_check = data_sup.loc[mask_data].loc[mascara_iter_1]\n",
    "    #    display (data_check.shape)\n",
    "    print(\"dataset_iter_1 por propiedad y not null en surface_recovery\")\n",
    "    #    display (data_check.loc[data_check['surface_recovery'].notna()])  ## imprime una serie booleana: Length: 981,\n",
    "\n",
    "    # ahora tengo en data_check el dataframe que tengo que revisar que no meta outliers\n",
    "    # cree la funcion check_range(frame,label,range)\n",
    "    # que quiero obtener? un drop, me quedo con los indices entonces\n",
    "    lista_drop = check_range(data_check, \"surface_recovery\", lista_rangos[i])\n",
    "\n",
    "    print(\"\\nRESULTADO:\")\n",
    "    print(\"\\n Actualizando dataset paso a paso:\\nVIEJO data_sup.shape:\", data_sup.shape)\n",
    "    print(\"NUEVO data_sup.shape:\", data_sup.drop(lista_drop).shape)\n",
    "\n",
    "    data_sup.drop(lista_drop, inplace=True)\n",
    "\n",
    "\n",
    "### si sigo desarrollando esta parte es para asegurarme que los valores recuperados no vuelvan a introducir un outlier\n",
    "print(\n",
    "    '\\n\\nElementos creados:\\n* columna:\"surface_recovery\" en data_sup\\n* serie_recovery respectiva'\n",
    ")"
   ]
  },
  {
   "cell_type": "code",
   "execution_count": 133,
   "id": "2440113d",
   "metadata": {},
   "outputs": [
    {
     "name": "stdout",
     "output_type": "stream",
     "text": [
      "dimension de data (120342, 26)\n",
      "dimension de data_sup (115606, 5)\n"
     ]
    }
   ],
   "source": [
    "print(\"dimension de data\", data.shape)\n",
    "print(\"dimension de data_sup\", data_sup.shape)"
   ]
  },
  {
   "cell_type": "code",
   "execution_count": 134,
   "id": "f5eadf2e",
   "metadata": {},
   "outputs": [],
   "source": [
    "data = pd.concat([data, data_sup[\"surface_recovery\"]], axis=1, join=\"inner\")\n",
    "data;"
   ]
  },
  {
   "cell_type": "code",
   "execution_count": 135,
   "id": "0bdfc94e",
   "metadata": {},
   "outputs": [],
   "source": [
    "data.surface_covered_in_m2.fillna(data.surface_recovery, inplace=True)"
   ]
  },
  {
   "cell_type": "code",
   "execution_count": 136,
   "id": "15649576",
   "metadata": {},
   "outputs": [],
   "source": [
    "data.drop(\"surface_recovery\", axis=1, inplace=True)"
   ]
  },
  {
   "cell_type": "code",
   "execution_count": 137,
   "id": "6fd22f88",
   "metadata": {},
   "outputs": [
    {
     "name": "stdout",
     "output_type": "stream",
     "text": [
      ">> DATOS NULOS:\n",
      "\n"
     ]
    },
    {
     "data": {
      "text/plain": [
       "floor                         108028\n",
       "expenses                      102228\n",
       "rooms                          70687\n",
       "lon                            49324\n",
       "lat-lon                        49324\n",
       "lat                            49324\n",
       "surface_total_in_m2            38469\n",
       "price_per_m2                   32409\n",
       "price_usd_per_m2               27656\n",
       "currency                       19775\n",
       "price_aprox_usd                19774\n",
       "price_aprox_local_currency     19774\n",
       "price                          19774\n",
       "geonames_id                    17825\n",
       "surface_covered_in_m2          14639\n",
       "image_thumbnail                 3015\n",
       "place_name                        23\n",
       "description                        2\n",
       "title                              0\n",
       "properati_url                      0\n",
       "state_name                         0\n",
       "country_name                       0\n",
       "place_with_parent_names            0\n",
       "property_type                      0\n",
       "operation                          0\n",
       "Unnamed: 0                         0\n",
       "dtype: int64"
      ]
     },
     "metadata": {},
     "output_type": "display_data"
    }
   ],
   "source": [
    "nuloss(data)"
   ]
  },
  {
   "cell_type": "code",
   "execution_count": 138,
   "id": "0631da16",
   "metadata": {},
   "outputs": [
    {
     "name": "stderr",
     "output_type": "stream",
     "text": [
      "C:\\Users\\dh\\anaconda3\\envs\\dhdsblend2021\\lib\\site-packages\\seaborn\\_decorators.py:36: FutureWarning: Pass the following variable as a keyword arg: x. From version 0.12, the only valid positional argument will be `data`, and passing other arguments without an explicit keyword will result in an error or misinterpretation.\n",
      "  warnings.warn(\n"
     ]
    },
    {
     "data": {
      "text/plain": [
       "Text(0.5, 0, 'apartment')"
      ]
     },
     "execution_count": 138,
     "metadata": {},
     "output_type": "execute_result"
    },
    {
     "data": {
      "image/png": "[encoded data removed]",
      "text/plain": [
       "<Figure size 432x288 with 1 Axes>"
      ]
     },
     "metadata": {
      "needs_background": "light"
     },
     "output_type": "display_data"
    }
   ],
   "source": [
    "sns.boxplot(data.loc[data.property_type == \"apartment\", \"surface_covered_in_m2\"])\n",
    "plt.title(\"BoxPlot surface_covered_in_m2\")\n",
    "plt.xlabel(\"apartment\")"
   ]
  },
  {
   "cell_type": "code",
   "execution_count": 139,
   "id": "17911d13",
   "metadata": {},
   "outputs": [
    {
     "name": "stderr",
     "output_type": "stream",
     "text": [
      "C:\\Users\\dh\\anaconda3\\envs\\dhdsblend2021\\lib\\site-packages\\seaborn\\_decorators.py:36: FutureWarning: Pass the following variable as a keyword arg: x. From version 0.12, the only valid positional argument will be `data`, and passing other arguments without an explicit keyword will result in an error or misinterpretation.\n",
      "  warnings.warn(\n"
     ]
    },
    {
     "data": {
      "text/plain": [
       "Text(0.5, 0, 'house')"
      ]
     },
     "execution_count": 139,
     "metadata": {},
     "output_type": "execute_result"
    },
    {
     "data": {
      "image/png": "[encoded data removed]",
      "text/plain": [
       "<Figure size 432x288 with 1 Axes>"
      ]
     },
     "metadata": {
      "needs_background": "light"
     },
     "output_type": "display_data"
    }
   ],
   "source": [
    "sns.boxplot(data.loc[data.property_type == \"house\", \"surface_covered_in_m2\"])\n",
    "plt.title(\"BoxPlot surface_covered_in_m2\")\n",
    "plt.xlabel(\"house\")"
   ]
  },
  {
   "cell_type": "code",
   "execution_count": 140,
   "id": "9dbf666d",
   "metadata": {},
   "outputs": [
    {
     "name": "stderr",
     "output_type": "stream",
     "text": [
      "C:\\Users\\dh\\anaconda3\\envs\\dhdsblend2021\\lib\\site-packages\\seaborn\\_decorators.py:36: FutureWarning: Pass the following variable as a keyword arg: x. From version 0.12, the only valid positional argument will be `data`, and passing other arguments without an explicit keyword will result in an error or misinterpretation.\n",
      "  warnings.warn(\n"
     ]
    },
    {
     "data": {
      "text/plain": [
       "Text(0.5, 0, 'PH')"
      ]
     },
     "execution_count": 140,
     "metadata": {},
     "output_type": "execute_result"
    },
    {
     "data": {
      "image/png": "[encoded data removed]",
      "text/plain": [
       "<Figure size 432x288 with 1 Axes>"
      ]
     },
     "metadata": {
      "needs_background": "light"
     },
     "output_type": "display_data"
    }
   ],
   "source": [
    "sns.boxplot(data.loc[data.property_type == \"PH\", \"surface_covered_in_m2\"])\n",
    "plt.title(\"BoxPlot surface_covered_in_m2\")\n",
    "plt.xlabel(\"PH\")"
   ]
  },
  {
   "cell_type": "code",
   "execution_count": 141,
   "id": "77619bf4",
   "metadata": {},
   "outputs": [
    {
     "name": "stderr",
     "output_type": "stream",
     "text": [
      "C:\\Users\\dh\\anaconda3\\envs\\dhdsblend2021\\lib\\site-packages\\seaborn\\_decorators.py:36: FutureWarning: Pass the following variable as a keyword arg: x. From version 0.12, the only valid positional argument will be `data`, and passing other arguments without an explicit keyword will result in an error or misinterpretation.\n",
      "  warnings.warn(\n"
     ]
    },
    {
     "data": {
      "text/plain": [
       "Text(0.5, 0, 'store')"
      ]
     },
     "execution_count": 141,
     "metadata": {},
     "output_type": "execute_result"
    },
    {
     "data": {
      "image/png": "[encoded data removed]",
      "text/plain": [
       "<Figure size 432x288 with 1 Axes>"
      ]
     },
     "metadata": {
      "needs_background": "light"
     },
     "output_type": "display_data"
    }
   ],
   "source": [
    "sns.boxplot(data.loc[data.property_type == \"store\", \"surface_covered_in_m2\"])\n",
    "plt.title(\"BoxPlot surface_covered_in_m2\")\n",
    "plt.xlabel(\"store\")"
   ]
  },
  {
   "cell_type": "markdown",
   "id": "1eda6d4a",
   "metadata": {},
   "source": [
    "## 7.4: ANALISIS PATRONES REGEX: categorizacion de las busquedas\n",
    "\n",
    "Clasificacion de los patrones encontrados:\n",
    "\n",
    "* complejo: lo vamos a tomar como \"complejo\"\n",
    "* barrio = \"barrio exclusivo\"\n",
    "* en_sobre = \"estrategico\"\n",
    "* sobre_calle: place_with_parent_names\n",
    "* en_calle_entre_calle_y_Calle: definimos como: estrategico\n",
    "* boulevar: boulevar_1: estrategico, bouelevar_2: descartado\n",
    "* avenida: \"avenida\"\n"
   ]
  },
  {
   "cell_type": "code",
   "execution_count": 142,
   "id": "fa51daf1",
   "metadata": {},
   "outputs": [
    {
     "data": {
      "text/plain": [
       "[['complejo_1', 'complejo_2'],\n",
       " ['barrio_1', 'barrio_2', 'barrio_3'],\n",
       " ['en_sobre_1', 'en_sobre_2', 'en_sobre_3'],\n",
       " ['sobre_calle_1', 'sobre_calle_2', 'sobre_calle_3'],\n",
       " ['en_calle', 'entre'],\n",
       " ['en_bv', 'en_boulevar'],\n",
       " ['en_av', 'en_avenida']]"
      ]
     },
     "execution_count": 142,
     "metadata": {},
     "output_type": "execute_result"
    }
   ],
   "source": [
    "recuperados"
   ]
  },
  {
   "cell_type": "code",
   "execution_count": 143,
   "id": "b4a606ee",
   "metadata": {},
   "outputs": [
    {
     "name": "stdout",
     "output_type": "stream",
     "text": [
      "soy el patron n:  1\n",
      "...acabo de sacar las filas innecesarias\n",
      "...estoy guardando el indice del patron ['complejo_1', 'complejo_2'] en el elemento 0 de la lista_indices\n",
      "\n",
      "soy el patron n:  2\n",
      "...acabo de sacar las filas innecesarias\n",
      "...estoy guardando el indice del patron ['barrio_1', 'barrio_2', 'barrio_3'] en el elemento 1 de la lista_indices\n",
      "\n",
      "...\n",
      "Fin de la incorporacion de patrones\n"
     ]
    }
   ],
   "source": [
    "lista_categorias = [\n",
    "    \"complejo\",\n",
    "    \"barrio exclusivo\",\n",
    "    \"estrategico\",\n",
    "    None,\n",
    "    \"estrategico\",\n",
    "    None,\n",
    "    \"avenida importante\",\n",
    "]\n",
    "lista_indices = []\n",
    "\n",
    "for i, patron in enumerate(recuperados):\n",
    "    # print1\n",
    "    #    display(data_ubic_mascara1.loc[:,patron])\n",
    "\n",
    "    mask_data = data_geo.loc[:, patron].any(axis=1)\n",
    "    # print 2\n",
    "    #    display(data_ubic_mascara1.loc[mask_data, patron])\n",
    "    if i < 2:\n",
    "        print(\"soy el patron n:  {}\".format(i + 1))  # 1\n",
    "        print(\"...acabo de sacar las filas innecesarias\")  # 2\n",
    "        print(\n",
    "            \"...estoy guardando el indice del patron {} en el elemento {} de la lista_indices\\n\".format(\n",
    "                patron, i\n",
    "            )\n",
    "        )\n",
    "    else:\n",
    "        if i == len(recuperados) - 1:\n",
    "            print(\"...\")\n",
    "    indice_mask = data_geo.loc[mask_data, patron].index\n",
    "    lista_indices.append(indice_mask)\n",
    "\n",
    "\n",
    "columnas = []\n",
    "data_check = data_geo.loc[data_geo.loc[:, recuperados[3]].any(axis=1), recuperados[3]]\n",
    "data_check.columns = [\"1\", \"2\", \"3\"]\n",
    "data_check[\"1\"].fillna(data_check[\"2\"], inplace=True)\n",
    "data_check[\"1\"].fillna(data_check[\"3\"], inplace=True)\n",
    "\n",
    "\n",
    "for i in range(len(lista_categorias)):\n",
    "    if i == 3:\n",
    "        name = \"direccion\"\n",
    "        data.loc[data.index.intersection(lista_indices[i]), name] = data_check[\"1\"]\n",
    "\n",
    "    else:\n",
    "        name = \"regex\" + str(i + 1)\n",
    "        data.loc[data.index.intersection(lista_indices[i]), name] = lista_categorias[i]\n",
    "        data.loc[data.index.intersection(lista_indices[i]), name] = lista_categorias[i]\n",
    "    columnas.append(name)\n",
    "\n",
    "\n",
    "# modulo interactivo de impresion\n",
    "print(\"Fin de la incorporacion de patrones\")"
   ]
  },
  {
   "cell_type": "code",
   "execution_count": 144,
   "id": "40219eb6",
   "metadata": {},
   "outputs": [],
   "source": [
    "# orden de jerarquia de los regex:\n",
    "# 1. complejo\n",
    "# 2. avenida\n",
    "# 3. barrio exclusivo\n",
    "# 4. estrategico\n",
    "\n",
    "data[\"regex1\"].fillna(data[\"regex7\"], inplace=True)\n",
    "data[\"regex1\"].fillna(data[\"regex2\"], inplace=True)\n",
    "data[\"regex1\"].fillna(data[\"regex3\"], inplace=True)\n",
    "data[\"regex1\"].fillna(data[\"regex5\"], inplace=True)\n",
    "data[\"regex1\"].fillna(googlemaps, inplace=True)\n",
    "data.drop([\"regex7\", \"regex2\", \"regex3\", \"regex5\", \"regex6\"], axis=1, inplace=True)"
   ]
  },
  {
   "cell_type": "code",
   "execution_count": 145,
   "id": "12072c37",
   "metadata": {},
   "outputs": [
    {
     "name": "stdout",
     "output_type": "stream",
     "text": [
      ">> PORCENTAJE DE DATOS NULOS:\n",
      "\n"
     ]
    },
    {
     "data": {
      "text/plain": [
       "direccion                     97.87\n",
       "floor                         93.44\n",
       "expenses                      88.43\n",
       "regex1                        84.66\n",
       "rooms                         61.14\n",
       "lat-lon                       42.67\n",
       "lat                           42.67\n",
       "lon                           42.67\n",
       "surface_total_in_m2           33.28\n",
       "price_per_m2                  28.03\n",
       "price_usd_per_m2              23.92\n",
       "currency                      17.11\n",
       "price                         17.10\n",
       "price_aprox_local_currency    17.10\n",
       "price_aprox_usd               17.10\n",
       "geonames_id                   15.42\n",
       "surface_covered_in_m2         12.66\n",
       "image_thumbnail                2.61\n",
       "place_name                     0.02\n",
       "description                    0.00\n",
       "properati_url                  0.00\n",
       "title                          0.00\n",
       "state_name                     0.00\n",
       "country_name                   0.00\n",
       "place_with_parent_names        0.00\n",
       "property_type                  0.00\n",
       "operation                      0.00\n",
       "Unnamed: 0                     0.00\n",
       "dtype: float64"
      ]
     },
     "metadata": {},
     "output_type": "display_data"
    }
   ],
   "source": [
    "porcentaje_nuloss(data)"
   ]
  },
  {
   "cell_type": "code",
   "execution_count": 146,
   "id": "8726f197",
   "metadata": {},
   "outputs": [
    {
     "data": {
      "text/plain": [
       "USD    95831\n",
       "Name: currency, dtype: int64"
      ]
     },
     "execution_count": 146,
     "metadata": {},
     "output_type": "execute_result"
    }
   ],
   "source": [
    "data.currency.value_counts()"
   ]
  },
  {
   "cell_type": "markdown",
   "id": "4d268327",
   "metadata": {},
   "source": [
    "## 7.5 RECUPERO GEONAMES_ID"
   ]
  },
  {
   "cell_type": "code",
   "execution_count": 147,
   "id": "a6804491",
   "metadata": {},
   "outputs": [
    {
     "name": "stdout",
     "output_type": "stream",
     "text": [
      "Cantidad de valores no nulos en data de recuperacion: True for elemento\n"
     ]
    },
    {
     "data": {
      "text/plain": [
       "True     105027\n",
       "False     16193\n",
       "Name: geonames_id, dtype: int64"
      ]
     },
     "metadata": {},
     "output_type": "display_data"
    },
    {
     "name": "stdout",
     "output_type": "stream",
     "text": [
      "\n",
      "Cantidad de valores no nulos en data de trabajo: idem\n"
     ]
    },
    {
     "data": {
      "text/plain": [
       "True     97781\n",
       "False    17825\n",
       "Name: geonames_id, dtype: int64"
      ]
     },
     "metadata": {},
     "output_type": "display_data"
    }
   ],
   "source": [
    "print(\"Cantidad de valores no nulos en data de recuperacion: True for elemento\")\n",
    "display(data_geo_id[\"geonames_id\"].notna().value_counts())\n",
    "print(\"\\nCantidad de valores no nulos en data de trabajo: idem\")\n",
    "display(data[\"geonames_id\"].notna().value_counts())"
   ]
  },
  {
   "cell_type": "code",
   "execution_count": 148,
   "id": "24c3ccb5",
   "metadata": {},
   "outputs": [
    {
     "name": "stdout",
     "output_type": "stream",
     "text": [
      "Tenemos 105027 elementos en data recupero, y 97853 en data trabajo, veremos cuanto recuperamos\n"
     ]
    },
    {
     "data": {
      "text/plain": [
       "True     100102\n",
       "False     15504\n",
       "Name: geonames_id, dtype: int64"
      ]
     },
     "metadata": {},
     "output_type": "display_data"
    },
    {
     "name": "stdout",
     "output_type": "stream",
     "text": [
      "Recuperamos 2327\n"
     ]
    }
   ],
   "source": [
    "print(\n",
    "    f\"Tenemos 105027 elementos en data recupero, y 97853 en data trabajo, veremos cuanto recuperamos\"\n",
    ")\n",
    "\n",
    "display(data[\"geonames_id\"].fillna(data_geo_id[\"geonames_id\"]).notna().value_counts())\n",
    "\n",
    "print(f\"Recuperamos {100180-97853}\")\n",
    "\n",
    "data[\"geonames_id\"].fillna(data_geo_id[\"geonames_id\"], inplace=True)"
   ]
  },
  {
   "cell_type": "code",
   "execution_count": 149,
   "id": "43e92df1",
   "metadata": {},
   "outputs": [
    {
     "data": {
      "text/plain": [
       "USD    95831\n",
       "Name: currency, dtype: int64"
      ]
     },
     "execution_count": 149,
     "metadata": {},
     "output_type": "execute_result"
    }
   ],
   "source": [
    "data.currency.value_counts()"
   ]
  },
  {
   "cell_type": "markdown",
   "id": "3ba833d8",
   "metadata": {},
   "source": [
    "## 7.6 reacondicionamiento general del dataset:\n"
   ]
  },
  {
   "cell_type": "raw",
   "id": "ec134b65",
   "metadata": {},
   "source": [
    "#···#···#···#···#···#···#···#···#···#···#···#···#···#···#···#···#···#···#···#···#\n",
    "\"\"\"\n",
    "las columnas que reflejan caracteristicas del precio (en orden jerarquico):\n",
    "    - (price , currency) : aunque currency no aporta valor ya que todos los precios estan expresados en USD\n",
    "    - price_usd_per_m2\n",
    "    - price_aprox_usd\n",
    "    - price_per_m2\n",
    "    - price_aprox_local_currency\n",
    "\"\"\"\n",
    "#···#···#···#···#···#···#···#···#···#···#···#···#···#···#···#···#···#···#···#···#\n",
    "\"\"\"\n",
    "las columnas que reflejan caracteristicas del superficie (en orden jerarquico):\n",
    "    - surface_covered_in_m2\n",
    "    - surface_total_in_m2\n",
    "\"\"\"\n",
    "#···#···#···#···#···#···#···#···#···#···#···#···#···#···#···#···#···#···#···#···#\n",
    "\"\"\"\n",
    "las columnas que reflejan caracteristicas de ubicacion (en orden jerarquico):\n",
    "    - (lat-lon, lat, lon): una terna que deberia representar lo mismo\n",
    "    - geonames_id\n",
    "    - place_name\n",
    "    - state_name\n",
    "\"\"\"\n",
    "#···#···#···#···#···#···#···#···#···#···#···#···#···#···#···#···#···#···#···#···#\n",
    "\"\"\"\n",
    "Las columnas que reflejan caracteristicas de la propiedad (en orden jerarquico):\n",
    "    - direccion\n",
    "    - regex1\n",
    "    - rooms\n",
    "    - expenses\n",
    "    - floor\n",
    "    - googleamps\n",
    "\"\"\"\n",
    "#···#···#···#···#···#···#···#···#···#···#···#···#···#···#···#···#···#···#···#···#"
   ]
  },
  {
   "cell_type": "code",
   "execution_count": 150,
   "id": "50ce90b2",
   "metadata": {},
   "outputs": [
    {
     "name": "stdout",
     "output_type": "stream",
     "text": [
      ">> DATOS NULOS:\n",
      "\n"
     ]
    },
    {
     "data": {
      "text/plain": [
       "direccion                     113139\n",
       "floor                         108028\n",
       "expenses                      102228\n",
       "regex1                         97872\n",
       "rooms                          70687\n",
       "lat-lon                        49324\n",
       "lat                            49324\n",
       "lon                            49324\n",
       "surface_total_in_m2            38469\n",
       "price_per_m2                   32409\n",
       "price_usd_per_m2               27656\n",
       "currency                       19775\n",
       "price                          19774\n",
       "price_aprox_local_currency     19774\n",
       "price_aprox_usd                19774\n",
       "geonames_id                    15504\n",
       "surface_covered_in_m2          14639\n",
       "image_thumbnail                 3015\n",
       "place_name                        23\n",
       "description                        2\n",
       "properati_url                      0\n",
       "title                              0\n",
       "state_name                         0\n",
       "country_name                       0\n",
       "place_with_parent_names            0\n",
       "property_type                      0\n",
       "operation                          0\n",
       "Unnamed: 0                         0\n",
       "dtype: int64"
      ]
     },
     "metadata": {},
     "output_type": "display_data"
    }
   ],
   "source": [
    "nuloss(data)"
   ]
  },
  {
   "cell_type": "code",
   "execution_count": 151,
   "id": "b5beab62",
   "metadata": {},
   "outputs": [
    {
     "name": "stdout",
     "output_type": "stream",
     "text": [
      ">> DATOS NULOS:\n",
      "\n"
     ]
    },
    {
     "data": {
      "text/plain": [
       "direccion                     113139\n",
       "floor                         108028\n",
       "expenses                      102228\n",
       "regex1                         97872\n",
       "rooms                          70687\n",
       "lat-lon                        49324\n",
       "lat                            49324\n",
       "lon                            49324\n",
       "surface_total_in_m2            38469\n",
       "price_per_m2                   32409\n",
       "price_usd_per_m2               27656\n",
       "currency                       19775\n",
       "price                          19774\n",
       "price_aprox_local_currency     19774\n",
       "price_aprox_usd                19774\n",
       "geonames_id                    15504\n",
       "surface_covered_in_m2          14639\n",
       "image_thumbnail                 3015\n",
       "place_name                        23\n",
       "description                        2\n",
       "properati_url                      0\n",
       "title                              0\n",
       "state_name                         0\n",
       "country_name                       0\n",
       "place_with_parent_names            0\n",
       "property_type                      0\n",
       "operation                          0\n",
       "Unnamed: 0                         0\n",
       "dtype: int64"
      ]
     },
     "metadata": {},
     "output_type": "display_data"
    },
    {
     "name": "stdout",
     "output_type": "stream",
     "text": [
      "count(raw's) = 115606\n"
     ]
    }
   ],
   "source": [
    "columnas = [\n",
    "    \"image_thumbnail\",\n",
    "    \"description\",\n",
    "    \"title\",\n",
    "    \"place_with_parent_names\",\n",
    "    \"operation\",\n",
    "    \"Unnamed: 0\",\n",
    "    \"country_name\",\n",
    "    \"properati_url\",\n",
    "    \"state_name\",\n",
    "    \"lat-lon\",\n",
    "    \"state_name\",\n",
    "]\n",
    "data.drop(columnas, axis=1)\n",
    "nuloss(data)\n",
    "print(\"count(raw's) =\", data.shape[0])"
   ]
  },
  {
   "cell_type": "markdown",
   "id": "1b78bd6a",
   "metadata": {},
   "source": [
    "accion a tomar:\n",
    "\n",
    "- intentar juntar las columnas de caracteristicas aunque se pierdan valores? (maybe)\n",
    "- revisar esos 23 place_name (ok)\n",
    "- achicar el rango store outlier de la cola extrema, de la cabeza digamos\n",
    "- hay un outlier en lat (ok)"
   ]
  },
  {
   "cell_type": "code",
   "execution_count": 152,
   "id": "cd82077a",
   "metadata": {},
   "outputs": [
    {
     "name": "stdout",
     "output_type": "stream",
     "text": [
      "Recupero de los valores place_name isna()\n"
     ]
    },
    {
     "data": {
      "text/plain": [
       "6489     |Argentina|Bs.As. G.B.A. Zona Norte|Tigre||\n",
       "10201    |Argentina|Bs.As. G.B.A. Zona Norte|Tigre||\n",
       "11451    |Argentina|Bs.As. G.B.A. Zona Norte|Tigre||\n",
       "14839    |Argentina|Bs.As. G.B.A. Zona Norte|Tigre||\n",
       "18622    |Argentina|Bs.As. G.B.A. Zona Norte|Tigre||\n",
       "21922    |Argentina|Bs.As. G.B.A. Zona Norte|Tigre||\n",
       "23664    |Argentina|Bs.As. G.B.A. Zona Norte|Tigre||\n",
       "24722    |Argentina|Bs.As. G.B.A. Zona Norte|Tigre||\n",
       "38856    |Argentina|Bs.As. G.B.A. Zona Norte|Tigre||\n",
       "45970    |Argentina|Bs.As. G.B.A. Zona Norte|Tigre||\n",
       "46642    |Argentina|Bs.As. G.B.A. Zona Norte|Tigre||\n",
       "53130    |Argentina|Bs.As. G.B.A. Zona Norte|Tigre||\n",
       "55306    |Argentina|Bs.As. G.B.A. Zona Norte|Tigre||\n",
       "57703    |Argentina|Bs.As. G.B.A. Zona Norte|Tigre||\n",
       "57759    |Argentina|Bs.As. G.B.A. Zona Norte|Tigre||\n",
       "57764    |Argentina|Bs.As. G.B.A. Zona Norte|Tigre||\n",
       "57793    |Argentina|Bs.As. G.B.A. Zona Norte|Tigre||\n",
       "58004    |Argentina|Bs.As. G.B.A. Zona Norte|Tigre||\n",
       "58037    |Argentina|Bs.As. G.B.A. Zona Norte|Tigre||\n",
       "59069    |Argentina|Bs.As. G.B.A. Zona Norte|Tigre||\n",
       "62411    |Argentina|Bs.As. G.B.A. Zona Norte|Tigre||\n",
       "62413    |Argentina|Bs.As. G.B.A. Zona Norte|Tigre||\n",
       "63849    |Argentina|Bs.As. G.B.A. Zona Norte|Tigre||\n",
       "Name: place_with_parent_names, dtype: object"
      ]
     },
     "metadata": {},
     "output_type": "display_data"
    }
   ],
   "source": [
    "print(\"Recupero de los valores place_name isna()\")\n",
    "display(data.loc[data.place_name.isna(), \"place_with_parent_names\"])\n",
    "data.loc[data.place_name.isna(), \"place_name\"] = \"Tigre\""
   ]
  },
  {
   "cell_type": "code",
   "execution_count": 153,
   "id": "351d012f",
   "metadata": {},
   "outputs": [
    {
     "name": "stdout",
     "output_type": "stream",
     "text": [
      "Tirando valores atipicos de lat-lon\n"
     ]
    }
   ],
   "source": [
    "print(\"Tirando valores atipicos de lat-lon\")\n",
    "\n",
    "indice = data.lat.idxmax()\n",
    "# data.loc[indice]\n",
    "data.drop(indice, inplace=True)"
   ]
  },
  {
   "cell_type": "code",
   "execution_count": 154,
   "id": "d3a1e358",
   "metadata": {},
   "outputs": [
    {
     "name": "stdout",
     "output_type": "stream",
     "text": [
      ">> PORCENTAJE DE DATOS NULOS:\n",
      "\n"
     ]
    },
    {
     "data": {
      "text/plain": [
       "direccion                     97.87\n",
       "floor                         93.45\n",
       "expenses                      88.43\n",
       "regex1                        84.66\n",
       "rooms                         61.15\n",
       "lat-lon                       42.67\n",
       "lat                           42.67\n",
       "lon                           42.67\n",
       "surface_total_in_m2           33.28\n",
       "price_per_m2                  28.03\n",
       "price_usd_per_m2              23.92\n",
       "price                         17.10\n",
       "currency                      17.10\n",
       "price_aprox_local_currency    17.10\n",
       "price_aprox_usd               17.10\n",
       "geonames_id                   13.41\n",
       "surface_covered_in_m2         12.66\n",
       "image_thumbnail                2.61\n",
       "description                    0.00\n",
       "properati_url                  0.00\n",
       "title                          0.00\n",
       "state_name                     0.00\n",
       "country_name                   0.00\n",
       "place_with_parent_names        0.00\n",
       "place_name                     0.00\n",
       "property_type                  0.00\n",
       "operation                      0.00\n",
       "Unnamed: 0                     0.00\n",
       "dtype: float64"
      ]
     },
     "metadata": {},
     "output_type": "display_data"
    },
    {
     "name": "stdout",
     "output_type": "stream",
     "text": [
      "\n",
      ">> DATOS NULOS:\n",
      "\n"
     ]
    },
    {
     "data": {
      "text/plain": [
       "direccion                     113138\n",
       "floor                         108028\n",
       "expenses                      102227\n",
       "regex1                         97871\n",
       "rooms                          70687\n",
       "lat-lon                        49324\n",
       "lat                            49324\n",
       "lon                            49324\n",
       "surface_total_in_m2            38468\n",
       "price_per_m2                   32408\n",
       "price_usd_per_m2               27655\n",
       "price                          19774\n",
       "currency                       19774\n",
       "price_aprox_local_currency     19774\n",
       "price_aprox_usd                19774\n",
       "geonames_id                    15504\n",
       "surface_covered_in_m2          14638\n",
       "image_thumbnail                 3015\n",
       "description                        2\n",
       "properati_url                      0\n",
       "title                              0\n",
       "state_name                         0\n",
       "country_name                       0\n",
       "place_with_parent_names            0\n",
       "place_name                         0\n",
       "property_type                      0\n",
       "operation                          0\n",
       "Unnamed: 0                         0\n",
       "dtype: int64"
      ]
     },
     "metadata": {},
     "output_type": "display_data"
    },
    {
     "name": "stdout",
     "output_type": "stream",
     "text": [
      "\n",
      "count(raw's) = 115605\n"
     ]
    }
   ],
   "source": [
    "porcentaje_nuloss(data)\n",
    "print()\n",
    "nuloss(data)\n",
    "print()\n",
    "print(\"count(raw's) =\", data.shape[0])"
   ]
  },
  {
   "cell_type": "raw",
   "id": "187affc0",
   "metadata": {},
   "source": [
    "CRITERIO DE DROPEO DE FILAS POR COLUMNAS NULAS\n",
    "\n",
    "5 es la base : direccion, regex,floor,expenses,room\n",
    "2 mas por el segundo valor con pares: lat y lon\n",
    "a partir de ahora sigue:\n",
    "1 me falta surface total y tiro la fila? no\n",
    "1 me falta price_per_m2 y tiro la fila? no\n",
    "1 me falta price_usd_per_m2 y tiro la fila? maybe\n",
    "1 me falta price y tiro la fila? si\n",
    "--------------------\n",
    "5+2\n",
    "7+4\n",
    "11\n",
    "10"
   ]
  },
  {
   "cell_type": "code",
   "execution_count": 155,
   "id": "d869dac7",
   "metadata": {},
   "outputs": [],
   "source": [
    "columnas = [\n",
    "    \"image_thumbnail\",\n",
    "    \"description\",\n",
    "    \"title\",\n",
    "    \"place_with_parent_names\",\n",
    "    \"operation\",\n",
    "    \"Unnamed: 0\",\n",
    "    \"country_name\",\n",
    "    \"properati_url\",\n",
    "    \"state_name\",\n",
    "    \"lat-lon\",\n",
    "    \"state_name\",\n",
    "]\n",
    "data.drop(columnas, axis=1, inplace=True)"
   ]
  },
  {
   "cell_type": "code",
   "execution_count": 156,
   "id": "80a25e97",
   "metadata": {},
   "outputs": [
    {
     "name": "stdout",
     "output_type": "stream",
     "text": [
      "Cantidad de columnas nulas por entradas:\n",
      "0         4\n",
      "1        55\n",
      "2       894\n",
      "3      4262\n",
      "4     21255\n",
      "5     20371\n",
      "6     14203\n",
      "7     17760\n",
      "8     10551\n",
      "9      3434\n",
      "10     4437\n",
      "11     5670\n",
      "12     3939\n",
      "13     5566\n",
      "14     2438\n",
      "15      742\n",
      "16       24\n",
      "dtype: int64\n",
      "\n",
      "Cantidad de entradas que tienen 14 o más de 14 variables nulas: 3204\n",
      "Porcentaje de entradas con exceso de variables nulas 2.77%\n",
      "Dimension del nuevo dataframe: 112401\n"
     ]
    }
   ],
   "source": [
    "# LIMPIEZA SEGUN CANTIDAD DE COLUMNAS NULAS POR ENTRADA\n",
    "rows_null_values = data.isna().sum(axis=1)\n",
    "print(\n",
    "    \"Cantidad de columnas nulas por entradas:\\n{}\".format(\n",
    "        rows_null_values.value_counts(sort=False)\n",
    "    )\n",
    ")\n",
    "\n",
    "mask_rows_null_values = rows_null_values < 14\n",
    "print(\n",
    "    \"\\nCantidad de entradas que tienen 14 o más de 14 variables nulas: {}\".format(\n",
    "        data.shape[0] - mask_rows_null_values.sum()\n",
    "    )\n",
    ")\n",
    "print(\n",
    "    \"Porcentaje de entradas con exceso de variables nulas {}%\".format(\n",
    "        round((data.shape[0] - mask_rows_null_values.sum()) / data.shape[0] * 100, 2)\n",
    "    )\n",
    ")\n",
    "print(\"Dimension del nuevo dataframe: {}\".format(data[mask_rows_null_values].shape[0]))"
   ]
  },
  {
   "cell_type": "code",
   "execution_count": 157,
   "id": "6e47a12c",
   "metadata": {},
   "outputs": [
    {
     "name": "stdout",
     "output_type": "stream",
     "text": [
      ">> PORCENTAJE DE DATOS NULOS:\n",
      "\n"
     ]
    },
    {
     "data": {
      "text/plain": [
       "direccion                     97.87\n",
       "floor                         93.45\n",
       "expenses                      88.43\n",
       "regex1                        84.66\n",
       "rooms                         61.15\n",
       "lat                           42.67\n",
       "lon                           42.67\n",
       "surface_total_in_m2           33.28\n",
       "price_per_m2                  28.03\n",
       "price_usd_per_m2              23.92\n",
       "price                         17.10\n",
       "price_aprox_usd               17.10\n",
       "currency                      17.10\n",
       "price_aprox_local_currency    17.10\n",
       "geonames_id                   13.41\n",
       "surface_covered_in_m2         12.66\n",
       "place_name                     0.00\n",
       "property_type                  0.00\n",
       "dtype: float64"
      ]
     },
     "metadata": {},
     "output_type": "display_data"
    },
    {
     "name": "stdout",
     "output_type": "stream",
     "text": [
      ">> PORCENTAJE DE DATOS NULOS:\n",
      "\n"
     ]
    },
    {
     "data": {
      "text/plain": [
       "direccion                     97.82\n",
       "floor                         93.26\n",
       "expenses                      88.13\n",
       "regex1                        84.35\n",
       "rooms                         60.21\n",
       "lat                           41.09\n",
       "lon                           41.09\n",
       "surface_total_in_m2           32.21\n",
       "price_per_m2                  25.98\n",
       "price_usd_per_m2              21.75\n",
       "price                         14.74\n",
       "price_aprox_usd               14.74\n",
       "currency                      14.74\n",
       "price_aprox_local_currency    14.74\n",
       "geonames_id                   13.53\n",
       "surface_covered_in_m2         11.28\n",
       "place_name                     0.00\n",
       "property_type                  0.00\n",
       "dtype: float64"
      ]
     },
     "metadata": {},
     "output_type": "display_data"
    }
   ],
   "source": [
    "porcentaje_nuloss(data)\n",
    "porcentaje_nuloss(data[mask_rows_null_values])"
   ]
  },
  {
   "cell_type": "code",
   "execution_count": 158,
   "id": "c7fea3f7",
   "metadata": {},
   "outputs": [],
   "source": [
    "data = data[mask_rows_null_values]\n",
    "\n",
    "## FIN DE LA NOTEBOOK"
   ]
  },
  {
   "cell_type": "code",
   "execution_count": 159,
   "id": "7030c4f2",
   "metadata": {},
   "outputs": [
    {
     "name": "stdout",
     "output_type": "stream",
     "text": [
      ">> DATOS NULOS:\n",
      "\n"
     ]
    },
    {
     "data": {
      "text/plain": [
       "direccion                     109951\n",
       "floor                         104826\n",
       "expenses                       99056\n",
       "regex1                         94815\n",
       "rooms                          67680\n",
       "lat                            46184\n",
       "lon                            46184\n",
       "surface_total_in_m2            36202\n",
       "price_per_m2                   29204\n",
       "price_usd_per_m2               24451\n",
       "price                          16570\n",
       "price_aprox_usd                16570\n",
       "currency                       16570\n",
       "price_aprox_local_currency     16570\n",
       "geonames_id                    15205\n",
       "surface_covered_in_m2          12684\n",
       "place_name                         0\n",
       "property_type                      0\n",
       "dtype: int64"
      ]
     },
     "metadata": {},
     "output_type": "display_data"
    }
   ],
   "source": [
    "nuloss(data)"
   ]
  },
  {
   "cell_type": "code",
   "execution_count": 160,
   "id": "478695be",
   "metadata": {},
   "outputs": [
    {
     "data": {
      "text/html": [
       "<div>\n",
       "<style scoped>\n",
       "    .dataframe tbody tr th:only-of-type {\n",
       "        vertical-align: middle;\n",
       "    }\n",
       "\n",
       "    .dataframe tbody tr th {\n",
       "        vertical-align: top;\n",
       "    }\n",
       "\n",
       "    .dataframe thead th {\n",
       "        text-align: right;\n",
       "    }\n",
       "</style>\n",
       "<table border=\"1\" class=\"dataframe\">\n",
       "  <thead>\n",
       "    <tr style=\"text-align: right;\">\n",
       "      <th></th>\n",
       "      <th>property_type</th>\n",
       "      <th>place_name</th>\n",
       "      <th>geonames_id</th>\n",
       "      <th>lat</th>\n",
       "      <th>lon</th>\n",
       "      <th>price</th>\n",
       "      <th>currency</th>\n",
       "      <th>price_aprox_local_currency</th>\n",
       "      <th>price_aprox_usd</th>\n",
       "      <th>surface_total_in_m2</th>\n",
       "      <th>surface_covered_in_m2</th>\n",
       "      <th>price_usd_per_m2</th>\n",
       "      <th>price_per_m2</th>\n",
       "      <th>floor</th>\n",
       "      <th>rooms</th>\n",
       "      <th>expenses</th>\n",
       "      <th>regex1</th>\n",
       "      <th>direccion</th>\n",
       "    </tr>\n",
       "  </thead>\n",
       "  <tbody>\n",
       "    <tr>\n",
       "      <th>0</th>\n",
       "      <td>PH</td>\n",
       "      <td>Mataderos</td>\n",
       "      <td>3430787.0</td>\n",
       "      <td>-34.661824</td>\n",
       "      <td>-58.508839</td>\n",
       "      <td>62000.0</td>\n",
       "      <td>USD</td>\n",
       "      <td>1093959.00</td>\n",
       "      <td>62000.0</td>\n",
       "      <td>55.0</td>\n",
       "      <td>40.0</td>\n",
       "      <td>1127.272727</td>\n",
       "      <td>1550.000000</td>\n",
       "      <td>NaN</td>\n",
       "      <td>NaN</td>\n",
       "      <td>NaN</td>\n",
       "      <td>None</td>\n",
       "      <td>NaN</td>\n",
       "    </tr>\n",
       "    <tr>\n",
       "      <th>1</th>\n",
       "      <td>apartment</td>\n",
       "      <td>La Plata</td>\n",
       "      <td>3432039.0</td>\n",
       "      <td>-34.903883</td>\n",
       "      <td>-57.964330</td>\n",
       "      <td>150000.0</td>\n",
       "      <td>USD</td>\n",
       "      <td>2646675.00</td>\n",
       "      <td>150000.0</td>\n",
       "      <td>NaN</td>\n",
       "      <td>NaN</td>\n",
       "      <td>NaN</td>\n",
       "      <td>NaN</td>\n",
       "      <td>NaN</td>\n",
       "      <td>NaN</td>\n",
       "      <td>NaN</td>\n",
       "      <td>None</td>\n",
       "      <td>NaN</td>\n",
       "    </tr>\n",
       "    <tr>\n",
       "      <th>2</th>\n",
       "      <td>apartment</td>\n",
       "      <td>Mataderos</td>\n",
       "      <td>3430787.0</td>\n",
       "      <td>-34.652262</td>\n",
       "      <td>-58.522982</td>\n",
       "      <td>72000.0</td>\n",
       "      <td>USD</td>\n",
       "      <td>1270404.00</td>\n",
       "      <td>72000.0</td>\n",
       "      <td>55.0</td>\n",
       "      <td>55.0</td>\n",
       "      <td>1309.090909</td>\n",
       "      <td>1309.090909</td>\n",
       "      <td>NaN</td>\n",
       "      <td>NaN</td>\n",
       "      <td>NaN</td>\n",
       "      <td>None</td>\n",
       "      <td>NaN</td>\n",
       "    </tr>\n",
       "    <tr>\n",
       "      <th>3</th>\n",
       "      <td>PH</td>\n",
       "      <td>Liniers</td>\n",
       "      <td>3431333.0</td>\n",
       "      <td>-34.647797</td>\n",
       "      <td>-58.516424</td>\n",
       "      <td>95000.0</td>\n",
       "      <td>USD</td>\n",
       "      <td>1676227.50</td>\n",
       "      <td>95000.0</td>\n",
       "      <td>NaN</td>\n",
       "      <td>NaN</td>\n",
       "      <td>NaN</td>\n",
       "      <td>NaN</td>\n",
       "      <td>NaN</td>\n",
       "      <td>NaN</td>\n",
       "      <td>NaN</td>\n",
       "      <td>None</td>\n",
       "      <td>NaN</td>\n",
       "    </tr>\n",
       "    <tr>\n",
       "      <th>4</th>\n",
       "      <td>apartment</td>\n",
       "      <td>Centro</td>\n",
       "      <td>3435548.0</td>\n",
       "      <td>-38.002626</td>\n",
       "      <td>-57.549447</td>\n",
       "      <td>64000.0</td>\n",
       "      <td>USD</td>\n",
       "      <td>1129248.00</td>\n",
       "      <td>64000.0</td>\n",
       "      <td>35.0</td>\n",
       "      <td>35.0</td>\n",
       "      <td>1828.571429</td>\n",
       "      <td>1828.571429</td>\n",
       "      <td>NaN</td>\n",
       "      <td>NaN</td>\n",
       "      <td>NaN</td>\n",
       "      <td>None</td>\n",
       "      <td>NaN</td>\n",
       "    </tr>\n",
       "    <tr>\n",
       "      <th>...</th>\n",
       "      <td>...</td>\n",
       "      <td>...</td>\n",
       "      <td>...</td>\n",
       "      <td>...</td>\n",
       "      <td>...</td>\n",
       "      <td>...</td>\n",
       "      <td>...</td>\n",
       "      <td>...</td>\n",
       "      <td>...</td>\n",
       "      <td>...</td>\n",
       "      <td>...</td>\n",
       "      <td>...</td>\n",
       "      <td>...</td>\n",
       "      <td>...</td>\n",
       "      <td>...</td>\n",
       "      <td>...</td>\n",
       "      <td>...</td>\n",
       "      <td>...</td>\n",
       "    </tr>\n",
       "    <tr>\n",
       "      <th>121215</th>\n",
       "      <td>apartment</td>\n",
       "      <td>Belgrano</td>\n",
       "      <td>3436077.0</td>\n",
       "      <td>NaN</td>\n",
       "      <td>NaN</td>\n",
       "      <td>870000.0</td>\n",
       "      <td>USD</td>\n",
       "      <td>15350715.00</td>\n",
       "      <td>870000.0</td>\n",
       "      <td>113.0</td>\n",
       "      <td>93.0</td>\n",
       "      <td>7699.115044</td>\n",
       "      <td>9354.838710</td>\n",
       "      <td>NaN</td>\n",
       "      <td>NaN</td>\n",
       "      <td>10000.0</td>\n",
       "      <td>None</td>\n",
       "      <td>NaN</td>\n",
       "    </tr>\n",
       "    <tr>\n",
       "      <th>121216</th>\n",
       "      <td>house</td>\n",
       "      <td>Beccar</td>\n",
       "      <td>3436080.0</td>\n",
       "      <td>NaN</td>\n",
       "      <td>NaN</td>\n",
       "      <td>498000.0</td>\n",
       "      <td>USD</td>\n",
       "      <td>8786961.00</td>\n",
       "      <td>498000.0</td>\n",
       "      <td>360.0</td>\n",
       "      <td>360.0</td>\n",
       "      <td>1383.333333</td>\n",
       "      <td>1383.333333</td>\n",
       "      <td>NaN</td>\n",
       "      <td>NaN</td>\n",
       "      <td>NaN</td>\n",
       "      <td>None</td>\n",
       "      <td>NaN</td>\n",
       "    </tr>\n",
       "    <tr>\n",
       "      <th>121217</th>\n",
       "      <td>apartment</td>\n",
       "      <td>Villa Urquiza</td>\n",
       "      <td>3433775.0</td>\n",
       "      <td>-34.570639</td>\n",
       "      <td>-58.475596</td>\n",
       "      <td>131500.0</td>\n",
       "      <td>USD</td>\n",
       "      <td>2320251.75</td>\n",
       "      <td>131500.0</td>\n",
       "      <td>46.0</td>\n",
       "      <td>39.0</td>\n",
       "      <td>2858.695652</td>\n",
       "      <td>3371.794872</td>\n",
       "      <td>NaN</td>\n",
       "      <td>NaN</td>\n",
       "      <td>NaN</td>\n",
       "      <td>None</td>\n",
       "      <td>NaN</td>\n",
       "    </tr>\n",
       "    <tr>\n",
       "      <th>121218</th>\n",
       "      <td>apartment</td>\n",
       "      <td>Plaza Colón</td>\n",
       "      <td>NaN</td>\n",
       "      <td>NaN</td>\n",
       "      <td>NaN</td>\n",
       "      <td>95900.0</td>\n",
       "      <td>USD</td>\n",
       "      <td>1692107.55</td>\n",
       "      <td>95900.0</td>\n",
       "      <td>48.0</td>\n",
       "      <td>48.0</td>\n",
       "      <td>1997.916667</td>\n",
       "      <td>1997.916667</td>\n",
       "      <td>NaN</td>\n",
       "      <td>NaN</td>\n",
       "      <td>NaN</td>\n",
       "      <td>None</td>\n",
       "      <td>NaN</td>\n",
       "    </tr>\n",
       "    <tr>\n",
       "      <th>121219</th>\n",
       "      <td>apartment</td>\n",
       "      <td>Capital Federal</td>\n",
       "      <td>3433955.0</td>\n",
       "      <td>NaN</td>\n",
       "      <td>NaN</td>\n",
       "      <td>129000.0</td>\n",
       "      <td>USD</td>\n",
       "      <td>2276140.50</td>\n",
       "      <td>129000.0</td>\n",
       "      <td>77.0</td>\n",
       "      <td>77.0</td>\n",
       "      <td>1675.324675</td>\n",
       "      <td>1675.324675</td>\n",
       "      <td>NaN</td>\n",
       "      <td>NaN</td>\n",
       "      <td>3500.0</td>\n",
       "      <td>barrio exclusivo</td>\n",
       "      <td>NaN</td>\n",
       "    </tr>\n",
       "  </tbody>\n",
       "</table>\n",
       "<p>112401 rows × 18 columns</p>\n",
       "</div>"
      ],
      "text/plain": [
       "       property_type       place_name  geonames_id        lat        lon  \\\n",
       "0                 PH        Mataderos    3430787.0 -34.661824 -58.508839   \n",
       "1          apartment         La Plata    3432039.0 -34.903883 -57.964330   \n",
       "2          apartment        Mataderos    3430787.0 -34.652262 -58.522982   \n",
       "3                 PH          Liniers    3431333.0 -34.647797 -58.516424   \n",
       "4          apartment           Centro    3435548.0 -38.002626 -57.549447   \n",
       "...              ...              ...          ...        ...        ...   \n",
       "121215     apartment         Belgrano    3436077.0        NaN        NaN   \n",
       "121216         house           Beccar    3436080.0        NaN        NaN   \n",
       "121217     apartment    Villa Urquiza    3433775.0 -34.570639 -58.475596   \n",
       "121218     apartment      Plaza Colón          NaN        NaN        NaN   \n",
       "121219     apartment  Capital Federal    3433955.0        NaN        NaN   \n",
       "\n",
       "           price currency  price_aprox_local_currency  price_aprox_usd  \\\n",
       "0        62000.0      USD                  1093959.00          62000.0   \n",
       "1       150000.0      USD                  2646675.00         150000.0   \n",
       "2        72000.0      USD                  1270404.00          72000.0   \n",
       "3        95000.0      USD                  1676227.50          95000.0   \n",
       "4        64000.0      USD                  1129248.00          64000.0   \n",
       "...          ...      ...                         ...              ...   \n",
       "121215  870000.0      USD                 15350715.00         870000.0   \n",
       "121216  498000.0      USD                  8786961.00         498000.0   \n",
       "121217  131500.0      USD                  2320251.75         131500.0   \n",
       "121218   95900.0      USD                  1692107.55          95900.0   \n",
       "121219  129000.0      USD                  2276140.50         129000.0   \n",
       "\n",
       "        surface_total_in_m2  surface_covered_in_m2  price_usd_per_m2  \\\n",
       "0                      55.0                   40.0       1127.272727   \n",
       "1                       NaN                    NaN               NaN   \n",
       "2                      55.0                   55.0       1309.090909   \n",
       "3                       NaN                    NaN               NaN   \n",
       "4                      35.0                   35.0       1828.571429   \n",
       "...                     ...                    ...               ...   \n",
       "121215                113.0                   93.0       7699.115044   \n",
       "121216                360.0                  360.0       1383.333333   \n",
       "121217                 46.0                   39.0       2858.695652   \n",
       "121218                 48.0                   48.0       1997.916667   \n",
       "121219                 77.0                   77.0       1675.324675   \n",
       "\n",
       "        price_per_m2  floor  rooms  expenses            regex1 direccion  \n",
       "0        1550.000000    NaN    NaN       NaN              None       NaN  \n",
       "1                NaN    NaN    NaN       NaN              None       NaN  \n",
       "2        1309.090909    NaN    NaN       NaN              None       NaN  \n",
       "3                NaN    NaN    NaN       NaN              None       NaN  \n",
       "4        1828.571429    NaN    NaN       NaN              None       NaN  \n",
       "...              ...    ...    ...       ...               ...       ...  \n",
       "121215   9354.838710    NaN    NaN   10000.0              None       NaN  \n",
       "121216   1383.333333    NaN    NaN       NaN              None       NaN  \n",
       "121217   3371.794872    NaN    NaN       NaN              None       NaN  \n",
       "121218   1997.916667    NaN    NaN       NaN              None       NaN  \n",
       "121219   1675.324675    NaN    NaN    3500.0  barrio exclusivo       NaN  \n",
       "\n",
       "[112401 rows x 18 columns]"
      ]
     },
     "execution_count": 160,
     "metadata": {},
     "output_type": "execute_result"
    }
   ],
   "source": [
    "data"
   ]
  },
  {
   "cell_type": "code",
   "execution_count": 161,
   "id": "15a0ec51",
   "metadata": {},
   "outputs": [
    {
     "data": {
      "text/plain": [
       "'\\nLas columnas que reflejan caracteristicas de la propiedad (en orden jerarquico):\\n    - direccion\\n    - regex1\\n    - rooms\\n    - expenses\\n    - floor\\n    - googleamps\\n'"
      ]
     },
     "execution_count": 161,
     "metadata": {},
     "output_type": "execute_result"
    }
   ],
   "source": [
    "\"\"\"DATASET: WORKSHOP1 / GRUPO 4 / DIGITAL HOUSE / 10/02/2022\"\"\"\n",
    "# ···#···#···#···#···#···#···#···#···#···#···#···#···#···#···#···#···#···#···#···#\n",
    "\"\"\"\n",
    "las columnas que reflejan caracteristicas del precio (en orden jerarquico):\n",
    "    - (price , currency) : aunque currency no aporta valor ya que todos los precios estan expresados en USD\n",
    "    - price_usd_per_m2\n",
    "    - price_aprox_usd\n",
    "    - price_per_m2\n",
    "    - price_aprox_local_currency\n",
    "\"\"\"\n",
    "# ···#···#···#···#···#···#···#···#···#···#···#···#···#···#···#···#···#···#···#···#\n",
    "\"\"\"\n",
    "las columnas que reflejan caracteristicas del superficie (en orden jerarquico):\n",
    "    - surface_covered_in_m2\n",
    "    - surface_total_in_m2\n",
    "\"\"\"\n",
    "# ···#···#···#···#···#···#···#···#···#···#···#···#···#···#···#···#···#···#···#···#\n",
    "\"\"\"\n",
    "las columnas que reflejan caracteristicas de ubicacion (en orden jerarquico):\n",
    "    - (lat-lon, lat, lon): una terna que deberia representar lo mismo\n",
    "    - geonames_id\n",
    "    - place_name\n",
    "    - state_name\n",
    "\"\"\"\n",
    "# ···#···#···#···#···#···#···#···#···#···#···#···#···#···#···#···#···#···#···#···#\n",
    "\"\"\"\n",
    "Las columnas que reflejan caracteristicas de la propiedad (en orden jerarquico):\n",
    "    - direccion\n",
    "    - regex1\n",
    "    - rooms\n",
    "    - expenses\n",
    "    - floor\n",
    "    - googleamps\n",
    "\"\"\"\n",
    "# ···#···#···#···#···#···#···#···#···#···#···#···#···#···#···#···#···#···#···#···#"
   ]
  }
 ],
 "metadata": {
  "kernelspec": {
   "display_name": "Python 3 (ipykernel)",
   "language": "python",
   "name": "python3"
  },
  "language_info": {
   "codemirror_mode": {
    "name": "ipython",
    "version": 3
   },
   "file_extension": ".py",
   "mimetype": "text/x-python",
   "name": "python",
   "nbconvert_exporter": "python",
   "pygments_lexer": "ipython3",
   "version": "3.8.12"
  }
 },
 "nbformat": 4,
 "nbformat_minor": 5
}
